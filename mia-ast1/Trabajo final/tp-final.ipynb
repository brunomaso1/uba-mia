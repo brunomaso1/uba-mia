{
 "cells": [
  {
   "cell_type": "markdown",
   "id": "dabc27b8",
   "metadata": {},
   "source": [
    "# <div align=\"center\"><b> TRABAJO FINAL - ANÁLISIS DE SERIES TEMPORALES - MIA </b></div>"
   ]
  },
  {
   "cell_type": "markdown",
   "id": "10d97582",
   "metadata": {},
   "source": [
    "<div align=\"right\">📝 <em><small><font color='Gray'>Nota:</font></small></em></div>\n",
    "\n",
    "<div align=\"right\"> <em><small><font color='Gray'> La funcionalidad de visualización de jupyter notebooks en <a href=\"https://github.com/\" target=\"_blank\">github</a> es solamente un preview.</font></small></em> </div>\n",
    "\n",
    "<div align=\"right\"> <em><small><font color='Gray'> Para mejor visualización se sugiere utilizar el visualizador recomndado por la comunidad: <a href=\"https://nbviewer.org/\" target=\"_blank\">nbviewer</a></font></small></em> </div>\n",
    "\n",
    "<div align=\"right\"> <em><small><font color='Gray'> Puedes a acceder al sigiente enlace para ver este notebook en dicha página: <a href=\"https://nbviewer.org/github/brunomaso1/uba-mia/blob/mia-ast1/mia-ast1/Trabajo%20final/tp-final.ipynb\">Trabajo final</a></font></small></em> </div>"
   ]
  },
  {
   "cell_type": "markdown",
   "id": "183039e7",
   "metadata": {},
   "source": [
    "* * *"
   ]
  },
  {
   "cell_type": "markdown",
   "id": "55203903",
   "metadata": {},
   "source": [
    "<style>\n",
    "/* Limitar la altura de las celdas de salida en html */\n",
    ".jp-OutputArea.jp-Cell-outputArea {\n",
    "    max-height: 500px;\n",
    "}\n",
    "</style>"
   ]
  },
  {
   "cell_type": "markdown",
   "id": "e17901d4",
   "metadata": {},
   "source": [
    "🛻 <em><font color='MediumSeaGreen'>  Instalaciones: </font></em> 🛻"
   ]
  },
  {
   "cell_type": "code",
   "execution_count": 28,
   "id": "41ad28c4",
   "metadata": {},
   "outputs": [
    {
     "name": "stdout",
     "output_type": "stream",
     "text": [
      "Requirement already satisfied: python-dotenv in e:\\documentos\\git repositories\\uba-mia\\.venv\\lib\\site-packages (1.1.0)\n",
      "Note: you may need to restart the kernel to use updated packages.\n",
      "Requirement already satisfied: python-binance in e:\\documentos\\git repositories\\uba-mia\\.venv\\lib\\site-packages (1.0.28)\n",
      "Requirement already satisfied: requests in e:\\documentos\\git repositories\\uba-mia\\.venv\\lib\\site-packages (from python-binance) (2.32.3)\n",
      "Requirement already satisfied: six in e:\\documentos\\git repositories\\uba-mia\\.venv\\lib\\site-packages (from python-binance) (1.17.0)\n",
      "Requirement already satisfied: dateparser in e:\\documentos\\git repositories\\uba-mia\\.venv\\lib\\site-packages (from python-binance) (1.2.1)\n",
      "Requirement already satisfied: aiohttp in e:\\documentos\\git repositories\\uba-mia\\.venv\\lib\\site-packages (from python-binance) (3.10.11)\n",
      "Requirement already satisfied: websockets in e:\\documentos\\git repositories\\uba-mia\\.venv\\lib\\site-packages (from python-binance) (15.0.1)\n",
      "Requirement already satisfied: pycryptodome in e:\\documentos\\git repositories\\uba-mia\\.venv\\lib\\site-packages (from python-binance) (3.22.0)\n",
      "Requirement already satisfied: aiohappyeyeballs>=2.3.0 in e:\\documentos\\git repositories\\uba-mia\\.venv\\lib\\site-packages (from aiohttp->python-binance) (2.6.1)\n",
      "Requirement already satisfied: aiosignal>=1.1.2 in e:\\documentos\\git repositories\\uba-mia\\.venv\\lib\\site-packages (from aiohttp->python-binance) (1.3.2)\n",
      "Requirement already satisfied: attrs>=17.3.0 in e:\\documentos\\git repositories\\uba-mia\\.venv\\lib\\site-packages (from aiohttp->python-binance) (25.3.0)\n",
      "Requirement already satisfied: frozenlist>=1.1.1 in e:\\documentos\\git repositories\\uba-mia\\.venv\\lib\\site-packages (from aiohttp->python-binance) (1.5.0)\n",
      "Requirement already satisfied: multidict<7.0,>=4.5 in e:\\documentos\\git repositories\\uba-mia\\.venv\\lib\\site-packages (from aiohttp->python-binance) (6.2.0)\n",
      "Requirement already satisfied: yarl<2.0,>=1.12.0 in e:\\documentos\\git repositories\\uba-mia\\.venv\\lib\\site-packages (from aiohttp->python-binance) (1.19.0)\n",
      "Requirement already satisfied: python-dateutil>=2.7.0 in e:\\documentos\\git repositories\\uba-mia\\.venv\\lib\\site-packages (from dateparser->python-binance) (2.9.0.post0)\n",
      "Requirement already satisfied: pytz>=2024.2 in e:\\documentos\\git repositories\\uba-mia\\.venv\\lib\\site-packages (from dateparser->python-binance) (2025.2)\n",
      "Requirement already satisfied: regex!=2019.02.19,!=2021.8.27,>=2015.06.24 in e:\\documentos\\git repositories\\uba-mia\\.venv\\lib\\site-packages (from dateparser->python-binance) (2024.11.6)\n",
      "Requirement already satisfied: tzlocal>=0.2 in e:\\documentos\\git repositories\\uba-mia\\.venv\\lib\\site-packages (from dateparser->python-binance) (5.3.1)\n",
      "Requirement already satisfied: charset-normalizer<4,>=2 in e:\\documentos\\git repositories\\uba-mia\\.venv\\lib\\site-packages (from requests->python-binance) (3.4.1)\n",
      "Requirement already satisfied: idna<4,>=2.5 in e:\\documentos\\git repositories\\uba-mia\\.venv\\lib\\site-packages (from requests->python-binance) (3.10)\n",
      "Requirement already satisfied: urllib3<3,>=1.21.1 in e:\\documentos\\git repositories\\uba-mia\\.venv\\lib\\site-packages (from requests->python-binance) (2.3.0)\n",
      "Requirement already satisfied: certifi>=2017.4.17 in e:\\documentos\\git repositories\\uba-mia\\.venv\\lib\\site-packages (from requests->python-binance) (2025.1.31)\n",
      "Requirement already satisfied: tzdata in e:\\documentos\\git repositories\\uba-mia\\.venv\\lib\\site-packages (from tzlocal>=0.2->dateparser->python-binance) (2025.2)\n",
      "Requirement already satisfied: propcache>=0.2.1 in e:\\documentos\\git repositories\\uba-mia\\.venv\\lib\\site-packages (from yarl<2.0,>=1.12.0->aiohttp->python-binance) (0.3.1)\n",
      "Note: you may need to restart the kernel to use updated packages.\n"
     ]
    }
   ],
   "source": [
    "%pip install python-dotenv\n",
    "%pip install python-binance"
   ]
  },
  {
   "cell_type": "markdown",
   "id": "5e119577",
   "metadata": {},
   "source": [
    "✋ <em><font color='DodgerBlue'>Importaciones:</font></em> ✋"
   ]
  },
  {
   "cell_type": "code",
   "execution_count": 29,
   "id": "1a612465",
   "metadata": {},
   "outputs": [],
   "source": [
    "import os, datetime\n",
    "from wand.image import Image as WImage\n",
    "from dotenv import load_dotenv\n",
    "from binance.client import Client\n",
    "import pandas as pd\n",
    "import mplfinance as mpf"
   ]
  },
  {
   "cell_type": "markdown",
   "id": "9e5f8e22",
   "metadata": {},
   "source": [
    "🔧 <em><font color='tomato'>Configuraciones:</font></em> 🔧\n"
   ]
  },
  {
   "cell_type": "code",
   "execution_count": 30,
   "id": "30fbfbd7",
   "metadata": {},
   "outputs": [],
   "source": [
    "load_dotenv()\n",
    "\n",
    "BINANCE_API_KEY = os.getenv(\"BINANCE_API_KEY\")\n",
    "BINANCE_API_SECRET = os.getenv(\"BINANCE_API_SECRET\")\n",
    "\n",
    "\n",
    "BASE_FOLDER_PATH = os.getcwd() # Trabajo Final\n",
    "DATASET_FOLDER_PATH = os.path.join(BASE_FOLDER_PATH, \"datasets\") # Trabajo Final/dataset\n",
    "DATASET_FILE_PATH = os.path.join(DATASET_FOLDER_PATH, \"BTCUSDT_1D.csv\") # Trabajo Final/dataset/BTCUSDT_1D.csv"
   ]
  },
  {
   "cell_type": "markdown",
   "id": "6b34c65d",
   "metadata": {},
   "source": [
    "<!-- Colab -->\n",
    "<!-- <div align=\"center\"><img src=\"https://drive.google.com/uc?export=view&id=1QSNrTsz1hQbmZwpgwx0qpfpNtLW19Orm\" width=\"600\" alt=\"Figura 1: A data scientist is working on word generation using the Lord of the Rings lore. The image is dark and moody, with a focus on the scientist's computer screen. The screen displays a visualization the one ring, with a map of Middle Earth in the background. - Generada con DALL-E3\"></div> -->\n",
    "\n",
    "<div align=\"center\"><img src=\"../resources/portada.jpeg\" width=\"600\" alt=\"Figura 1: A data scientist is sitting in front of a computer screen, intently focused on the task at hand. The room is dimly lit, with the only light coming from the computer screen. The scientist is predicting the prices of Bitcoin using a statistical model, like ARIMA. - Generada con Microsoft Image Creator\"></div>\n",
    "\n",
    "<div align=\"center\"><small><em>Figura 1: Imagen generada con Microsoft Image Creator</em></small></div>"
   ]
  },
  {
   "cell_type": "markdown",
   "id": "0811e466",
   "metadata": {},
   "source": [
    "<div align=\"center\">✨Datos del proyecto:✨</div>\n",
    "\n",
    "<p></p>\n",
    "\n",
    "<div align=\"center\">\n",
    "\n",
    "| Subtitulo       | Trabajo final - Análisis de series temporales 1 - FIUBA                                                                                |\n",
    "| --------------- | -------------------------------------------------------------------------------------------------------------------------------------- |\n",
    "| **Descrpción**  | Bitcoin $\\leftrightarrow$ USDT                                                                                                                         |\n",
    "| **Integrantes** | - Bruno Masoller (brunomaso1@gmail.com)<br/>- Juan Cruz Ferreyra (ferreyra.juancruz95@gmail.com)<br/>- Francisco Rassi (franciscorassi@gmail.com)                                                                                                  |\n",
    "\n",
    "</div>"
   ]
  },
  {
   "cell_type": "markdown",
   "id": "1c86e86f",
   "metadata": {},
   "source": [
    "## Consinga"
   ]
  },
  {
   "cell_type": "code",
   "execution_count": 31,
   "id": "d5d034a2",
   "metadata": {},
   "outputs": [
    {
     "data": {
      "image/png": "[encoded data removed]",
      "text/plain": [
       "<wand.image.Image: df6f007 'PDF' (612x792)>"
      ]
     },
     "execution_count": 31,
     "metadata": {},
     "output_type": "execute_result"
    }
   ],
   "source": [
    "WImage(filename='TP_final_AST_01MA2025.pdf')"
   ]
  },
  {
   "cell_type": "markdown",
   "id": "99fd5f56",
   "metadata": {},
   "source": [
    "## Resolución"
   ]
  },
  {
   "cell_type": "markdown",
   "id": "eecdc47a",
   "metadata": {},
   "source": [
    "### Contexto"
   ]
  },
  {
   "cell_type": "markdown",
   "id": "5def16a2",
   "metadata": {},
   "source": [
    "[Binance](https://binance.com) es una plataforma de intercambio de criptomonedas que permite a los usuarios comprar, vender e intercambiar una variedad de criptomonedas. Fundada en 2017, Binance se ha convertido en uno de los intercambios más grandes y populares del mundo, ofreciendo una amplia gama de servicios relacionados con criptomonedas, incluyendo comercio al contado, comercio de futuros, préstamos y ahorros en criptomonedas, y más.\n",
    "\n",
    "Como parte de su oferta, Binance proporciona una API (Interfaz de Programación de Aplicaciones) que permite a los desarrolladores acceder a datos de mercado, realizar operaciones y gestionar cuentas programáticamente. Esta API es ampliamente utilizada por traders algorítmicos, desarrolladores de aplicaciones y otros interesados en el ecosistema de criptomonedas.\n",
    "\n",
    "El objetivo general de este trabajo es analizar el comportamiento de los precios de las criptomonedas a través de la API de Binance. Se utilizará datos históricos de precios para realizar un análisis exploratorio y aplicar técnicas de análisis de series temporales. A lo largo del trabajo, abordaremos los siguientes puntos:\n",
    "- Descripción de la API de Binance y su funcionalidad.\n",
    "- Planteo de objetivos específicos desafiantes.\n",
    "- Obtención de datos históricos de precios de criptomonedas a través de la API.\n",
    "- Análisis exploratorio de los datos obtenidos.\n",
    "- Aplicación de técnicas de análisis de series temporales para modelar y predecir el comportamiento de los precios.\n",
    "- Discusión de los resultados y conclusiones.\n",
    "- Recomendaciones para futuros trabajos y mejoras en el análisis."
   ]
  },
  {
   "cell_type": "markdown",
   "id": "7a1d42e4",
   "metadata": {},
   "source": [
    "<details>\n",
    "  <summary>Conocimientos básicos</summary>\n",
    "\n",
    "**API Binance**\n",
    "\n",
    "La API pública de Binance ofrece un conjunto completo de datos de mercado históricos para todos los símbolos soportados, organizados en archivos diarios y mensuales, cubriendo tanto Spot como los dos tipos de Futuros (USDⓈ-margined y COIN-margined). Estos datos incluyen operaciones agregadas (`aggTrades`), operaciones individuales (`trades`) y velas OHLCV (`klines`).\n",
    "\n",
    "Se puede acceder a la API de Binance a través de su documentación oficial, que proporciona información detallada sobre cómo utilizarla y qué datos están disponibles: https://developers.binance.com/docs/binance-spot-api-docs/rest-api/general-api-information\n",
    "\n",
    "Sin embargo, para comunicarse con la API de Binance, es necesario tener una cuenta en Binance y generar una clave API (key y secret).\n",
    "\n",
    "Por otro lado, Binance ya compila los datos históricos de precios en archivos CSV, lo que facilita el acceso a los datos sin necesidad de utilizar la API. Estos archivos CSV están disponibles en el siguiente enlace: https://data.binance.vision/\n",
    "\n",
    "Este recompliado de datos incluye la misma información que la API, pero no es necesario tener una API key para acceder a ellos. Los archivos CSV están organizados por símbolo y tipo de mercado (Spot, USDⓈ-margined y COIN-margined), lo que facilita la búsqueda y descarga de los datos deseados. Se puede obtener más información en el repositorio oficial de Binance en GitHub:\n",
    "https://github.com/binance/binance-public-data?tab=readme-ov-file\n",
    "\n",
    "Por ejemplo, si se quiere obtener los datos por día (agregados mensualmente) de BTCUSDT en el mercado Spot, se puede acceder a la siguiente URL: https://data.binance.vision/?prefix=data/spot/monthly/klines/BTCUSDT/1d/. Esto proporcionará una lista de archivos CSV que contienen los datos de precios diarios de BTCUSDT en el mercado Spot, organizados por mes.\n",
    "\n",
    "> 📝 <em><font color='Gray'>Nota:</font></em> En el repositorio se puede obtener el mismo recompilado que se descarga con la API en la carpeta *datasets*.\n",
    "\n",
    "**Simbolos**\n",
    "\n",
    "Los símbolos son pares de criptomonedas que se pueden intercambiar entre sí. Por ejemplo, el símbolo `BTCUSDT` representa el intercambio de Bitcoin (BTC) por Tether (USDT). Binance soporta una amplia variedad de símbolos, lo que permite a los usuarios intercambiar diferentes criptomonedas entre sí.\n",
    "\n",
    "> 📝 <em><font color='Gray'>Nota:</font></em> \n",
    "> Se puede consultar la lista completa de símbolos disponibles en Binance a través de su API o en su sitio web. La API proporciona un endpoint específico para obtener información sobre los símbolos y sus características, como el precio mínimo, el precio máximo, el tamaño mínimo de la orden, entre otros.\n",
    "> La lista de símbolos se puede obtener a través de la siguiente URL: https://api.binance.com/api/v3/exchangeInfo. Esta API devuelve un objeto JSON que contiene información sobre todos los símbolos disponibles en Binance, incluyendo su estado, límites de precios y tamaños de órdenes. Esto no requiere una API key.\n",
    "\n",
    "> 💡 <em><font color='IndianRed'>Tip:</font></em> \n",
    "> Utilizando el cliente, se pueden filtrar los símbolos activos:\n",
    "> ```python\n",
    ">   client = Client(api_key, api_secret)\n",
    ">   exchange_info = client.get_exchange_info()\n",
    ">   for s in exchange_info['symbols']:\n",
    ">       print(s['symbol'])\n",
    "> ```\n",
    "\n",
    "**Mercados disponibles**\n",
    "\n",
    "*SPOT*\n",
    "El mercado Spot es el mercado donde se compran y venden activos financieros para entrega inmediata. En el contexto de criptomonedas, esto significa que los usuarios pueden comprar o vender criptomonedas al precio actual del mercado y recibir la criptomoneda de inmediato. En Binance, el mercado Spot permite a los usuarios intercambiar una amplia variedad de criptomonedas entre sí.\n",
    "\n",
    "*FUTURES*\n",
    "\n",
    "Binance Futures son contratos derivados que especulan sobre el precio de un activo en una fecha futura. Hay dos tipos principales:\n",
    "- USDⓈ-margined Futures: denominados y liquidados en stablecoins (USDT o USDC), con ganancias y pérdidas calculadas en esas monedas \n",
    "- COIN-margined Futures: denominados y liquidados en la criptomoneda subyacente, ideales para HODLers y uso de la propia criptomoneda como margen \n",
    "\n",
    "\n",
    "**Tipos de datos**\n",
    "\n",
    "Dentro de cada mercado (Spot, USDⓈ-margined y COIN-margined), Binance expone tres flujos/datasets principales:\n",
    "\n",
    "- aggTrades: datos de operaciones agregadas por precio y lado (taker/maker) en intervalos muy cortos (100 ms), que reducen redundancias y facilitan el análisis de volúmenes \n",
    "- trades: operaciones individuales recientes —hasta 1.000 por solicitud en Spot y hasta 500 en Futures— con detalles de cada fill: precio, cantidad, timestamp, y flags como isBuyerMaker \n",
    "- klines: Velas OHLCV (Open, High, Low, Close, Volume) en intervalos configurables (1s, 1m, 3m, 5m, 15m, 30m, 1h, 2h, 4h, 6h, 8h, 12h, 1d, 3d, 1w, 1mo)\n",
    "\n",
    "</details>"
   ]
  },
  {
   "cell_type": "markdown",
   "id": "7acb6092",
   "metadata": {},
   "source": [
    "### Objetivo específicos"
   ]
  },
  {
   "cell_type": "markdown",
   "id": "c07b98a4",
   "metadata": {},
   "source": [
    "Como objetivos específicos, que comprenden la consigna del trabajo, se plantean los siguientes desafíos:\n",
    "\n",
    "1. Uno de los principales desafíos en en mundo critpo es obtener predicciones fiables y precisas sobre el comportamiento de los precios de las criptomonedas. BTCUSDT es el par más negociado en Binance, por lo que un análisis interesante sería responder la pregunta de como se ha comportado el dolar frente al Bitcoin y si es posible predecir su comportamiento a futuro.\n",
    "2. Un segundo desafío interesante el concepto de volumen de operaciones. El volumen de operaciones es un indicador clave en el análisis técnico y puede proporcionar información valiosa sobre la actividad del mercado. Usualmente si el volumen de operaciones es alto, significa que hay un gran interés en el activo y puede ser un indicador de que el precio se moverá en una dirección determinada. En contraste, un bajo volumen de operaciones puede indicar que el interés en el activo es bajo y que el precio puede ser más volátil. Una pregunta interesante sería si el volumen de operaciones puede predecir el comportamiento del precio de BTCUSDT."
   ]
  },
  {
   "cell_type": "markdown",
   "id": "b21992b6",
   "metadata": {},
   "source": [
    "### Carga de datos"
   ]
  },
  {
   "cell_type": "markdown",
   "id": "3a3df410",
   "metadata": {},
   "source": [
    "> ⚠️ <em><font color='gold'>Advertencia:</font></em> Si estás ejecutando este cuaderno, asegúrate de cargar las variables de entorno necesarias para acceder a la API de Binance, esto implica tener un archivo `.env` con las variables `BINANCE_API_KEY` y `BINANCE_API_SECRET` definidas.\n",
    "\n",
    "> 📝 <em><font color='Gray'>Nota:</font></em> Si no tienes una API key, no es necesario para este cuaderno. Una vez descargado el dataset, se lo guarda en un formato que se puede recuperar con todas sus características. Simplemente puedes saltear las siguientes celdas hasta *Análisis de datos* en la ejecución."
   ]
  },
  {
   "cell_type": "code",
   "execution_count": 32,
   "id": "ea8396fa",
   "metadata": {},
   "outputs": [
    {
     "name": "stdout",
     "output_type": "stream",
     "text": [
      "Cantidad de filas: 396\n"
     ]
    },
    {
     "data": {
      "text/html": [
       "<div>\n",
       "<style scoped>\n",
       "    .dataframe tbody tr th:only-of-type {\n",
       "        vertical-align: middle;\n",
       "    }\n",
       "\n",
       "    .dataframe tbody tr th {\n",
       "        vertical-align: top;\n",
       "    }\n",
       "\n",
       "    .dataframe thead th {\n",
       "        text-align: right;\n",
       "    }\n",
       "</style>\n",
       "<table border=\"1\" class=\"dataframe\">\n",
       "  <thead>\n",
       "    <tr style=\"text-align: right;\">\n",
       "      <th></th>\n",
       "      <th>Open Time</th>\n",
       "      <th>Open</th>\n",
       "      <th>High</th>\n",
       "      <th>Low</th>\n",
       "      <th>Close</th>\n",
       "      <th>Volume</th>\n",
       "      <th>Close Time</th>\n",
       "      <th>Quote Asset Volume</th>\n",
       "      <th>Number of Trades</th>\n",
       "      <th>Taker Buy Base Asset Volume</th>\n",
       "      <th>Taker Buy Quote Asset Volume</th>\n",
       "      <th>Ignore</th>\n",
       "    </tr>\n",
       "  </thead>\n",
       "  <tbody>\n",
       "    <tr>\n",
       "      <th>0</th>\n",
       "      <td>1709251200000</td>\n",
       "      <td>61130.99000000</td>\n",
       "      <td>63114.23000000</td>\n",
       "      <td>60777.00000000</td>\n",
       "      <td>62387.90000000</td>\n",
       "      <td>47737.93473000</td>\n",
       "      <td>1709337599999</td>\n",
       "      <td>2956537377.96602980</td>\n",
       "      <td>1947444</td>\n",
       "      <td>24195.70252000</td>\n",
       "      <td>1498771144.09995600</td>\n",
       "      <td>0</td>\n",
       "    </tr>\n",
       "    <tr>\n",
       "      <th>1</th>\n",
       "      <td>1709337600000</td>\n",
       "      <td>62387.90000000</td>\n",
       "      <td>62433.19000000</td>\n",
       "      <td>61561.12000000</td>\n",
       "      <td>61987.28000000</td>\n",
       "      <td>25534.73659000</td>\n",
       "      <td>1709423999999</td>\n",
       "      <td>1582566973.83409310</td>\n",
       "      <td>1641808</td>\n",
       "      <td>12691.37721000</td>\n",
       "      <td>786583052.08627260</td>\n",
       "      <td>0</td>\n",
       "    </tr>\n",
       "    <tr>\n",
       "      <th>2</th>\n",
       "      <td>1709424000000</td>\n",
       "      <td>61987.28000000</td>\n",
       "      <td>63231.88000000</td>\n",
       "      <td>61320.00000000</td>\n",
       "      <td>63113.97000000</td>\n",
       "      <td>28994.90903000</td>\n",
       "      <td>1709510399999</td>\n",
       "      <td>1804536272.94434580</td>\n",
       "      <td>1992011</td>\n",
       "      <td>14905.18600000</td>\n",
       "      <td>927868983.73084310</td>\n",
       "      <td>0</td>\n",
       "    </tr>\n",
       "    <tr>\n",
       "      <th>3</th>\n",
       "      <td>1709510400000</td>\n",
       "      <td>63113.97000000</td>\n",
       "      <td>68499.00000000</td>\n",
       "      <td>62300.00000000</td>\n",
       "      <td>68245.71000000</td>\n",
       "      <td>84835.16005000</td>\n",
       "      <td>1709596799999</td>\n",
       "      <td>5568877537.08125230</td>\n",
       "      <td>3887853</td>\n",
       "      <td>45319.08640000</td>\n",
       "      <td>2974396037.68572030</td>\n",
       "      <td>0</td>\n",
       "    </tr>\n",
       "    <tr>\n",
       "      <th>4</th>\n",
       "      <td>1709596800000</td>\n",
       "      <td>68245.71000000</td>\n",
       "      <td>69000.00000000</td>\n",
       "      <td>59005.00000000</td>\n",
       "      <td>63724.01000000</td>\n",
       "      <td>132696.78130000</td>\n",
       "      <td>1709683199999</td>\n",
       "      <td>8674526591.28714170</td>\n",
       "      <td>5310706</td>\n",
       "      <td>65991.84526000</td>\n",
       "      <td>4318205559.64365010</td>\n",
       "      <td>0</td>\n",
       "    </tr>\n",
       "  </tbody>\n",
       "</table>\n",
       "</div>"
      ],
      "text/plain": [
       "       Open Time            Open            High             Low  \\\n",
       "0  1709251200000  61130.99000000  63114.23000000  60777.00000000   \n",
       "1  1709337600000  62387.90000000  62433.19000000  61561.12000000   \n",
       "2  1709424000000  61987.28000000  63231.88000000  61320.00000000   \n",
       "3  1709510400000  63113.97000000  68499.00000000  62300.00000000   \n",
       "4  1709596800000  68245.71000000  69000.00000000  59005.00000000   \n",
       "\n",
       "            Close           Volume     Close Time   Quote Asset Volume  \\\n",
       "0  62387.90000000   47737.93473000  1709337599999  2956537377.96602980   \n",
       "1  61987.28000000   25534.73659000  1709423999999  1582566973.83409310   \n",
       "2  63113.97000000   28994.90903000  1709510399999  1804536272.94434580   \n",
       "3  68245.71000000   84835.16005000  1709596799999  5568877537.08125230   \n",
       "4  63724.01000000  132696.78130000  1709683199999  8674526591.28714170   \n",
       "\n",
       "   Number of Trades Taker Buy Base Asset Volume Taker Buy Quote Asset Volume  \\\n",
       "0           1947444              24195.70252000          1498771144.09995600   \n",
       "1           1641808              12691.37721000           786583052.08627260   \n",
       "2           1992011              14905.18600000           927868983.73084310   \n",
       "3           3887853              45319.08640000          2974396037.68572030   \n",
       "4           5310706              65991.84526000          4318205559.64365010   \n",
       "\n",
       "  Ignore  \n",
       "0      0  \n",
       "1      0  \n",
       "2      0  \n",
       "3      0  \n",
       "4      0  "
      ]
     },
     "execution_count": 32,
     "metadata": {},
     "output_type": "execute_result"
    }
   ],
   "source": [
    "# Creamos el cliente de Binance\n",
    "binance_client = Client(api_key=BINANCE_API_KEY, api_secret=BINANCE_API_SECRET)\n",
    "\n",
    "# Cargamos los datos de la API de Binance\n",
    "symbol = \"BTCUSDT\"\n",
    "# format (year, month, day, hour, minute, second)\n",
    "start_time = datetime.datetime(2024, 3, 1, 0, 0, 0)\n",
    "end_time = datetime.datetime(2025, 3, 31, 0, 0, 0)\n",
    "klines = binance_client.get_historical_klines(\n",
    "    symbol=symbol,\n",
    "    interval=Client.KLINE_INTERVAL_1DAY,  # 1 day interval\n",
    "    start_str=str(start_time),\n",
    "    end_str=str(end_time),\n",
    ")\n",
    "\n",
    "# Convertimos los datos a un DataFrame de pandas\n",
    "df = pd.DataFrame(\n",
    "    klines,\n",
    "    columns=[\n",
    "        \"Open Time\",\n",
    "        \"Open\",\n",
    "        \"High\",\n",
    "        \"Low\",\n",
    "        \"Close\",\n",
    "        \"Volume\",\n",
    "        \"Close Time\",\n",
    "        \"Quote Asset Volume\",\n",
    "        \"Number of Trades\",\n",
    "        \"Taker Buy Base Asset Volume\",\n",
    "        \"Taker Buy Quote Asset Volume\",\n",
    "        \"Ignore\",\n",
    "    ],\n",
    ")\n",
    "\n",
    "print(f\"Cantidad de filas: {len(df)}\")\n",
    "df.head()  # Mostramos las primeras filas del DataFrame"
   ]
  },
  {
   "cell_type": "code",
   "execution_count": 33,
   "id": "3506ac7f",
   "metadata": {},
   "outputs": [],
   "source": [
    "# Guardamos el DataFrame en un archivo pickle\n",
    "df.to_csv(DATASET_FILE_PATH, index=False)"
   ]
  },
  {
   "cell_type": "markdown",
   "id": "699f939a",
   "metadata": {},
   "source": [
    "### Análisis de datos"
   ]
  },
  {
   "cell_type": "code",
   "execution_count": 34,
   "id": "e5a6a7c7",
   "metadata": {},
   "outputs": [],
   "source": [
    "# Cargamos el conjunto de datos\n",
    "df = pd.read_csv(DATASET_FILE_PATH)"
   ]
  },
  {
   "cell_type": "markdown",
   "id": "869436f1",
   "metadata": {},
   "source": [
    "#### Tipos de datos"
   ]
  },
  {
   "cell_type": "markdown",
   "id": "e780cd8b",
   "metadata": {},
   "source": [
    "De la documentación de la API de [Binance](https://github.com/binance/binance-public-data?tab=readme-ov-file#klines), se sabe que las columnas del conjunto de datos son las siguientes:\n",
    "- `Open time` $\\rightarrow$ Timestamp de apertura de la vela (en milisegundos)\n",
    "- `Open` $\\rightarrow$ Precio de apertura de la vela\n",
    "- `High` $\\rightarrow$ Precio máximo de la vela\n",
    "- `Low` $\\rightarrow$ Precio mínimo de la vela\n",
    "- `Close` $\\rightarrow$ Precio de cierre de la vela\n",
    "- `Volume` $\\rightarrow$ Volumen de operaciones durante la vela\n",
    "- `Close time` $\\rightarrow$ Timestamp de cierre de la vela (en milisegundos)\n",
    "- `Quote asset volume` $\\rightarrow$ Volumen de operaciones en la moneda base (en USDT)\n",
    "- `Number of trades` $\\rightarrow$ Número de operaciones realizadas durante la vela\n",
    "- `Taker buy base asset volume` $\\rightarrow$ Volumen de operaciones en la moneda base (en USDT) compradas por el lado del comprador\n",
    "- `Taker buy quote asset volume` $\\rightarrow$ Volumen de operaciones en la moneda base (en USDT) compradas por el lado del vendedor\n",
    "- `Ignore` $\\rightarrow$ Si ignora el campo, se puede dejar vacío"
   ]
  },
  {
   "cell_type": "markdown",
   "id": "e795b7ca",
   "metadata": {},
   "source": [
    "Se aplica la siguiente conversión de tipos de datos:"
   ]
  },
  {
   "cell_type": "code",
   "execution_count": 35,
   "id": "51b649a4",
   "metadata": {},
   "outputs": [
    {
     "data": {
      "text/html": [
       "<div>\n",
       "<style scoped>\n",
       "    .dataframe tbody tr th:only-of-type {\n",
       "        vertical-align: middle;\n",
       "    }\n",
       "\n",
       "    .dataframe tbody tr th {\n",
       "        vertical-align: top;\n",
       "    }\n",
       "\n",
       "    .dataframe thead th {\n",
       "        text-align: right;\n",
       "    }\n",
       "</style>\n",
       "<table border=\"1\" class=\"dataframe\">\n",
       "  <thead>\n",
       "    <tr style=\"text-align: right;\">\n",
       "      <th></th>\n",
       "      <th>Open Time</th>\n",
       "      <th>Open</th>\n",
       "      <th>High</th>\n",
       "      <th>Low</th>\n",
       "      <th>Close</th>\n",
       "      <th>Volume</th>\n",
       "      <th>Close Time</th>\n",
       "      <th>Quote Asset Volume</th>\n",
       "      <th>Number of Trades</th>\n",
       "      <th>Taker Buy Base Asset Volume</th>\n",
       "      <th>Taker Buy Quote Asset Volume</th>\n",
       "      <th>Ignore</th>\n",
       "    </tr>\n",
       "  </thead>\n",
       "  <tbody>\n",
       "    <tr>\n",
       "      <th>0</th>\n",
       "      <td>2024-03-01</td>\n",
       "      <td>61130.99</td>\n",
       "      <td>63114.23</td>\n",
       "      <td>60777.00</td>\n",
       "      <td>62387.90</td>\n",
       "      <td>47737.93473</td>\n",
       "      <td>2024-03-01 23:59:59.999</td>\n",
       "      <td>2.956537e+09</td>\n",
       "      <td>1947444</td>\n",
       "      <td>24195.70252</td>\n",
       "      <td>1.498771e+09</td>\n",
       "      <td>0</td>\n",
       "    </tr>\n",
       "    <tr>\n",
       "      <th>1</th>\n",
       "      <td>2024-03-02</td>\n",
       "      <td>62387.90</td>\n",
       "      <td>62433.19</td>\n",
       "      <td>61561.12</td>\n",
       "      <td>61987.28</td>\n",
       "      <td>25534.73659</td>\n",
       "      <td>2024-03-02 23:59:59.999</td>\n",
       "      <td>1.582567e+09</td>\n",
       "      <td>1641808</td>\n",
       "      <td>12691.37721</td>\n",
       "      <td>7.865831e+08</td>\n",
       "      <td>0</td>\n",
       "    </tr>\n",
       "    <tr>\n",
       "      <th>2</th>\n",
       "      <td>2024-03-03</td>\n",
       "      <td>61987.28</td>\n",
       "      <td>63231.88</td>\n",
       "      <td>61320.00</td>\n",
       "      <td>63113.97</td>\n",
       "      <td>28994.90903</td>\n",
       "      <td>2024-03-03 23:59:59.999</td>\n",
       "      <td>1.804536e+09</td>\n",
       "      <td>1992011</td>\n",
       "      <td>14905.18600</td>\n",
       "      <td>9.278690e+08</td>\n",
       "      <td>0</td>\n",
       "    </tr>\n",
       "    <tr>\n",
       "      <th>3</th>\n",
       "      <td>2024-03-04</td>\n",
       "      <td>63113.97</td>\n",
       "      <td>68499.00</td>\n",
       "      <td>62300.00</td>\n",
       "      <td>68245.71</td>\n",
       "      <td>84835.16005</td>\n",
       "      <td>2024-03-04 23:59:59.999</td>\n",
       "      <td>5.568878e+09</td>\n",
       "      <td>3887853</td>\n",
       "      <td>45319.08640</td>\n",
       "      <td>2.974396e+09</td>\n",
       "      <td>0</td>\n",
       "    </tr>\n",
       "    <tr>\n",
       "      <th>4</th>\n",
       "      <td>2024-03-05</td>\n",
       "      <td>68245.71</td>\n",
       "      <td>69000.00</td>\n",
       "      <td>59005.00</td>\n",
       "      <td>63724.01</td>\n",
       "      <td>132696.78130</td>\n",
       "      <td>2024-03-05 23:59:59.999</td>\n",
       "      <td>8.674527e+09</td>\n",
       "      <td>5310706</td>\n",
       "      <td>65991.84526</td>\n",
       "      <td>4.318206e+09</td>\n",
       "      <td>0</td>\n",
       "    </tr>\n",
       "  </tbody>\n",
       "</table>\n",
       "</div>"
      ],
      "text/plain": [
       "   Open Time      Open      High       Low     Close        Volume  \\\n",
       "0 2024-03-01  61130.99  63114.23  60777.00  62387.90   47737.93473   \n",
       "1 2024-03-02  62387.90  62433.19  61561.12  61987.28   25534.73659   \n",
       "2 2024-03-03  61987.28  63231.88  61320.00  63113.97   28994.90903   \n",
       "3 2024-03-04  63113.97  68499.00  62300.00  68245.71   84835.16005   \n",
       "4 2024-03-05  68245.71  69000.00  59005.00  63724.01  132696.78130   \n",
       "\n",
       "               Close Time  Quote Asset Volume  Number of Trades  \\\n",
       "0 2024-03-01 23:59:59.999        2.956537e+09           1947444   \n",
       "1 2024-03-02 23:59:59.999        1.582567e+09           1641808   \n",
       "2 2024-03-03 23:59:59.999        1.804536e+09           1992011   \n",
       "3 2024-03-04 23:59:59.999        5.568878e+09           3887853   \n",
       "4 2024-03-05 23:59:59.999        8.674527e+09           5310706   \n",
       "\n",
       "   Taker Buy Base Asset Volume  Taker Buy Quote Asset Volume  Ignore  \n",
       "0                  24195.70252                  1.498771e+09       0  \n",
       "1                  12691.37721                  7.865831e+08       0  \n",
       "2                  14905.18600                  9.278690e+08       0  \n",
       "3                  45319.08640                  2.974396e+09       0  \n",
       "4                  65991.84526                  4.318206e+09       0  "
      ]
     },
     "execution_count": 35,
     "metadata": {},
     "output_type": "execute_result"
    }
   ],
   "source": [
    "# Definimos los tipos de datos para las columnas\n",
    "columns_to_convert = {\n",
    "    \"Open Time\": \"datetime64[ms]\",\n",
    "    \"Close Time\": \"datetime64[ms]\",\n",
    "    \"Open\": float,\n",
    "    \"High\": float,\n",
    "    \"Low\": float,\n",
    "    \"Close\": float,\n",
    "    \"Volume\": float,\n",
    "    \"Quote Asset Volume\": float,\n",
    "    \"Taker Buy Base Asset Volume\": float,\n",
    "    \"Taker Buy Quote Asset Volume\": float,\n",
    "    \"Number of Trades\": int,\n",
    "}\n",
    "\n",
    "# Apply type conversions\n",
    "for column, dtype in columns_to_convert.items():\n",
    "    df[column] = df[column].astype(dtype)\n",
    "\n",
    "df.head()"
   ]
  },
  {
   "cell_type": "markdown",
   "id": "c04fac0f",
   "metadata": {},
   "source": [
    "#### Visualización rápida"
   ]
  },
  {
   "cell_type": "markdown",
   "id": "5a680508",
   "metadata": {},
   "source": [
    "Se utiliza la librería `mplfinance` para graficar y obtener una rápida visión de los datos. La función `plot_candlestick` permite visualizar las velas OHLCV (Open, High, Low, Close, Volume) de los precios a lo largo del tiempo:"
   ]
  },
  {
   "cell_type": "code",
   "execution_count": 36,
   "id": "fb586e79",
   "metadata": {},
   "outputs": [
    {
     "data": {
      "image/png": "[encoded data removed]",
      "text/plain": [
       "<Figure size 800x575 with 2 Axes>"
      ]
     },
     "metadata": {},
     "output_type": "display_data"
    }
   ],
   "source": [
    "df_ohlc = df[[\"Open Time\", \"Open\", \"High\", \"Low\", \"Close\"]].copy()\n",
    "df_ohlc.set_index('Open Time', inplace=True)\n",
    "\n",
    "# Definimos el estilo del gráfico\n",
    "style = mpf.make_mpf_style(base_mpf_style=\"charles\", rc={\"font.size\": 8})\n",
    "\n",
    "# Creamos el gráfico de velas\n",
    "mpf.plot(df_ohlc, type=\"candle\", style=style, title=\"BTC/USDT OHLC\", ylabel=\"Price ($)\")"
   ]
  },
  {
   "cell_type": "markdown",
   "id": "4c1ce83a",
   "metadata": {},
   "source": [
    "#### Pruebas de estacionaridad"
   ]
  },
  {
   "cell_type": "markdown",
   "id": "041ffae0",
   "metadata": {},
   "source": [
    "### Modelos de series temporales"
   ]
  },
  {
   "cell_type": "markdown",
   "id": "dbfc6b4d",
   "metadata": {},
   "source": [
    "#### Modelo 1"
   ]
  },
  {
   "cell_type": "markdown",
   "id": "f5b46e2b",
   "metadata": {},
   "source": []
  },
  {
   "cell_type": "markdown",
   "id": "8cb3dfa9",
   "metadata": {},
   "source": [
    "#### Modelo 2"
   ]
  },
  {
   "cell_type": "markdown",
   "id": "f8683236",
   "metadata": {},
   "source": [
    "#### Modelo 3"
   ]
  },
  {
   "cell_type": "markdown",
   "id": "b9ca5e37",
   "metadata": {},
   "source": [
    "### Conclusiones"
   ]
  },
  {
   "cell_type": "markdown",
   "id": "0aa4fe21",
   "metadata": {},
   "source": [
    "### Mejoras futuras"
   ]
  }
 ],
 "metadata": {
  "kernelspec": {
   "display_name": ".venv",
   "language": "python",
   "name": "python3"
  },
  "language_info": {
   "codemirror_mode": {
    "name": "ipython",
    "version": 3
   },
   "file_extension": ".py",
   "mimetype": "text/x-python",
   "name": "python",
   "nbconvert_exporter": "python",
   "pygments_lexer": "ipython3",
   "version": "3.13.0"
  }
 },
 "nbformat": 4,
 "nbformat_minor": 5
}
