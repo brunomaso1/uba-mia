{
 "cells": [
  {
   "cell_type": "markdown",
   "id": "5c9d1d1a",
   "metadata": {},
   "source": [
    "# <div align=\"center\"><b> SENTENCE TRANSFORMERS EXAMPLE </b></div>"
   ]
  },
  {
   "cell_type": "markdown",
   "id": "826b3e17",
   "metadata": {},
   "source": [
    "Modelo de embeddings: https://huggingface.co/jinaai/jina-embeddings-v3 | https://huggingface.co/jinaai/jina-embeddings-v2-small-en"
   ]
  },
  {
   "cell_type": "markdown",
   "id": "105993e9",
   "metadata": {},
   "source": [
    "## Instalaciones"
   ]
  },
  {
   "cell_type": "code",
   "execution_count": null,
   "id": "2945347b",
   "metadata": {},
   "outputs": [],
   "source": [
    "%pip install transformers torch einops\n",
    "%pip install --upgrade jupyter ipywidgets\n",
    "%pip install -U sentence-transformers"
   ]
  },
  {
   "cell_type": "markdown",
   "id": "d81f655f",
   "metadata": {},
   "source": [
    "## Importaciones"
   ]
  },
  {
   "cell_type": "code",
   "execution_count": 5,
   "id": "ec732571",
   "metadata": {},
   "outputs": [],
   "source": [
    "from transformers import AutoModel\n",
    "from sentence_transformers import SentenceTransformer"
   ]
  },
  {
   "cell_type": "markdown",
   "id": "0f6c71b9",
   "metadata": {},
   "source": [
    "## Prueba de Jina Embeddings (sin sentence transformers)"
   ]
  },
  {
   "cell_type": "code",
   "execution_count": 8,
   "id": "1e23b5a9",
   "metadata": {},
   "outputs": [
    {
     "name": "stdout",
     "output_type": "stream",
     "text": [
      "Similarities:  0.70863205\n",
      "Shape:  (1024,)\n"
     ]
    }
   ],
   "source": [
    "# Initialize the model\n",
    "model = AutoModel.from_pretrained(\"jinaai/jina-embeddings-v3\", trust_remote_code=True)\n",
    "\n",
    "texts = [\n",
    "    \"Follow the white rabbit.\",  # English\n",
    "    \"Sigue al conejo blanco.\",  # Spanish\n",
    "    \"Suis le lapin blanc.\",  # French\n",
    "    \"跟着白兔走。\",  # Chinese\n",
    "    \"اتبع الأرنب الأبيض.\",  # Arabic\n",
    "    \"Folge dem weißen Kaninchen.\",  # German\n",
    "]\n",
    "\n",
    "# When calling the `encode` function, you can choose a `task` based on the use case:\n",
    "# 'retrieval.query', 'retrieval.passage', 'separation', 'classification', 'text-matching'\n",
    "# Alternatively, you can choose not to pass a `task`, and no specific LoRA adapter will be used.\n",
    "embeddings = model.encode(texts, task=\"text-matching\")\n",
    "\n",
    "# Compute similarities\n",
    "print(\"Similarities: \", embeddings[0] @ embeddings[1].T)\n",
    "\n",
    "# Shape\n",
    "print(\"Shape: \", embeddings[0].shape)"
   ]
  },
  {
   "cell_type": "markdown",
   "id": "aba1c486",
   "metadata": {},
   "source": [
    "## Usando sentence transformers"
   ]
  },
  {
   "cell_type": "code",
   "execution_count": 7,
   "id": "7ccd40f2",
   "metadata": {},
   "outputs": [
    {
     "name": "stdout",
     "output_type": "stream",
     "text": [
      "(1024,)\n"
     ]
    }
   ],
   "source": [
    "model = SentenceTransformer(\"jinaai/jina-embeddings-v3\", trust_remote_code=True)\n",
    "\n",
    "task = \"retrieval.query\"\n",
    "embeddings = model.encode(\n",
    "    [\"What is the weather like in Berlin today?\"],\n",
    "    task=task,\n",
    "    prompt_name=task,\n",
    ")\n",
    "\n",
    "print(embeddings[0].shape)  # (1, 768)"
   ]
  }
 ],
 "metadata": {
  "kernelspec": {
   "display_name": ".venv",
   "language": "python",
   "name": "python3"
  },
  "language_info": {
   "codemirror_mode": {
    "name": "ipython",
    "version": 3
   },
   "file_extension": ".py",
   "mimetype": "text/x-python",
   "name": "python",
   "nbconvert_exporter": "python",
   "pygments_lexer": "ipython3",
   "version": "3.13.0"
  }
 },
 "nbformat": 4,
 "nbformat_minor": 5
}
