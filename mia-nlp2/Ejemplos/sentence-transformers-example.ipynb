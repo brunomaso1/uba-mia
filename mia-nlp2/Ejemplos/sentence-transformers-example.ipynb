{
 "cells": [
  {
   "cell_type": "markdown",
   "id": "07767eb6",
   "metadata": {},
   "source": [
    "# <div align=\"center\"><b> SENTENCE TRANSFORMERS EXAMPLE </b></div>"
   ]
  },
  {
   "cell_type": "markdown",
   "id": "1ce2a4f8",
   "metadata": {},
   "source": [
    "<div align=\"right\">📝 <em><small><font color='Gray'>Nota:</font></small></em></div>\n",
    "\n",
    "<div align=\"right\"> <em><small><font color='Gray'> La funcionalidad de visualización de jupyter notebooks en <a href=\"https://github.com/\" target=\"_blank\">github</a> es solamente un preview.</font></small></em> </div>\n",
    "\n",
    "<div align=\"right\"> <em><small><font color='Gray'> Para mejor visualización se sugiere utilizar el visualizador recomendado por la comunidad: <a href=\"https://nbviewer.org/\" target=\"_blank\">nbviewer</a></font></small></em> </div>\n",
    "\n",
    "<div align=\"right\"> <em><small><font color='Gray'> Puedes a acceder al siguiente enlace para ver este notebook en dicha página: <a href=\"https://nbviewer.org/github/brunomaso1/uba-mia/blob/mia-nlp2/mia-nlp2/Ejemplos/sentence-transformers-example.ipynb\">Sentence transformers example</a></font></small></em> </div>"
   ]
  },
  {
   "cell_type": "markdown",
   "id": "73e41d31",
   "metadata": {},
   "source": [
    "* * *"
   ]
  },
  {
   "cell_type": "markdown",
   "id": "726173d2",
   "metadata": {},
   "source": [
    "<style>\n",
    "/* Limitar la altura de las celdas de salida en html */\n",
    ".jp-OutputArea.jp-Cell-outputArea {\n",
    "    max-height: 500px;\n",
    "}\n",
    "</style>"
   ]
  },
  {
   "cell_type": "markdown",
   "id": "80966fc7",
   "metadata": {},
   "source": [
    "<!-- Colab -->\n",
    "<!-- <div align=\"center\"><img src=\"https://drive.google.com/uc?export=view&id=1QSNrTsz1hQbmZwpgwx0qpfpNtLW19Orm\" width=\"600\" alt=\"Figura 1: A data scientist is working on word generation using the Lord of the Rings lore. The image is dark and moody, with a focus on the scientist's computer screen. The screen displays a visualization the one ring, with a map of Middle Earth in the background. - Generada con DALL-E3\"></div> -->\n",
    "\n",
    "<div align=\"center\"><img src=\"../resources/img1.jpeg\" width=\"600\" alt=\"Figura 1: A data scientist is sitting in front of a computer screen, intently focused on the task at hand. The room is dimly lit, with the only light coming from the computer screen. The neural network is displayed on the screen, with the data scientist working to. The nerual network is deepseek R1. - Generada con Microsoft Image Creator\"></div>\n",
    "\n",
    "<div align=\"center\"><small><em>Figura 1: A data scientist is sitting in front of a computer screen, intently focused on the task at hand. The room is dimly lit, with the only light coming from the computer screen. The neural network is displayed on the screen, with the data scientist working to. The nerual network is deepseek R1. - Generada con Microsoft Image Creator</em></small></div>"
   ]
  },
  {
   "cell_type": "markdown",
   "id": "d6d2bf27",
   "metadata": {},
   "source": [
    "<div align=\"center\">✨Datos del proyecto:✨</div>\n",
    "\n",
    "<p></p>\n",
    "\n",
    "<div align=\"center\">\n",
    "\n",
    "| Subtitulo       | Ejemplo de prueba de Sentence Transformers                                                                                             |\n",
    "| --------------- | -------------------------------------------------------------------------------------------------------------------------------------- |\n",
    "| **Descrpción**  | Ejemplo de prueba de funcionamiento de la librería Sentence Transformers                                                               |\n",
    "| **Integrantes** | Bruno Masoller (brunomaso1@gmail.com)                                                                                                  |\n",
    "\n",
    "</div>"
   ]
  },
  {
   "cell_type": "markdown",
   "id": "832fe4cf",
   "metadata": {},
   "source": [
    "🛻 <em><font color='MediumSeaGreen'>  Instalaciones: </font></em> 🛻"
   ]
  },
  {
   "cell_type": "code",
   "execution_count": 1,
   "id": "a371e514",
   "metadata": {},
   "outputs": [
    {
     "name": "stdout",
     "output_type": "stream",
     "text": [
      "Requirement already satisfied: jupyter in e:\\documentos\\git repositories\\uba-mia\\.venv\\lib\\site-packages (1.1.1)\n",
      "Requirement already satisfied: ipywidgets in e:\\documentos\\git repositories\\uba-mia\\.venv\\lib\\site-packages (8.1.5)\n",
      "Collecting ipywidgets\n",
      "  Downloading ipywidgets-8.1.6-py3-none-any.whl.metadata (2.4 kB)\n",
      "Requirement already satisfied: notebook in e:\\documentos\\git repositories\\uba-mia\\.venv\\lib\\site-packages (from jupyter) (7.3.3)\n",
      "Requirement already satisfied: jupyter-console in e:\\documentos\\git repositories\\uba-mia\\.venv\\lib\\site-packages (from jupyter) (6.6.3)\n",
      "Requirement already satisfied: nbconvert in e:\\documentos\\git repositories\\uba-mia\\.venv\\lib\\site-packages (from jupyter) (7.16.6)\n",
      "Requirement already satisfied: ipykernel in e:\\documentos\\git repositories\\uba-mia\\.venv\\lib\\site-packages (from jupyter) (6.29.5)\n",
      "Requirement already satisfied: jupyterlab in e:\\documentos\\git repositories\\uba-mia\\.venv\\lib\\site-packages (from jupyter) (4.3.6)\n",
      "Requirement already satisfied: comm>=0.1.3 in e:\\documentos\\git repositories\\uba-mia\\.venv\\lib\\site-packages (from ipywidgets) (0.2.2)\n",
      "Requirement already satisfied: ipython>=6.1.0 in e:\\documentos\\git repositories\\uba-mia\\.venv\\lib\\site-packages (from ipywidgets) (9.1.0)\n",
      "Requirement already satisfied: traitlets>=4.3.1 in e:\\documentos\\git repositories\\uba-mia\\.venv\\lib\\site-packages (from ipywidgets) (5.14.3)\n",
      "Collecting widgetsnbextension~=4.0.14 (from ipywidgets)\n",
      "  Downloading widgetsnbextension-4.0.14-py3-none-any.whl.metadata (1.6 kB)\n",
      "Collecting jupyterlab_widgets~=3.0.14 (from ipywidgets)\n",
      "  Downloading jupyterlab_widgets-3.0.14-py3-none-any.whl.metadata (4.1 kB)\n",
      "Requirement already satisfied: colorama in e:\\documentos\\git repositories\\uba-mia\\.venv\\lib\\site-packages (from ipython>=6.1.0->ipywidgets) (0.4.6)\n",
      "Requirement already satisfied: decorator in e:\\documentos\\git repositories\\uba-mia\\.venv\\lib\\site-packages (from ipython>=6.1.0->ipywidgets) (5.2.1)\n",
      "Requirement already satisfied: ipython-pygments-lexers in e:\\documentos\\git repositories\\uba-mia\\.venv\\lib\\site-packages (from ipython>=6.1.0->ipywidgets) (1.1.1)\n",
      "Requirement already satisfied: jedi>=0.16 in e:\\documentos\\git repositories\\uba-mia\\.venv\\lib\\site-packages (from ipython>=6.1.0->ipywidgets) (0.19.2)\n",
      "Requirement already satisfied: matplotlib-inline in e:\\documentos\\git repositories\\uba-mia\\.venv\\lib\\site-packages (from ipython>=6.1.0->ipywidgets) (0.1.7)\n",
      "Requirement already satisfied: prompt_toolkit<3.1.0,>=3.0.41 in e:\\documentos\\git repositories\\uba-mia\\.venv\\lib\\site-packages (from ipython>=6.1.0->ipywidgets) (3.0.50)\n",
      "Requirement already satisfied: pygments>=2.4.0 in e:\\documentos\\git repositories\\uba-mia\\.venv\\lib\\site-packages (from ipython>=6.1.0->ipywidgets) (2.19.1)\n",
      "Requirement already satisfied: stack_data in e:\\documentos\\git repositories\\uba-mia\\.venv\\lib\\site-packages (from ipython>=6.1.0->ipywidgets) (0.6.3)\n",
      "Requirement already satisfied: debugpy>=1.6.5 in e:\\documentos\\git repositories\\uba-mia\\.venv\\lib\\site-packages (from ipykernel->jupyter) (1.8.13)\n",
      "Requirement already satisfied: jupyter-client>=6.1.12 in e:\\documentos\\git repositories\\uba-mia\\.venv\\lib\\site-packages (from ipykernel->jupyter) (8.6.3)\n",
      "Requirement already satisfied: jupyter-core!=5.0.*,>=4.12 in e:\\documentos\\git repositories\\uba-mia\\.venv\\lib\\site-packages (from ipykernel->jupyter) (5.7.2)\n",
      "Requirement already satisfied: nest-asyncio in e:\\documentos\\git repositories\\uba-mia\\.venv\\lib\\site-packages (from ipykernel->jupyter) (1.6.0)\n",
      "Requirement already satisfied: packaging in e:\\documentos\\git repositories\\uba-mia\\.venv\\lib\\site-packages (from ipykernel->jupyter) (24.2)\n",
      "Requirement already satisfied: psutil in e:\\documentos\\git repositories\\uba-mia\\.venv\\lib\\site-packages (from ipykernel->jupyter) (7.0.0)\n",
      "Requirement already satisfied: pyzmq>=24 in e:\\documentos\\git repositories\\uba-mia\\.venv\\lib\\site-packages (from ipykernel->jupyter) (26.4.0)\n",
      "Requirement already satisfied: tornado>=6.1 in e:\\documentos\\git repositories\\uba-mia\\.venv\\lib\\site-packages (from ipykernel->jupyter) (6.4.2)\n",
      "Requirement already satisfied: async-lru>=1.0.0 in e:\\documentos\\git repositories\\uba-mia\\.venv\\lib\\site-packages (from jupyterlab->jupyter) (2.0.5)\n",
      "Requirement already satisfied: httpx>=0.25.0 in e:\\documentos\\git repositories\\uba-mia\\.venv\\lib\\site-packages (from jupyterlab->jupyter) (0.28.1)\n",
      "Requirement already satisfied: jinja2>=3.0.3 in e:\\documentos\\git repositories\\uba-mia\\.venv\\lib\\site-packages (from jupyterlab->jupyter) (3.1.6)\n",
      "Requirement already satisfied: jupyter-lsp>=2.0.0 in e:\\documentos\\git repositories\\uba-mia\\.venv\\lib\\site-packages (from jupyterlab->jupyter) (2.2.5)\n",
      "Requirement already satisfied: jupyter-server<3,>=2.4.0 in e:\\documentos\\git repositories\\uba-mia\\.venv\\lib\\site-packages (from jupyterlab->jupyter) (2.15.0)\n",
      "Requirement already satisfied: jupyterlab-server<3,>=2.27.1 in e:\\documentos\\git repositories\\uba-mia\\.venv\\lib\\site-packages (from jupyterlab->jupyter) (2.27.3)\n",
      "Requirement already satisfied: notebook-shim>=0.2 in e:\\documentos\\git repositories\\uba-mia\\.venv\\lib\\site-packages (from jupyterlab->jupyter) (0.2.4)\n",
      "Requirement already satisfied: setuptools>=40.8.0 in e:\\documentos\\git repositories\\uba-mia\\.venv\\lib\\site-packages (from jupyterlab->jupyter) (78.1.0)\n",
      "Requirement already satisfied: beautifulsoup4 in e:\\documentos\\git repositories\\uba-mia\\.venv\\lib\\site-packages (from nbconvert->jupyter) (4.13.3)\n",
      "Requirement already satisfied: bleach!=5.0.0 in e:\\documentos\\git repositories\\uba-mia\\.venv\\lib\\site-packages (from bleach[css]!=5.0.0->nbconvert->jupyter) (6.2.0)\n",
      "Requirement already satisfied: defusedxml in e:\\documentos\\git repositories\\uba-mia\\.venv\\lib\\site-packages (from nbconvert->jupyter) (0.7.1)\n",
      "Requirement already satisfied: jupyterlab-pygments in e:\\documentos\\git repositories\\uba-mia\\.venv\\lib\\site-packages (from nbconvert->jupyter) (0.3.0)\n",
      "Requirement already satisfied: markupsafe>=2.0 in e:\\documentos\\git repositories\\uba-mia\\.venv\\lib\\site-packages (from nbconvert->jupyter) (3.0.2)\n",
      "Requirement already satisfied: mistune<4,>=2.0.3 in e:\\documentos\\git repositories\\uba-mia\\.venv\\lib\\site-packages (from nbconvert->jupyter) (3.1.3)\n",
      "Requirement already satisfied: nbclient>=0.5.0 in e:\\documentos\\git repositories\\uba-mia\\.venv\\lib\\site-packages (from nbconvert->jupyter) (0.10.2)\n",
      "Requirement already satisfied: nbformat>=5.7 in e:\\documentos\\git repositories\\uba-mia\\.venv\\lib\\site-packages (from nbconvert->jupyter) (5.10.4)\n",
      "Requirement already satisfied: pandocfilters>=1.4.1 in e:\\documentos\\git repositories\\uba-mia\\.venv\\lib\\site-packages (from nbconvert->jupyter) (1.5.1)\n",
      "Requirement already satisfied: webencodings in e:\\documentos\\git repositories\\uba-mia\\.venv\\lib\\site-packages (from bleach!=5.0.0->bleach[css]!=5.0.0->nbconvert->jupyter) (0.5.1)\n",
      "Requirement already satisfied: tinycss2<1.5,>=1.1.0 in e:\\documentos\\git repositories\\uba-mia\\.venv\\lib\\site-packages (from bleach[css]!=5.0.0->nbconvert->jupyter) (1.4.0)\n",
      "Requirement already satisfied: anyio in e:\\documentos\\git repositories\\uba-mia\\.venv\\lib\\site-packages (from httpx>=0.25.0->jupyterlab->jupyter) (4.9.0)\n",
      "Requirement already satisfied: certifi in e:\\documentos\\git repositories\\uba-mia\\.venv\\lib\\site-packages (from httpx>=0.25.0->jupyterlab->jupyter) (2025.1.31)\n",
      "Requirement already satisfied: httpcore==1.* in e:\\documentos\\git repositories\\uba-mia\\.venv\\lib\\site-packages (from httpx>=0.25.0->jupyterlab->jupyter) (1.0.7)\n",
      "Requirement already satisfied: idna in e:\\documentos\\git repositories\\uba-mia\\.venv\\lib\\site-packages (from httpx>=0.25.0->jupyterlab->jupyter) (3.10)\n",
      "Requirement already satisfied: h11<0.15,>=0.13 in e:\\documentos\\git repositories\\uba-mia\\.venv\\lib\\site-packages (from httpcore==1.*->httpx>=0.25.0->jupyterlab->jupyter) (0.14.0)\n",
      "Requirement already satisfied: parso<0.9.0,>=0.8.4 in e:\\documentos\\git repositories\\uba-mia\\.venv\\lib\\site-packages (from jedi>=0.16->ipython>=6.1.0->ipywidgets) (0.8.4)\n",
      "Requirement already satisfied: python-dateutil>=2.8.2 in e:\\documentos\\git repositories\\uba-mia\\.venv\\lib\\site-packages (from jupyter-client>=6.1.12->ipykernel->jupyter) (2.9.0.post0)\n",
      "Requirement already satisfied: platformdirs>=2.5 in e:\\documentos\\git repositories\\uba-mia\\.venv\\lib\\site-packages (from jupyter-core!=5.0.*,>=4.12->ipykernel->jupyter) (4.3.7)\n",
      "Requirement already satisfied: pywin32>=300 in e:\\documentos\\git repositories\\uba-mia\\.venv\\lib\\site-packages (from jupyter-core!=5.0.*,>=4.12->ipykernel->jupyter) (310)\n",
      "Requirement already satisfied: argon2-cffi>=21.1 in e:\\documentos\\git repositories\\uba-mia\\.venv\\lib\\site-packages (from jupyter-server<3,>=2.4.0->jupyterlab->jupyter) (23.1.0)\n",
      "Requirement already satisfied: jupyter-events>=0.11.0 in e:\\documentos\\git repositories\\uba-mia\\.venv\\lib\\site-packages (from jupyter-server<3,>=2.4.0->jupyterlab->jupyter) (0.12.0)\n",
      "Requirement already satisfied: jupyter-server-terminals>=0.4.4 in e:\\documentos\\git repositories\\uba-mia\\.venv\\lib\\site-packages (from jupyter-server<3,>=2.4.0->jupyterlab->jupyter) (0.5.3)\n",
      "Requirement already satisfied: overrides>=5.0 in e:\\documentos\\git repositories\\uba-mia\\.venv\\lib\\site-packages (from jupyter-server<3,>=2.4.0->jupyterlab->jupyter) (7.7.0)\n",
      "Requirement already satisfied: prometheus-client>=0.9 in e:\\documentos\\git repositories\\uba-mia\\.venv\\lib\\site-packages (from jupyter-server<3,>=2.4.0->jupyterlab->jupyter) (0.21.1)\n",
      "Requirement already satisfied: pywinpty>=2.0.1 in e:\\documentos\\git repositories\\uba-mia\\.venv\\lib\\site-packages (from jupyter-server<3,>=2.4.0->jupyterlab->jupyter) (2.0.15)\n",
      "Requirement already satisfied: send2trash>=1.8.2 in e:\\documentos\\git repositories\\uba-mia\\.venv\\lib\\site-packages (from jupyter-server<3,>=2.4.0->jupyterlab->jupyter) (1.8.3)\n",
      "Requirement already satisfied: terminado>=0.8.3 in e:\\documentos\\git repositories\\uba-mia\\.venv\\lib\\site-packages (from jupyter-server<3,>=2.4.0->jupyterlab->jupyter) (0.18.1)\n",
      "Requirement already satisfied: websocket-client>=1.7 in e:\\documentos\\git repositories\\uba-mia\\.venv\\lib\\site-packages (from jupyter-server<3,>=2.4.0->jupyterlab->jupyter) (1.8.0)\n",
      "Requirement already satisfied: babel>=2.10 in e:\\documentos\\git repositories\\uba-mia\\.venv\\lib\\site-packages (from jupyterlab-server<3,>=2.27.1->jupyterlab->jupyter) (2.17.0)\n",
      "Requirement already satisfied: json5>=0.9.0 in e:\\documentos\\git repositories\\uba-mia\\.venv\\lib\\site-packages (from jupyterlab-server<3,>=2.27.1->jupyterlab->jupyter) (0.12.0)\n",
      "Requirement already satisfied: jsonschema>=4.18.0 in e:\\documentos\\git repositories\\uba-mia\\.venv\\lib\\site-packages (from jupyterlab-server<3,>=2.27.1->jupyterlab->jupyter) (4.23.0)\n",
      "Requirement already satisfied: requests>=2.31 in e:\\documentos\\git repositories\\uba-mia\\.venv\\lib\\site-packages (from jupyterlab-server<3,>=2.27.1->jupyterlab->jupyter) (2.32.3)\n",
      "Requirement already satisfied: fastjsonschema>=2.15 in e:\\documentos\\git repositories\\uba-mia\\.venv\\lib\\site-packages (from nbformat>=5.7->nbconvert->jupyter) (2.21.1)\n",
      "Requirement already satisfied: wcwidth in e:\\documentos\\git repositories\\uba-mia\\.venv\\lib\\site-packages (from prompt_toolkit<3.1.0,>=3.0.41->ipython>=6.1.0->ipywidgets) (0.2.13)\n",
      "Requirement already satisfied: soupsieve>1.2 in e:\\documentos\\git repositories\\uba-mia\\.venv\\lib\\site-packages (from beautifulsoup4->nbconvert->jupyter) (2.6)\n",
      "Requirement already satisfied: typing-extensions>=4.0.0 in e:\\documentos\\git repositories\\uba-mia\\.venv\\lib\\site-packages (from beautifulsoup4->nbconvert->jupyter) (4.13.1)\n",
      "Requirement already satisfied: executing>=1.2.0 in e:\\documentos\\git repositories\\uba-mia\\.venv\\lib\\site-packages (from stack_data->ipython>=6.1.0->ipywidgets) (2.2.0)\n",
      "Requirement already satisfied: asttokens>=2.1.0 in e:\\documentos\\git repositories\\uba-mia\\.venv\\lib\\site-packages (from stack_data->ipython>=6.1.0->ipywidgets) (3.0.0)\n",
      "Requirement already satisfied: pure-eval in e:\\documentos\\git repositories\\uba-mia\\.venv\\lib\\site-packages (from stack_data->ipython>=6.1.0->ipywidgets) (0.2.3)\n",
      "Requirement already satisfied: sniffio>=1.1 in e:\\documentos\\git repositories\\uba-mia\\.venv\\lib\\site-packages (from anyio->httpx>=0.25.0->jupyterlab->jupyter) (1.3.1)\n",
      "Requirement already satisfied: argon2-cffi-bindings in e:\\documentos\\git repositories\\uba-mia\\.venv\\lib\\site-packages (from argon2-cffi>=21.1->jupyter-server<3,>=2.4.0->jupyterlab->jupyter) (21.2.0)\n",
      "Requirement already satisfied: attrs>=22.2.0 in e:\\documentos\\git repositories\\uba-mia\\.venv\\lib\\site-packages (from jsonschema>=4.18.0->jupyterlab-server<3,>=2.27.1->jupyterlab->jupyter) (25.3.0)\n",
      "Requirement already satisfied: jsonschema-specifications>=2023.03.6 in e:\\documentos\\git repositories\\uba-mia\\.venv\\lib\\site-packages (from jsonschema>=4.18.0->jupyterlab-server<3,>=2.27.1->jupyterlab->jupyter) (2024.10.1)\n",
      "Requirement already satisfied: referencing>=0.28.4 in e:\\documentos\\git repositories\\uba-mia\\.venv\\lib\\site-packages (from jsonschema>=4.18.0->jupyterlab-server<3,>=2.27.1->jupyterlab->jupyter) (0.36.2)\n",
      "Requirement already satisfied: rpds-py>=0.7.1 in e:\\documentos\\git repositories\\uba-mia\\.venv\\lib\\site-packages (from jsonschema>=4.18.0->jupyterlab-server<3,>=2.27.1->jupyterlab->jupyter) (0.24.0)\n",
      "Requirement already satisfied: python-json-logger>=2.0.4 in e:\\documentos\\git repositories\\uba-mia\\.venv\\lib\\site-packages (from jupyter-events>=0.11.0->jupyter-server<3,>=2.4.0->jupyterlab->jupyter) (3.3.0)\n",
      "Requirement already satisfied: pyyaml>=5.3 in e:\\documentos\\git repositories\\uba-mia\\.venv\\lib\\site-packages (from jupyter-events>=0.11.0->jupyter-server<3,>=2.4.0->jupyterlab->jupyter) (6.0.2)\n",
      "Requirement already satisfied: rfc3339-validator in e:\\documentos\\git repositories\\uba-mia\\.venv\\lib\\site-packages (from jupyter-events>=0.11.0->jupyter-server<3,>=2.4.0->jupyterlab->jupyter) (0.1.4)\n",
      "Requirement already satisfied: rfc3986-validator>=0.1.1 in e:\\documentos\\git repositories\\uba-mia\\.venv\\lib\\site-packages (from jupyter-events>=0.11.0->jupyter-server<3,>=2.4.0->jupyterlab->jupyter) (0.1.1)\n",
      "Requirement already satisfied: six>=1.5 in e:\\documentos\\git repositories\\uba-mia\\.venv\\lib\\site-packages (from python-dateutil>=2.8.2->jupyter-client>=6.1.12->ipykernel->jupyter) (1.17.0)\n",
      "Requirement already satisfied: charset-normalizer<4,>=2 in e:\\documentos\\git repositories\\uba-mia\\.venv\\lib\\site-packages (from requests>=2.31->jupyterlab-server<3,>=2.27.1->jupyterlab->jupyter) (3.4.1)\n",
      "Requirement already satisfied: urllib3<3,>=1.21.1 in e:\\documentos\\git repositories\\uba-mia\\.venv\\lib\\site-packages (from requests>=2.31->jupyterlab-server<3,>=2.27.1->jupyterlab->jupyter) (2.3.0)\n",
      "Requirement already satisfied: fqdn in e:\\documentos\\git repositories\\uba-mia\\.venv\\lib\\site-packages (from jsonschema[format-nongpl]>=4.18.0->jupyter-events>=0.11.0->jupyter-server<3,>=2.4.0->jupyterlab->jupyter) (1.5.1)\n",
      "Requirement already satisfied: isoduration in e:\\documentos\\git repositories\\uba-mia\\.venv\\lib\\site-packages (from jsonschema[format-nongpl]>=4.18.0->jupyter-events>=0.11.0->jupyter-server<3,>=2.4.0->jupyterlab->jupyter) (20.11.0)\n",
      "Requirement already satisfied: jsonpointer>1.13 in e:\\documentos\\git repositories\\uba-mia\\.venv\\lib\\site-packages (from jsonschema[format-nongpl]>=4.18.0->jupyter-events>=0.11.0->jupyter-server<3,>=2.4.0->jupyterlab->jupyter) (3.0.0)\n",
      "Requirement already satisfied: uri-template in e:\\documentos\\git repositories\\uba-mia\\.venv\\lib\\site-packages (from jsonschema[format-nongpl]>=4.18.0->jupyter-events>=0.11.0->jupyter-server<3,>=2.4.0->jupyterlab->jupyter) (1.3.0)\n",
      "Requirement already satisfied: webcolors>=24.6.0 in e:\\documentos\\git repositories\\uba-mia\\.venv\\lib\\site-packages (from jsonschema[format-nongpl]>=4.18.0->jupyter-events>=0.11.0->jupyter-server<3,>=2.4.0->jupyterlab->jupyter) (24.11.1)\n",
      "Requirement already satisfied: cffi>=1.0.1 in e:\\documentos\\git repositories\\uba-mia\\.venv\\lib\\site-packages (from argon2-cffi-bindings->argon2-cffi>=21.1->jupyter-server<3,>=2.4.0->jupyterlab->jupyter) (1.17.1)\n",
      "Requirement already satisfied: pycparser in e:\\documentos\\git repositories\\uba-mia\\.venv\\lib\\site-packages (from cffi>=1.0.1->argon2-cffi-bindings->argon2-cffi>=21.1->jupyter-server<3,>=2.4.0->jupyterlab->jupyter) (2.22)\n",
      "Requirement already satisfied: arrow>=0.15.0 in e:\\documentos\\git repositories\\uba-mia\\.venv\\lib\\site-packages (from isoduration->jsonschema[format-nongpl]>=4.18.0->jupyter-events>=0.11.0->jupyter-server<3,>=2.4.0->jupyterlab->jupyter) (1.3.0)\n",
      "Requirement already satisfied: types-python-dateutil>=2.8.10 in e:\\documentos\\git repositories\\uba-mia\\.venv\\lib\\site-packages (from arrow>=0.15.0->isoduration->jsonschema[format-nongpl]>=4.18.0->jupyter-events>=0.11.0->jupyter-server<3,>=2.4.0->jupyterlab->jupyter) (2.9.0.20241206)\n",
      "Downloading ipywidgets-8.1.6-py3-none-any.whl (139 kB)\n",
      "Downloading jupyterlab_widgets-3.0.14-py3-none-any.whl (213 kB)\n",
      "Downloading widgetsnbextension-4.0.14-py3-none-any.whl (2.2 MB)\n",
      "   ---------------------------------------- 0.0/2.2 MB ? eta -:--:--\n",
      "   ------------------- -------------------- 1.0/2.2 MB 5.2 MB/s eta 0:00:01\n",
      "   ---------------------------- ----------- 1.6/2.2 MB 3.5 MB/s eta 0:00:01\n",
      "   --------------------------------- ------ 1.8/2.2 MB 2.9 MB/s eta 0:00:01\n",
      "   -------------------------------------- - 2.1/2.2 MB 2.4 MB/s eta 0:00:01\n",
      "   ---------------------------------------- 2.2/2.2 MB 2.3 MB/s eta 0:00:00\n",
      "Installing collected packages: widgetsnbextension, jupyterlab_widgets, ipywidgets\n",
      "  Attempting uninstall: widgetsnbextension\n",
      "    Found existing installation: widgetsnbextension 4.0.13\n",
      "    Uninstalling widgetsnbextension-4.0.13:\n",
      "      Successfully uninstalled widgetsnbextension-4.0.13\n",
      "  Attempting uninstall: jupyterlab_widgets\n",
      "    Found existing installation: jupyterlab_widgets 3.0.13\n",
      "    Uninstalling jupyterlab_widgets-3.0.13:\n",
      "      Successfully uninstalled jupyterlab_widgets-3.0.13\n",
      "  Attempting uninstall: ipywidgets\n",
      "    Found existing installation: ipywidgets 8.1.5\n",
      "    Uninstalling ipywidgets-8.1.5:\n",
      "      Successfully uninstalled ipywidgets-8.1.5\n",
      "Successfully installed ipywidgets-8.1.6 jupyterlab_widgets-3.0.14 widgetsnbextension-4.0.14\n",
      "Note: you may need to restart the kernel to use updated packages.\n",
      "Requirement already satisfied: transformers in e:\\documentos\\git repositories\\uba-mia\\.venv\\lib\\site-packages (4.51.1)\n",
      "Requirement already satisfied: torch in e:\\documentos\\git repositories\\uba-mia\\.venv\\lib\\site-packages (2.6.0)\n",
      "Requirement already satisfied: einops in e:\\documentos\\git repositories\\uba-mia\\.venv\\lib\\site-packages (0.8.1)\n",
      "Requirement already satisfied: filelock in e:\\documentos\\git repositories\\uba-mia\\.venv\\lib\\site-packages (from transformers) (3.18.0)\n",
      "Requirement already satisfied: huggingface-hub<1.0,>=0.30.0 in e:\\documentos\\git repositories\\uba-mia\\.venv\\lib\\site-packages (from transformers) (0.30.2)\n",
      "Requirement already satisfied: numpy>=1.17 in e:\\documentos\\git repositories\\uba-mia\\.venv\\lib\\site-packages (from transformers) (2.2.4)\n",
      "Requirement already satisfied: packaging>=20.0 in e:\\documentos\\git repositories\\uba-mia\\.venv\\lib\\site-packages (from transformers) (24.2)\n",
      "Requirement already satisfied: pyyaml>=5.1 in e:\\documentos\\git repositories\\uba-mia\\.venv\\lib\\site-packages (from transformers) (6.0.2)\n",
      "Requirement already satisfied: regex!=2019.12.17 in e:\\documentos\\git repositories\\uba-mia\\.venv\\lib\\site-packages (from transformers) (2024.11.6)\n",
      "Requirement already satisfied: requests in e:\\documentos\\git repositories\\uba-mia\\.venv\\lib\\site-packages (from transformers) (2.32.3)\n",
      "Requirement already satisfied: tokenizers<0.22,>=0.21 in e:\\documentos\\git repositories\\uba-mia\\.venv\\lib\\site-packages (from transformers) (0.21.1)\n",
      "Requirement already satisfied: safetensors>=0.4.3 in e:\\documentos\\git repositories\\uba-mia\\.venv\\lib\\site-packages (from transformers) (0.5.3)\n",
      "Requirement already satisfied: tqdm>=4.27 in e:\\documentos\\git repositories\\uba-mia\\.venv\\lib\\site-packages (from transformers) (4.67.1)\n",
      "Requirement already satisfied: typing-extensions>=4.10.0 in e:\\documentos\\git repositories\\uba-mia\\.venv\\lib\\site-packages (from torch) (4.13.1)\n",
      "Requirement already satisfied: networkx in e:\\documentos\\git repositories\\uba-mia\\.venv\\lib\\site-packages (from torch) (3.4.2)\n",
      "Requirement already satisfied: jinja2 in e:\\documentos\\git repositories\\uba-mia\\.venv\\lib\\site-packages (from torch) (3.1.6)\n",
      "Requirement already satisfied: fsspec in e:\\documentos\\git repositories\\uba-mia\\.venv\\lib\\site-packages (from torch) (2025.3.2)\n",
      "Requirement already satisfied: setuptools in e:\\documentos\\git repositories\\uba-mia\\.venv\\lib\\site-packages (from torch) (78.1.0)\n",
      "Requirement already satisfied: sympy==1.13.1 in e:\\documentos\\git repositories\\uba-mia\\.venv\\lib\\site-packages (from torch) (1.13.1)\n",
      "Requirement already satisfied: mpmath<1.4,>=1.1.0 in e:\\documentos\\git repositories\\uba-mia\\.venv\\lib\\site-packages (from sympy==1.13.1->torch) (1.3.0)\n",
      "Requirement already satisfied: colorama in e:\\documentos\\git repositories\\uba-mia\\.venv\\lib\\site-packages (from tqdm>=4.27->transformers) (0.4.6)\n",
      "Requirement already satisfied: MarkupSafe>=2.0 in e:\\documentos\\git repositories\\uba-mia\\.venv\\lib\\site-packages (from jinja2->torch) (3.0.2)\n",
      "Requirement already satisfied: charset-normalizer<4,>=2 in e:\\documentos\\git repositories\\uba-mia\\.venv\\lib\\site-packages (from requests->transformers) (3.4.1)\n",
      "Requirement already satisfied: idna<4,>=2.5 in e:\\documentos\\git repositories\\uba-mia\\.venv\\lib\\site-packages (from requests->transformers) (3.10)\n",
      "Requirement already satisfied: urllib3<3,>=1.21.1 in e:\\documentos\\git repositories\\uba-mia\\.venv\\lib\\site-packages (from requests->transformers) (2.3.0)\n",
      "Requirement already satisfied: certifi>=2017.4.17 in e:\\documentos\\git repositories\\uba-mia\\.venv\\lib\\site-packages (from requests->transformers) (2025.1.31)\n",
      "Note: you may need to restart the kernel to use updated packages.\n",
      "Requirement already satisfied: sentence-transformers in e:\\documentos\\git repositories\\uba-mia\\.venv\\lib\\site-packages (4.0.2)\n",
      "Requirement already satisfied: transformers<5.0.0,>=4.41.0 in e:\\documentos\\git repositories\\uba-mia\\.venv\\lib\\site-packages (from sentence-transformers) (4.51.1)\n",
      "Requirement already satisfied: tqdm in e:\\documentos\\git repositories\\uba-mia\\.venv\\lib\\site-packages (from sentence-transformers) (4.67.1)\n",
      "Requirement already satisfied: torch>=1.11.0 in e:\\documentos\\git repositories\\uba-mia\\.venv\\lib\\site-packages (from sentence-transformers) (2.6.0)\n",
      "Requirement already satisfied: scikit-learn in e:\\documentos\\git repositories\\uba-mia\\.venv\\lib\\site-packages (from sentence-transformers) (1.6.1)\n",
      "Requirement already satisfied: scipy in e:\\documentos\\git repositories\\uba-mia\\.venv\\lib\\site-packages (from sentence-transformers) (1.15.2)\n",
      "Requirement already satisfied: huggingface-hub>=0.20.0 in e:\\documentos\\git repositories\\uba-mia\\.venv\\lib\\site-packages (from sentence-transformers) (0.30.2)\n",
      "Requirement already satisfied: Pillow in e:\\documentos\\git repositories\\uba-mia\\.venv\\lib\\site-packages (from sentence-transformers) (11.1.0)\n",
      "Requirement already satisfied: typing_extensions>=4.5.0 in e:\\documentos\\git repositories\\uba-mia\\.venv\\lib\\site-packages (from sentence-transformers) (4.13.1)\n",
      "Requirement already satisfied: filelock in e:\\documentos\\git repositories\\uba-mia\\.venv\\lib\\site-packages (from huggingface-hub>=0.20.0->sentence-transformers) (3.18.0)\n",
      "Requirement already satisfied: fsspec>=2023.5.0 in e:\\documentos\\git repositories\\uba-mia\\.venv\\lib\\site-packages (from huggingface-hub>=0.20.0->sentence-transformers) (2025.3.2)\n",
      "Requirement already satisfied: packaging>=20.9 in e:\\documentos\\git repositories\\uba-mia\\.venv\\lib\\site-packages (from huggingface-hub>=0.20.0->sentence-transformers) (24.2)\n",
      "Requirement already satisfied: pyyaml>=5.1 in e:\\documentos\\git repositories\\uba-mia\\.venv\\lib\\site-packages (from huggingface-hub>=0.20.0->sentence-transformers) (6.0.2)\n",
      "Requirement already satisfied: requests in e:\\documentos\\git repositories\\uba-mia\\.venv\\lib\\site-packages (from huggingface-hub>=0.20.0->sentence-transformers) (2.32.3)\n",
      "Requirement already satisfied: networkx in e:\\documentos\\git repositories\\uba-mia\\.venv\\lib\\site-packages (from torch>=1.11.0->sentence-transformers) (3.4.2)\n",
      "Requirement already satisfied: jinja2 in e:\\documentos\\git repositories\\uba-mia\\.venv\\lib\\site-packages (from torch>=1.11.0->sentence-transformers) (3.1.6)\n",
      "Requirement already satisfied: setuptools in e:\\documentos\\git repositories\\uba-mia\\.venv\\lib\\site-packages (from torch>=1.11.0->sentence-transformers) (78.1.0)\n",
      "Requirement already satisfied: sympy==1.13.1 in e:\\documentos\\git repositories\\uba-mia\\.venv\\lib\\site-packages (from torch>=1.11.0->sentence-transformers) (1.13.1)\n",
      "Requirement already satisfied: mpmath<1.4,>=1.1.0 in e:\\documentos\\git repositories\\uba-mia\\.venv\\lib\\site-packages (from sympy==1.13.1->torch>=1.11.0->sentence-transformers) (1.3.0)\n",
      "Requirement already satisfied: colorama in e:\\documentos\\git repositories\\uba-mia\\.venv\\lib\\site-packages (from tqdm->sentence-transformers) (0.4.6)\n",
      "Requirement already satisfied: numpy>=1.17 in e:\\documentos\\git repositories\\uba-mia\\.venv\\lib\\site-packages (from transformers<5.0.0,>=4.41.0->sentence-transformers) (2.2.4)\n",
      "Requirement already satisfied: regex!=2019.12.17 in e:\\documentos\\git repositories\\uba-mia\\.venv\\lib\\site-packages (from transformers<5.0.0,>=4.41.0->sentence-transformers) (2024.11.6)\n",
      "Requirement already satisfied: tokenizers<0.22,>=0.21 in e:\\documentos\\git repositories\\uba-mia\\.venv\\lib\\site-packages (from transformers<5.0.0,>=4.41.0->sentence-transformers) (0.21.1)\n",
      "Requirement already satisfied: safetensors>=0.4.3 in e:\\documentos\\git repositories\\uba-mia\\.venv\\lib\\site-packages (from transformers<5.0.0,>=4.41.0->sentence-transformers) (0.5.3)\n",
      "Requirement already satisfied: joblib>=1.2.0 in e:\\documentos\\git repositories\\uba-mia\\.venv\\lib\\site-packages (from scikit-learn->sentence-transformers) (1.4.2)\n",
      "Requirement already satisfied: threadpoolctl>=3.1.0 in e:\\documentos\\git repositories\\uba-mia\\.venv\\lib\\site-packages (from scikit-learn->sentence-transformers) (3.6.0)\n",
      "Requirement already satisfied: MarkupSafe>=2.0 in e:\\documentos\\git repositories\\uba-mia\\.venv\\lib\\site-packages (from jinja2->torch>=1.11.0->sentence-transformers) (3.0.2)\n",
      "Requirement already satisfied: charset-normalizer<4,>=2 in e:\\documentos\\git repositories\\uba-mia\\.venv\\lib\\site-packages (from requests->huggingface-hub>=0.20.0->sentence-transformers) (3.4.1)\n",
      "Requirement already satisfied: idna<4,>=2.5 in e:\\documentos\\git repositories\\uba-mia\\.venv\\lib\\site-packages (from requests->huggingface-hub>=0.20.0->sentence-transformers) (3.10)\n",
      "Requirement already satisfied: urllib3<3,>=1.21.1 in e:\\documentos\\git repositories\\uba-mia\\.venv\\lib\\site-packages (from requests->huggingface-hub>=0.20.0->sentence-transformers) (2.3.0)\n",
      "Requirement already satisfied: certifi>=2017.4.17 in e:\\documentos\\git repositories\\uba-mia\\.venv\\lib\\site-packages (from requests->huggingface-hub>=0.20.0->sentence-transformers) (2025.1.31)\n",
      "Note: you may need to restart the kernel to use updated packages.\n"
     ]
    }
   ],
   "source": [
    "%pip install --upgrade jupyter ipywidgets\n",
    "%pip install transformers torch einops\n",
    "%pip install sentence-transformers\n",
    "%pip install huggingface_hub[hf_xet]"
   ]
  },
  {
   "cell_type": "markdown",
   "id": "fe8a2fa6",
   "metadata": {},
   "source": [
    "✋ <em><font color='DodgerBlue'>Importaciones:</font></em> ✋"
   ]
  },
  {
   "cell_type": "code",
   "execution_count": 2,
   "id": "54dbc845",
   "metadata": {},
   "outputs": [],
   "source": [
    "from transformers import AutoModel\n",
    "from sentence_transformers import SentenceTransformer"
   ]
  },
  {
   "cell_type": "markdown",
   "id": "e1fe3a0f",
   "metadata": {},
   "source": [
    "🔧 <em><font color='tomato'>Configuraciones:</font></em> 🔧\n"
   ]
  },
  {
   "cell_type": "code",
   "execution_count": null,
   "id": "ac14e8d0",
   "metadata": {},
   "outputs": [],
   "source": [
    "EMBEDDINGS_DIMENSION = 768\n",
    "SBERT_EMBEDDING_MODELS = \"all-mpnet-base-v2\""
   ]
  },
  {
   "cell_type": "markdown",
   "id": "ec517c5e",
   "metadata": {},
   "source": [
    "## Consinga"
   ]
  },
  {
   "cell_type": "markdown",
   "id": "75b4bb33",
   "metadata": {},
   "source": [
    "Este notebook es un ejemplo de prueba de funcionamiento de la librería Sentence Transformers."
   ]
  },
  {
   "cell_type": "markdown",
   "id": "d0185772",
   "metadata": {},
   "source": [
    "## Resolución"
   ]
  },
  {
   "cell_type": "markdown",
   "id": "c48dee62",
   "metadata": {},
   "source": [
    "La librería Sentence Transformers es una librería de Python que permite crear embeddings de oraciones y párrafos utilizando modelos preentrenados. Estos embeddings son representaciones vectoriales de texto que pueden ser utilizados para tareas como la búsqueda semántica, la clasificación de texto y la generación de texto.\n",
    "La librería es fácil de usar y proporciona una interfaz sencilla para cargar modelos preentrenados y generar embeddings. Además, la librería es compatible con PyTorch y TensorFlow, lo que permite utilizarla en una amplia variedad de aplicaciones de aprendizaje profundo.\n",
    "\n",
    "Link de la librería: [Sentence Transformers](https://www.sbert.net/)\n",
    "\n",
    "Los modelos disponibles se pueden encontrar en el siguiente link: [Modelos disponibles](https://sbert.net/docs/sentence_transformer/pretrained_models.html#original-models)\n",
    "\n",
    "También se pueden acceder a modelos originales de Hugging Face: [Modelos de Hugging Face](https://huggingface.co/models?library=sentence-transformers&author=sentence-transformers)\n",
    "O modelos de la comunidad en: [Modelos de la comunidad](https://huggingface.co/models?library=sentence-transformers)\n"
   ]
  },
  {
   "cell_type": "markdown",
   "id": "826b3e17",
   "metadata": {},
   "source": [
    "Modelo de embeddings: https://huggingface.co/jinaai/jina-embeddings-v3 | https://huggingface.co/jinaai/jina-embeddings-v2-small-en"
   ]
  },
  {
   "cell_type": "markdown",
   "id": "7f38af0e",
   "metadata": {},
   "source": [
    "### Ejemplo básico de uso de la librería"
   ]
  },
  {
   "cell_type": "code",
   "execution_count": null,
   "id": "99c5e8dd",
   "metadata": {},
   "outputs": [],
   "source": [
    "model = SentenceTransformer(SBERT_EMBEDDING_MODELS)\n",
    "embeddings = model.encode(\n",
    "    [\n",
    "        \"The weather is lovely today.\",\n",
    "        \"It's so sunny outside!\",\n",
    "        \"He drove to the stadium.\",\n",
    "    ]\n",
    ")\n",
    "similarities = model.similarity(embeddings, embeddings)"
   ]
  },
  {
   "cell_type": "code",
   "execution_count": 6,
   "id": "e89f754e",
   "metadata": {},
   "outputs": [
    {
     "name": "stdout",
     "output_type": "stream",
     "text": [
      "Embeddings shape: (3, 768)\n",
      "Similarities: tensor([[1.0000, 0.6817, 0.0492],\n",
      "        [0.6817, 1.0000, 0.0421],\n",
      "        [0.0492, 0.0421, 1.0000]])\n"
     ]
    }
   ],
   "source": [
    "print(\"Embeddings shape:\", embeddings.shape)\n",
    "print(\"Similarities:\", similarities)"
   ]
  },
  {
   "cell_type": "markdown",
   "id": "c684a218",
   "metadata": {},
   "source": [
    "### Jina Embeddings v3"
   ]
  },
  {
   "cell_type": "markdown",
   "id": "299c9a41",
   "metadata": {},
   "source": [
    "Jina Embeddings v3 es un modelo de embeddings de texto que utiliza una arquitectura de red neuronal profunda para generar representaciones vectoriales de oraciones y párrafos. Este modelo se basa en la arquitectura Transformer y ha sido entrenado en una amplia variedad de tareas de procesamiento del lenguaje natural (NLP) para capturar la semántica y el contexto del texto.\n",
    "\n",
    "> jina-embeddings-v3 is a multilingual multi-task text embedding model designed for a variety of NLP applications. Based on the Jina-XLM-RoBERTa architecture, this model supports Rotary Position Embeddings to handle long input sequences up to 8192 tokens. Additionally, it features 5 LoRA adapters to generate task-specific embeddings efficiently.\n",
    "\n",
    "Se puede acceder al modelo en el siguiente link: [Jina Embeddings v3](https://huggingface.co/jinaai/jina-embeddings-v3)\n",
    "\n",
    "Soporta embeddings de distintos tamaños, como 32, 64, 128, 256, 512, 768 y 1024"
   ]
  },
  {
   "cell_type": "markdown",
   "id": "8b0bdf0a",
   "metadata": {},
   "source": [
    "Además de la base, jina-embeddings-v3 ha sido entrenado con 5 adaptadores específicos para diferentes usos de embeddings. Incluye la tarea en tu solicitud para optimizar tu aplicación downstream:\n",
    "\n",
    "- `retrieval.query`: Utilizado para codificar consultas o preguntas de usuarios en tareas de retrieval.\n",
    "- `retrieval.passage`: Utilizado para codificar documentos grandes en tareas de retrieval en el momento de la indexación.\n",
    "- `classification`: Utilizado para codificar texto para tareas de clasificación de texto.\n",
    "- `text-matching`: Utilizado para codificar texto para emparejamiento de similitud, como medir la similitud entre dos oraciones.\n",
    "- `separation`: Utilizado para tareas de clustering o reordenamiento."
   ]
  },
  {
   "cell_type": "markdown",
   "id": "78a3b289",
   "metadata": {},
   "source": [
    "#### Utilizando directamente (por fuera de las librerías)"
   ]
  },
  {
   "cell_type": "markdown",
   "id": "6ffa3d72",
   "metadata": {},
   "source": [
    "> 📝 <em><font color='Gray'>Nota:</font></em> Esto no es necesario si se utilizan librerías. Es necesario si no se utilizan las librerías porque los modelos Transformer como los utilizados en Jina Embeddings V3 generan embeddings a nivel de token (cada palabra o subpalabra en la secuencia de entrada tiene su propio vector). Para obtener una representación vectorial de toda la frase o párrafo, es necesario agregar o combinar estos embeddings de tokens en un único vector. Esto se puede hacer con \"mean pooling\"."
   ]
  },
  {
   "cell_type": "markdown",
   "id": "83fa76c1",
   "metadata": {},
   "source": [
    "Esto implica que hay que hacer \"mean pooling\" para obtener el embedding de la oración. Esto se puede hacer de la siguiente forma:\n",
    "\n",
    "<details>\n",
    "  <summary>Mean Pooling</summary>\n",
    "\n",
    "  ```python\n",
    "  import torch\n",
    "  import torch.nn.functional as F\n",
    "  from transformers import AutoTokenizer, AutoModel\n",
    "\n",
    "  # Función para calcular el mean pooling de los embeddings de los tokens\n",
    "  def mean_pooling(model_output, attention_mask):\n",
    "      # model_output[0] contiene los embeddings de todos los tokens en la secuencia de entrada.\n",
    "      # Tiene una forma de (batch_size, sequence_length, hidden_size), donde:\n",
    "      #   - batch_size: número de secuencias en el batch\n",
    "      #   - sequence_length: longitud máxima de la secuencia\n",
    "      #   - hidden_size: dimensión del embedding de cada token\n",
    "\n",
    "      token_embeddings = model_output[0]\n",
    "\n",
    "      # La attention_mask indica qué tokens son reales (1) y cuáles son padding (0).\n",
    "      # Tiene una forma de (batch_size, sequence_length).\n",
    "\n",
    "      # Queremos expandir la attention_mask para que tenga la misma dimensión que token_embeddings\n",
    "      # para poder multiplicarla.\n",
    "      # unsqueeze(-1) añade una dimensión al final, convirtiendo la máscara a (batch_size, sequence_length, 1).\n",
    "      # expand(token_embeddings.size()) expande la última dimensión a hidden_size,\n",
    "      # resultando en una máscara de la misma forma que token_embeddings (batch_size, sequence_length, hidden_size).\n",
    "      # .float() convierte los valores booleanos (o enteros) de la máscara a floats.\n",
    "      input_mask_expanded = (\n",
    "          attention_mask.unsqueeze(-1).expand(token_embeddings.size()).float()\n",
    "      )\n",
    "\n",
    "      # Multiplicamos los embeddings de los tokens por la máscara expandida.\n",
    "      # Esto hace que los embeddings de los tokens de padding (donde la máscara es 0) se conviertan en vectores de ceros,\n",
    "      # eliminándolos efectivamente del cálculo de la media.\n",
    "      masked_token_embeddings = token_embeddings * input_mask_expanded\n",
    "\n",
    "      # Sumamos los embeddings de los tokens a lo largo de la dimensión de la secuencia (dim=1).\n",
    "      # Esto nos da un tensor de forma (batch_size, hidden_size), donde cada fila es la suma de los embeddings\n",
    "      # de los tokens no-padding para esa secuencia.\n",
    "      sum_embeddings = torch.sum(masked_token_embeddings, 1)\n",
    "\n",
    "      # Calculamos la suma del número de tokens no-padding para cada secuencia.\n",
    "      # input_mask_expanded.sum(1) suma a lo largo de la dimensión de la secuencia (dim=1),\n",
    "      # dando un tensor de forma (batch_size, hidden_size) donde cada fila tiene el número de tokens no-padding\n",
    "      # repetido hidden_size veces.\n",
    "      # torch.clamp(..., min=1e-9) asegura que no haya división por cero en caso de que una secuencia\n",
    "      # no tenga tokens no-padding (aunque esto es poco probable con el padding adecuado).\n",
    "      sum_mask = torch.clamp(input_mask_expanded.sum(1), min=1e-9)\n",
    "\n",
    "      # Dividimos la suma de los embeddings por el número de tokens no-padding para obtener el embedding promedio\n",
    "      # (mean pooling). El resultado tiene una forma de (batch_size, hidden_size).\n",
    "      return sum_embeddings / sum_mask\n",
    "\n",
    "  # Ejemplo de uso:\n",
    "  sentences = [\"How is the weather today?\", \"What is the current weather like today?\"]\n",
    "\n",
    "  # Carga el tokenizer específico para el modelo jina-embeddings-v3\n",
    "  tokenizer = AutoTokenizer.from_pretrained(\"jinaai/jina-embeddings-v3\")\n",
    "\n",
    "  # Carga el modelo jina-embeddings-v3 desde Hugging Face con la opción trust_remote_code activada\n",
    "  # ya que algunos modelos pueden tener código personalizado.\n",
    "  model = AutoModel.from_pretrained(\"jinaai/jina-embeddings-v3\", trust_remote_code=True)\n",
    "\n",
    "  # Tokeniza las oraciones de entrada\n",
    "  # padding=True: añade tokens de padding para que todas las secuencias en el batch tengan la misma longitud.\n",
    "  # truncation=True: trunca las secuencias más largas que la longitud máxima aceptada por el modelo.\n",
    "  # return_tensors=\"pt\": devuelve los tensores de PyTorch.\n",
    "  encoded_input = tokenizer(sentences, padding=True, truncation=True, return_tensors=\"pt\")\n",
    "\n",
    "  # Define la tarea para la que se utilizará el modelo. 'retrieval.query' es una tarea común para la búsqueda.\n",
    "  task = 'retrieval.query'\n",
    "\n",
    "  # Obtiene el ID del adaptador (LoRA) específico para la tarea definida.\n",
    "  # Los modelos Jina pueden utilizar adaptadores para diferentes tareas.\n",
    "  task_id = model._adaptation_map[task]\n",
    "\n",
    "  # Crea una máscara de adaptadores que indica qué adaptador usar para cada secuencia en el batch.\n",
    "  # En este caso, usamos el mismo adaptador para ambas oraciones.\n",
    "  adapter_mask = torch.full((len(sentences),), task_id, dtype=torch.int32)\n",
    "\n",
    "  # Desactiva el cálculo del gradiente ya que no estamos entrenando el modelo, solo realizando inferencia.\n",
    "  with torch.no_grad():\n",
    "      # Pasa los datos tokenizados al modelo junto con la máscara del adaptador.\n",
    "      # El modelo devuelve un objeto (model_output) que contiene las salidas del modelo, incluyendo los embeddings de los tokens.\n",
    "      model_output = model(**encoded_input, adapter_mask=adapter_mask)\n",
    "\n",
    "  # Aplica la función de mean pooling para obtener los embeddings de las oraciones completas\n",
    "  # a partir de los embeddings de los tokens y la máscara de atención.\n",
    "  embeddings = mean_pooling(model_output, encoded_input[\"attention_mask\"])\n",
    "\n",
    "  # Normaliza los embeddings resultantes utilizando la normalización L2 a lo largo de la dimensión del embedding (dim=1).\n",
    "  # Esto es una práctica común para mejorar la calidad de los embeddings en tareas de búsqueda de similitud.\n",
    "  embeddings = F.normalize(embeddings, p=2, dim=1)\n",
    "\n",
    "  # La variable 'embeddings' ahora contiene los embeddings normalizados de las dos oraciones de entrada.\n",
    "  # Tiene una forma de (2, hidden_size), donde hidden_size es la dimensión del embedding del modelo Jina V3.\n",
    "  print(embeddings.shape)\n",
    "  print(embeddings)\n",
    "  ```\n",
    "</details>"
   ]
  },
  {
   "cell_type": "markdown",
   "id": "c3dd0dea",
   "metadata": {},
   "source": [
    "#### Utilizando librería Transformers"
   ]
  },
  {
   "cell_type": "code",
   "execution_count": 10,
   "id": "1e23b5a9",
   "metadata": {},
   "outputs": [
    {
     "name": "stdout",
     "output_type": "stream",
     "text": [
      "Similarities:  0.70863205\n",
      "Shape:  (1024,)\n"
     ]
    }
   ],
   "source": [
    "# Initialize the model\n",
    "model = AutoModel.from_pretrained(\"jinaai/jina-embeddings-v3\", trust_remote_code=True)\n",
    "\n",
    "texts = [\n",
    "    \"Follow the white rabbit.\",  # English\n",
    "    \"Sigue al conejo blanco.\",  # Spanish\n",
    "    \"Suis le lapin blanc.\",  # French\n",
    "    \"跟着白兔走。\",  # Chinese\n",
    "    \"اتبع الأرنب الأبيض.\",  # Arabic\n",
    "    \"Folge dem weißen Kaninchen.\",  # German\n",
    "]\n",
    "\n",
    "# When calling the `encode` function, you can choose a `task` based on the use case:\n",
    "# 'retrieval.query', 'retrieval.passage', 'separation', 'classification', 'text-matching'\n",
    "# Alternatively, you can choose not to pass a `task`, and no specific LoRA adapter will be used.\n",
    "embeddings = model.encode(texts, task=\"text-matching\")\n",
    "\n",
    "# Force the model to use a specific dimension for the embeddings\n",
    "embeddings_truncate = model.encode(['Sample text'], truncate_dim=256)\n",
    "\n",
    "# Compute similarities\n",
    "print(\"Similarities: \", embeddings[0] @ embeddings[1].T)\n",
    "\n",
    "# Shape\n",
    "print(\"Shape: \", embeddings[0].shape)"
   ]
  },
  {
   "cell_type": "markdown",
   "id": "aba1c486",
   "metadata": {},
   "source": [
    "#### Usando sentence transformers"
   ]
  },
  {
   "cell_type": "code",
   "execution_count": 15,
   "id": "7ccd40f2",
   "metadata": {},
   "outputs": [
    {
     "name": "stdout",
     "output_type": "stream",
     "text": [
      "Shape:  (1024,)\n",
      "Embeddings:  [-0.08290827  0.06265671 -0.0416906  ...  0.05616351 -0.04851175\n",
      " -0.0174862 ]\n"
     ]
    }
   ],
   "source": [
    "model = SentenceTransformer(\"jinaai/jina-embeddings-v3\", trust_remote_code=True)\n",
    "\n",
    "task = \"retrieval.query\"\n",
    "embeddings = model.encode(\n",
    "    [\"What is the weather like in Berlin today?\"],\n",
    "    task=task,\n",
    "    prompt_name=task,\n",
    "    normalize_embeddings=True, # L2 normalization. Util para cuando se aplica similaridad coseno\n",
    ")\n",
    "\n",
    "# Shape\n",
    "print(\"Shape: \", embeddings[0].shape)\n",
    "# Embeddings\n",
    "print(\"Embeddings: \", embeddings[0])"
   ]
  }
 ],
 "metadata": {
  "kernelspec": {
   "display_name": ".venv",
   "language": "python",
   "name": "python3"
  },
  "language_info": {
   "codemirror_mode": {
    "name": "ipython",
    "version": 3
   },
   "file_extension": ".py",
   "mimetype": "text/x-python",
   "name": "python",
   "nbconvert_exporter": "python",
   "pygments_lexer": "ipython3",
   "version": "3.13.0"
  }
 },
 "nbformat": 4,
 "nbformat_minor": 5
}
