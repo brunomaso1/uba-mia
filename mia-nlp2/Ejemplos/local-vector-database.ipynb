{
 "cells": [
  {
   "cell_type": "markdown",
   "id": "3b3ed1a2",
   "metadata": {},
   "source": [
    "<!-- TODO: Pendiente ChromaDB | FAISS -->"
   ]
  }
 ],
 "metadata": {
  "language_info": {
   "name": "python"
  }
 },
 "nbformat": 4,
 "nbformat_minor": 5
}
