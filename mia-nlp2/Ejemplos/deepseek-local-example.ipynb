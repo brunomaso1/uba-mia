{
 "cells": [
  {
   "cell_type": "markdown",
   "id": "d67b128f",
   "metadata": {},
   "source": [
    "# <div align=\"center\"><b> DEEPSEEK LOCAL EXAMPLE </b></div>"
   ]
  },
  {
   "cell_type": "markdown",
   "id": "ddabf280",
   "metadata": {},
   "source": [
    "<div align=\"right\">📝 <em><small><font color='Gray'>Nota:</font></small></em></div>\n",
    "\n",
    "<div align=\"right\"> <em><small><font color='Gray'> La funcionalidad de visualización de jupyter notebooks en <a href=\"https://github.com/\" target=\"_blank\">github</a> es solamente un preview.</font></small></em> </div>\n",
    "\n",
    "<div align=\"right\"> <em><small><font color='Gray'> Para mejor visualización se sugiere utilizar el visualizador recomendado por la comunidad: <a href=\"https://nbviewer.org/\" target=\"_blank\">nbviewer</a></font></small></em> </div>\n",
    "\n",
    "<div align=\"right\"> <em><small><font color='Gray'> Puedes a acceder al siguiente enlace para ver este notebook en dicha página: <a href=\"https://nbviewer.org/github/brunomaso1/uba-mia/blob/mia-nlp2/mia-nlp2/Ejemplos/deepseek-local-example.ipynb\">Deepseek local example</a></font></small></em> </div>"
   ]
  },
  {
   "cell_type": "markdown",
   "id": "f6fc10ce",
   "metadata": {},
   "source": [
    "* * *"
   ]
  },
  {
   "cell_type": "markdown",
   "id": "8bf714b3",
   "metadata": {},
   "source": [
    "<!-- Colab -->\n",
    "<!-- <div align=\"center\"><img src=\"https://drive.google.com/uc?export=view&id=1QSNrTsz1hQbmZwpgwx0qpfpNtLW19Orm\" width=\"600\" alt=\"Figura 1: A data scientist is working on word generation using the Lord of the Rings lore. The image is dark and moody, with a focus on the scientist's computer screen. The screen displays a visualization the one ring, with a map of Middle Earth in the background. - Generada con DALL-E3\"></div> -->\n",
    "\n",
    "<div align=\"center\"><img src=\"../resources/img1.jpeg\" width=\"600\" alt=\"Figura 1: A data scientist is sitting in front of a computer screen, intently focused on the task at hand. The room is dimly lit, with the only light coming from the computer screen. The neural network is displayed on the screen, with the data scientist working to. The nerual network is deepseek R1. - Generada con Microsoft Image Creator\"></div>\n",
    "\n",
    "<div align=\"center\"><small><em>Figura 1: A data scientist is sitting in front of a computer screen, intently focused on the task at hand. The room is dimly lit, with the only light coming from the computer screen. The neural network is displayed on the screen, with the data scientist working to. The nerual network is deepseek R1. - Generada con Microsoft Image Creator</em></small></div>"
   ]
  },
  {
   "cell_type": "markdown",
   "id": "604faf42",
   "metadata": {},
   "source": [
    "<div align=\"center\">✨Datos del proyecto:✨</div>\n",
    "\n",
    "<p></p>\n",
    "\n",
    "<div align=\"center\">\n",
    "\n",
    "| Subtitulo       | Ejemplo de ejecución local Deepseek                                                                                                    |\n",
    "| --------------- | -------------------------------------------------------------------------------------------------------------------------------------- |\n",
    "| **Descrpción**  | Ejemplo de instalación y ejecución local del modelo Deepseek (sus destilaciones)                                                       |\n",
    "| **Integrantes** | Bruno Masoller (brunomaso1@gmail.com)                                                                                                  |\n",
    "\n",
    "</div>"
   ]
  },
  {
   "cell_type": "markdown",
   "id": "bdb23df2",
   "metadata": {},
   "source": [
    "## Consinga"
   ]
  },
  {
   "cell_type": "markdown",
   "id": "97d4e2e7",
   "metadata": {},
   "source": [
    "El objetivo es realizar pruebas sobre la ejecución local del modelo Deepseek y sus destilaciones."
   ]
  },
  {
   "cell_type": "markdown",
   "id": "137c20d8",
   "metadata": {},
   "source": [
    "## Resolución"
   ]
  },
  {
   "cell_type": "markdown",
   "id": "bfb5afb0",
   "metadata": {},
   "source": [
    "Deepseek incluye varios modelos que fueron destilados. Estos modelos se pueden obtener (junto con su tamaño) en la siguiente web: https://ollama.com/library/deepseek-r1.\n",
    "\n",
    "Deepseek está restringido, pero existe una versión que no está restringida en: https://github.com/huggingface/open-r1\n",
    "\n",
    "Se puede obtener una interfaz gráfica en: https://openwebui.com/ | https://github.com/open-webui/open-webui\n",
    "\n",
    "Se puede ejecutar los modelos mediante la interfaz de Ollama: https://ollama.com/\n",
    "Existe una API de Python que se comunica con Ollama con REST: https://github.com/ollama/ollama-python"
   ]
  },
  {
   "cell_type": "markdown",
   "id": "85e1b873",
   "metadata": {},
   "source": [
    "### Ejemplo Ollama-Python\n",
    "\n",
    "> 📝 <em><font color='Gray'>Nota:</font></em> Previamente hay que instalar Ollama. Ejemplo para probar si está funcionando ollama: `ollama list`\n",
    "\n",
    "> 📝 <em><font color='Gray'>Nota:</font></em> Se tiene que haber descargado algún modelo. Ej: `ollama pull gemma3:1b` (815Mb) | `ollama pull deepseek-r1:1.5b` (1.1BG) | `ollama pull deepseek-r1:70b` (40GB)"
   ]
  },
  {
   "cell_type": "markdown",
   "id": "93ff4b65",
   "metadata": {},
   "source": [
    "Instalamos python-ollama:"
   ]
  },
  {
   "cell_type": "code",
   "execution_count": null,
   "id": "ea0def53",
   "metadata": {},
   "outputs": [
    {
     "name": "stdout",
     "output_type": "stream",
     "text": [
      "Requirement already satisfied: ollama in e:\\documentos\\git repositories\\uba-mia\\.venv\\lib\\site-packages (0.4.7)\n",
      "Requirement already satisfied: httpx<0.29,>=0.27 in e:\\documentos\\git repositories\\uba-mia\\.venv\\lib\\site-packages (from ollama) (0.28.1)\n",
      "Requirement already satisfied: pydantic<3.0.0,>=2.9.0 in e:\\documentos\\git repositories\\uba-mia\\.venv\\lib\\site-packages (from ollama) (2.11.2)\n",
      "Requirement already satisfied: anyio in e:\\documentos\\git repositories\\uba-mia\\.venv\\lib\\site-packages (from httpx<0.29,>=0.27->ollama) (4.9.0)\n",
      "Requirement already satisfied: certifi in e:\\documentos\\git repositories\\uba-mia\\.venv\\lib\\site-packages (from httpx<0.29,>=0.27->ollama) (2025.1.31)\n",
      "Requirement already satisfied: httpcore==1.* in e:\\documentos\\git repositories\\uba-mia\\.venv\\lib\\site-packages (from httpx<0.29,>=0.27->ollama) (1.0.7)\n",
      "Requirement already satisfied: idna in e:\\documentos\\git repositories\\uba-mia\\.venv\\lib\\site-packages (from httpx<0.29,>=0.27->ollama) (3.10)\n",
      "Requirement already satisfied: h11<0.15,>=0.13 in e:\\documentos\\git repositories\\uba-mia\\.venv\\lib\\site-packages (from httpcore==1.*->httpx<0.29,>=0.27->ollama) (0.14.0)\n",
      "Requirement already satisfied: annotated-types>=0.6.0 in e:\\documentos\\git repositories\\uba-mia\\.venv\\lib\\site-packages (from pydantic<3.0.0,>=2.9.0->ollama) (0.7.0)\n",
      "Requirement already satisfied: pydantic-core==2.33.1 in e:\\documentos\\git repositories\\uba-mia\\.venv\\lib\\site-packages (from pydantic<3.0.0,>=2.9.0->ollama) (2.33.1)\n",
      "Requirement already satisfied: typing-extensions>=4.12.2 in e:\\documentos\\git repositories\\uba-mia\\.venv\\lib\\site-packages (from pydantic<3.0.0,>=2.9.0->ollama) (4.13.1)\n",
      "Requirement already satisfied: typing-inspection>=0.4.0 in e:\\documentos\\git repositories\\uba-mia\\.venv\\lib\\site-packages (from pydantic<3.0.0,>=2.9.0->ollama) (0.4.0)\n",
      "Requirement already satisfied: sniffio>=1.1 in e:\\documentos\\git repositories\\uba-mia\\.venv\\lib\\site-packages (from anyio->httpx<0.29,>=0.27->ollama) (1.3.1)\n",
      "Note: you may need to restart the kernel to use updated packages.\n"
     ]
    }
   ],
   "source": [
    "%pip install ollama"
   ]
  },
  {
   "cell_type": "markdown",
   "id": "cc6aa712",
   "metadata": {},
   "source": [
    "Descargamos un modelo:"
   ]
  },
  {
   "cell_type": "code",
   "execution_count": 2,
   "id": "f2c3eb60",
   "metadata": {},
   "outputs": [
    {
     "name": "stderr",
     "output_type": "stream",
     "text": [
      "\u001b[?2026h\u001b[?25l\u001b[1Gpulling manifest ⠋ \u001b[K\u001b[?25h\u001b[?2026l\u001b[?2026h\u001b[?25l\u001b[1Gpulling manifest ⠙ \u001b[K\u001b[?25h\u001b[?2026l\u001b[?2026h\u001b[?25l\u001b[1Gpulling manifest ⠹ \u001b[K\u001b[?25h\u001b[?2026l\u001b[?2026h\u001b[?25l\u001b[1Gpulling manifest ⠸ \u001b[K\u001b[?25h\u001b[?2026l\u001b[?2026h\u001b[?25l\u001b[1Gpulling manifest ⠼ \u001b[K\u001b[?25h\u001b[?2026l\u001b[?2026h\u001b[?25l\u001b[1Gpulling manifest ⠴ \u001b[K\u001b[?25h\u001b[?2026l\u001b[?2026h\u001b[?25l\u001b[1Gpulling manifest ⠦ \u001b[K\u001b[?25h\u001b[?2026l\u001b[?2026h\u001b[?25l\u001b[1Gpulling manifest ⠧ \u001b[K\u001b[?25h\u001b[?2026l\u001b[?2026h\u001b[?25l\u001b[1Gpulling manifest \u001b[K\n",
      "pulling 7cd4618c1faf... 100% ▕████████████████▏ 815 MB                         \u001b[K\n",
      "pulling e0a42594d802... 100% ▕████████████████▏  358 B                         \u001b[K\n",
      "pulling dd084c7d92a3... 100% ▕████████████████▏ 8.4 KB                         \u001b[K\n",
      "pulling 3116c5225075... 100% ▕████████████████▏   77 B                         \u001b[K\n",
      "pulling 120007c81bf8... 100% ▕████████████████▏  492 B                         \u001b[K\n",
      "verifying sha256 digest \u001b[K\n",
      "writing manifest \u001b[K\n",
      "success \u001b[K\u001b[?25h\u001b[?2026l\n"
     ]
    }
   ],
   "source": [
    "# Descargamos un modelo de ollama\n",
    "!ollama pull gemma3:1b"
   ]
  },
  {
   "cell_type": "markdown",
   "id": "837f6da7",
   "metadata": {},
   "source": [
    "✋ <em><font color='DodgerBlue'>Importaciones:</font></em> ✋"
   ]
  },
  {
   "cell_type": "code",
   "execution_count": 15,
   "id": "ca248809",
   "metadata": {},
   "outputs": [],
   "source": [
    "import ollama\n",
    "from pprint import pprint\n",
    "from ollama import chat\n",
    "from ollama import ChatResponse"
   ]
  },
  {
   "cell_type": "markdown",
   "id": "8c43bdc9",
   "metadata": {},
   "source": [
    "Podemos utilizar el API con varios métodos:\n",
    "- Chat $\\rightarrow$ `ollama.chat(model='llama3.2', messages=[{'role': 'user', 'content': 'Why is the sky blue?'}])`\n",
    "- Generate $\\rightarrow$ `ollama.generate(model='llama3.2', prompt='Why is the sky blue?')`\n",
    "- List $\\rightarrow$ `ollama.list()`\n",
    "- Show $\\rightarrow$ `ollama.show('llama3.2')`\n",
    "- Create $\\rightarrow$ `ollama.create(model='example', from_='llama3.2', system=\"You are Mario from Super Mario Bros.\")`\n",
    "- Copy $\\rightarrow$ `ollama.copy('llama3.2', 'user/llama3.2')`\n",
    "- Delete $\\rightarrow$ `ollama.delete('llama3.2')`\n",
    "- Pull $\\rightarrow$ `ollama.pull('llama3.2')`\n",
    "- Push $\\rightarrow$ `ollama.push('user/llama3.2')`\n",
    "- Embed $\\rightarrow$ `ollama.embed(model='llama3.2', input='The sky is blue because of rayleigh scattering')`\n",
    "- Embed (batch) $\\rightarrow$ `ollama.embed(model='llama3.2', input=['The sky is blue because of rayleigh scattering', 'Grass is green because of chlorophyll'])`\n",
    "- Ps $\\rightarrow$ `ollama.ps()`"
   ]
  },
  {
   "cell_type": "code",
   "execution_count": 12,
   "id": "57f87162",
   "metadata": {},
   "outputs": [
    {
     "data": {
      "text/plain": [
       "ListResponse(models=[Model(model='gemma3:1b', modified_at=datetime.datetime(2025, 4, 12, 10, 15, 57, 910929, tzinfo=TzInfo(-03:00)), digest='8648f39daa8fbf5b18c7b4e6a8fb4990c692751d49917417b8842ca5758e7ffc', size=815319791, details=ModelDetails(parent_model='', format='gguf', family='gemma3', families=['gemma3'], parameter_size='999.89M', quantization_level='Q4_K_M')), Model(model='deepseek-r1:70b', modified_at=datetime.datetime(2025, 4, 8, 0, 30, 48, 727842, tzinfo=TzInfo(-03:00)), digest='0c1615a8ca32ef41e433aa420558b4685f9fc7f3fd74119860a8e2e389cd7942', size=42520397704, details=ModelDetails(parent_model='', format='gguf', family='llama', families=['llama'], parameter_size='70.6B', quantization_level='Q4_K_M'))])"
      ]
     },
     "execution_count": 12,
     "metadata": {},
     "output_type": "execute_result"
    }
   ],
   "source": [
    "# Listamos los modelos\n",
    "ollama.list()"
   ]
  },
  {
   "cell_type": "markdown",
   "id": "a583ed22",
   "metadata": {},
   "source": [
    "Probamos el modelo:"
   ]
  },
  {
   "cell_type": "code",
   "execution_count": 16,
   "id": "02d46822",
   "metadata": {},
   "outputs": [
    {
     "name": "stdout",
     "output_type": "stream",
     "text": [
      "The sky appears blue due to a phenomenon called **Rayleigh scattering**. Here’s a breakdown of how it works:\n",
      "\n",
      "* **Sunlight is made of all colors:** White sunlight is actually made up of all the colors of the rainbow – red, orange, yellow, green, blue, indigo, and violet.\n",
      "\n",
      "* **Entering the Atmosphere:** As sunlight enters the Earth’s atmosphere, it bumps into tiny air molecules (mostly nitrogen and oxygen).\n",
      "\n",
      "* **Rayleigh Scattering:** This is where the magic happens!  Rayleigh scattering is the scattering of electromagnetic radiation (like light) by particles of a much smaller wavelength.  The shorter the wavelength, the more it's scattered. Blue and violet light have shorter wavelengths than other colors like red and orange.\n",
      "\n",
      "* **Why Blue, Not Violet?**  Violet light is scattered even *more* than blue light. However, our eyes are more sensitive to blue light, and the sun emits slightly less violet light than blue light.  Therefore, we see a blue sky.\n",
      "\n",
      "**Think of it like this:** Imagine throwing tiny marbles (blue light) and larger rocks (red light) at a bumpy surface. The smaller marbles will bounce in all directions more easily, while the larger rocks will mostly go straight through.\n",
      "\n",
      "\n",
      "**What about sunsets/sunrises?** At sunrise and sunset, sunlight has to travel through a *much* longer path through the atmosphere. This longer path causes more of the blue light to scatter away.  The remaining colors – oranges and reds – dominate, creating those beautiful hues.\n",
      "\n",
      "\n",
      "**Resources for a deeper dive:**\n",
      "\n",
      "* **NASA - Rayleigh Scattering:** [https://science.nasa.gov/corbies/rayleigh-scattering/](https://science.nasa.gov/corbies/rayleigh-scattering/)\n",
      "* **National Geographic - Why is the Sky Blue?:** [https://www.nationalgeographic.com/explainers/2016/07/why-is-the-sky-blue/](https://www.nationalgeographic.com/explainers/2016/07/why-is-the-sky-blue/)\n",
      "\n",
      "Do you want to learn about:\n",
      "\n",
      "*   Why are sunsets red?\n",
      "*   How does the atmosphere affect light?\n",
      "The sky appears blue due to a phenomenon called **Rayleigh scattering**. Here’s a breakdown of how it works:\n",
      "\n",
      "* **Sunlight is made of all colors:** White sunlight is actually made up of all the colors of the rainbow – red, orange, yellow, green, blue, indigo, and violet.\n",
      "\n",
      "* **Entering the Atmosphere:** As sunlight enters the Earth’s atmosphere, it bumps into tiny air molecules (mostly nitrogen and oxygen).\n",
      "\n",
      "* **Rayleigh Scattering:** This is where the magic happens!  Rayleigh scattering is the scattering of electromagnetic radiation (like light) by particles of a much smaller wavelength.  The shorter the wavelength, the more it's scattered. Blue and violet light have shorter wavelengths than other colors like red and orange.\n",
      "\n",
      "* **Why Blue, Not Violet?**  Violet light is scattered even *more* than blue light. However, our eyes are more sensitive to blue light, and the sun emits slightly less violet light than blue light.  Therefore, we see a blue sky.\n",
      "\n",
      "**Think of it like this:** Imagine throwing tiny marbles (blue light) and larger rocks (red light) at a bumpy surface. The smaller marbles will bounce in all directions more easily, while the larger rocks will mostly go straight through.\n",
      "\n",
      "\n",
      "**What about sunsets/sunrises?** At sunrise and sunset, sunlight has to travel through a *much* longer path through the atmosphere. This longer path causes more of the blue light to scatter away.  The remaining colors – oranges and reds – dominate, creating those beautiful hues.\n",
      "\n",
      "\n",
      "**Resources for a deeper dive:**\n",
      "\n",
      "* **NASA - Rayleigh Scattering:** [https://science.nasa.gov/corbies/rayleigh-scattering/](https://science.nasa.gov/corbies/rayleigh-scattering/)\n",
      "* **National Geographic - Why is the Sky Blue?:** [https://www.nationalgeographic.com/explainers/2016/07/why-is-the-sky-blue/](https://www.nationalgeographic.com/explainers/2016/07/why-is-the-sky-blue/)\n",
      "\n",
      "Do you want to learn about:\n",
      "\n",
      "*   Why are sunsets red?\n",
      "*   How does the atmosphere affect light?\n"
     ]
    }
   ],
   "source": [
    "response: ChatResponse = chat(\n",
    "    model=\"gemma3:1b\",\n",
    "    messages=[\n",
    "        {\n",
    "            \"role\": \"user\",\n",
    "            \"content\": \"Why is the sky blue?\",\n",
    "        },\n",
    "    ],\n",
    ")\n",
    "print(response[\"message\"][\"content\"])\n",
    "# or access fields directly from the response object\n",
    "print(response.message.content)"
   ]
  },
  {
   "cell_type": "markdown",
   "id": "f30c39d7",
   "metadata": {},
   "source": [
    "Modo streaming:"
   ]
  },
  {
   "cell_type": "code",
   "execution_count": null,
   "id": "b23a3768",
   "metadata": {},
   "outputs": [
    {
     "name": "stdout",
     "output_type": "stream",
     "text": [
      "The sky is blue due to a phenomenon called **Rayleigh scattering**. Here's a breakdown of how it works:\n",
      "\n",
      "* **Sunlight is made of all colors:** Sunlight appears white to us, but it's actually made up of all the colors of the rainbow.\n",
      "\n",
      "* **Entering the atmosphere:** When sunlight enters the Earth’s atmosphere, it collides with tiny air molecules (mostly nitrogen and oxygen).\n",
      "\n",
      "* **Rayleigh scattering:** This collision causes the light to scatter in different directions.  **Rayleigh scattering is much more effective at scattering shorter wavelengths of light, like blue and violet.**  Think of it like tiny obstacles in the air scattering the light.\n",
      "\n",
      "* **Why blue, not violet?** While violet is scattered even more than blue, our eyes are more sensitive to blue light. Also, the sun emits less violet light than blue light.  \n",
      "\n",
      "\n",
      "**In short, the blue light from the sun is scattered all around the sky, making it appear blue to our eyes.**\n",
      "\n",
      "**What about sunsets?**  At sunset, the sunlight has to travel through more of the atmosphere to reach us. This longer path scatters most of the blue light away, leaving the longer wavelengths of orange and red to dominate.\n",
      "\n",
      "**Want to learn more?** Here are some resources:\n",
      "\n",
      "* **NASA - Rayleigh Scattering:** [https://science.nasa.gov/space-news/rayleigh-scattering/](https://science.nasa.gov/space-news/rayleigh-scattering/)\n",
      "* **Science Candy - Rayleigh Scattering:** [https://www.sciencecandy.com/science-candy/rayleigh-scattering](https://www.sciencecandy.com/science-candy/rayleigh-scattering)\n",
      "\n",
      "Do you want to know more about any specific aspect of this phenomenon, like why the sky is darker at night, or how it interacts with clouds?"
     ]
    }
   ],
   "source": [
    "stream = chat(\n",
    "    model=\"gemma3:1b\",\n",
    "    messages=[{\"role\": \"user\", \"content\": \"Why is the sky blue?\"}],\n",
    "    stream=True,\n",
    ")\n",
    "\n",
    "for chunk in stream:\n",
    "    print(chunk[\"message\"][\"content\"], end=\"\", flush=True)"
   ]
  },
  {
   "cell_type": "markdown",
   "id": "ea931ce9",
   "metadata": {},
   "source": [
    "Llamada asíncrona:"
   ]
  },
  {
   "cell_type": "code",
   "execution_count": null,
   "id": "0898b717",
   "metadata": {},
   "outputs": [
    {
     "name": "stdout",
     "output_type": "stream",
     "text": [
      "The sky is blue because of a phenomenon called **Rayleigh scattering**. Here’s a breakdown of why it happens:\n",
      "\n",
      "1. **Sunlight Enters the Atmosphere:** Sunlight, which appears white to us, is actually made up of all the colors of the rainbow.\n",
      "\n",
      "2. **Blue Light is Scattered:** As sunlight enters the Earth’s atmosphere, it bumps into tiny air molecules (mostly nitrogen and oxygen). This bumping causes the light to scatter in different directions. Blue light has a shorter wavelength than other colors like red and orange.\n",
      "\n",
      "3. **Rayleigh Scattering Favors Blue:** Rayleigh scattering is much more effective at scattering shorter wavelengths of light. This means blue light is scattered about 10 times more than red light. \n",
      "\n",
      "4. **We See the Scattered Blue:** Because blue light is scattered so much, it’s spread throughout the sky, making it appear blue to our eyes.\n",
      "\n",
      "**Think of it like this:** Imagine throwing a handful of marbles (sunlight) at a bumpy surface (the atmosphere). The smaller marbles (blue light) bounce around more and spread out, making the surface look disturbed.\n",
      "\n",
      "**Why are sunsets red?**\n",
      "\n",
      "At sunset, the sunlight has to travel through *more* of the atmosphere to reach our eyes.  Blue light is scattered away completely, leaving the longer wavelengths of red and orange to dominate, creating those beautiful sunset colors.\n",
      "\n",
      "\n",
      "**In short, the sky is blue because of how light interacts with tiny particles in the air.**\n",
      "\n",
      "---\n",
      "\n",
      "**Resources for more information:**\n",
      "\n",
      "* **NASA - Rayleigh Scattering:** [https://science.nasa.gov/highlights/sky-blue/rayleigh-scattering.html](https://science.nasa.gov/highlights/sky-blue/rayleigh-scattering.html)\n",
      "* **National Geographic - Why is the sky blue?:** [https://www.nationalgeographic.com/science/2018/07/why-is-the-sky-blue](https://www.nationalgeographic.com/science/2018/07/why-is-the-sky-blue)\n",
      "\n",
      "Do you want to know anything more specific about this phenomenon, like how it relates to the atmosphere, or why the sky is different colors at different times of the year?\n"
     ]
    }
   ],
   "source": [
    "import asyncio\n",
    "from ollama import AsyncClient\n",
    "\n",
    "\n",
    "async def chat():\n",
    "    message = {\"role\": \"user\", \"content\": \"Why is the sky blue?\"}\n",
    "    response = await AsyncClient().chat(model=\"gemma3:1b\", messages=[message])\n",
    "    print(response.message.content)\n",
    "\n",
    "\n",
    "await chat()"
   ]
  },
  {
   "cell_type": "markdown",
   "id": "3c6fa876",
   "metadata": {},
   "source": [
    "En streaming:"
   ]
  },
  {
   "cell_type": "code",
   "execution_count": 14,
   "id": "97c39fa8",
   "metadata": {},
   "outputs": [
    {
     "name": "stdout",
     "output_type": "stream",
     "text": [
      "The sky is blue due to a phenomenon called **Rayleigh scattering**. Here's a breakdown of how it works:\n",
      "\n",
      "1. **Sunlight is composed of all colors:** Sunlight actually contains all the colors of the rainbow.\n",
      "\n",
      "2. **Entering the Atmosphere:** When sunlight enters the Earth's atmosphere, it collides with tiny air molecules (mostly nitrogen and oxygen).\n",
      "\n",
      "3. **Rayleigh Scattering:** This collision causes the sunlight to scatter in different directions.  This scattering is more effective with shorter wavelengths of light – blue and violet light – than with longer wavelengths like red and orange.  This is called Rayleigh scattering.\n",
      "\n",
      "4. **Blue Dominates:** Because blue light is scattered more intensely, it spreads across the sky, making it appear blue to our eyes.\n",
      "\n",
      "**Why not violet?**\n",
      "\n",
      "While violet light is scattered even more than blue, there are a couple of reasons we see a blue sky:\n",
      "\n",
      "* **Less Violet in Sunlight:** The sun emits slightly less violet light than blue light.\n",
      "* **Our Eyes are Less Sensitive to Violet:** Our eyes are more sensitive to blue than violet.\n",
      "\n",
      "\n",
      "**Think of it like this:** Imagine throwing a handful of marbles (blue light) and a handful of pebbles (red light) at a bumpy surface. The marbles are more likely to bounce off in all directions, while the pebbles tend to stay in one place.\n",
      "\n",
      "\n",
      "**In short, the blue color of the sky is a result of sunlight interacting with the tiny particles in the Earth's atmosphere.**\n",
      "\n",
      "---\n",
      "\n",
      "**Do you want to know more about:**\n",
      "\n",
      "*   Why are sunsets red/orange?\n",
      "*   How does this process work at different times of the day?"
     ]
    }
   ],
   "source": [
    "async def chat():\n",
    "  message = {'role': 'user', 'content': 'Why is the sky blue?'}\n",
    "  async for part in await AsyncClient().chat(model='gemma3:1b', messages=[message], stream=True):\n",
    "    print(part['message']['content'], end='', flush=True)\n",
    "  \n",
    "await chat()"
   ]
  },
  {
   "cell_type": "markdown",
   "id": "2580f02d",
   "metadata": {},
   "source": [
    "Finalmente, detenemos el modelo:"
   ]
  },
  {
   "cell_type": "code",
   "execution_count": 17,
   "id": "f211a346",
   "metadata": {},
   "outputs": [
    {
     "name": "stderr",
     "output_type": "stream",
     "text": [
      "\u001b[?25l\u001b[?2026h\u001b[?25l\u001b[1G\u001b[K\u001b[?25h\u001b[?2026l\u001b[2K\u001b[1G\u001b[?25h\n"
     ]
    }
   ],
   "source": [
    "!ollama stop gemma3:1b"
   ]
  }
 ],
 "metadata": {
  "kernelspec": {
   "display_name": ".venv",
   "language": "python",
   "name": "python3"
  },
  "language_info": {
   "codemirror_mode": {
    "name": "ipython",
    "version": 3
   },
   "file_extension": ".py",
   "mimetype": "text/x-python",
   "name": "python",
   "nbconvert_exporter": "python",
   "pygments_lexer": "ipython3",
   "version": "3.13.0"
  }
 },
 "nbformat": 4,
 "nbformat_minor": 5
}
