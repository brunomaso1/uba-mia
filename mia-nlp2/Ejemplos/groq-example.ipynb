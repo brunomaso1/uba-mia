{
 "cells": [
  {
   "cell_type": "markdown",
   "id": "5dc9a059",
   "metadata": {},
   "source": [
    "# <div align=\"center\"><b> GROQ EXAMPLE </b></div>"
   ]
  },
  {
   "cell_type": "code",
   "execution_count": 1,
   "id": "5e807f76",
   "metadata": {},
   "outputs": [],
   "source": [
    "import os\n",
    "from dotenv import load_dotenv\n",
    "\n",
    "load_dotenv()\n",
    "\n",
    "GROQ_API_KEY = os.getenv(\"GROQ_API_KEY\")"
   ]
  },
  {
   "cell_type": "code",
   "execution_count": 2,
   "id": "46024451",
   "metadata": {},
   "outputs": [
    {
     "name": "stdout",
     "output_type": "stream",
     "text": [
      "Fast language models have become increasingly important in recent years due to their ability to efficiently process and generate large amounts of text data. Here are some reasons why fast language models are crucial:\n",
      "\n",
      "1. **Improved User Experience**: Fast language models enable applications to respond quickly to user input, providing a more seamless and interactive experience. This is particularly important for applications such as chatbots, virtual assistants, and language translation software.\n",
      "2. **Real-Time Processing**: Fast language models can process text data in real-time, allowing for immediate analysis, classification, and generation of text. This is essential for applications such as sentiment analysis, news summarization, and social media monitoring.\n",
      "3. **Increased Productivity**: By automating tasks such as text summarization, language translation, and content generation, fast language models can significantly increase productivity for individuals and organizations. This can lead to cost savings, improved efficiency, and enhanced decision-making.\n",
      "4. **Competitive Advantage**: Companies that utilize fast language models can gain a competitive advantage by providing faster and more accurate language-related services. This can be particularly important for industries such as customer service, marketing, and finance.\n",
      "5. **Scalability**: Fast language models can handle large volumes of text data, making them ideal for applications that require processing massive amounts of data. This scalability is essential for applications such as text classification, named entity recognition, and topic modeling.\n",
      "6. **Low Latency**: Fast language models can respond quickly to user input, reducing latency and improving the overall user experience. This is critical for applications such as voice assistants, language translation apps, and real-time chatbots.\n",
      "7. **Energy Efficiency**: Fast language models can be more energy-efficient than slower models, as they require less computational power and memory to process text data. This can lead to cost savings and a reduced carbon footprint.\n",
      "8. **Advancements in AI Research**: Fast language models can accelerate research in artificial intelligence (AI) by providing a platform for testing and validating new ideas. This can lead to breakthroughs in areas such as natural language processing, machine learning, and deep learning.\n",
      "\n",
      "Some examples of applications that rely on fast language models include:\n",
      "\n",
      "1. **Virtual assistants**: Amazon Alexa, Google Assistant, and Apple Siri use fast language models to quickly understand and respond to voice commands.\n",
      "2. **Language translation apps**: Google Translate and Microsoft Translator use fast language models to quickly translate text and speech in real-time.\n",
      "3. **Chatbots**: Many companies use fast language models to power their chatbots, allowing for quick and efficient customer support.\n",
      "4. **Text summarization**: Fast language models can summarize long documents and articles in real-time, providing a concise overview of the content.\n",
      "5. **Sentiment analysis**: Fast language models can analyze large amounts of text data to determine sentiment and opinion, providing valuable insights for businesses and organizations.\n",
      "\n",
      "In summary, fast language models are essential for a wide range of applications that require efficient and accurate processing of text data. Their importance lies in their ability to improve user experience, increase productivity, and provide a competitive advantage, while also driving advancements in AI research.\n"
     ]
    }
   ],
   "source": [
    "import os\n",
    "\n",
    "from groq import Groq\n",
    "\n",
    "client = Groq(\n",
    "    api_key=os.environ.get(\"GROQ_API_KEY\"),\n",
    ")\n",
    "\n",
    "chat_completion = client.chat.completions.create(\n",
    "    messages=[\n",
    "        {\n",
    "            \"role\": \"user\",\n",
    "            \"content\": \"Explain the importance of fast language models\",\n",
    "        }\n",
    "    ],\n",
    "    model=\"llama-3.3-70b-versatile\",\n",
    ")\n",
    "\n",
    "print(chat_completion.choices[0].message.content)"
   ]
  }
 ],
 "metadata": {
  "kernelspec": {
   "display_name": ".venv",
   "language": "python",
   "name": "python3"
  },
  "language_info": {
   "codemirror_mode": {
    "name": "ipython",
    "version": 3
   },
   "file_extension": ".py",
   "mimetype": "text/x-python",
   "name": "python",
   "nbconvert_exporter": "python",
   "pygments_lexer": "ipython3",
   "version": "3.13.0"
  }
 },
 "nbformat": 4,
 "nbformat_minor": 5
}
