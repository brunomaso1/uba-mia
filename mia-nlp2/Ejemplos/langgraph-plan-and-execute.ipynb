{
 "cells": [
  {
   "cell_type": "markdown",
   "id": "d67b128f",
   "metadata": {},
   "source": [
    "# <div align=\"center\"><b> LANGGRAPH PLAN AND EXECUTE EXAMPLE </b></div>"
   ]
  },
  {
   "cell_type": "markdown",
   "id": "ddabf280",
   "metadata": {},
   "source": [
    "<div align=\"right\">📝 <em><small><font color='Gray'>Nota:</font></small></em></div>\n",
    "\n",
    "<div align=\"right\"> <em><small><font color='Gray'> La funcionalidad de visualización de jupyter notebooks en <a href=\"https://github.com/\" target=\"_blank\">github</a> es solamente un preview.</font></small></em> </div>\n",
    "\n",
    "<div align=\"right\"> <em><small><font color='Gray'> Para mejor visualización se sugiere utilizar el visualizador recomendado por la comunidad: <a href=\"https://nbviewer.org/\" target=\"_blank\">nbviewer</a></font></small></em> </div>\n",
    "\n",
    "<div align=\"right\"> <em><small><font color='Gray'> Puedes a acceder al siguiente enlace para ver este notebook en dicha página: <a href=\"https://nbviewer.org/github/brunomaso1/uba-mia/blob/mia-nlp2/mia-nlp2/Ejemplos/langgraph-plan-and-execute.ipynb\">Deepseek local example</a></font></small></em> </div>"
   ]
  },
  {
   "cell_type": "markdown",
   "id": "f6fc10ce",
   "metadata": {},
   "source": [
    "* * *"
   ]
  },
  {
   "cell_type": "markdown",
   "id": "05450b5c",
   "metadata": {},
   "source": [
    "<style>\n",
    "/* Limitar la altura de las celdas de salida en html */\n",
    ".jp-OutputArea.jp-Cell-outputArea {\n",
    "    max-height: 500px;\n",
    "}\n",
    "</style>"
   ]
  },
  {
   "cell_type": "markdown",
   "id": "8bf714b3",
   "metadata": {},
   "source": [
    "<!-- Colab -->\n",
    "<!-- <div align=\"center\"><img src=\"https://drive.google.com/uc?export=view&id=1QSNrTsz1hQbmZwpgwx0qpfpNtLW19Orm\" width=\"600\" alt=\"Figura 1: A data scientist is working on word generation using the Lord of the Rings lore. The image is dark and moody, with a focus on the scientist's computer screen. The screen displays a visualization the one ring, with a map of Middle Earth in the background. - Generada con DALL-E3\"></div> -->\n",
    "\n",
    "<div align=\"center\"><img src=\"../resources/img1.jpeg\" width=\"600\" alt=\"Figura 1: A data scientist is sitting in front of a computer screen, intently focused on the task at hand. The room is dimly lit, with the only light coming from the computer screen. The neural network is displayed on the screen, with the data scientist working to. The nerual network is deepseek R1. - Generada con Microsoft Image Creator\"></div>\n",
    "\n",
    "<div align=\"center\"><small><em>Figura 1: A data scientist is sitting in front of a computer screen, intently focused on the task at hand. The room is dimly lit, with the only light coming from the computer screen. The neural network is displayed on the screen, with the data scientist working to. The nerual network is deepseek R1. - Generada con Microsoft Image Creator</em></small></div>"
   ]
  },
  {
   "cell_type": "markdown",
   "id": "604faf42",
   "metadata": {},
   "source": [
    "<div align=\"center\">✨Datos del proyecto:✨</div>\n",
    "\n",
    "<p></p>\n",
    "\n",
    "<div align=\"center\">\n",
    "\n",
    "| Subtitulo       | Langgraph + Agents + Plan-and-execute                                                                                                  |\n",
    "| --------------- | -------------------------------------------------------------------------------------------------------------------------------------- |\n",
    "| **Descrpción**  | Ejemplo de creación de una soución con agentes que planean una solución y la ejecutan                                                  |\n",
    "| **Integrantes** | Bruno Masoller (brunomaso1@gmail.com)                                                                                                  |\n",
    "\n",
    "</div>"
   ]
  },
  {
   "cell_type": "markdown",
   "id": "f7c5aa06",
   "metadata": {},
   "source": [
    "🛻 <em><font color='MediumSeaGreen'>  Instalaciones: </font></em> 🛻"
   ]
  },
  {
   "cell_type": "markdown",
   "id": "a2c3a554",
   "metadata": {},
   "source": [
    "Asegurate de tener instalado poetry y estar en la carpeta donde se encuentra el archivo `pyproject.toml` para instalar las dependencias del proyecto.\n",
    "Luego, instala las dependencias del proyecto ejecutando el siguiente comando en la terminal:\n",
    "\n",
    "- bash:\n",
    "```bash\n",
    "poetry install\n",
    "eval $(poetry env activate)\n",
    "```\n",
    "\n",
    "- powershell:\n",
    "```powershell\n",
    "poetry install\n",
    "Invoke-Expression (poetry env activate)\n",
    "```"
   ]
  },
  {
   "cell_type": "markdown",
   "id": "c4ffb368",
   "metadata": {},
   "source": [
    "✋ <em><font color='DodgerBlue'>Importaciones:</font></em> ✋"
   ]
  },
  {
   "cell_type": "code",
   "execution_count": null,
   "id": "70bddbd4",
   "metadata": {},
   "outputs": [],
   "source": [
    "import os\n",
    "from dotenv import load_dotenv\n",
    "from langchain_groq import ChatGroq\n",
    "\n",
    "from langgraph.prebuilt import create_react_agent\n",
    "from langchain_core.tools import tool\n",
    "from typing import Annotated\n",
    "import math\n",
    "from langgraph.prebuilt import ToolNode, create_react_agent\n",
    "from langchain_core.prompts import ChatPromptTemplate\n",
    "from langchain_core.prompts import MessagesPlaceholder\n",
    "from langchain_core.messages import SystemMessage, HumanMessage, AIMessage\n",
    "from langchain_core.prompts import SystemMessagePromptTemplate\n",
    "from langchain_core.prompts import ChatPromptTemplate\n",
    "from langchain_core.prompts import MessagesPlaceholder\n",
    "from langchain_core.messages import SystemMessage, HumanMessage, AIMessage"
   ]
  },
  {
   "cell_type": "markdown",
   "id": "d70076a6",
   "metadata": {},
   "source": [
    "🔧 <em><font color='tomato'>Configuraciones:</font></em> 🔧\n"
   ]
  },
  {
   "cell_type": "code",
   "execution_count": null,
   "id": "8ed72f24",
   "metadata": {},
   "outputs": [],
   "source": [
    "DOT_ENV_PATH = \"../.env\"\n",
    "load_dotenv(DOT_ENV_PATH)\n",
    "\n",
    "GROQ_API_KEY = os.getenv(\"GROQ_API_KEY\")\n",
    "# GROQ_MODEL = \"llama-3.3-70b-versatile\"\n",
    "GROQ_MODEL = \"gemma2-9b-it\""
   ]
  },
  {
   "cell_type": "markdown",
   "id": "bdb23df2",
   "metadata": {},
   "source": [
    "## Consinga"
   ]
  },
  {
   "cell_type": "markdown",
   "id": "97d4e2e7",
   "metadata": {},
   "source": [
    "El objetivo de este ejercicio es implementar un sistema que utilice un modelo de lenguaje grande (LLM) para responder preguntas complejas. El sistema debe ser capaz de dividir la pregunta en partes más pequeñas y resolver cada una de ellas utilizando diferentes agentes. Luego, las respuestas parciales se combinan para ofrecer una solución completa."
   ]
  },
  {
   "cell_type": "markdown",
   "id": "137c20d8",
   "metadata": {},
   "source": [
    "## Resolución"
   ]
  },
  {
   "cell_type": "markdown",
   "id": "e0973f89",
   "metadata": {},
   "source": [
    "Ejemplos de tutoriales: https://github.com/langchain-ai/langgraph/tree/main/docs/docs/tutorials"
   ]
  },
  {
   "cell_type": "markdown",
   "id": "bfb5afb0",
   "metadata": {},
   "source": [
    "Se pretende seguir el siguiente tutorial para implementar el sistema: https://github.com/langchain-ai/langgraph/blob/9637f3b1bea30f93ccdb86978e0eb2be67e6a5ce/docs/docs/tutorials/plan-and-execute/plan-and-execute.ipynb"
   ]
  },
  {
   "cell_type": "markdown",
   "id": "ac9448da",
   "metadata": {},
   "source": [
    "### Cuando utilizar esta solución\n",
    "\n",
    "- Cuando se necesita resolver una pregunta compleja que requiere múltiples pasos.\n",
    "- Cuando se necesita dividir una tarea en subtareas más pequeñas y manejables.\n",
    "- Cuando se necesita realizar un plan de acción antes de ejecutar una tarea.\n",
    "- Cuando se necesita utilizar diferentes agentes para resolver diferentes partes de una tarea.\n",
    "- Cuando se necesita la habilidad de utilizar LLMs pequeños para resolver tareas específicas y LLMs grandes para tareas más complejas."
   ]
  },
  {
   "cell_type": "markdown",
   "id": "0712e1e3",
   "metadata": {},
   "source": [
    "### Instanciamos el LLM"
   ]
  },
  {
   "cell_type": "code",
   "execution_count": 90,
   "id": "6c38a3b8",
   "metadata": {},
   "outputs": [],
   "source": [
    "llm = ChatGroq(groq_api_key=GROQ_API_KEY, model_name=GROQ_MODEL)"
   ]
  },
  {
   "cell_type": "markdown",
   "id": "7d6072d9",
   "metadata": {},
   "source": [
    "### Definimos las herramientas\n",
    "<small><em>[https://python.langchain.com/docs/integrations/tools/](https://python.langchain.com/docs/integrations/tools/)</em></small>\n",
    "\n",
    "- Herramienta 1: `Tavily` - Herramienta de búsqueda de información en la web.\n",
    "- Herramienta 2: `calculo_area` - Herramienta de cálculo."
   ]
  },
  {
   "cell_type": "code",
   "execution_count": null,
   "id": "4fca721a",
   "metadata": {},
   "outputs": [],
   "source": [
    "@tool\n",
    "def calculate_cylinder_area(\n",
    "    radius: Annotated[float, \"Radio del cilindro en metros\"],\n",
    "    height: Annotated[float, \"Altura del cilindro en metros\"],\n",
    ") -> Annotated[float, \"Área del cilindro en metros cuadrados\"]:\n",
    "    \"\"\"Calcula el área total de un cilindro basado en el radio y la altura en metros.\n",
    "\n",
    "    Args:\n",
    "        radius (float): El radio del cilindro en metros.\n",
    "        height (float): La altura del cilindro en metros.\n",
    "\n",
    "    Returns:\n",
    "        float: El área del cilindro en metros cuadrados.\n",
    "    \"\"\"\n",
    "    return (2 * math.pi * radius * height) + (2 * math.pi * pow(radius, 2))\n",
    "\n",
    "\n",
    "@tool\n",
    "def calculate_cylinder_amount_of_paint(\n",
    "    area: Annotated[float, \"Area del cilindro a pintar en metros cuadrados\"],\n",
    ") -> Annotated[float, \"Cantidad de pintura en litros\"]:\n",
    "    \"\"\"Calcula la cantidad de pintura necesaria para pintar un cilindro basada en el área en metros cuadrados.\n",
    "\n",
    "    Args:\n",
    "       area (float): El área a pintar en metros cuadrados.\n",
    "\n",
    "    Returns:\n",
    "       float: La cantidad de pintura necesaria en litros.\n",
    "    \"\"\"\n",
    "    return area / 10"
   ]
  },
  {
   "cell_type": "code",
   "execution_count": null,
   "id": "ab18b570",
   "metadata": {},
   "outputs": [],
   "source": [
    "tools = [calculate_cylinder_area, calculate_cylinder_amount_of_paint]\n",
    "tool_node = ToolNode(tools)"
   ]
  },
  {
   "cell_type": "markdown",
   "id": "550b252c",
   "metadata": {},
   "source": [
    "### Definimos el agente"
   ]
  },
  {
   "cell_type": "code",
   "execution_count": null,
   "id": "2bc7206b",
   "metadata": {},
   "outputs": [],
   "source": [
    "\n",
    "\n",
    "prompt = \"Eres un útil asistente.\"\n",
    "agent_executor = create_react_agent(llm, tools=tool_node)"
   ]
  },
  {
   "cell_type": "markdown",
   "id": "c8fb7aa3",
   "metadata": {},
   "source": [
    "### Probamos el agente"
   ]
  },
  {
   "cell_type": "code",
   "execution_count": null,
   "id": "5c9198c6",
   "metadata": {},
   "outputs": [
    {
     "data": {
      "text/plain": [
       "' agent_executor.invoke(\\n    {\\n        \"messages\": [\\n            (\"user\", \"Cual es el area de un cilindro con radio 5 m y altura 10 m?\")\\n        ]\\n    }\\n) '"
      ]
     },
     "execution_count": 94,
     "metadata": {},
     "output_type": "execute_result"
    }
   ],
   "source": [
    "from langchain_core.messages import HumanMessage\n",
    "\n",
    "agent_executor.invoke(\n",
    "    {\n",
    "        \"messages\": [\n",
    "            (\"user\", \"Cual es el area de un cilindro con radio 5 m y altura 10 m?\")\n",
    "        ]\n",
    "    }\n",
    ")"
   ]
  },
  {
   "cell_type": "code",
   "execution_count": null,
   "id": "564d168b",
   "metadata": {},
   "outputs": [
    {
     "data": {
      "text/plain": [
       "' agent_executor.invoke(\\n    {\\n        \"messages\": [\\n            (\\n                \"user\",\\n                \"Cual es la cantidad de pintura que se necesita para pintar un área de 471 m²?\",\\n            )\\n        ]\\n    }\\n) '"
      ]
     },
     "execution_count": 95,
     "metadata": {},
     "output_type": "execute_result"
    }
   ],
   "source": [
    "agent_executor.invoke(\n",
    "    {\n",
    "        \"messages\": [\n",
    "            (\n",
    "                \"user\",\n",
    "                \"Cual es la cantidad de pintura que se necesita para pintar un área de 471 m²?\",\n",
    "            )\n",
    "        ]\n",
    "    }\n",
    ")"
   ]
  },
  {
   "cell_type": "markdown",
   "id": "e3b49d9d",
   "metadata": {},
   "source": [
    "### Definimos el estado"
   ]
  },
  {
   "cell_type": "code",
   "execution_count": 97,
   "id": "e05da127",
   "metadata": {},
   "outputs": [],
   "source": [
    "import operator\n",
    "from typing import Annotated, List, Tuple\n",
    "from typing_extensions import TypedDict\n",
    "from langgraph.graph.message import add_messages\n",
    "\n",
    "\n",
    "class PlanExecute(TypedDict):\n",
    "    input: str\n",
    "    plan: List[str]\n",
    "    past_steps: Annotated[List[Tuple], operator.add]\n",
    "    response: str"
   ]
  },
  {
   "cell_type": "markdown",
   "id": "eda66a0a",
   "metadata": {},
   "source": [
    "### Definimos los planes"
   ]
  },
  {
   "cell_type": "code",
   "execution_count": 98,
   "id": "be79a48f",
   "metadata": {},
   "outputs": [],
   "source": [
    "from pydantic import BaseModel, Field\n",
    "\n",
    "\n",
    "class Plan(BaseModel):\n",
    "    \"\"\"Planificación de pasos para resolver un problema.\"\"\"\n",
    "\n",
    "    steps: List[str] = Field(\n",
    "        description=\"Pasos a seguir para resolver el problema. Debería estar ordenado en forma descendente.\",\n",
    "    )"
   ]
  },
  {
   "cell_type": "markdown",
   "id": "ae2b9c04",
   "metadata": {},
   "source": [
    "### Probamos la definición de los planes"
   ]
  },
  {
   "cell_type": "code",
   "execution_count": null,
   "id": "1a5a2f6a",
   "metadata": {},
   "outputs": [],
   "source": [
    "planner_prompt = ChatPromptTemplate.from_messages(\n",
    "    [\n",
    "        (\n",
    "            \"system\",\n",
    "            \"\"\"\n",
    "                Eres un planificador que construye un plan paso a paso.\n",
    "                Usa exactamente este formato para invocar herramientas:\n",
    "\n",
    "                Llamar a <nombre_herramienta> con <JSON-de-argumentos>.\n",
    "\n",
    "                Herramientas disponibles:\n",
    "                1. calculate_cylinder_area   — calcula área total de un cilindro.\n",
    "                    JSON schema: {{\"radius\": float, \"height\": float}}\n",
    "                2. calculate_cylinder_amount_of_paint — calcula litros de pintura.\n",
    "                    JSON schema: {{\"area\": float}}\n",
    "\n",
    "                No agregues explicaciones extra, solo el plan.\n",
    "\n",
    "                Ejemplo:\n",
    "                Input: \"¿Cuál es el área de un cilindro con radio 2 m y altura 4 m?\"\n",
    "                Plan:\n",
    "                1. Llamar a calculate_cylinder_area con {{\"radius\": 2, \"height\": 4}}\n",
    "                2. Responder con el resultado.\n",
    "            \"\"\",\n",
    "        ),\n",
    "        (\"placeholder\", \"{messages}\"),\n",
    "    ]\n",
    ")\n",
    "planner = planner_prompt | llm.with_structured_output(Plan)"
   ]
  },
  {
   "cell_type": "code",
   "execution_count": 100,
   "id": "b82a9677",
   "metadata": {},
   "outputs": [
    {
     "data": {
      "text/plain": [
       "Plan(steps=['Llamar a calculate_cylinder_area con {\"radius\": 5, \"height\": 10}', 'Llamar a calculate_cylinder_amount_of_paint con {\"area\": \"resultado del paso anterior\"}'])"
      ]
     },
     "execution_count": 100,
     "metadata": {},
     "output_type": "execute_result"
    }
   ],
   "source": [
    "planner.invoke(\n",
    "    {\n",
    "        \"messages\": [\n",
    "            (\n",
    "                \"user\",\n",
    "                \"Cuanta pintura se necesita para pintar un cilindro con radio 5 m y altura 10 m?\",\n",
    "            )\n",
    "        ]\n",
    "    }\n",
    ")"
   ]
  },
  {
   "cell_type": "markdown",
   "id": "961d2174",
   "metadata": {},
   "source": [
    "### Re-plan"
   ]
  },
  {
   "cell_type": "code",
   "execution_count": 101,
   "id": "d37afd87",
   "metadata": {},
   "outputs": [],
   "source": [
    "from typing import Union\n",
    "\n",
    "\n",
    "class Response(BaseModel):\n",
    "    \"\"\"Respuesta al usuario.\"\"\"\n",
    "\n",
    "    response: str\n",
    "\n",
    "\n",
    "class Act(BaseModel):\n",
    "    \"\"\"Acción a realizar.\"\"\"\n",
    "\n",
    "    action: Union[Response, Plan] = Field(\n",
    "        description=\"Acción a realizar. Si quieres responder al usuario, usa Response. Si necesitas usar herramientas para obtener la respuesta, usa Plan.\"\n",
    "    )\n",
    "\n",
    "\n",
    "replanner_prompt = ChatPromptTemplate.from_template(\n",
    "    \"\"\"Para el objetivo dado, elabora un plan simple paso a paso. Este plan debe involucrar tareas individuales, que si se ejecutan correctamente darán la respuesta correcta. No agregues pasos superfluos. El resultado del paso final debe ser la respuesta final. Asegúrate de que cada paso tenga toda la información necesaria. No omitas pasos y debes utilizar las herramientas disponibles para resolver el problema.\n",
    "\n",
    "    Tu objetivo era este:\n",
    "    {input}\n",
    "\n",
    "    Tu plan original era este:\n",
    "    {plan}\n",
    "\n",
    "    Hasta ahora has realizado los siguientes pasos:\n",
    "    {past_steps}\n",
    "\n",
    "    Actualiza tu plan en consecuencia. Si no se necesitan más pasos y puedes volver al usuario, entonces responde con eso. De lo contrario, completa el plan. Solo agrega pasos al plan que aún NECESITAN hacerse. No devuelvas pasos ya realizados como parte del plan.\n",
    "\"\"\"\n",
    ")\n",
    "\n",
    "replanner = replanner_prompt | llm.with_structured_output(Act)"
   ]
  },
  {
   "cell_type": "markdown",
   "id": "72721687",
   "metadata": {},
   "source": [
    "### Creamos el grafo"
   ]
  },
  {
   "cell_type": "code",
   "execution_count": null,
   "id": "a46a1679",
   "metadata": {},
   "outputs": [],
   "source": [
    "from typing import Literal\n",
    "from langgraph.graph import END\n",
    "\n",
    "\n",
    "def plan_step(state: PlanExecute):\n",
    "    print(\"-\" * 20 + \"DEBUGING (plan_step)\" + \"-\" * 20)\n",
    "    print(f\"State: {state}\")\n",
    "    plan = planner.invoke({\"messages\": [(\"user\", state[\"input\"])]})\n",
    "    print(f\"Plan: {plan}\")\n",
    "    print(\"-\" * 20 + \"END DEBUGING\" + \"-\" * 20)\n",
    "    return {\"plan\": plan.steps}\n",
    "\n",
    "\n",
    "def execute_step(state: PlanExecute):\n",
    "    print(\"-\" * 20 + \"DEBUGING (execute_step)\" + \"-\" * 20)\n",
    "    print(f\"State: {state}\")\n",
    "\n",
    "    plan = state[\"plan\"]\n",
    "    plan_str = \"\\n\".join(f\"{i+1}. {step}\" for i, step in enumerate(plan))\n",
    "    task = plan[0]\n",
    "    task_formatted = f\"\"\"Para el siguiente plan:\n",
    "        {plan_str}\n",
    "\n",
    "        Se te pide que ejecutes el paso {1}: {task}.\n",
    "        \"\"\"\n",
    "    agent_response = agent_executor.invoke({\"messages\": [\"user\", task_formatted]})\n",
    "    return {\n",
    "        \"past_steps\": [(task, agent_response[\"messages\"][-1].content)],\n",
    "    }\n",
    "\n",
    "\n",
    "def replan_step(state: PlanExecute):\n",
    "    output = replanner.invoke(state)\n",
    "    if isinstance(output.action, Response):\n",
    "        return {\"response\": output.action.response}\n",
    "    else:\n",
    "        return {\"plan\": output.action.steps}\n",
    "\n",
    "\n",
    "def should_end(state: PlanExecute):\n",
    "    if \"response\" in state and state[\"response\"]:\n",
    "        return END\n",
    "    else:\n",
    "        return \"agent\""
   ]
  },
  {
   "cell_type": "code",
   "execution_count": 103,
   "id": "30dddf12",
   "metadata": {},
   "outputs": [],
   "source": [
    "from langgraph.graph import StateGraph, START\n",
    "\n",
    "workflow = StateGraph(PlanExecute)\n",
    "\n",
    "workflow.add_node(\"planner\", plan_step)\n",
    "workflow.add_node(\"agent\", execute_step)\n",
    "workflow.add_node(\"replan\", replan_step)\n",
    "\n",
    "workflow.add_edge(START, \"planner\")\n",
    "workflow.add_edge(\"planner\", \"agent\")\n",
    "workflow.add_edge(\"agent\", \"replan\")\n",
    "\n",
    "workflow.add_conditional_edges(\n",
    "    \"replan\",\n",
    "    should_end,\n",
    "    [\"agent\", END],\n",
    ")\n",
    "\n",
    "graph = workflow.compile()"
   ]
  },
  {
   "cell_type": "code",
   "execution_count": 104,
   "id": "997ee18c",
   "metadata": {},
   "outputs": [
    {
     "data": {
      "image/png": "[encoded data removed]",
      "text/plain": [
       "<IPython.core.display.Image object>"
      ]
     },
     "metadata": {},
     "output_type": "display_data"
    }
   ],
   "source": [
    "from IPython.display import Image, display\n",
    "\n",
    "display(Image(graph.get_graph(xray=True).draw_mermaid_png()))"
   ]
  },
  {
   "cell_type": "code",
   "execution_count": 106,
   "id": "b3a0eb0b",
   "metadata": {},
   "outputs": [
    {
     "name": "stdout",
     "output_type": "stream",
     "text": [
      "--------------------DEBUGING (plan_step)--------------------\n",
      "State: {'input': '¿Cuánta pintura necesito para pintar un cilindro de radio 5 m y altura 10 m?', 'past_steps': []}\n",
      "Plan: steps=['Calcular el área total del cilindro', 'Calcular la cantidad de pintura necesaria']\n",
      "--------------------END DEBUGING--------------------\n",
      "{'plan': ['Calcular el área total del cilindro', 'Calcular la cantidad de pintura necesaria']}\n",
      "--------------------DEBUGING (execute_step)--------------------\n",
      "State: {'input': '¿Cuánta pintura necesito para pintar un cilindro de radio 5 m y altura 10 m?', 'plan': ['Calcular el área total del cilindro', 'Calcular la cantidad de pintura necesaria'], 'past_steps': []}\n",
      "Plan: 1. Calcular el área total del cilindro\n",
      "2. Calcular la cantidad de pintura necesaria\n",
      "Task: Calcular el área total del cilindro\n",
      "Task formatted: Para el siguiente plan:\n",
      "        1. Calcular el área total del cilindro\n",
      "2. Calcular la cantidad de pintura necesaria\n",
      "\n",
      "        Se te pide que ejecutes el paso 1: Calcular el área total del cilindro.\n",
      "        \n",
      "Agent response: {'messages': [HumanMessage(content='user', additional_kwargs={}, response_metadata={}, id='a289f4bb-6fd0-4c15-b65d-416b61010381'), HumanMessage(content='Para el siguiente plan:\\n        1. Calcular el área total del cilindro\\n2. Calcular la cantidad de pintura necesaria\\n\\n        Se te pide que ejecutes el paso 1: Calcular el área total del cilindro.\\n        ', additional_kwargs={}, response_metadata={}, id='5608893a-1276-4987-a2b2-ff4b2db77a0a'), AIMessage(content='', additional_kwargs={'tool_calls': [{'id': 'call_yj16', 'function': {'arguments': '{\"height\":0,\"radius\":0}', 'name': 'calculate_cylinder_area'}, 'type': 'function'}]}, response_metadata={'token_usage': {'completion_tokens': 91, 'prompt_tokens': 1423, 'total_tokens': 1514, 'completion_time': 0.165454545, 'prompt_time': 0.049452004, 'queue_time': 0.019439952000000003, 'total_time': 0.214906549}, 'model_name': 'gemma2-9b-it', 'system_fingerprint': 'fp_10c08bf97d', 'finish_reason': 'tool_calls', 'logprobs': None}, id='run-b3687727-0660-41ce-a165-bd4af8f54b6a-0', tool_calls=[{'name': 'calculate_cylinder_area', 'args': {'height': 0, 'radius': 0}, 'id': 'call_yj16', 'type': 'tool_call'}], usage_metadata={'input_tokens': 1423, 'output_tokens': 91, 'total_tokens': 1514}), ToolMessage(content='0.0', name='calculate_cylinder_area', id='905f775c-b3a4-432e-a3f7-3bc2a6c91aba', tool_call_id='call_yj16'), AIMessage(content=\"That's an area of 0.  \\n\\nTo calculate the amount of paint, could you tell me the height and radius of the cylinder?\\n\", additional_kwargs={}, response_metadata={'token_usage': {'completion_tokens': 33, 'prompt_tokens': 1503, 'total_tokens': 1536, 'completion_time': 0.06, 'prompt_time': 0.06524668, 'queue_time': 0.125240236, 'total_time': 0.12524668}, 'model_name': 'gemma2-9b-it', 'system_fingerprint': 'fp_10c08bf97d', 'finish_reason': 'stop', 'logprobs': None}, id='run-b79397f0-7101-421b-a4d9-024b08229ed3-0', usage_metadata={'input_tokens': 1503, 'output_tokens': 33, 'total_tokens': 1536})]}\n",
      "Agent response messages: That's an area of 0.  \n",
      "\n",
      "To calculate the amount of paint, could you tell me the height and radius of the cylinder?\n",
      "\n",
      "--------------------END DEBUGING--------------------\n",
      "{'past_steps': [('Calcular el área total del cilindro', \"That's an area of 0.  \\n\\nTo calculate the amount of paint, could you tell me the height and radius of the cylinder?\\n\")]}\n",
      "--------------------DEBUGING (replan_step)--------------------\n",
      "State: {'input': '¿Cuánta pintura necesito para pintar un cilindro de radio 5 m y altura 10 m?', 'plan': ['Calcular el área total del cilindro', 'Calcular la cantidad de pintura necesaria'], 'past_steps': [('Calcular el área total del cilindro', \"That's an area of 0.  \\n\\nTo calculate the amount of paint, could you tell me the height and radius of the cylinder?\\n\")]}\n",
      "Output: action=Response(response='The area of a cylinder is 2πrh + 2πr² where r is the radius and h is the height. \\n\\nHere, r = 5m and h = 10m. \\n\\nSo, the area is 2π(5)(10) + 2π(5)² = 100π + 50π = 150π square meters.')\n",
      "--------------------END DEBUGING--------------------\n",
      "--------------------DEBUGING (should_end)--------------------\n",
      "State: {'input': '¿Cuánta pintura necesito para pintar un cilindro de radio 5 m y altura 10 m?', 'plan': ['Calcular el área total del cilindro', 'Calcular la cantidad de pintura necesaria'], 'past_steps': [('Calcular el área total del cilindro', \"That's an area of 0.  \\n\\nTo calculate the amount of paint, could you tell me the height and radius of the cylinder?\\n\")], 'response': 'The area of a cylinder is 2πrh + 2πr² where r is the radius and h is the height. \\n\\nHere, r = 5m and h = 10m. \\n\\nSo, the area is 2π(5)(10) + 2π(5)² = 100π + 50π = 150π square meters.'}\n",
      "Response: The area of a cylinder is 2πrh + 2πr² where r is the radius and h is the height. \n",
      "\n",
      "Here, r = 5m and h = 10m. \n",
      "\n",
      "So, the area is 2π(5)(10) + 2π(5)² = 100π + 50π = 150π square meters.\n",
      "--------------------END DEBUGING--------------------\n",
      "{'response': 'The area of a cylinder is 2πrh + 2πr² where r is the radius and h is the height. \\n\\nHere, r = 5m and h = 10m. \\n\\nSo, the area is 2π(5)(10) + 2π(5)² = 100π + 50π = 150π square meters.'}\n"
     ]
    }
   ],
   "source": [
    "config = {\"recursion_limit\": 50}\n",
    "inputs = {\n",
    "    \"input\": \"¿Cuánta pintura necesito para pintar un cilindro de radio 5 m y altura 10 m?\"\n",
    "}\n",
    "for event in graph.stream(inputs, config=config):\n",
    "    for k, v in event.items():\n",
    "        if k != \"__end__\":\n",
    "            print(v)"
   ]
  },
  {
   "cell_type": "markdown",
   "id": "592aae44",
   "metadata": {},
   "source": [
    "## Recursos"
   ]
  },
  {
   "cell_type": "markdown",
   "id": "e40ffac2",
   "metadata": {},
   "source": [
    "Tutoriales:\n",
    "- [https://langchain-ai.github.io/langgraph/tutorials/introduction/#setup](https://langchain-ai.github.io/langgraph/tutorials/introduction/#setup) (basico)\n",
    "- https://github.com/langchain-ai/langgraph/tree/main/docs/docs/tutorials\n",
    "\n",
    "Conceptos:\n",
    "- [https://python.langchain.com/docs/concepts/](https://python.langchain.com/docs/concepts/) (langchain)\n",
    "- [https://langchain-ai.github.io/langgraph/concepts/#langgraph](https://langchain-ai.github.io/langgraph/concepts/) (langgraph)\n",
    "- [https://langchain-ai.github.io/langgraph/concepts/low_level/](https://langchain-ai.github.io/langgraph/concepts/low_level)\n",
    "\n",
    "Modelos:\n",
    "- [https://python.langchain.com/docs/integrations/chat/](https://python.langchain.com/docs/integrations/chat/)"
   ]
  }
 ],
 "metadata": {
  "kernelspec": {
   "display_name": ".venv",
   "language": "python",
   "name": "python3"
  },
  "language_info": {
   "codemirror_mode": {
    "name": "ipython",
    "version": 3
   },
   "file_extension": ".py",
   "mimetype": "text/x-python",
   "name": "python",
   "nbconvert_exporter": "python",
   "pygments_lexer": "ipython3",
   "version": "3.13.0"
  }
 },
 "nbformat": 4,
 "nbformat_minor": 5
}
