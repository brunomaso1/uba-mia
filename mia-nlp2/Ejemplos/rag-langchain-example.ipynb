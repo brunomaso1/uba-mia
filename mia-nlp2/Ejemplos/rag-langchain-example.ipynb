{
 "cells": [
  {
   "cell_type": "markdown",
   "id": "e3cca5e3",
   "metadata": {},
   "source": [
    "# <div align=\"center\"><b> RAG LANGCHAIN EXAMPLE </b></div>"
   ]
  },
  {
   "cell_type": "markdown",
   "id": "9f78c5ef",
   "metadata": {},
   "source": [
    "<div align=\"right\">📝 <em><small><font color='Gray'>Nota:</font></small></em></div>\n",
    "\n",
    "<div align=\"right\"> <em><small><font color='Gray'> La funcionalidad de visualización de jupyter notebooks en <a href=\"https://github.com/\" target=\"_blank\">github</a> es solamente un preview.</font></small></em> </div>\n",
    "\n",
    "<div align=\"right\"> <em><small><font color='Gray'> Para mejor visualización se sugiere utilizar el visualizador recomendado por la comunidad: <a href=\"https://nbviewer.org/\" target=\"_blank\">nbviewer</a></font></small></em> </div>\n",
    "\n",
    "<div align=\"right\"> <em><small><font color='Gray'> Puedes a acceder al siguiente enlace para ver este notebook en dicha página: <a href=\"https://nbviewer.org/github/brunomaso1/uba-mia/blob/mia-nlp2/mia-nlp2/Ejemplos/rag-langchain-example.ipynb\">NLP2 - Practico 2</a></font></small></em> </div>"
   ]
  },
  {
   "cell_type": "markdown",
   "id": "7cbc36d9",
   "metadata": {},
   "source": [
    "* * *"
   ]
  },
  {
   "cell_type": "markdown",
   "id": "d611364f",
   "metadata": {},
   "source": [
    "<style>\n",
    "/* Limitar la altura de las celdas de salida en html */\n",
    ".jp-OutputArea.jp-Cell-outputArea {\n",
    "    max-height: 500px;\n",
    "}\n",
    "</style>"
   ]
  },
  {
   "cell_type": "markdown",
   "id": "40ce960e",
   "metadata": {},
   "source": [
    "<!-- Colab -->\n",
    "<!-- <div align=\"center\"><img src=\"https://drive.google.com/uc?export=view&id=1QSNrTsz1hQbmZwpgwx0qpfpNtLW19Orm\" width=\"600\" alt=\"Figura 1: A data scientist is working on word generation using the Lord of the Rings lore. The image is dark and moody, with a focus on the scientist's computer screen. The screen displays a visualization the one ring, with a map of Middle Earth in the background. - Generada con DALL-E3\"></div> -->\n",
    "\n",
    "<div align=\"center\"><img src=\"../resources/img1.jpeg\" width=\"600\" alt=\"Figura 1: A data scientist is sitting in front of a computer screen, intently focused on the task at hand. The room is dimly lit, with the only light coming from the computer screen. The neural network is displayed on the screen, with the data scientist working to. The nerual network is deepseek R1. - Generada con Microsoft Image Creator\"></div>\n",
    "\n",
    "<div align=\"center\"><small><em>Figura 1: A data scientist is sitting in front of a computer screen, intently focused on the task at hand. The room is dimly lit, with the only light coming from the computer screen. The neural network is displayed on the screen, with the data scientist working to. The nerual network is deepseek R1. - Generada con Microsoft Image Creator</em></small></div>"
   ]
  },
  {
   "cell_type": "markdown",
   "id": "f0df6a9a",
   "metadata": {},
   "source": [
    "<div align=\"center\">✨Datos del proyecto:✨</div>\n",
    "\n",
    "<p></p>\n",
    "\n",
    "<div align=\"center\">\n",
    "\n",
    "| Subtitulo       | RAG Langchain example                                                                                                                  |\n",
    "| --------------- | -------------------------------------------------------------------------------------------------------------------------------------- |\n",
    "| **Descrpción**  | RAG + Langchain + Langgraph                                                                                                            |\n",
    "| **Integrantes** | Bruno Masoller (brunomaso1@gmail.com)                                                                                                  |\n",
    "\n",
    "</div>"
   ]
  },
  {
   "cell_type": "markdown",
   "id": "a1f27616",
   "metadata": {},
   "source": [
    "🛻 <em><font color='MediumSeaGreen'>  Instalaciones: </font></em> 🛻"
   ]
  },
  {
   "cell_type": "code",
   "execution_count": 15,
   "id": "90f97d26",
   "metadata": {},
   "outputs": [
    {
     "name": "stdout",
     "output_type": "stream",
     "text": [
      "Requirement already satisfied: jupyter in e:\\documentos\\git repositories\\uba-mia\\.venv\\lib\\site-packages (1.1.1)\n",
      "Requirement already satisfied: ipywidgets in e:\\documentos\\git repositories\\uba-mia\\.venv\\lib\\site-packages (8.1.6)\n",
      "Requirement already satisfied: notebook in e:\\documentos\\git repositories\\uba-mia\\.venv\\lib\\site-packages (from jupyter) (7.3.3)\n",
      "Requirement already satisfied: jupyter-console in e:\\documentos\\git repositories\\uba-mia\\.venv\\lib\\site-packages (from jupyter) (6.6.3)\n",
      "Requirement already satisfied: nbconvert in e:\\documentos\\git repositories\\uba-mia\\.venv\\lib\\site-packages (from jupyter) (7.16.6)\n",
      "Requirement already satisfied: ipykernel in e:\\documentos\\git repositories\\uba-mia\\.venv\\lib\\site-packages (from jupyter) (6.29.5)\n",
      "Requirement already satisfied: jupyterlab in e:\\documentos\\git repositories\\uba-mia\\.venv\\lib\\site-packages (from jupyter) (4.3.6)\n",
      "Requirement already satisfied: comm>=0.1.3 in e:\\documentos\\git repositories\\uba-mia\\.venv\\lib\\site-packages (from ipywidgets) (0.2.2)\n",
      "Requirement already satisfied: ipython>=6.1.0 in e:\\documentos\\git repositories\\uba-mia\\.venv\\lib\\site-packages (from ipywidgets) (9.1.0)\n",
      "Requirement already satisfied: traitlets>=4.3.1 in e:\\documentos\\git repositories\\uba-mia\\.venv\\lib\\site-packages (from ipywidgets) (5.14.3)\n",
      "Requirement already satisfied: widgetsnbextension~=4.0.14 in e:\\documentos\\git repositories\\uba-mia\\.venv\\lib\\site-packages (from ipywidgets) (4.0.14)\n",
      "Requirement already satisfied: jupyterlab_widgets~=3.0.14 in e:\\documentos\\git repositories\\uba-mia\\.venv\\lib\\site-packages (from ipywidgets) (3.0.14)\n",
      "Requirement already satisfied: colorama in e:\\documentos\\git repositories\\uba-mia\\.venv\\lib\\site-packages (from ipython>=6.1.0->ipywidgets) (0.4.6)\n",
      "Requirement already satisfied: decorator in e:\\documentos\\git repositories\\uba-mia\\.venv\\lib\\site-packages (from ipython>=6.1.0->ipywidgets) (5.2.1)\n",
      "Requirement already satisfied: ipython-pygments-lexers in e:\\documentos\\git repositories\\uba-mia\\.venv\\lib\\site-packages (from ipython>=6.1.0->ipywidgets) (1.1.1)\n",
      "Requirement already satisfied: jedi>=0.16 in e:\\documentos\\git repositories\\uba-mia\\.venv\\lib\\site-packages (from ipython>=6.1.0->ipywidgets) (0.19.2)\n",
      "Requirement already satisfied: matplotlib-inline in e:\\documentos\\git repositories\\uba-mia\\.venv\\lib\\site-packages (from ipython>=6.1.0->ipywidgets) (0.1.7)\n",
      "Requirement already satisfied: prompt_toolkit<3.1.0,>=3.0.41 in e:\\documentos\\git repositories\\uba-mia\\.venv\\lib\\site-packages (from ipython>=6.1.0->ipywidgets) (3.0.50)\n",
      "Requirement already satisfied: pygments>=2.4.0 in e:\\documentos\\git repositories\\uba-mia\\.venv\\lib\\site-packages (from ipython>=6.1.0->ipywidgets) (2.19.1)\n",
      "Requirement already satisfied: stack_data in e:\\documentos\\git repositories\\uba-mia\\.venv\\lib\\site-packages (from ipython>=6.1.0->ipywidgets) (0.6.3)\n",
      "Requirement already satisfied: debugpy>=1.6.5 in e:\\documentos\\git repositories\\uba-mia\\.venv\\lib\\site-packages (from ipykernel->jupyter) (1.8.13)\n",
      "Requirement already satisfied: jupyter-client>=6.1.12 in e:\\documentos\\git repositories\\uba-mia\\.venv\\lib\\site-packages (from ipykernel->jupyter) (8.6.3)\n",
      "Requirement already satisfied: jupyter-core!=5.0.*,>=4.12 in e:\\documentos\\git repositories\\uba-mia\\.venv\\lib\\site-packages (from ipykernel->jupyter) (5.7.2)\n",
      "Requirement already satisfied: nest-asyncio in e:\\documentos\\git repositories\\uba-mia\\.venv\\lib\\site-packages (from ipykernel->jupyter) (1.6.0)\n",
      "Requirement already satisfied: packaging in e:\\documentos\\git repositories\\uba-mia\\.venv\\lib\\site-packages (from ipykernel->jupyter) (24.2)\n",
      "Requirement already satisfied: psutil in e:\\documentos\\git repositories\\uba-mia\\.venv\\lib\\site-packages (from ipykernel->jupyter) (7.0.0)\n",
      "Requirement already satisfied: pyzmq>=24 in e:\\documentos\\git repositories\\uba-mia\\.venv\\lib\\site-packages (from ipykernel->jupyter) (26.4.0)\n",
      "Requirement already satisfied: tornado>=6.1 in e:\\documentos\\git repositories\\uba-mia\\.venv\\lib\\site-packages (from ipykernel->jupyter) (6.4.2)\n",
      "Requirement already satisfied: async-lru>=1.0.0 in e:\\documentos\\git repositories\\uba-mia\\.venv\\lib\\site-packages (from jupyterlab->jupyter) (2.0.5)\n",
      "Requirement already satisfied: httpx>=0.25.0 in e:\\documentos\\git repositories\\uba-mia\\.venv\\lib\\site-packages (from jupyterlab->jupyter) (0.28.1)\n",
      "Requirement already satisfied: jinja2>=3.0.3 in e:\\documentos\\git repositories\\uba-mia\\.venv\\lib\\site-packages (from jupyterlab->jupyter) (3.1.6)\n",
      "Requirement already satisfied: jupyter-lsp>=2.0.0 in e:\\documentos\\git repositories\\uba-mia\\.venv\\lib\\site-packages (from jupyterlab->jupyter) (2.2.5)\n",
      "Requirement already satisfied: jupyter-server<3,>=2.4.0 in e:\\documentos\\git repositories\\uba-mia\\.venv\\lib\\site-packages (from jupyterlab->jupyter) (2.15.0)\n",
      "Requirement already satisfied: jupyterlab-server<3,>=2.27.1 in e:\\documentos\\git repositories\\uba-mia\\.venv\\lib\\site-packages (from jupyterlab->jupyter) (2.27.3)\n",
      "Requirement already satisfied: notebook-shim>=0.2 in e:\\documentos\\git repositories\\uba-mia\\.venv\\lib\\site-packages (from jupyterlab->jupyter) (0.2.4)\n",
      "Requirement already satisfied: setuptools>=40.8.0 in e:\\documentos\\git repositories\\uba-mia\\.venv\\lib\\site-packages (from jupyterlab->jupyter) (78.1.0)\n",
      "Requirement already satisfied: beautifulsoup4 in e:\\documentos\\git repositories\\uba-mia\\.venv\\lib\\site-packages (from nbconvert->jupyter) (4.13.3)\n",
      "Requirement already satisfied: bleach!=5.0.0 in e:\\documentos\\git repositories\\uba-mia\\.venv\\lib\\site-packages (from bleach[css]!=5.0.0->nbconvert->jupyter) (6.2.0)\n",
      "Requirement already satisfied: defusedxml in e:\\documentos\\git repositories\\uba-mia\\.venv\\lib\\site-packages (from nbconvert->jupyter) (0.7.1)\n",
      "Requirement already satisfied: jupyterlab-pygments in e:\\documentos\\git repositories\\uba-mia\\.venv\\lib\\site-packages (from nbconvert->jupyter) (0.3.0)\n",
      "Requirement already satisfied: markupsafe>=2.0 in e:\\documentos\\git repositories\\uba-mia\\.venv\\lib\\site-packages (from nbconvert->jupyter) (3.0.2)\n",
      "Requirement already satisfied: mistune<4,>=2.0.3 in e:\\documentos\\git repositories\\uba-mia\\.venv\\lib\\site-packages (from nbconvert->jupyter) (3.1.3)\n",
      "Requirement already satisfied: nbclient>=0.5.0 in e:\\documentos\\git repositories\\uba-mia\\.venv\\lib\\site-packages (from nbconvert->jupyter) (0.10.2)\n",
      "Requirement already satisfied: nbformat>=5.7 in e:\\documentos\\git repositories\\uba-mia\\.venv\\lib\\site-packages (from nbconvert->jupyter) (5.10.4)\n",
      "Requirement already satisfied: pandocfilters>=1.4.1 in e:\\documentos\\git repositories\\uba-mia\\.venv\\lib\\site-packages (from nbconvert->jupyter) (1.5.1)\n",
      "Requirement already satisfied: webencodings in e:\\documentos\\git repositories\\uba-mia\\.venv\\lib\\site-packages (from bleach!=5.0.0->bleach[css]!=5.0.0->nbconvert->jupyter) (0.5.1)\n",
      "Requirement already satisfied: tinycss2<1.5,>=1.1.0 in e:\\documentos\\git repositories\\uba-mia\\.venv\\lib\\site-packages (from bleach[css]!=5.0.0->nbconvert->jupyter) (1.4.0)\n",
      "Requirement already satisfied: anyio in e:\\documentos\\git repositories\\uba-mia\\.venv\\lib\\site-packages (from httpx>=0.25.0->jupyterlab->jupyter) (4.9.0)\n",
      "Requirement already satisfied: certifi in e:\\documentos\\git repositories\\uba-mia\\.venv\\lib\\site-packages (from httpx>=0.25.0->jupyterlab->jupyter) (2025.1.31)\n",
      "Requirement already satisfied: httpcore==1.* in e:\\documentos\\git repositories\\uba-mia\\.venv\\lib\\site-packages (from httpx>=0.25.0->jupyterlab->jupyter) (1.0.7)\n",
      "Requirement already satisfied: idna in e:\\documentos\\git repositories\\uba-mia\\.venv\\lib\\site-packages (from httpx>=0.25.0->jupyterlab->jupyter) (3.10)\n",
      "Requirement already satisfied: h11<0.15,>=0.13 in e:\\documentos\\git repositories\\uba-mia\\.venv\\lib\\site-packages (from httpcore==1.*->httpx>=0.25.0->jupyterlab->jupyter) (0.14.0)\n",
      "Requirement already satisfied: parso<0.9.0,>=0.8.4 in e:\\documentos\\git repositories\\uba-mia\\.venv\\lib\\site-packages (from jedi>=0.16->ipython>=6.1.0->ipywidgets) (0.8.4)\n",
      "Requirement already satisfied: python-dateutil>=2.8.2 in e:\\documentos\\git repositories\\uba-mia\\.venv\\lib\\site-packages (from jupyter-client>=6.1.12->ipykernel->jupyter) (2.9.0.post0)\n",
      "Requirement already satisfied: platformdirs>=2.5 in e:\\documentos\\git repositories\\uba-mia\\.venv\\lib\\site-packages (from jupyter-core!=5.0.*,>=4.12->ipykernel->jupyter) (4.3.7)\n",
      "Requirement already satisfied: pywin32>=300 in e:\\documentos\\git repositories\\uba-mia\\.venv\\lib\\site-packages (from jupyter-core!=5.0.*,>=4.12->ipykernel->jupyter) (310)\n",
      "Requirement already satisfied: argon2-cffi>=21.1 in e:\\documentos\\git repositories\\uba-mia\\.venv\\lib\\site-packages (from jupyter-server<3,>=2.4.0->jupyterlab->jupyter) (23.1.0)\n",
      "Requirement already satisfied: jupyter-events>=0.11.0 in e:\\documentos\\git repositories\\uba-mia\\.venv\\lib\\site-packages (from jupyter-server<3,>=2.4.0->jupyterlab->jupyter) (0.12.0)\n",
      "Requirement already satisfied: jupyter-server-terminals>=0.4.4 in e:\\documentos\\git repositories\\uba-mia\\.venv\\lib\\site-packages (from jupyter-server<3,>=2.4.0->jupyterlab->jupyter) (0.5.3)\n",
      "Requirement already satisfied: overrides>=5.0 in e:\\documentos\\git repositories\\uba-mia\\.venv\\lib\\site-packages (from jupyter-server<3,>=2.4.0->jupyterlab->jupyter) (7.7.0)\n",
      "Requirement already satisfied: prometheus-client>=0.9 in e:\\documentos\\git repositories\\uba-mia\\.venv\\lib\\site-packages (from jupyter-server<3,>=2.4.0->jupyterlab->jupyter) (0.21.1)\n",
      "Requirement already satisfied: pywinpty>=2.0.1 in e:\\documentos\\git repositories\\uba-mia\\.venv\\lib\\site-packages (from jupyter-server<3,>=2.4.0->jupyterlab->jupyter) (2.0.15)\n",
      "Requirement already satisfied: send2trash>=1.8.2 in e:\\documentos\\git repositories\\uba-mia\\.venv\\lib\\site-packages (from jupyter-server<3,>=2.4.0->jupyterlab->jupyter) (1.8.3)\n",
      "Requirement already satisfied: terminado>=0.8.3 in e:\\documentos\\git repositories\\uba-mia\\.venv\\lib\\site-packages (from jupyter-server<3,>=2.4.0->jupyterlab->jupyter) (0.18.1)\n",
      "Requirement already satisfied: websocket-client>=1.7 in e:\\documentos\\git repositories\\uba-mia\\.venv\\lib\\site-packages (from jupyter-server<3,>=2.4.0->jupyterlab->jupyter) (1.8.0)\n",
      "Requirement already satisfied: babel>=2.10 in e:\\documentos\\git repositories\\uba-mia\\.venv\\lib\\site-packages (from jupyterlab-server<3,>=2.27.1->jupyterlab->jupyter) (2.17.0)\n",
      "Requirement already satisfied: json5>=0.9.0 in e:\\documentos\\git repositories\\uba-mia\\.venv\\lib\\site-packages (from jupyterlab-server<3,>=2.27.1->jupyterlab->jupyter) (0.12.0)\n",
      "Requirement already satisfied: jsonschema>=4.18.0 in e:\\documentos\\git repositories\\uba-mia\\.venv\\lib\\site-packages (from jupyterlab-server<3,>=2.27.1->jupyterlab->jupyter) (4.23.0)\n",
      "Requirement already satisfied: requests>=2.31 in e:\\documentos\\git repositories\\uba-mia\\.venv\\lib\\site-packages (from jupyterlab-server<3,>=2.27.1->jupyterlab->jupyter) (2.32.3)\n",
      "Requirement already satisfied: fastjsonschema>=2.15 in e:\\documentos\\git repositories\\uba-mia\\.venv\\lib\\site-packages (from nbformat>=5.7->nbconvert->jupyter) (2.21.1)\n",
      "Requirement already satisfied: wcwidth in e:\\documentos\\git repositories\\uba-mia\\.venv\\lib\\site-packages (from prompt_toolkit<3.1.0,>=3.0.41->ipython>=6.1.0->ipywidgets) (0.2.13)\n",
      "Requirement already satisfied: soupsieve>1.2 in e:\\documentos\\git repositories\\uba-mia\\.venv\\lib\\site-packages (from beautifulsoup4->nbconvert->jupyter) (2.6)\n",
      "Requirement already satisfied: typing-extensions>=4.0.0 in e:\\documentos\\git repositories\\uba-mia\\.venv\\lib\\site-packages (from beautifulsoup4->nbconvert->jupyter) (4.13.1)\n",
      "Requirement already satisfied: executing>=1.2.0 in e:\\documentos\\git repositories\\uba-mia\\.venv\\lib\\site-packages (from stack_data->ipython>=6.1.0->ipywidgets) (2.2.0)\n",
      "Requirement already satisfied: asttokens>=2.1.0 in e:\\documentos\\git repositories\\uba-mia\\.venv\\lib\\site-packages (from stack_data->ipython>=6.1.0->ipywidgets) (3.0.0)\n",
      "Requirement already satisfied: pure-eval in e:\\documentos\\git repositories\\uba-mia\\.venv\\lib\\site-packages (from stack_data->ipython>=6.1.0->ipywidgets) (0.2.3)\n",
      "Requirement already satisfied: sniffio>=1.1 in e:\\documentos\\git repositories\\uba-mia\\.venv\\lib\\site-packages (from anyio->httpx>=0.25.0->jupyterlab->jupyter) (1.3.1)\n",
      "Requirement already satisfied: argon2-cffi-bindings in e:\\documentos\\git repositories\\uba-mia\\.venv\\lib\\site-packages (from argon2-cffi>=21.1->jupyter-server<3,>=2.4.0->jupyterlab->jupyter) (21.2.0)\n",
      "Requirement already satisfied: attrs>=22.2.0 in e:\\documentos\\git repositories\\uba-mia\\.venv\\lib\\site-packages (from jsonschema>=4.18.0->jupyterlab-server<3,>=2.27.1->jupyterlab->jupyter) (25.3.0)\n",
      "Requirement already satisfied: jsonschema-specifications>=2023.03.6 in e:\\documentos\\git repositories\\uba-mia\\.venv\\lib\\site-packages (from jsonschema>=4.18.0->jupyterlab-server<3,>=2.27.1->jupyterlab->jupyter) (2024.10.1)\n",
      "Requirement already satisfied: referencing>=0.28.4 in e:\\documentos\\git repositories\\uba-mia\\.venv\\lib\\site-packages (from jsonschema>=4.18.0->jupyterlab-server<3,>=2.27.1->jupyterlab->jupyter) (0.36.2)\n",
      "Requirement already satisfied: rpds-py>=0.7.1 in e:\\documentos\\git repositories\\uba-mia\\.venv\\lib\\site-packages (from jsonschema>=4.18.0->jupyterlab-server<3,>=2.27.1->jupyterlab->jupyter) (0.24.0)\n",
      "Requirement already satisfied: python-json-logger>=2.0.4 in e:\\documentos\\git repositories\\uba-mia\\.venv\\lib\\site-packages (from jupyter-events>=0.11.0->jupyter-server<3,>=2.4.0->jupyterlab->jupyter) (3.3.0)\n",
      "Requirement already satisfied: pyyaml>=5.3 in e:\\documentos\\git repositories\\uba-mia\\.venv\\lib\\site-packages (from jupyter-events>=0.11.0->jupyter-server<3,>=2.4.0->jupyterlab->jupyter) (6.0.2)\n",
      "Requirement already satisfied: rfc3339-validator in e:\\documentos\\git repositories\\uba-mia\\.venv\\lib\\site-packages (from jupyter-events>=0.11.0->jupyter-server<3,>=2.4.0->jupyterlab->jupyter) (0.1.4)\n",
      "Requirement already satisfied: rfc3986-validator>=0.1.1 in e:\\documentos\\git repositories\\uba-mia\\.venv\\lib\\site-packages (from jupyter-events>=0.11.0->jupyter-server<3,>=2.4.0->jupyterlab->jupyter) (0.1.1)\n",
      "Requirement already satisfied: six>=1.5 in e:\\documentos\\git repositories\\uba-mia\\.venv\\lib\\site-packages (from python-dateutil>=2.8.2->jupyter-client>=6.1.12->ipykernel->jupyter) (1.17.0)\n",
      "Requirement already satisfied: charset-normalizer<4,>=2 in e:\\documentos\\git repositories\\uba-mia\\.venv\\lib\\site-packages (from requests>=2.31->jupyterlab-server<3,>=2.27.1->jupyterlab->jupyter) (3.4.1)\n",
      "Requirement already satisfied: urllib3<3,>=1.21.1 in e:\\documentos\\git repositories\\uba-mia\\.venv\\lib\\site-packages (from requests>=2.31->jupyterlab-server<3,>=2.27.1->jupyterlab->jupyter) (2.3.0)\n",
      "Requirement already satisfied: fqdn in e:\\documentos\\git repositories\\uba-mia\\.venv\\lib\\site-packages (from jsonschema[format-nongpl]>=4.18.0->jupyter-events>=0.11.0->jupyter-server<3,>=2.4.0->jupyterlab->jupyter) (1.5.1)\n",
      "Requirement already satisfied: isoduration in e:\\documentos\\git repositories\\uba-mia\\.venv\\lib\\site-packages (from jsonschema[format-nongpl]>=4.18.0->jupyter-events>=0.11.0->jupyter-server<3,>=2.4.0->jupyterlab->jupyter) (20.11.0)\n",
      "Requirement already satisfied: jsonpointer>1.13 in e:\\documentos\\git repositories\\uba-mia\\.venv\\lib\\site-packages (from jsonschema[format-nongpl]>=4.18.0->jupyter-events>=0.11.0->jupyter-server<3,>=2.4.0->jupyterlab->jupyter) (3.0.0)\n",
      "Requirement already satisfied: uri-template in e:\\documentos\\git repositories\\uba-mia\\.venv\\lib\\site-packages (from jsonschema[format-nongpl]>=4.18.0->jupyter-events>=0.11.0->jupyter-server<3,>=2.4.0->jupyterlab->jupyter) (1.3.0)\n",
      "Requirement already satisfied: webcolors>=24.6.0 in e:\\documentos\\git repositories\\uba-mia\\.venv\\lib\\site-packages (from jsonschema[format-nongpl]>=4.18.0->jupyter-events>=0.11.0->jupyter-server<3,>=2.4.0->jupyterlab->jupyter) (24.11.1)\n",
      "Requirement already satisfied: cffi>=1.0.1 in e:\\documentos\\git repositories\\uba-mia\\.venv\\lib\\site-packages (from argon2-cffi-bindings->argon2-cffi>=21.1->jupyter-server<3,>=2.4.0->jupyterlab->jupyter) (1.17.1)\n",
      "Requirement already satisfied: pycparser in e:\\documentos\\git repositories\\uba-mia\\.venv\\lib\\site-packages (from cffi>=1.0.1->argon2-cffi-bindings->argon2-cffi>=21.1->jupyter-server<3,>=2.4.0->jupyterlab->jupyter) (2.22)\n",
      "Requirement already satisfied: arrow>=0.15.0 in e:\\documentos\\git repositories\\uba-mia\\.venv\\lib\\site-packages (from isoduration->jsonschema[format-nongpl]>=4.18.0->jupyter-events>=0.11.0->jupyter-server<3,>=2.4.0->jupyterlab->jupyter) (1.3.0)\n",
      "Requirement already satisfied: types-python-dateutil>=2.8.10 in e:\\documentos\\git repositories\\uba-mia\\.venv\\lib\\site-packages (from arrow>=0.15.0->isoduration->jsonschema[format-nongpl]>=4.18.0->jupyter-events>=0.11.0->jupyter-server<3,>=2.4.0->jupyterlab->jupyter) (2.9.0.20241206)\n",
      "Note: you may need to restart the kernel to use updated packages.\n",
      "Requirement already satisfied: transformers in e:\\documentos\\git repositories\\uba-mia\\.venv\\lib\\site-packages (4.51.1)\n",
      "Requirement already satisfied: torch in e:\\documentos\\git repositories\\uba-mia\\.venv\\lib\\site-packages (2.6.0)\n",
      "Requirement already satisfied: einops in e:\\documentos\\git repositories\\uba-mia\\.venv\\lib\\site-packages (0.8.1)\n",
      "Requirement already satisfied: filelock in e:\\documentos\\git repositories\\uba-mia\\.venv\\lib\\site-packages (from transformers) (3.18.0)\n",
      "Requirement already satisfied: huggingface-hub<1.0,>=0.30.0 in e:\\documentos\\git repositories\\uba-mia\\.venv\\lib\\site-packages (from transformers) (0.30.2)\n",
      "Requirement already satisfied: numpy>=1.17 in e:\\documentos\\git repositories\\uba-mia\\.venv\\lib\\site-packages (from transformers) (2.2.4)\n",
      "Requirement already satisfied: packaging>=20.0 in e:\\documentos\\git repositories\\uba-mia\\.venv\\lib\\site-packages (from transformers) (24.2)\n",
      "Requirement already satisfied: pyyaml>=5.1 in e:\\documentos\\git repositories\\uba-mia\\.venv\\lib\\site-packages (from transformers) (6.0.2)\n",
      "Requirement already satisfied: regex!=2019.12.17 in e:\\documentos\\git repositories\\uba-mia\\.venv\\lib\\site-packages (from transformers) (2024.11.6)\n",
      "Requirement already satisfied: requests in e:\\documentos\\git repositories\\uba-mia\\.venv\\lib\\site-packages (from transformers) (2.32.3)\n",
      "Requirement already satisfied: tokenizers<0.22,>=0.21 in e:\\documentos\\git repositories\\uba-mia\\.venv\\lib\\site-packages (from transformers) (0.21.1)\n",
      "Requirement already satisfied: safetensors>=0.4.3 in e:\\documentos\\git repositories\\uba-mia\\.venv\\lib\\site-packages (from transformers) (0.5.3)\n",
      "Requirement already satisfied: tqdm>=4.27 in e:\\documentos\\git repositories\\uba-mia\\.venv\\lib\\site-packages (from transformers) (4.67.1)\n",
      "Requirement already satisfied: typing-extensions>=4.10.0 in e:\\documentos\\git repositories\\uba-mia\\.venv\\lib\\site-packages (from torch) (4.13.1)\n",
      "Requirement already satisfied: networkx in e:\\documentos\\git repositories\\uba-mia\\.venv\\lib\\site-packages (from torch) (3.4.2)\n",
      "Requirement already satisfied: jinja2 in e:\\documentos\\git repositories\\uba-mia\\.venv\\lib\\site-packages (from torch) (3.1.6)\n",
      "Requirement already satisfied: fsspec in e:\\documentos\\git repositories\\uba-mia\\.venv\\lib\\site-packages (from torch) (2025.3.2)\n",
      "Requirement already satisfied: setuptools in e:\\documentos\\git repositories\\uba-mia\\.venv\\lib\\site-packages (from torch) (78.1.0)\n",
      "Requirement already satisfied: sympy==1.13.1 in e:\\documentos\\git repositories\\uba-mia\\.venv\\lib\\site-packages (from torch) (1.13.1)\n",
      "Requirement already satisfied: mpmath<1.4,>=1.1.0 in e:\\documentos\\git repositories\\uba-mia\\.venv\\lib\\site-packages (from sympy==1.13.1->torch) (1.3.0)\n",
      "Requirement already satisfied: colorama in e:\\documentos\\git repositories\\uba-mia\\.venv\\lib\\site-packages (from tqdm>=4.27->transformers) (0.4.6)\n",
      "Requirement already satisfied: MarkupSafe>=2.0 in e:\\documentos\\git repositories\\uba-mia\\.venv\\lib\\site-packages (from jinja2->torch) (3.0.2)\n",
      "Requirement already satisfied: charset-normalizer<4,>=2 in e:\\documentos\\git repositories\\uba-mia\\.venv\\lib\\site-packages (from requests->transformers) (3.4.1)\n",
      "Requirement already satisfied: idna<4,>=2.5 in e:\\documentos\\git repositories\\uba-mia\\.venv\\lib\\site-packages (from requests->transformers) (3.10)\n",
      "Requirement already satisfied: urllib3<3,>=1.21.1 in e:\\documentos\\git repositories\\uba-mia\\.venv\\lib\\site-packages (from requests->transformers) (2.3.0)\n",
      "Requirement already satisfied: certifi>=2017.4.17 in e:\\documentos\\git repositories\\uba-mia\\.venv\\lib\\site-packages (from requests->transformers) (2025.1.31)\n",
      "Note: you may need to restart the kernel to use updated packages.\n",
      "Requirement already satisfied: sentence-transformers in e:\\documentos\\git repositories\\uba-mia\\.venv\\lib\\site-packages (4.0.2)\n",
      "Requirement already satisfied: transformers<5.0.0,>=4.41.0 in e:\\documentos\\git repositories\\uba-mia\\.venv\\lib\\site-packages (from sentence-transformers) (4.51.1)\n",
      "Requirement already satisfied: tqdm in e:\\documentos\\git repositories\\uba-mia\\.venv\\lib\\site-packages (from sentence-transformers) (4.67.1)\n",
      "Requirement already satisfied: torch>=1.11.0 in e:\\documentos\\git repositories\\uba-mia\\.venv\\lib\\site-packages (from sentence-transformers) (2.6.0)\n",
      "Requirement already satisfied: scikit-learn in e:\\documentos\\git repositories\\uba-mia\\.venv\\lib\\site-packages (from sentence-transformers) (1.6.1)\n",
      "Requirement already satisfied: scipy in e:\\documentos\\git repositories\\uba-mia\\.venv\\lib\\site-packages (from sentence-transformers) (1.15.2)\n",
      "Requirement already satisfied: huggingface-hub>=0.20.0 in e:\\documentos\\git repositories\\uba-mia\\.venv\\lib\\site-packages (from sentence-transformers) (0.30.2)\n",
      "Requirement already satisfied: Pillow in e:\\documentos\\git repositories\\uba-mia\\.venv\\lib\\site-packages (from sentence-transformers) (11.1.0)\n",
      "Requirement already satisfied: typing_extensions>=4.5.0 in e:\\documentos\\git repositories\\uba-mia\\.venv\\lib\\site-packages (from sentence-transformers) (4.13.1)\n",
      "Requirement already satisfied: filelock in e:\\documentos\\git repositories\\uba-mia\\.venv\\lib\\site-packages (from huggingface-hub>=0.20.0->sentence-transformers) (3.18.0)\n",
      "Requirement already satisfied: fsspec>=2023.5.0 in e:\\documentos\\git repositories\\uba-mia\\.venv\\lib\\site-packages (from huggingface-hub>=0.20.0->sentence-transformers) (2025.3.2)\n",
      "Requirement already satisfied: packaging>=20.9 in e:\\documentos\\git repositories\\uba-mia\\.venv\\lib\\site-packages (from huggingface-hub>=0.20.0->sentence-transformers) (24.2)\n",
      "Requirement already satisfied: pyyaml>=5.1 in e:\\documentos\\git repositories\\uba-mia\\.venv\\lib\\site-packages (from huggingface-hub>=0.20.0->sentence-transformers) (6.0.2)\n",
      "Requirement already satisfied: requests in e:\\documentos\\git repositories\\uba-mia\\.venv\\lib\\site-packages (from huggingface-hub>=0.20.0->sentence-transformers) (2.32.3)\n",
      "Requirement already satisfied: networkx in e:\\documentos\\git repositories\\uba-mia\\.venv\\lib\\site-packages (from torch>=1.11.0->sentence-transformers) (3.4.2)\n",
      "Requirement already satisfied: jinja2 in e:\\documentos\\git repositories\\uba-mia\\.venv\\lib\\site-packages (from torch>=1.11.0->sentence-transformers) (3.1.6)\n",
      "Requirement already satisfied: setuptools in e:\\documentos\\git repositories\\uba-mia\\.venv\\lib\\site-packages (from torch>=1.11.0->sentence-transformers) (78.1.0)\n",
      "Requirement already satisfied: sympy==1.13.1 in e:\\documentos\\git repositories\\uba-mia\\.venv\\lib\\site-packages (from torch>=1.11.0->sentence-transformers) (1.13.1)\n",
      "Requirement already satisfied: mpmath<1.4,>=1.1.0 in e:\\documentos\\git repositories\\uba-mia\\.venv\\lib\\site-packages (from sympy==1.13.1->torch>=1.11.0->sentence-transformers) (1.3.0)\n",
      "Requirement already satisfied: colorama in e:\\documentos\\git repositories\\uba-mia\\.venv\\lib\\site-packages (from tqdm->sentence-transformers) (0.4.6)\n",
      "Requirement already satisfied: numpy>=1.17 in e:\\documentos\\git repositories\\uba-mia\\.venv\\lib\\site-packages (from transformers<5.0.0,>=4.41.0->sentence-transformers) (2.2.4)\n",
      "Requirement already satisfied: regex!=2019.12.17 in e:\\documentos\\git repositories\\uba-mia\\.venv\\lib\\site-packages (from transformers<5.0.0,>=4.41.0->sentence-transformers) (2024.11.6)\n",
      "Requirement already satisfied: tokenizers<0.22,>=0.21 in e:\\documentos\\git repositories\\uba-mia\\.venv\\lib\\site-packages (from transformers<5.0.0,>=4.41.0->sentence-transformers) (0.21.1)\n",
      "Requirement already satisfied: safetensors>=0.4.3 in e:\\documentos\\git repositories\\uba-mia\\.venv\\lib\\site-packages (from transformers<5.0.0,>=4.41.0->sentence-transformers) (0.5.3)\n",
      "Requirement already satisfied: joblib>=1.2.0 in e:\\documentos\\git repositories\\uba-mia\\.venv\\lib\\site-packages (from scikit-learn->sentence-transformers) (1.4.2)\n",
      "Requirement already satisfied: threadpoolctl>=3.1.0 in e:\\documentos\\git repositories\\uba-mia\\.venv\\lib\\site-packages (from scikit-learn->sentence-transformers) (3.6.0)\n",
      "Requirement already satisfied: MarkupSafe>=2.0 in e:\\documentos\\git repositories\\uba-mia\\.venv\\lib\\site-packages (from jinja2->torch>=1.11.0->sentence-transformers) (3.0.2)\n",
      "Requirement already satisfied: charset-normalizer<4,>=2 in e:\\documentos\\git repositories\\uba-mia\\.venv\\lib\\site-packages (from requests->huggingface-hub>=0.20.0->sentence-transformers) (3.4.1)\n",
      "Requirement already satisfied: idna<4,>=2.5 in e:\\documentos\\git repositories\\uba-mia\\.venv\\lib\\site-packages (from requests->huggingface-hub>=0.20.0->sentence-transformers) (3.10)\n",
      "Requirement already satisfied: urllib3<3,>=1.21.1 in e:\\documentos\\git repositories\\uba-mia\\.venv\\lib\\site-packages (from requests->huggingface-hub>=0.20.0->sentence-transformers) (2.3.0)\n",
      "Requirement already satisfied: certifi>=2017.4.17 in e:\\documentos\\git repositories\\uba-mia\\.venv\\lib\\site-packages (from requests->huggingface-hub>=0.20.0->sentence-transformers) (2025.1.31)\n",
      "Note: you may need to restart the kernel to use updated packages.\n",
      "Requirement already satisfied: huggingface_hub[hf_xet] in e:\\documentos\\git repositories\\uba-mia\\.venv\\lib\\site-packages (0.30.2)\n",
      "Requirement already satisfied: filelock in e:\\documentos\\git repositories\\uba-mia\\.venv\\lib\\site-packages (from huggingface_hub[hf_xet]) (3.18.0)\n",
      "Requirement already satisfied: fsspec>=2023.5.0 in e:\\documentos\\git repositories\\uba-mia\\.venv\\lib\\site-packages (from huggingface_hub[hf_xet]) (2025.3.2)\n",
      "Requirement already satisfied: packaging>=20.9 in e:\\documentos\\git repositories\\uba-mia\\.venv\\lib\\site-packages (from huggingface_hub[hf_xet]) (24.2)\n",
      "Requirement already satisfied: pyyaml>=5.1 in e:\\documentos\\git repositories\\uba-mia\\.venv\\lib\\site-packages (from huggingface_hub[hf_xet]) (6.0.2)\n",
      "Requirement already satisfied: requests in e:\\documentos\\git repositories\\uba-mia\\.venv\\lib\\site-packages (from huggingface_hub[hf_xet]) (2.32.3)\n",
      "Requirement already satisfied: tqdm>=4.42.1 in e:\\documentos\\git repositories\\uba-mia\\.venv\\lib\\site-packages (from huggingface_hub[hf_xet]) (4.67.1)\n",
      "Requirement already satisfied: typing-extensions>=3.7.4.3 in e:\\documentos\\git repositories\\uba-mia\\.venv\\lib\\site-packages (from huggingface_hub[hf_xet]) (4.13.1)\n",
      "Requirement already satisfied: hf-xet>=0.1.4 in e:\\documentos\\git repositories\\uba-mia\\.venv\\lib\\site-packages (from huggingface_hub[hf_xet]) (1.0.3)\n",
      "Requirement already satisfied: colorama in e:\\documentos\\git repositories\\uba-mia\\.venv\\lib\\site-packages (from tqdm>=4.42.1->huggingface_hub[hf_xet]) (0.4.6)\n",
      "Requirement already satisfied: charset-normalizer<4,>=2 in e:\\documentos\\git repositories\\uba-mia\\.venv\\lib\\site-packages (from requests->huggingface_hub[hf_xet]) (3.4.1)\n",
      "Requirement already satisfied: idna<4,>=2.5 in e:\\documentos\\git repositories\\uba-mia\\.venv\\lib\\site-packages (from requests->huggingface_hub[hf_xet]) (3.10)\n",
      "Requirement already satisfied: urllib3<3,>=1.21.1 in e:\\documentos\\git repositories\\uba-mia\\.venv\\lib\\site-packages (from requests->huggingface_hub[hf_xet]) (2.3.0)\n",
      "Requirement already satisfied: certifi>=2017.4.17 in e:\\documentos\\git repositories\\uba-mia\\.venv\\lib\\site-packages (from requests->huggingface_hub[hf_xet]) (2025.1.31)\n",
      "Note: you may need to restart the kernel to use updated packages.\n",
      "Requirement already satisfied: langchain in e:\\documentos\\git repositories\\uba-mia\\.venv\\lib\\site-packages (0.3.23)\n",
      "Requirement already satisfied: langchain-community in e:\\documentos\\git repositories\\uba-mia\\.venv\\lib\\site-packages (0.3.21)\n",
      "Requirement already satisfied: langchain-pinecone in e:\\documentos\\git repositories\\uba-mia\\.venv\\lib\\site-packages (0.2.5)\n",
      "Requirement already satisfied: pypdf in e:\\documentos\\git repositories\\uba-mia\\.venv\\lib\\site-packages (5.4.0)\n",
      "Requirement already satisfied: langchain-groq in e:\\documentos\\git repositories\\uba-mia\\.venv\\lib\\site-packages (0.3.2)\n",
      "Requirement already satisfied: langchain-huggingface in e:\\documentos\\git repositories\\uba-mia\\.venv\\lib\\site-packages (0.1.2)\n",
      "Requirement already satisfied: langchain-core<1.0.0,>=0.3.51 in e:\\documentos\\git repositories\\uba-mia\\.venv\\lib\\site-packages (from langchain) (0.3.51)\n",
      "Requirement already satisfied: langchain-text-splitters<1.0.0,>=0.3.8 in e:\\documentos\\git repositories\\uba-mia\\.venv\\lib\\site-packages (from langchain) (0.3.8)\n",
      "Requirement already satisfied: langsmith<0.4,>=0.1.17 in e:\\documentos\\git repositories\\uba-mia\\.venv\\lib\\site-packages (from langchain) (0.3.27)\n",
      "Requirement already satisfied: pydantic<3.0.0,>=2.7.4 in e:\\documentos\\git repositories\\uba-mia\\.venv\\lib\\site-packages (from langchain) (2.11.2)\n",
      "Requirement already satisfied: SQLAlchemy<3,>=1.4 in e:\\documentos\\git repositories\\uba-mia\\.venv\\lib\\site-packages (from langchain) (2.0.40)\n",
      "Requirement already satisfied: requests<3,>=2 in e:\\documentos\\git repositories\\uba-mia\\.venv\\lib\\site-packages (from langchain) (2.32.3)\n",
      "Requirement already satisfied: PyYAML>=5.3 in e:\\documentos\\git repositories\\uba-mia\\.venv\\lib\\site-packages (from langchain) (6.0.2)\n",
      "Requirement already satisfied: aiohttp<4.0.0,>=3.8.3 in e:\\documentos\\git repositories\\uba-mia\\.venv\\lib\\site-packages (from langchain-community) (3.10.11)\n",
      "Requirement already satisfied: tenacity!=8.4.0,<10,>=8.1.0 in e:\\documentos\\git repositories\\uba-mia\\.venv\\lib\\site-packages (from langchain-community) (9.1.2)\n",
      "Requirement already satisfied: dataclasses-json<0.7,>=0.5.7 in e:\\documentos\\git repositories\\uba-mia\\.venv\\lib\\site-packages (from langchain-community) (0.6.7)\n",
      "Requirement already satisfied: pydantic-settings<3.0.0,>=2.4.0 in e:\\documentos\\git repositories\\uba-mia\\.venv\\lib\\site-packages (from langchain-community) (2.8.1)\n",
      "Requirement already satisfied: httpx-sse<1.0.0,>=0.4.0 in e:\\documentos\\git repositories\\uba-mia\\.venv\\lib\\site-packages (from langchain-community) (0.4.0)\n",
      "Requirement already satisfied: numpy<3,>=1.26.2 in e:\\documentos\\git repositories\\uba-mia\\.venv\\lib\\site-packages (from langchain-community) (2.2.4)\n",
      "Requirement already satisfied: pinecone<7.0.0,>=6.0.0 in e:\\documentos\\git repositories\\uba-mia\\.venv\\lib\\site-packages (from pinecone[async]<7.0.0,>=6.0.0->langchain-pinecone) (6.0.2)\n",
      "Requirement already satisfied: langchain-tests<1.0.0,>=0.3.7 in e:\\documentos\\git repositories\\uba-mia\\.venv\\lib\\site-packages (from langchain-pinecone) (0.3.17)\n",
      "Requirement already satisfied: groq<1,>=0.4.1 in e:\\documentos\\git repositories\\uba-mia\\.venv\\lib\\site-packages (from langchain-groq) (0.22.0)\n",
      "Requirement already satisfied: huggingface-hub>=0.23.0 in e:\\documentos\\git repositories\\uba-mia\\.venv\\lib\\site-packages (from langchain-huggingface) (0.30.2)\n",
      "Requirement already satisfied: sentence-transformers>=2.6.0 in e:\\documentos\\git repositories\\uba-mia\\.venv\\lib\\site-packages (from langchain-huggingface) (4.0.2)\n",
      "Requirement already satisfied: tokenizers>=0.19.1 in e:\\documentos\\git repositories\\uba-mia\\.venv\\lib\\site-packages (from langchain-huggingface) (0.21.1)\n",
      "Requirement already satisfied: transformers>=4.39.0 in e:\\documentos\\git repositories\\uba-mia\\.venv\\lib\\site-packages (from langchain-huggingface) (4.51.1)\n",
      "Requirement already satisfied: aiohappyeyeballs>=2.3.0 in e:\\documentos\\git repositories\\uba-mia\\.venv\\lib\\site-packages (from aiohttp<4.0.0,>=3.8.3->langchain-community) (2.6.1)\n",
      "Requirement already satisfied: aiosignal>=1.1.2 in e:\\documentos\\git repositories\\uba-mia\\.venv\\lib\\site-packages (from aiohttp<4.0.0,>=3.8.3->langchain-community) (1.3.2)\n",
      "Requirement already satisfied: attrs>=17.3.0 in e:\\documentos\\git repositories\\uba-mia\\.venv\\lib\\site-packages (from aiohttp<4.0.0,>=3.8.3->langchain-community) (25.3.0)\n",
      "Requirement already satisfied: frozenlist>=1.1.1 in e:\\documentos\\git repositories\\uba-mia\\.venv\\lib\\site-packages (from aiohttp<4.0.0,>=3.8.3->langchain-community) (1.5.0)\n",
      "Requirement already satisfied: multidict<7.0,>=4.5 in e:\\documentos\\git repositories\\uba-mia\\.venv\\lib\\site-packages (from aiohttp<4.0.0,>=3.8.3->langchain-community) (6.2.0)\n",
      "Requirement already satisfied: yarl<2.0,>=1.12.0 in e:\\documentos\\git repositories\\uba-mia\\.venv\\lib\\site-packages (from aiohttp<4.0.0,>=3.8.3->langchain-community) (1.19.0)\n",
      "Requirement already satisfied: marshmallow<4.0.0,>=3.18.0 in e:\\documentos\\git repositories\\uba-mia\\.venv\\lib\\site-packages (from dataclasses-json<0.7,>=0.5.7->langchain-community) (3.26.1)\n",
      "Requirement already satisfied: typing-inspect<1,>=0.4.0 in e:\\documentos\\git repositories\\uba-mia\\.venv\\lib\\site-packages (from dataclasses-json<0.7,>=0.5.7->langchain-community) (0.9.0)\n",
      "Requirement already satisfied: anyio<5,>=3.5.0 in e:\\documentos\\git repositories\\uba-mia\\.venv\\lib\\site-packages (from groq<1,>=0.4.1->langchain-groq) (4.9.0)\n",
      "Requirement already satisfied: distro<2,>=1.7.0 in e:\\documentos\\git repositories\\uba-mia\\.venv\\lib\\site-packages (from groq<1,>=0.4.1->langchain-groq) (1.9.0)\n",
      "Requirement already satisfied: httpx<1,>=0.23.0 in e:\\documentos\\git repositories\\uba-mia\\.venv\\lib\\site-packages (from groq<1,>=0.4.1->langchain-groq) (0.28.1)\n",
      "Requirement already satisfied: sniffio in e:\\documentos\\git repositories\\uba-mia\\.venv\\lib\\site-packages (from groq<1,>=0.4.1->langchain-groq) (1.3.1)\n",
      "Requirement already satisfied: typing-extensions<5,>=4.10 in e:\\documentos\\git repositories\\uba-mia\\.venv\\lib\\site-packages (from groq<1,>=0.4.1->langchain-groq) (4.13.1)\n",
      "Requirement already satisfied: filelock in e:\\documentos\\git repositories\\uba-mia\\.venv\\lib\\site-packages (from huggingface-hub>=0.23.0->langchain-huggingface) (3.18.0)\n",
      "Requirement already satisfied: fsspec>=2023.5.0 in e:\\documentos\\git repositories\\uba-mia\\.venv\\lib\\site-packages (from huggingface-hub>=0.23.0->langchain-huggingface) (2025.3.2)\n",
      "Requirement already satisfied: packaging>=20.9 in e:\\documentos\\git repositories\\uba-mia\\.venv\\lib\\site-packages (from huggingface-hub>=0.23.0->langchain-huggingface) (24.2)\n",
      "Requirement already satisfied: tqdm>=4.42.1 in e:\\documentos\\git repositories\\uba-mia\\.venv\\lib\\site-packages (from huggingface-hub>=0.23.0->langchain-huggingface) (4.67.1)\n",
      "Requirement already satisfied: jsonpatch<2.0,>=1.33 in e:\\documentos\\git repositories\\uba-mia\\.venv\\lib\\site-packages (from langchain-core<1.0.0,>=0.3.51->langchain) (1.33)\n",
      "Requirement already satisfied: pytest<9,>=7 in e:\\documentos\\git repositories\\uba-mia\\.venv\\lib\\site-packages (from langchain-tests<1.0.0,>=0.3.7->langchain-pinecone) (8.3.5)\n",
      "Requirement already satisfied: pytest-asyncio<1,>=0.20 in e:\\documentos\\git repositories\\uba-mia\\.venv\\lib\\site-packages (from langchain-tests<1.0.0,>=0.3.7->langchain-pinecone) (0.26.0)\n",
      "Requirement already satisfied: syrupy<5,>=4 in e:\\documentos\\git repositories\\uba-mia\\.venv\\lib\\site-packages (from langchain-tests<1.0.0,>=0.3.7->langchain-pinecone) (4.9.1)\n",
      "Requirement already satisfied: pytest-socket<1,>=0.6.0 in e:\\documentos\\git repositories\\uba-mia\\.venv\\lib\\site-packages (from langchain-tests<1.0.0,>=0.3.7->langchain-pinecone) (0.7.0)\n",
      "Requirement already satisfied: orjson<4.0.0,>=3.9.14 in e:\\documentos\\git repositories\\uba-mia\\.venv\\lib\\site-packages (from langsmith<0.4,>=0.1.17->langchain) (3.10.16)\n",
      "Requirement already satisfied: requests-toolbelt<2.0.0,>=1.0.0 in e:\\documentos\\git repositories\\uba-mia\\.venv\\lib\\site-packages (from langsmith<0.4,>=0.1.17->langchain) (1.0.0)\n",
      "Requirement already satisfied: zstandard<0.24.0,>=0.23.0 in e:\\documentos\\git repositories\\uba-mia\\.venv\\lib\\site-packages (from langsmith<0.4,>=0.1.17->langchain) (0.23.0)\n",
      "Requirement already satisfied: certifi>=2019.11.17 in e:\\documentos\\git repositories\\uba-mia\\.venv\\lib\\site-packages (from pinecone<7.0.0,>=6.0.0->pinecone[async]<7.0.0,>=6.0.0->langchain-pinecone) (2025.1.31)\n",
      "Requirement already satisfied: pinecone-plugin-interface<0.0.8,>=0.0.7 in e:\\documentos\\git repositories\\uba-mia\\.venv\\lib\\site-packages (from pinecone<7.0.0,>=6.0.0->pinecone[async]<7.0.0,>=6.0.0->langchain-pinecone) (0.0.7)\n",
      "Requirement already satisfied: python-dateutil>=2.5.3 in e:\\documentos\\git repositories\\uba-mia\\.venv\\lib\\site-packages (from pinecone<7.0.0,>=6.0.0->pinecone[async]<7.0.0,>=6.0.0->langchain-pinecone) (2.9.0.post0)\n",
      "Requirement already satisfied: urllib3>=1.26.5 in e:\\documentos\\git repositories\\uba-mia\\.venv\\lib\\site-packages (from pinecone<7.0.0,>=6.0.0->pinecone[async]<7.0.0,>=6.0.0->langchain-pinecone) (2.3.0)\n",
      "Requirement already satisfied: annotated-types>=0.6.0 in e:\\documentos\\git repositories\\uba-mia\\.venv\\lib\\site-packages (from pydantic<3.0.0,>=2.7.4->langchain) (0.7.0)\n",
      "Requirement already satisfied: pydantic-core==2.33.1 in e:\\documentos\\git repositories\\uba-mia\\.venv\\lib\\site-packages (from pydantic<3.0.0,>=2.7.4->langchain) (2.33.1)\n",
      "Requirement already satisfied: typing-inspection>=0.4.0 in e:\\documentos\\git repositories\\uba-mia\\.venv\\lib\\site-packages (from pydantic<3.0.0,>=2.7.4->langchain) (0.4.0)\n",
      "Requirement already satisfied: python-dotenv>=0.21.0 in e:\\documentos\\git repositories\\uba-mia\\.venv\\lib\\site-packages (from pydantic-settings<3.0.0,>=2.4.0->langchain-community) (1.1.0)\n",
      "Requirement already satisfied: charset-normalizer<4,>=2 in e:\\documentos\\git repositories\\uba-mia\\.venv\\lib\\site-packages (from requests<3,>=2->langchain) (3.4.1)\n",
      "Requirement already satisfied: idna<4,>=2.5 in e:\\documentos\\git repositories\\uba-mia\\.venv\\lib\\site-packages (from requests<3,>=2->langchain) (3.10)\n",
      "Requirement already satisfied: torch>=1.11.0 in e:\\documentos\\git repositories\\uba-mia\\.venv\\lib\\site-packages (from sentence-transformers>=2.6.0->langchain-huggingface) (2.6.0)\n",
      "Requirement already satisfied: scikit-learn in e:\\documentos\\git repositories\\uba-mia\\.venv\\lib\\site-packages (from sentence-transformers>=2.6.0->langchain-huggingface) (1.6.1)\n",
      "Requirement already satisfied: scipy in e:\\documentos\\git repositories\\uba-mia\\.venv\\lib\\site-packages (from sentence-transformers>=2.6.0->langchain-huggingface) (1.15.2)\n",
      "Requirement already satisfied: Pillow in e:\\documentos\\git repositories\\uba-mia\\.venv\\lib\\site-packages (from sentence-transformers>=2.6.0->langchain-huggingface) (11.1.0)\n",
      "Requirement already satisfied: greenlet>=1 in e:\\documentos\\git repositories\\uba-mia\\.venv\\lib\\site-packages (from SQLAlchemy<3,>=1.4->langchain) (3.1.1)\n",
      "Requirement already satisfied: regex!=2019.12.17 in e:\\documentos\\git repositories\\uba-mia\\.venv\\lib\\site-packages (from transformers>=4.39.0->langchain-huggingface) (2024.11.6)\n",
      "Requirement already satisfied: safetensors>=0.4.3 in e:\\documentos\\git repositories\\uba-mia\\.venv\\lib\\site-packages (from transformers>=4.39.0->langchain-huggingface) (0.5.3)\n",
      "Requirement already satisfied: httpcore==1.* in e:\\documentos\\git repositories\\uba-mia\\.venv\\lib\\site-packages (from httpx<1,>=0.23.0->groq<1,>=0.4.1->langchain-groq) (1.0.7)\n",
      "Requirement already satisfied: h11<0.15,>=0.13 in e:\\documentos\\git repositories\\uba-mia\\.venv\\lib\\site-packages (from httpcore==1.*->httpx<1,>=0.23.0->groq<1,>=0.4.1->langchain-groq) (0.14.0)\n",
      "Requirement already satisfied: jsonpointer>=1.9 in e:\\documentos\\git repositories\\uba-mia\\.venv\\lib\\site-packages (from jsonpatch<2.0,>=1.33->langchain-core<1.0.0,>=0.3.51->langchain) (3.0.0)\n",
      "Requirement already satisfied: colorama in e:\\documentos\\git repositories\\uba-mia\\.venv\\lib\\site-packages (from pytest<9,>=7->langchain-tests<1.0.0,>=0.3.7->langchain-pinecone) (0.4.6)\n",
      "Requirement already satisfied: iniconfig in e:\\documentos\\git repositories\\uba-mia\\.venv\\lib\\site-packages (from pytest<9,>=7->langchain-tests<1.0.0,>=0.3.7->langchain-pinecone) (2.1.0)\n",
      "Requirement already satisfied: pluggy<2,>=1.5 in e:\\documentos\\git repositories\\uba-mia\\.venv\\lib\\site-packages (from pytest<9,>=7->langchain-tests<1.0.0,>=0.3.7->langchain-pinecone) (1.5.0)\n",
      "Requirement already satisfied: six>=1.5 in e:\\documentos\\git repositories\\uba-mia\\.venv\\lib\\site-packages (from python-dateutil>=2.5.3->pinecone<7.0.0,>=6.0.0->pinecone[async]<7.0.0,>=6.0.0->langchain-pinecone) (1.17.0)\n",
      "Requirement already satisfied: networkx in e:\\documentos\\git repositories\\uba-mia\\.venv\\lib\\site-packages (from torch>=1.11.0->sentence-transformers>=2.6.0->langchain-huggingface) (3.4.2)\n",
      "Requirement already satisfied: jinja2 in e:\\documentos\\git repositories\\uba-mia\\.venv\\lib\\site-packages (from torch>=1.11.0->sentence-transformers>=2.6.0->langchain-huggingface) (3.1.6)\n",
      "Requirement already satisfied: setuptools in e:\\documentos\\git repositories\\uba-mia\\.venv\\lib\\site-packages (from torch>=1.11.0->sentence-transformers>=2.6.0->langchain-huggingface) (78.1.0)\n",
      "Requirement already satisfied: sympy==1.13.1 in e:\\documentos\\git repositories\\uba-mia\\.venv\\lib\\site-packages (from torch>=1.11.0->sentence-transformers>=2.6.0->langchain-huggingface) (1.13.1)\n",
      "Requirement already satisfied: mpmath<1.4,>=1.1.0 in e:\\documentos\\git repositories\\uba-mia\\.venv\\lib\\site-packages (from sympy==1.13.1->torch>=1.11.0->sentence-transformers>=2.6.0->langchain-huggingface) (1.3.0)\n",
      "Requirement already satisfied: mypy-extensions>=0.3.0 in e:\\documentos\\git repositories\\uba-mia\\.venv\\lib\\site-packages (from typing-inspect<1,>=0.4.0->dataclasses-json<0.7,>=0.5.7->langchain-community) (1.0.0)\n",
      "Requirement already satisfied: propcache>=0.2.1 in e:\\documentos\\git repositories\\uba-mia\\.venv\\lib\\site-packages (from yarl<2.0,>=1.12.0->aiohttp<4.0.0,>=3.8.3->langchain-community) (0.3.1)\n",
      "Requirement already satisfied: joblib>=1.2.0 in e:\\documentos\\git repositories\\uba-mia\\.venv\\lib\\site-packages (from scikit-learn->sentence-transformers>=2.6.0->langchain-huggingface) (1.4.2)\n",
      "Requirement already satisfied: threadpoolctl>=3.1.0 in e:\\documentos\\git repositories\\uba-mia\\.venv\\lib\\site-packages (from scikit-learn->sentence-transformers>=2.6.0->langchain-huggingface) (3.6.0)\n",
      "Requirement already satisfied: MarkupSafe>=2.0 in e:\\documentos\\git repositories\\uba-mia\\.venv\\lib\\site-packages (from jinja2->torch>=1.11.0->sentence-transformers>=2.6.0->langchain-huggingface) (3.0.2)\n",
      "Note: you may need to restart the kernel to use updated packages.\n"
     ]
    },
    {
     "name": "stderr",
     "output_type": "stream",
     "text": [
      "WARNING: pinecone 6.0.2 does not provide the extra 'async'\n"
     ]
    },
    {
     "name": "stdout",
     "output_type": "stream",
     "text": [
      "Requirement already satisfied: langgraph in e:\\documentos\\git repositories\\uba-mia\\.venv\\lib\\site-packages (0.3.31)\n",
      "Requirement already satisfied: langchain-core<0.4,>=0.1 in e:\\documentos\\git repositories\\uba-mia\\.venv\\lib\\site-packages (from langgraph) (0.3.51)\n",
      "Requirement already satisfied: langgraph-checkpoint<3.0.0,>=2.0.10 in e:\\documentos\\git repositories\\uba-mia\\.venv\\lib\\site-packages (from langgraph) (2.0.24)\n",
      "Requirement already satisfied: langgraph-prebuilt<0.2,>=0.1.8 in e:\\documentos\\git repositories\\uba-mia\\.venv\\lib\\site-packages (from langgraph) (0.1.8)\n",
      "Requirement already satisfied: langgraph-sdk<0.2.0,>=0.1.42 in e:\\documentos\\git repositories\\uba-mia\\.venv\\lib\\site-packages (from langgraph) (0.1.61)\n",
      "Requirement already satisfied: xxhash<4.0.0,>=3.5.0 in e:\\documentos\\git repositories\\uba-mia\\.venv\\lib\\site-packages (from langgraph) (3.5.0)\n",
      "Requirement already satisfied: langsmith<0.4,>=0.1.125 in e:\\documentos\\git repositories\\uba-mia\\.venv\\lib\\site-packages (from langchain-core<0.4,>=0.1->langgraph) (0.3.27)\n",
      "Requirement already satisfied: tenacity!=8.4.0,<10.0.0,>=8.1.0 in e:\\documentos\\git repositories\\uba-mia\\.venv\\lib\\site-packages (from langchain-core<0.4,>=0.1->langgraph) (9.1.2)\n",
      "Requirement already satisfied: jsonpatch<2.0,>=1.33 in e:\\documentos\\git repositories\\uba-mia\\.venv\\lib\\site-packages (from langchain-core<0.4,>=0.1->langgraph) (1.33)\n",
      "Requirement already satisfied: PyYAML>=5.3 in e:\\documentos\\git repositories\\uba-mia\\.venv\\lib\\site-packages (from langchain-core<0.4,>=0.1->langgraph) (6.0.2)\n",
      "Requirement already satisfied: packaging<25,>=23.2 in e:\\documentos\\git repositories\\uba-mia\\.venv\\lib\\site-packages (from langchain-core<0.4,>=0.1->langgraph) (24.2)\n",
      "Requirement already satisfied: typing-extensions>=4.7 in e:\\documentos\\git repositories\\uba-mia\\.venv\\lib\\site-packages (from langchain-core<0.4,>=0.1->langgraph) (4.13.1)\n",
      "Requirement already satisfied: pydantic<3.0.0,>=2.7.4 in e:\\documentos\\git repositories\\uba-mia\\.venv\\lib\\site-packages (from langchain-core<0.4,>=0.1->langgraph) (2.11.2)\n",
      "Requirement already satisfied: ormsgpack<2.0.0,>=1.8.0 in e:\\documentos\\git repositories\\uba-mia\\.venv\\lib\\site-packages (from langgraph-checkpoint<3.0.0,>=2.0.10->langgraph) (1.9.1)\n",
      "Requirement already satisfied: httpx>=0.25.2 in e:\\documentos\\git repositories\\uba-mia\\.venv\\lib\\site-packages (from langgraph-sdk<0.2.0,>=0.1.42->langgraph) (0.28.1)\n",
      "Requirement already satisfied: orjson>=3.10.1 in e:\\documentos\\git repositories\\uba-mia\\.venv\\lib\\site-packages (from langgraph-sdk<0.2.0,>=0.1.42->langgraph) (3.10.16)\n",
      "Requirement already satisfied: anyio in e:\\documentos\\git repositories\\uba-mia\\.venv\\lib\\site-packages (from httpx>=0.25.2->langgraph-sdk<0.2.0,>=0.1.42->langgraph) (4.9.0)\n",
      "Requirement already satisfied: certifi in e:\\documentos\\git repositories\\uba-mia\\.venv\\lib\\site-packages (from httpx>=0.25.2->langgraph-sdk<0.2.0,>=0.1.42->langgraph) (2025.1.31)\n",
      "Requirement already satisfied: httpcore==1.* in e:\\documentos\\git repositories\\uba-mia\\.venv\\lib\\site-packages (from httpx>=0.25.2->langgraph-sdk<0.2.0,>=0.1.42->langgraph) (1.0.7)\n",
      "Requirement already satisfied: idna in e:\\documentos\\git repositories\\uba-mia\\.venv\\lib\\site-packages (from httpx>=0.25.2->langgraph-sdk<0.2.0,>=0.1.42->langgraph) (3.10)\n",
      "Requirement already satisfied: h11<0.15,>=0.13 in e:\\documentos\\git repositories\\uba-mia\\.venv\\lib\\site-packages (from httpcore==1.*->httpx>=0.25.2->langgraph-sdk<0.2.0,>=0.1.42->langgraph) (0.14.0)\n",
      "Requirement already satisfied: jsonpointer>=1.9 in e:\\documentos\\git repositories\\uba-mia\\.venv\\lib\\site-packages (from jsonpatch<2.0,>=1.33->langchain-core<0.4,>=0.1->langgraph) (3.0.0)\n",
      "Requirement already satisfied: requests<3,>=2 in e:\\documentos\\git repositories\\uba-mia\\.venv\\lib\\site-packages (from langsmith<0.4,>=0.1.125->langchain-core<0.4,>=0.1->langgraph) (2.32.3)\n",
      "Requirement already satisfied: requests-toolbelt<2.0.0,>=1.0.0 in e:\\documentos\\git repositories\\uba-mia\\.venv\\lib\\site-packages (from langsmith<0.4,>=0.1.125->langchain-core<0.4,>=0.1->langgraph) (1.0.0)\n",
      "Requirement already satisfied: zstandard<0.24.0,>=0.23.0 in e:\\documentos\\git repositories\\uba-mia\\.venv\\lib\\site-packages (from langsmith<0.4,>=0.1.125->langchain-core<0.4,>=0.1->langgraph) (0.23.0)\n",
      "Requirement already satisfied: annotated-types>=0.6.0 in e:\\documentos\\git repositories\\uba-mia\\.venv\\lib\\site-packages (from pydantic<3.0.0,>=2.7.4->langchain-core<0.4,>=0.1->langgraph) (0.7.0)\n",
      "Requirement already satisfied: pydantic-core==2.33.1 in e:\\documentos\\git repositories\\uba-mia\\.venv\\lib\\site-packages (from pydantic<3.0.0,>=2.7.4->langchain-core<0.4,>=0.1->langgraph) (2.33.1)\n",
      "Requirement already satisfied: typing-inspection>=0.4.0 in e:\\documentos\\git repositories\\uba-mia\\.venv\\lib\\site-packages (from pydantic<3.0.0,>=2.7.4->langchain-core<0.4,>=0.1->langgraph) (0.4.0)\n",
      "Requirement already satisfied: charset-normalizer<4,>=2 in e:\\documentos\\git repositories\\uba-mia\\.venv\\lib\\site-packages (from requests<3,>=2->langsmith<0.4,>=0.1.125->langchain-core<0.4,>=0.1->langgraph) (3.4.1)\n",
      "Requirement already satisfied: urllib3<3,>=1.21.1 in e:\\documentos\\git repositories\\uba-mia\\.venv\\lib\\site-packages (from requests<3,>=2->langsmith<0.4,>=0.1.125->langchain-core<0.4,>=0.1->langgraph) (2.3.0)\n",
      "Requirement already satisfied: sniffio>=1.1 in e:\\documentos\\git repositories\\uba-mia\\.venv\\lib\\site-packages (from anyio->httpx>=0.25.2->langgraph-sdk<0.2.0,>=0.1.42->langgraph) (1.3.1)\n",
      "Note: you may need to restart the kernel to use updated packages.\n"
     ]
    }
   ],
   "source": [
    "%pip install --upgrade jupyter ipywidgets\n",
    "%pip install transformers torch einops\n",
    "%pip install sentence-transformers\n",
    "%pip install huggingface_hub[hf_xet]\n",
    "%pip install langchain langchain-community langchain-pinecone pypdf langchain-groq langchain-huggingface\n",
    "%pip install -U langgraph "
   ]
  },
  {
   "cell_type": "markdown",
   "id": "47b4b570",
   "metadata": {},
   "source": [
    "✋ <em><font color='DodgerBlue'>Importaciones:</font></em> ✋"
   ]
  },
  {
   "cell_type": "code",
   "execution_count": 16,
   "id": "c8375daa",
   "metadata": {},
   "outputs": [],
   "source": [
    "import os\n",
    "import time\n",
    "from dotenv import load_dotenv\n",
    "\n",
    "# Pinecone\n",
    "from pinecone import Pinecone, ServerlessSpec\n",
    "\n",
    "# LangChain - Document Loaders\n",
    "from langchain.document_loaders import PyPDFDirectoryLoader\n",
    "\n",
    "# LangChain - Text Splitters\n",
    "from langchain_text_splitters import RecursiveCharacterTextSplitter\n",
    "\n",
    "# LangChain - Vector Stores\n",
    "from langchain_pinecone import PineconeVectorStore\n",
    "\n",
    "# LangChain - Embeddings\n",
    "from langchain_community.embeddings import JinaEmbeddings\n",
    "\n",
    "# LangChain - Chains\n",
    "from langchain.chains import create_retrieval_chain, create_history_aware_retriever\n",
    "from langchain.chains.combine_documents import create_stuff_documents_chain\n",
    "\n",
    "# LangChain - Prompts\n",
    "from langchain_core.prompts import (\n",
    "    ChatPromptTemplate,\n",
    "    MessagesPlaceholder,\n",
    "    SystemMessagePromptTemplate,\n",
    "    HumanMessagePromptTemplate,\n",
    ")\n",
    "\n",
    "# LangChain - Chat Models\n",
    "from langchain_groq import ChatGroq\n",
    "\n",
    "# LangChain - Memory\n",
    "from langchain.memory import ChatMessageHistory, ConversationBufferMemory\n",
    "\n",
    "# LangChain - Messages\n",
    "from langchain_core.messages import AIMessage, HumanMessage\n",
    "\n",
    "import os\n",
    "import time\n",
    "from pprint import pprint\n",
    "\n",
    "import streamlit as st\n",
    "from dotenv import load_dotenv\n",
    "\n",
    "from pinecone import Pinecone, ServerlessSpec\n",
    "from langchain_pinecone import PineconeVectorStore\n",
    "\n",
    "from langchain_community.document_loaders import PyPDFDirectoryLoader\n",
    "from langchain_community.embeddings import JinaEmbeddings\n",
    "\n",
    "from langchain_text_splitters import RecursiveCharacterTextSplitter\n",
    "\n",
    "from langchain_groq import ChatGroq\n",
    "\n",
    "from langchain_core.embeddings import Embeddings\n",
    "from langchain_core.language_models.chat_models import BaseChatModel\n",
    "from langchain_core.messages import AIMessage, HumanMessage\n",
    "from langchain_core.prompts import (\n",
    "    ChatPromptTemplate,\n",
    "    MessagesPlaceholder,\n",
    "    SystemMessagePromptTemplate,\n",
    "    HumanMessagePromptTemplate,\n",
    ")\n",
    "from langchain_core.runnables.base import Runnable\n",
    "\n",
    "from langchain.chains import create_history_aware_retriever\n",
    "from langchain.chains.combine_documents import create_stuff_documents_chain\n",
    "from langchain.chains.retrieval import create_retrieval_chain\n",
    "\n",
    "from typing_extensions import List, TypedDict\n",
    "from langchain_core.documents import Document\n",
    "\n",
    "from langgraph.graph import START, StateGraph\n",
    "\n",
    "from langgraph.graph import MessagesState, StateGraph\n",
    "from langchain_core.tools import tool\n",
    "from langchain_core.messages import SystemMessage\n",
    "from langgraph.prebuilt import ToolNode\n",
    "from langgraph.graph import END\n",
    "from langgraph.prebuilt import ToolNode, tools_condition\n",
    "from langgraph.checkpoint.memory import MemorySaver\n",
    "from IPython.display import Image, display\n",
    "from langgraph.prebuilt import create_react_agent"
   ]
  },
  {
   "cell_type": "markdown",
   "id": "65608963",
   "metadata": {},
   "source": [
    "🔧 <em><font color='tomato'>Configuraciones:</font></em> 🔧\n"
   ]
  },
  {
   "cell_type": "code",
   "execution_count": 17,
   "id": "bb0b64d5",
   "metadata": {},
   "outputs": [],
   "source": [
    "load_dotenv()\n",
    "\n",
    "GROQ_API_KEY = os.getenv(\"GROQ_API_KEY\")\n",
    "PINECONE_API_KEY = os.getenv(\"PINECONE_API_KEY\")\n",
    "JINA_AI_API_KEY = os.getenv(\"JINA_AI_API_KEY\")\n",
    "EMBEDDINGS_DIMENSION = 1024\n",
    "EMBEDDINGS_MODEL = \"jina-embeddings-v3\"\n",
    "GROQ_MODEL = \"llama-3.3-70b-versatile\"\n",
    "INDEX_NAME = \"rag-langchain-example\"\n",
    "NAMESPACE = \"rag-langchain-example\"\n",
    "DOCUMENTS_DIRECTORY_PATH = \"../resources/cv/\""
   ]
  },
  {
   "cell_type": "markdown",
   "id": "768ca5a9",
   "metadata": {},
   "source": [
    "## Consinga"
   ]
  },
  {
   "cell_type": "markdown",
   "id": "d9c74542",
   "metadata": {},
   "source": [
    "- Mostrar un ejemplo de RAG con Langchain y Langgraph."
   ]
  },
  {
   "cell_type": "markdown",
   "id": "bc4e6dc0",
   "metadata": {},
   "source": [
    "## Resolución"
   ]
  },
  {
   "cell_type": "markdown",
   "id": "9fc18b5b",
   "metadata": {},
   "source": [
    "Partiendo de la base del [Práctico 1](../Practico%201/research.ipynb), se realiza una implementación de RAG utilizando Langchain y Langgraph."
   ]
  },
  {
   "cell_type": "markdown",
   "id": "9012e590",
   "metadata": {},
   "source": [
    "### Sin tools\n",
    "<small><em>https://python.langchain.com/docs/tutorials/rag/</em></small>"
   ]
  },
  {
   "cell_type": "markdown",
   "id": "e59b1cd1",
   "metadata": {},
   "source": [
    "Utilizamos las funciones anteriores:"
   ]
  },
  {
   "cell_type": "code",
   "execution_count": null,
   "id": "5095e580",
   "metadata": {},
   "outputs": [],
   "source": [
    "def load_documents() -> list:\n",
    "    loader = PyPDFDirectoryLoader(path=DOCUMENTS_DIRECTORY_PATH, mode=\"single\")\n",
    "    documents = loader.load()\n",
    "\n",
    "    text_splitter = RecursiveCharacterTextSplitter(\n",
    "        chunk_size=200,\n",
    "        chunk_overlap=50,\n",
    "        separators=[\"\\n\\n\", \"\\n\", \"(?=\\\\.)\", \" \", \"\"],\n",
    "        length_function=len,\n",
    "    )\n",
    "    return text_splitter.split_documents(documents)\n",
    "\n",
    "\n",
    "def get_vector_store(text_embeddings: Embeddings) -> PineconeVectorStore:\n",
    "    vector_store = None\n",
    "    pc = Pinecone(api_key=PINECONE_API_KEY)\n",
    "\n",
    "    if not pc.has_index(INDEX_NAME):\n",
    "        chunks = load_documents()\n",
    "\n",
    "        pc.create_index(\n",
    "            name=INDEX_NAME,\n",
    "            vector_type=\"dense\",\n",
    "            dimension=1024,\n",
    "            metric=\"cosine\",\n",
    "            spec=ServerlessSpec(cloud=\"aws\", region=\"us-east-1\"),\n",
    "            deletion_protection=\"disabled\",\n",
    "            tags={\"environment\": \"development\"},\n",
    "        )\n",
    "        # Espera activa hasta que el índice esté listo\n",
    "        while not pc.describe_index(INDEX_NAME).status[\"ready\"]:\n",
    "            time.sleep(1)\n",
    "\n",
    "        vector_store = PineconeVectorStore.from_documents(\n",
    "            documents=chunks,\n",
    "            embedding=text_embeddings,\n",
    "            index_name=INDEX_NAME,\n",
    "            namespace=NAMESPACE,\n",
    "        )\n",
    "\n",
    "        # Verificamos la cantidad de documentos\n",
    "        index = pc.Index(INDEX_NAME)\n",
    "        if index.describe_index_stats(namespace=NAMESPACE)[\"total_vector_count\"] == 0:\n",
    "            raise ValueError(\"No se encontraron documentos en el índice. Verifique la carpeta de documentos.\")\n",
    "\n",
    "    if vector_store is None:\n",
    "        vector_store = PineconeVectorStore.from_existing_index(\n",
    "            embedding=text_embeddings, index_name=INDEX_NAME, namespace=NAMESPACE\n",
    "        )\n",
    "\n",
    "    return vector_store"
   ]
  },
  {
   "cell_type": "markdown",
   "id": "1eac69fc",
   "metadata": {},
   "source": [
    "Inicializamos LLM, embeddings y vectorstore:"
   ]
  },
  {
   "cell_type": "code",
   "execution_count": 19,
   "id": "908280ee",
   "metadata": {},
   "outputs": [],
   "source": [
    "chat = ChatGroq(groq_api_key=GROQ_API_KEY, model_name=GROQ_MODEL)\n",
    "text_embeddings = JinaEmbeddings(\n",
    "    jina_api_key=JINA_AI_API_KEY, model_name=EMBEDDINGS_MODEL\n",
    ")\n",
    "\n",
    "vector_store = get_vector_store(text_embeddings=text_embeddings)"
   ]
  },
  {
   "cell_type": "code",
   "execution_count": null,
   "id": "ca64ef8a",
   "metadata": {},
   "outputs": [],
   "source": [
    "index"
   ]
  },
  {
   "cell_type": "code",
   "execution_count": null,
   "id": "89f7dcd8",
   "metadata": {},
   "outputs": [],
   "source": [
    "pc = Pinecone(api_key=PINECONE_API_KEY)\n",
    "index = pc.Index(INDEX_NAME)\n",
    "index.\n",
    "for ids in index.list(namespace=NAMESPACE):\n",
    "    print(ids)\n",
    "# documents = index.fetch(namespace=NAMESPACE)\n",
    "# print(documents)"
   ]
  },
  {
   "cell_type": "code",
   "execution_count": null,
   "id": "e3ff65d9",
   "metadata": {},
   "outputs": [
    {
     "data": {
      "text/plain": [
       "62"
      ]
     },
     "execution_count": 31,
     "metadata": {},
     "output_type": "execute_result"
    }
   ],
   "source": [
    "index.describe_index_stats(namespace=NAMESPACE).total_vector_count"
   ]
  },
  {
   "cell_type": "markdown",
   "id": "099d6e60",
   "metadata": {},
   "source": [
    "RAG:"
   ]
  },
  {
   "cell_type": "code",
   "execution_count": 21,
   "id": "7e1e6c3e",
   "metadata": {},
   "outputs": [
    {
     "name": "stdout",
     "output_type": "stream",
     "text": [
      "\n",
      "Eres un asistente para tareas de preguntas y respuestas. Usa las siguientes piezas de contexto recuperado para responder la pregunta. Si no sabes la respuesta, simplemente di que no la sabes. Usa un máximo de tres oraciones y mantén la respuesta concisa.\n",
      "Pregunta: (entrada usuario) \n",
      "Contexto: (contexto) \n",
      "Respuesta:\n",
      "\n"
     ]
    }
   ],
   "source": [
    "prompt = \"\"\"\n",
    "Eres un asistente para tareas de preguntas y respuestas. Usa las siguientes piezas de contexto recuperado para responder la pregunta. Si no sabes la respuesta, simplemente di que no la sabes. Usa un máximo de tres oraciones y mantén la respuesta concisa.\n",
    "Pregunta: {input} \n",
    "Contexto: {context} \n",
    "Respuesta:\n",
    "\"\"\"\n",
    "\n",
    "qa_prompt = ChatPromptTemplate.from_messages(\n",
    "    [\n",
    "        SystemMessagePromptTemplate.from_template(prompt),\n",
    "    ]\n",
    ")\n",
    "\n",
    "# Test prompt\n",
    "test_prompt = qa_prompt.invoke({\"input\": \"(entrada usuario)\", \"context\": \"(contexto)\"}).to_messages()\n",
    "print(test_prompt[0].content)"
   ]
  },
  {
   "cell_type": "markdown",
   "id": "5cf70c5d",
   "metadata": {},
   "source": [
    "Langgraph:"
   ]
  },
  {
   "cell_type": "code",
   "execution_count": 22,
   "id": "016c2c5a",
   "metadata": {},
   "outputs": [
    {
     "data": {
      "image/png": "[encoded data removed]",
      "text/plain": [
       "<IPython.core.display.Image object>"
      ]
     },
     "metadata": {},
     "output_type": "display_data"
    }
   ],
   "source": [
    "class State(TypedDict):\n",
    "    input: str\n",
    "    context: List[Document]\n",
    "    answer: str\n",
    "\n",
    "def retrieve(state: State):\n",
    "    retrieved_docs = vector_store.similarity_search(\n",
    "        state[\"input\"], k=3, namespace=NAMESPACE\n",
    "    )\n",
    "    return {'context': retrieved_docs}\n",
    "\n",
    "def generate(state: State):\n",
    "    docs_content = \"\\n\\n\".join(doc.page_content for doc in state[\"context\"])\n",
    "    messages = qa_prompt.invoke({\"input\": state[\"input\"], \"context\": docs_content})\n",
    "    response = chat.invoke(messages)\n",
    "    return {\"answer\": response.content}\n",
    "\n",
    "grap_builder = StateGraph(State)\n",
    "grap_builder.add_sequence([retrieve, generate])\n",
    "grap_builder.add_edge(START, \"retrieve\")\n",
    "graph = grap_builder.compile()\n",
    "\n",
    "from IPython.display import Image, display\n",
    "\n",
    "display(Image(graph.get_graph().draw_mermaid_png()))"
   ]
  },
  {
   "cell_type": "markdown",
   "id": "fd23c185",
   "metadata": {},
   "source": [
    "Testing:"
   ]
  },
  {
   "cell_type": "code",
   "execution_count": 23,
   "id": "b3b4ab0a",
   "metadata": {},
   "outputs": [
    {
     "name": "stdout",
     "output_type": "stream",
     "text": [
      "Contexto: [Document(id='97a2f976-24e6-4521-8eb5-169e228680d8', metadata={'author': 'Bruno Masoller', 'creationdate': '2025-04-08T18:48:43-03:00', 'creator': 'Microsoft® Word para Microsoft 365', 'moddate': '2025-04-08T18:48:43-03:00', 'producer': 'Microsoft® Word para Microsoft 365', 'source': '..\\\\resources\\\\cv\\\\CV Bruno Masoller - Detallado.pdf', 'total_pages': 4.0}, page_content='• Ingeniería de software \\n• MLOps \\n• SQL \\n• Python \\n• Java \\n• Quarkus \\n• Scikit-learn \\n• SAP Process \\nOrchestration \\n• Angular \\n• Typescript \\n• Ionic \\n \\nINTERESES Y ÁREAS DE INVESTIGACIÓN:'), Document(id='10f3d8d8-a10b-4fa1-87b0-36fd3f1a8552', metadata={'author': 'Bruno Masoller', 'creationdate': '2025-04-08T18:48:43-03:00', 'creator': 'Microsoft® Word para Microsoft 365', 'moddate': '2025-04-08T18:48:43-03:00', 'producer': 'Microsoft® Word para Microsoft 365', 'source': '..\\\\resources\\\\cv\\\\CV Bruno Masoller - Detallado.pdf', 'total_pages': 4.0}, page_content='o Puesto: Data scientist. \\no Características: \\n▪ Proyectos de Machine Learning. \\n \\nIDIOMAS: \\n• Ingles. Avanzado, oral y escrito. \\n• Portugués. Básico, oral y escrito. \\nCERTIFICACIONES:'), Document(id='301be7ff-3c0c-41e3-a9a0-4cb57a76b755', metadata={'author': 'Bruno Masoller', 'creationdate': '2025-04-08T18:48:43-03:00', 'creator': 'Microsoft® Word para Microsoft 365', 'moddate': '2025-04-08T18:48:43-03:00', 'producer': 'Microsoft® Word para Microsoft 365', 'source': '..\\\\resources\\\\cv\\\\CV Bruno Masoller - Detallado.pdf', 'total_pages': 4.0}, page_content='• Operador Windows. Organización: Kompukon Informática. Fecha: 2002. \\n \\nHABILIDADES:\\n• Aprendizaje de \\nmáquinas \\n• Visión por \\ncomputadora \\n• Desarrollo web \\n• Ingeniería de software \\n• MLOps \\n• SQL')]\n",
      "Respuesta: Los lenguajes de programación más utilizados en el CV son Python, Java, SQL, TypeScript y Angular. También se mencionan Quarkus, Scikit-learn y Ionic. Estos lenguajes están relacionados con las áreas de interés y habilidades del titular, como Machine Learning y desarrollo web.\n"
     ]
    }
   ],
   "source": [
    "result = graph.invoke({\"input\": \"¿Cuáles son los lenguajes de programación más utilizados en el CV?\"})\n",
    "\n",
    "print(f\"Contexto: {result['context']}\")\n",
    "print(f\"Respuesta: {result['answer']}\")"
   ]
  },
  {
   "cell_type": "markdown",
   "id": "9e3b1e1e",
   "metadata": {},
   "source": [
    "Testing paso a paso:"
   ]
  },
  {
   "cell_type": "code",
   "execution_count": null,
   "id": "842745c4",
   "metadata": {},
   "outputs": [],
   "source": [
    "for step in graph.stream(\n",
    "    {\"input\": \"¿Cuáles son los lenguajes de programación más utilizados en el CV?\"},\n",
    "    stream_mode=\"updates\",\n",
    "):\n",
    "    print(f\"{step}\\n----------------\\n\")"
   ]
  },
  {
   "cell_type": "markdown",
   "id": "16f6e37d",
   "metadata": {},
   "source": [
    "### Con tools"
   ]
  },
  {
   "cell_type": "markdown",
   "id": "57abbf57",
   "metadata": {},
   "source": [
    "El objetivo es utilizar una `tool` para buscar en el vectorstore y luego utilizar un LLM para responder a la pregunta. Para ello, utilizamos el módulo de agentes de LangChain.\n",
    "Un RAG de este tipo, se puede representar el estado de nuestra aplicación mediante una secuencia de mensajes. En concreto, tendremos:\n",
    "\n",
    "1. Entrada del usuario como un `HumanMessage`;\n",
    "2. Consulta de almacén vectorial como un `AIMessage` con llamadas a herramientas;\n",
    "3. Documentos recuperados como un `ToolMessage`;\n",
    "4. Respuesta final como un `AIMessage`."
   ]
  },
  {
   "cell_type": "markdown",
   "id": "0e041bc6",
   "metadata": {},
   "source": [
    "Creamos el estado para representar nuestro RAG:"
   ]
  },
  {
   "cell_type": "markdown",
   "id": "6afcbd06",
   "metadata": {},
   "source": [
    "> 📝 <em><font color='Gray'>Nota:</font></em> La clase `MessageState` contiene un estado con una lista de mensajes en el campo `messages`. Lo mismo que:\n",
    ">\n",
    "> ```python\n",
    "> class GraphState(TypedDict):\n",
    ">     messages: Annotated[list[AnyMessage], add_messages]\n",
    "> ```"
   ]
  },
  {
   "cell_type": "code",
   "execution_count": null,
   "id": "816ecd74",
   "metadata": {},
   "outputs": [],
   "source": [
    "graph_builder = StateGraph(MessagesState)"
   ]
  },
  {
   "cell_type": "markdown",
   "id": "9c6f62e2",
   "metadata": {},
   "source": [
    "Creamos la herramienta para buscar en el vectorstore:\n",
    "\n",
    "- <small><em>https://python.langchain.com/docs/concepts/messages/#toolmessage</em></small>\n",
    "- <small><em>https://python.langchain.com/docs/how_to/tool_artifacts/</em></small>\n",
    "- <small><em>https://python.langchain.com/docs/concepts/tool_calling/</em></small>\n",
    "- <small><em>https://langchain-ai.github.io/langgraph/how-tos/tool-calling/</em></small>\n",
    "- <small><em>https://python.langchain.com/docs/how_to/tool_calling/</em></small>\n",
    "- <small><em>https://langchain-ai.github.io/langgraph/how-tos/create-react-agent/</em></small>"
   ]
  },
  {
   "cell_type": "code",
   "execution_count": null,
   "id": "5f679bb6",
   "metadata": {},
   "outputs": [],
   "source": [
    "@tool(response_format=\"content_and_artifact\") # \"content_and_artifact\": indica que la respuesta debe incluir tanto el contenido como el artefacto\n",
    "def retrieve(query: str):\n",
    "    \"\"\"Obtiene infrormación relevante del CV de un candidato a partir de una consulta.\"\"\"\n",
    "    retrieved_docs = vector_store.similarity_search(query, k=2)\n",
    "    serialized = \"\\n\\n\".join(\n",
    "        (f\"Source: {doc.metadata}\\n\" f\"Content: {doc.page_content}\")\n",
    "        for doc in retrieved_docs\n",
    "    )\n",
    "    return serialized, retrieved_docs"
   ]
  },
  {
   "cell_type": "markdown",
   "id": "870203e0",
   "metadata": {},
   "source": [
    "Probamos la herramienta:"
   ]
  },
  {
   "cell_type": "code",
   "execution_count": null,
   "id": "01696409",
   "metadata": {},
   "outputs": [
    {
     "name": "stdout",
     "output_type": "stream",
     "text": [
      "Source: {'author': 'Bruno Masoller', 'creationdate': '2025-04-08T18:48:43-03:00', 'creator': 'Microsoft® Word para Microsoft 365', 'moddate': '2025-04-08T18:48:43-03:00', 'producer': 'Microsoft® Word para Microsoft 365', 'source': '..\\\\resources\\\\cvs_pdf\\\\CV Bruno Masoller - Detallado.pdf', 'total_pages': 4.0}\n",
      "Content: • Ingeniería de software \n",
      "• MLOps \n",
      "• SQL \n",
      "• Python \n",
      "• Java \n",
      "• Quarkus \n",
      "• Scikit-learn \n",
      "• SAP Process \n",
      "Orchestration \n",
      "• Angular \n",
      "• Typescript \n",
      "• Ionic \n",
      " \n",
      "INTERESES Y ÁREAS DE INVESTIGACIÓN:\n",
      "\n",
      "Source: {'author': 'Bruno Masoller', 'creationdate': '2025-04-08T18:48:43-03:00', 'creator': 'Microsoft® Word para Microsoft 365', 'moddate': '2025-04-08T18:48:43-03:00', 'producer': 'Microsoft® Word para Microsoft 365', 'source': '..\\\\resources\\\\cvs_pdf\\\\CV Bruno Masoller - Detallado.pdf', 'total_pages': 4.0}\n",
      "Content: o Puesto: Data scientist. \n",
      "o Características: \n",
      "▪ Proyectos de Machine Learning. \n",
      " \n",
      "IDIOMAS: \n",
      "• Ingles. Avanzado, oral y escrito. \n",
      "• Portugués. Básico, oral y escrito. \n",
      "CERTIFICACIONES:\n"
     ]
    }
   ],
   "source": [
    "result = retrieve.invoke(\"¿Cuáles son los lenguajes de programación más utilizados en el CV?\")\n",
    "print(result)"
   ]
  },
  {
   "cell_type": "markdown",
   "id": "41f7c8fe",
   "metadata": {},
   "source": [
    "Creamos el grafo de LangGraph:"
   ]
  },
  {
   "cell_type": "markdown",
   "id": "512f982d",
   "metadata": {},
   "source": [
    "> 📝 <em><font color='Gray'>Nota:</font></em> Una buena estrategia de resolución es idear el grafo de ejecución para resolver los problemas. En este caso, consiste de tres nodos:\n",
    "> 1. Un nodo de entrada que recibe la pregunta del usuario, y o se genera una query para el retriever o se responde directamente.\n",
    "> 2. Un nodo retriever que busca en el vectorstore y devuelve los documentos relevantes.\n",
    "> 3. Un nodo que genera la respuesta final a partir de los documentos recuperados y la pregunta original."
   ]
  },
  {
   "cell_type": "markdown",
   "id": "cef6ec2f",
   "metadata": {},
   "source": [
    "> 📝 <em><font color='Gray'>Nota:</font></em> Se puede utilizar `ToolNode` que permite ejecutar la herramienta y agregar el resultado como `ToolMessage` al estado."
   ]
  },
  {
   "cell_type": "code",
   "execution_count": null,
   "id": "80e63821",
   "metadata": {},
   "outputs": [],
   "source": [
    "# Step 1: Generate an AIMessage that may include a tool-call to be sent.\n",
    "def query_or_respond(state: MessagesState):\n",
    "    \"\"\"Generate tool call for retrieval or respond.\"\"\"\n",
    "    messages = state[\"messages\"]\n",
    "    llm_with_tools = chat.bind_tools([retrieve])\n",
    "    response = llm_with_tools.invoke(messages)\n",
    "    # MessagesState appends messages to state instead of overwriting\n",
    "    return {\"messages\": [response]}\n",
    "\n",
    "\n",
    "# Step 2: Execute the retrieval.\n",
    "tools = ToolNode([retrieve])\n",
    "\n",
    "\n",
    "# Step 3: Generate a response using the retrieved content.\n",
    "def generate(state: MessagesState):\n",
    "    \"\"\"Generate answer.\"\"\"\n",
    "    # Get generated ToolMessages\n",
    "    messages = state[\"messages\"]\n",
    "    recent_tool_messages = []\n",
    "    for message in reversed(messages):\n",
    "        if message.type == \"tool\":\n",
    "            recent_tool_messages.append(message)\n",
    "        else:\n",
    "            break\n",
    "    tool_messages = recent_tool_messages[::-1]\n",
    "\n",
    "    # Format into prompt\n",
    "    docs_content = \"\\n\\n\".join(doc.content for doc in tool_messages)\n",
    "    system_message_content = (\n",
    "        \"Eres asistente para tareas de preguntas y respuestas.\"\n",
    "        \"Usa los siguientes fragmentos de contexto recuperados para responder a la pregunta.\"\n",
    "        \"Si no sabes la respuesta, di que no la sabes.\"\n",
    "        \"\\n\\n\"\n",
    "        f\"{docs_content}\"\n",
    "    )\n",
    "\n",
    "    # Se filtran los mensajes para obtener solo los relevantes y no contaminar el contexto.\n",
    "    conversation_messages = [\n",
    "        message\n",
    "        for message in messages\n",
    "        if message.type in (\"human\", \"system\")\n",
    "        or (message.type == \"ai\" and not message.tool_calls)\n",
    "    ]\n",
    "    prompt = [SystemMessage(system_message_content)] + conversation_messages\n",
    "\n",
    "    # Run\n",
    "    response = chat.invoke(prompt)\n",
    "    return {\"messages\": [response]}"
   ]
  },
  {
   "cell_type": "markdown",
   "id": "dc1ed143",
   "metadata": {},
   "source": [
    "Creamos el grafo de LangGraph:"
   ]
  },
  {
   "cell_type": "markdown",
   "id": "3eb8c177",
   "metadata": {},
   "source": [
    "> 📝 <em><font color='Gray'>Nota:</font></em> Podemos hacer un manejo de la memoria utilizando `MemorySaver`. `LangGraph` maneja automáticamente las sesiones con una memoria \"in-memory\" con *checkpoint*. Simplemente se le pasa un objeto config a la ejecución, con un ID único para cada hilo."
   ]
  },
  {
   "cell_type": "code",
   "execution_count": null,
   "id": "111e61a0",
   "metadata": {},
   "outputs": [],
   "source": [
    "memory = MemorySaver()\n",
    "\n",
    "graph_builder.add_node(query_or_respond)\n",
    "graph_builder.add_node(tools)\n",
    "graph_builder.add_node(generate)\n",
    "\n",
    "graph_builder.set_entry_point(\"query_or_respond\")\n",
    "graph_builder.add_conditional_edges(\n",
    "    \"query_or_respond\",\n",
    "    tools_condition,\n",
    "    {END: END, \"tools\": \"tools\"},\n",
    ")\n",
    "graph_builder.add_edge(\"tools\", \"generate\")\n",
    "graph_builder.add_edge(\"generate\", END)\n",
    "\n",
    "graph = graph_builder.compile(checkpointer=memory)\n",
    "\n",
    "# Specify an ID for the thread\n",
    "config = {\"configurable\": {\"thread_id\": \"abc123\"}}"
   ]
  },
  {
   "cell_type": "markdown",
   "id": "883a73be",
   "metadata": {},
   "source": [
    "Mostramos el grafo:"
   ]
  },
  {
   "cell_type": "code",
   "execution_count": null,
   "id": "7eab751b",
   "metadata": {},
   "outputs": [
    {
     "data": {
      "image/png": "[encoded data removed]",
      "text/plain": [
       "<IPython.core.display.Image object>"
      ]
     },
     "metadata": {},
     "output_type": "display_data"
    }
   ],
   "source": [
    "display(Image(graph.get_graph().draw_mermaid_png()))"
   ]
  },
  {
   "cell_type": "markdown",
   "id": "c9d12d56",
   "metadata": {},
   "source": [
    "#### Test"
   ]
  },
  {
   "cell_type": "markdown",
   "id": "43f924cc",
   "metadata": {},
   "source": [
    "Probamos el modelo (sin utilizar tools):"
   ]
  },
  {
   "cell_type": "code",
   "execution_count": null,
   "id": "3d22d8d6",
   "metadata": {},
   "outputs": [
    {
     "name": "stdout",
     "output_type": "stream",
     "text": [
      "================================\u001b[1m Human Message \u001b[0m=================================\n",
      "\n",
      "Hola!\n",
      "==================================\u001b[1m Ai Message \u001b[0m==================================\n",
      "\n",
      "No hay ninguna función que deba ser llamada para esta consulta. ¿Hay algo más con lo que pueda ayudarte?\n"
     ]
    }
   ],
   "source": [
    "input_message = \"Hola!\"\n",
    "\n",
    "for step in graph.stream(\n",
    "    {\"messages\": [{\"role\": \"user\", \"content\": input_message}]},\n",
    "    stream_mode=\"values\",\n",
    "    config=config,\n",
    "):\n",
    "    step[\"messages\"][-1].pretty_print()"
   ]
  },
  {
   "cell_type": "code",
   "execution_count": null,
   "id": "bd893a1f",
   "metadata": {},
   "outputs": [
    {
     "name": "stdout",
     "output_type": "stream",
     "text": [
      "================================\u001b[1m Human Message \u001b[0m=================================\n",
      "\n",
      "¿Cuáles son los lenguajes de programación más utilizados en el CV?\n",
      "==================================\u001b[1m Ai Message \u001b[0m==================================\n",
      "Tool Calls:\n",
      "  retrieve (call_c5hg)\n",
      " Call ID: call_c5hg\n",
      "  Args:\n",
      "    query: lenguajes de programación más utilizados\n",
      "=================================\u001b[1m Tool Message \u001b[0m=================================\n",
      "Name: retrieve\n",
      "\n",
      "Source: {'author': 'Bruno Masoller', 'creationdate': '2025-04-08T18:48:43-03:00', 'creator': 'Microsoft® Word para Microsoft 365', 'moddate': '2025-04-08T18:48:43-03:00', 'producer': 'Microsoft® Word para Microsoft 365', 'source': '..\\\\resources\\\\cvs_pdf\\\\CV Bruno Masoller - Detallado.pdf', 'total_pages': 4.0}\n",
      "Content: • Ingeniería de software \n",
      "• MLOps \n",
      "• SQL \n",
      "• Python \n",
      "• Java \n",
      "• Quarkus \n",
      "• Scikit-learn \n",
      "• SAP Process \n",
      "Orchestration \n",
      "• Angular \n",
      "• Typescript \n",
      "• Ionic \n",
      " \n",
      "INTERESES Y ÁREAS DE INVESTIGACIÓN:\n",
      "\n",
      "Source: {'author': 'Bruno Masoller', 'creationdate': '2025-04-08T18:48:43-03:00', 'creator': 'Microsoft® Word para Microsoft 365', 'moddate': '2025-04-08T18:48:43-03:00', 'producer': 'Microsoft® Word para Microsoft 365', 'source': '..\\\\resources\\\\cvs_pdf\\\\CV Bruno Masoller - Detallado.pdf', 'total_pages': 4.0}\n",
      "Content: • Ionic. \n",
      "• Quarkus. \n",
      "• CMMI/TMMI/TPI. \n",
      "• Python. \n",
      "• YOLO \n",
      "• Computer Vision \n",
      "• Genexus Consulting. Montevideo, Uruguay. Mail: info@genexusconsulting.com. Teléfono: +598 2601\n",
      "==================================\u001b[1m Ai Message \u001b[0m==================================\n",
      "\n",
      "Según el CV proporcionado, los lenguajes de programación más destacados son:\n",
      "\n",
      "1. Python\n",
      "2. Java\n",
      "3. Typescript\n",
      "\n",
      "También se mencionan otros lenguajes y tecnologías como SQL, Scikit-learn, Quarkus, Angular e Ionic, pero Python, Java y Typescript parecen ser los lenguajes de programación más destacados.\n"
     ]
    }
   ],
   "source": [
    "input_message = \"¿Cuáles son los lenguajes de programación más utilizados en el CV?\"\n",
    "\n",
    "for step in graph.stream(\n",
    "    {\"messages\": [{\"role\": \"user\", \"content\": input_message}]},\n",
    "    stream_mode=\"values\",\n",
    "    config=config,\n",
    "):\n",
    "    step[\"messages\"][-1].pretty_print()"
   ]
  },
  {
   "cell_type": "markdown",
   "id": "839c9d10",
   "metadata": {},
   "source": [
    "#### Inspeccionar historial"
   ]
  },
  {
   "cell_type": "code",
   "execution_count": null,
   "id": "190864bf",
   "metadata": {},
   "outputs": [
    {
     "name": "stdout",
     "output_type": "stream",
     "text": [
      "================================\u001b[1m Human Message \u001b[0m=================================\n",
      "\n",
      "Hola!\n",
      "==================================\u001b[1m Ai Message \u001b[0m==================================\n",
      "\n",
      "No hay ninguna función que deba ser llamada para esta consulta. ¿Hay algo más con lo que pueda ayudarte?\n",
      "================================\u001b[1m Human Message \u001b[0m=================================\n",
      "\n",
      "¿Cuáles son los lenguajes de programación más utilizados en el CV?\n",
      "==================================\u001b[1m Ai Message \u001b[0m==================================\n",
      "Tool Calls:\n",
      "  retrieve (call_c5hg)\n",
      " Call ID: call_c5hg\n",
      "  Args:\n",
      "    query: lenguajes de programación más utilizados\n",
      "=================================\u001b[1m Tool Message \u001b[0m=================================\n",
      "Name: retrieve\n",
      "\n",
      "Source: {'author': 'Bruno Masoller', 'creationdate': '2025-04-08T18:48:43-03:00', 'creator': 'Microsoft® Word para Microsoft 365', 'moddate': '2025-04-08T18:48:43-03:00', 'producer': 'Microsoft® Word para Microsoft 365', 'source': '..\\\\resources\\\\cvs_pdf\\\\CV Bruno Masoller - Detallado.pdf', 'total_pages': 4.0}\n",
      "Content: • Ingeniería de software \n",
      "• MLOps \n",
      "• SQL \n",
      "• Python \n",
      "• Java \n",
      "• Quarkus \n",
      "• Scikit-learn \n",
      "• SAP Process \n",
      "Orchestration \n",
      "• Angular \n",
      "• Typescript \n",
      "• Ionic \n",
      " \n",
      "INTERESES Y ÁREAS DE INVESTIGACIÓN:\n",
      "\n",
      "Source: {'author': 'Bruno Masoller', 'creationdate': '2025-04-08T18:48:43-03:00', 'creator': 'Microsoft® Word para Microsoft 365', 'moddate': '2025-04-08T18:48:43-03:00', 'producer': 'Microsoft® Word para Microsoft 365', 'source': '..\\\\resources\\\\cvs_pdf\\\\CV Bruno Masoller - Detallado.pdf', 'total_pages': 4.0}\n",
      "Content: • Ionic. \n",
      "• Quarkus. \n",
      "• CMMI/TMMI/TPI. \n",
      "• Python. \n",
      "• YOLO \n",
      "• Computer Vision \n",
      "• Genexus Consulting. Montevideo, Uruguay. Mail: info@genexusconsulting.com. Teléfono: +598 2601\n",
      "==================================\u001b[1m Ai Message \u001b[0m==================================\n",
      "\n",
      "Según el CV proporcionado, los lenguajes de programación más destacados son:\n",
      "\n",
      "1. Python\n",
      "2. Java\n",
      "3. Typescript\n",
      "\n",
      "También se mencionan otros lenguajes y tecnologías como SQL, Scikit-learn, Quarkus, Angular e Ionic, pero Python, Java y Typescript parecen ser los lenguajes de programación más destacados.\n"
     ]
    }
   ],
   "source": [
    "# Podemos inspeccionar el historial de mensajes en cualquier momento\n",
    "chat_history = graph.get_state(config).values[\"messages\"]\n",
    "for message in chat_history:\n",
    "    message.pretty_print()"
   ]
  },
  {
   "cell_type": "markdown",
   "id": "20cf76e7",
   "metadata": {},
   "source": [
    "#### Agente RAG\n",
    "\n",
    "- <small><em>https://python.langchain.com/docs/concepts/agents/</em></small>\n",
    "- <small><em>https://langchain-ai.github.io/langgraph/how-tos/#prebuilt-react-agent</em></small>\n",
    "- <small><em>https://langchain-ai.github.io/langgraph/how-tos/create-react-agent/</em></small>\n",
    "- <small><em>https://python.langchain.com/docs/tutorials/agents/</em></small>"
   ]
  },
  {
   "cell_type": "markdown",
   "id": "d9de0ea0",
   "metadata": {},
   "source": [
    "Se puede utilizar un agente para que el modelo decida si utilizar la herramienta o no. Estos pueden ejecutar múltiples herramientas o pasos (por ejemplo, múltiples retrieves). La diferencia la implementación anterior es que hay un loop de invocación en vez de una secuencia lineal. El modelo puede elegir entre responder directamente o ejecutar una herramienta sucesivamente."
   ]
  },
  {
   "cell_type": "markdown",
   "id": "34fe986a",
   "metadata": {},
   "source": [
    "> ⚠️ <em><font color='gold'>Advertencia:</font></em> Esto hace que el modelo sea más propenso a alucinar, ya que puede ejecutar herramientas que no son necesarias y que su comportamiento sea menos predecible que una cadena fija establecida."
   ]
  },
  {
   "cell_type": "markdown",
   "id": "1a0cb989",
   "metadata": {},
   "source": [
    "> 📝 <em><font color='Gray'>Nota:</font></em> El agente permite definir muchas herramientas que pueden ser administradas con `get_tools`:\n",
    "> https://python.langchain.com/docs/concepts/tools/#toolkits"
   ]
  },
  {
   "cell_type": "markdown",
   "id": "3aa76a4f",
   "metadata": {},
   "source": [
    "Creamos el agente:"
   ]
  },
  {
   "cell_type": "code",
   "execution_count": null,
   "id": "575ea0c5",
   "metadata": {},
   "outputs": [],
   "source": [
    "agent_executor = create_react_agent(chat, [retrieve], checkpointer=memory)"
   ]
  },
  {
   "cell_type": "markdown",
   "id": "0bc44e13",
   "metadata": {},
   "source": [
    "Mostramos el grafo:"
   ]
  },
  {
   "cell_type": "code",
   "execution_count": null,
   "id": "a825bf19",
   "metadata": {},
   "outputs": [
    {
     "data": {
      "image/png": "[encoded data removed]",
      "text/plain": [
       "<IPython.core.display.Image object>"
      ]
     },
     "metadata": {},
     "output_type": "display_data"
    }
   ],
   "source": [
    "display(Image(agent_executor.get_graph().draw_mermaid_png()))"
   ]
  },
  {
   "cell_type": "markdown",
   "id": "91a78dd2",
   "metadata": {},
   "source": [
    "Probamos el agente:"
   ]
  },
  {
   "cell_type": "code",
   "execution_count": null,
   "id": "508f52d4",
   "metadata": {},
   "outputs": [
    {
     "name": "stdout",
     "output_type": "stream",
     "text": [
      "================================\u001b[1m Human Message \u001b[0m=================================\n",
      "\n",
      "Hola! ¿Cuáles son los lenguajes de programación más utilizados en el CV? y ¿Que experiencia tiene el candidato en Python?\n",
      "==================================\u001b[1m Ai Message \u001b[0m==================================\n",
      "Tool Calls:\n",
      "  retrieve (call_d8zx)\n",
      " Call ID: call_d8zx\n",
      "  Args:\n",
      "    query: lenguajes de programación más utilizados\n",
      "  retrieve (call_esqy)\n",
      " Call ID: call_esqy\n",
      "  Args:\n",
      "    query: experiencia en Python\n",
      "=================================\u001b[1m Tool Message \u001b[0m=================================\n",
      "Name: retrieve\n",
      "\n",
      "Source: {'author': 'Bruno Masoller', 'creationdate': '2025-04-08T18:48:43-03:00', 'creator': 'Microsoft® Word para Microsoft 365', 'moddate': '2025-04-08T18:48:43-03:00', 'producer': 'Microsoft® Word para Microsoft 365', 'source': '..\\\\resources\\\\cvs_pdf\\\\CV Bruno Masoller - Detallado.pdf', 'total_pages': 4.0}\n",
      "Content: • Operador Windows. Organización: Kompukon Informática. Fecha: 2002. \n",
      " \n",
      "HABILIDADES:\n",
      "• Aprendizaje de \n",
      "máquinas \n",
      "• Visión por \n",
      "computadora \n",
      "• Desarrollo web \n",
      "• Ingeniería de software \n",
      "• MLOps \n",
      "• SQL\n",
      "\n",
      "Source: {'author': 'Bruno Masoller', 'creationdate': '2025-04-08T18:48:43-03:00', 'creator': 'Microsoft® Word para Microsoft 365', 'moddate': '2025-04-08T18:48:43-03:00', 'producer': 'Microsoft® Word para Microsoft 365', 'source': '..\\\\resources\\\\cvs_pdf\\\\CV Bruno Masoller - Detallado.pdf', 'total_pages': 4.0}\n",
      "Content: • Ingeniería de software \n",
      "• MLOps \n",
      "• SQL \n",
      "• Python \n",
      "• Java \n",
      "• Quarkus \n",
      "• Scikit-learn \n",
      "• SAP Process \n",
      "Orchestration \n",
      "• Angular \n",
      "• Typescript \n",
      "• Ionic \n",
      " \n",
      "INTERESES Y ÁREAS DE INVESTIGACIÓN:\n",
      "==================================\u001b[1m Ai Message \u001b[0m==================================\n",
      "\n",
      "Los lenguajes de programación más utilizados en el CV son Python, Java, Quarkus, Scikit-learn, SQL, Angular, Typescript e Ionic. El candidato tiene experiencia en Python, específicamente en áreas como aprendizaje de máquinas, visión por computadora y MLOps. También tiene habilidades en desarrollo web e ingeniería de software.\n"
     ]
    }
   ],
   "source": [
    "config = {\"configurable\": {\"thread_id\": \"def234\"}}\n",
    "\n",
    "input_message = \"Hola! ¿Cuáles son los lenguajes de programación más utilizados en el CV? y ¿Que experiencia tiene el candidato en Python?\"\n",
    "\n",
    "for event in agent_executor.stream(\n",
    "    {\"messages\": [{\"role\": \"user\", \"content\": input_message}]},\n",
    "    stream_mode=\"values\",\n",
    "    config=config,\n",
    "):\n",
    "    event[\"messages\"][-1].pretty_print()"
   ]
  },
  {
   "cell_type": "markdown",
   "id": "25363f0a",
   "metadata": {},
   "source": [
    "### Limpieza"
   ]
  },
  {
   "cell_type": "code",
   "execution_count": 1,
   "id": "f0f48bd1",
   "metadata": {},
   "outputs": [
    {
     "ename": "NameError",
     "evalue": "name 'Pinecone' is not defined",
     "output_type": "error",
     "traceback": [
      "\u001b[31m---------------------------------------------------------------------------\u001b[39m",
      "\u001b[31mNameError\u001b[39m                                 Traceback (most recent call last)",
      "\u001b[36mCell\u001b[39m\u001b[36m \u001b[39m\u001b[32mIn[1]\u001b[39m\u001b[32m, line 2\u001b[39m\n\u001b[32m      1\u001b[39m \u001b[38;5;66;03m# Eliminamos el índice\u001b[39;00m\n\u001b[32m----> \u001b[39m\u001b[32m2\u001b[39m pc = \u001b[43mPinecone\u001b[49m(api_key=PINECONE_API_KEY)\n\u001b[32m      3\u001b[39m \u001b[38;5;28;01mtry\u001b[39;00m:\n\u001b[32m      4\u001b[39m     pc.delete_index(INDEX_NAME)\n",
      "\u001b[31mNameError\u001b[39m: name 'Pinecone' is not defined"
     ]
    }
   ],
   "source": [
    "# Eliminamos el índice\n",
    "pc = Pinecone(api_key=PINECONE_API_KEY)\n",
    "try:\n",
    "    pc.delete_index(INDEX_NAME)\n",
    "    print(f\"Índice {INDEX_NAME} eliminado correctamente.\")\n",
    "except Exception as e:\n",
    "    print(f\"Error al eliminar el índice {INDEX_NAME}: {e}\")\n",
    "\n",
    "# Listamos los índices restantes\n",
    "pc.list_indexes()"
   ]
  }
 ],
 "metadata": {
  "kernelspec": {
   "display_name": ".venv",
   "language": "python",
   "name": "python3"
  },
  "language_info": {
   "codemirror_mode": {
    "name": "ipython",
    "version": 3
   },
   "file_extension": ".py",
   "mimetype": "text/x-python",
   "name": "python",
   "nbconvert_exporter": "python",
   "pygments_lexer": "ipython3",
   "version": "3.13.0"
  }
 },
 "nbformat": 4,
 "nbformat_minor": 5
}
