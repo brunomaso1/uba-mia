{
 "cells": [
  {
   "cell_type": "markdown",
   "id": "f7b20680",
   "metadata": {},
   "source": [
    "# <div align=\"center\"><b> REPARTIDO-1 </b></div>"
   ]
  },
  {
   "cell_type": "markdown",
   "id": "7ff282f1",
   "metadata": {},
   "source": [
    "## Importaciones"
   ]
  },
  {
   "cell_type": "code",
   "execution_count": 38,
   "id": "5687cfe2",
   "metadata": {},
   "outputs": [
    {
     "data": {
      "text/plain": [
       "True"
      ]
     },
     "execution_count": 38,
     "metadata": {},
     "output_type": "execute_result"
    }
   ],
   "source": [
    "# Standard library imports\n",
    "import os\n",
    "import random\n",
    "from dotenv import load_dotenv\n",
    "\n",
    "# Third-party library imports\n",
    "import streamlit as st\n",
    "import pymupdf\n",
    "\n",
    "# LangChain imports\n",
    "from langchain.chains import ConversationChain, LLMChain\n",
    "from langchain.chains.conversation.memory import ConversationBufferWindowMemory\n",
    "from langchain.prompts import PromptTemplate\n",
    "from langchain.text_splitter import RecursiveCharacterTextSplitter\n",
    "from langchain.document_loaders import PyPDFDirectoryLoader\n",
    "\n",
    "# LangChain Core imports\n",
    "from langchain_core.prompts import (\n",
    "    ChatPromptTemplate,\n",
    "    HumanMessagePromptTemplate,\n",
    "    MessagesPlaceholder,\n",
    ")\n",
    "from langchain_core.messages import SystemMessage\n",
    "\n",
    "# Groq-specific imports\n",
    "from groq import Groq\n",
    "from langchain_groq import ChatGroq\n",
    "from pprint import pprint\n",
    "\n",
    "# Pinecone imports\n",
    "from pinecone import Pinecone, ServerlessSpec\n",
    "\n",
    "load_dotenv()\n",
    "\n"
   ]
  },
  {
   "cell_type": "markdown",
   "id": "502a2adc",
   "metadata": {},
   "source": [
    "## Configuraciones"
   ]
  },
  {
   "cell_type": "code",
   "execution_count": 39,
   "id": "a03625f9",
   "metadata": {},
   "outputs": [],
   "source": [
    "PINECONE_API_KEY = os.getenv(\"PINECONE_API_KEY\")"
   ]
  },
  {
   "cell_type": "markdown",
   "id": "b3001e9a",
   "metadata": {},
   "source": [
    "## Leer el PDF"
   ]
  },
  {
   "cell_type": "code",
   "execution_count": 40,
   "id": "40fefbf7",
   "metadata": {},
   "outputs": [],
   "source": [
    "def read_doc(file_path):\n",
    "    doc = pymupdf.open(file_path)\n",
    "    text = \"\"\n",
    "    for page in doc:  # iterate the document pages\n",
    "        text += page.get_text()\n",
    "    return text"
   ]
  },
  {
   "cell_type": "code",
   "execution_count": 41,
   "id": "7e236cae",
   "metadata": {},
   "outputs": [],
   "source": [
    "def read_directory(directory):\n",
    "    file_loader=PyPDFDirectoryLoader(directory)\n",
    "    documents = file_loader.load()\n",
    "    return documents"
   ]
  },
  {
   "cell_type": "code",
   "execution_count": 42,
   "id": "1e72e021",
   "metadata": {},
   "outputs": [],
   "source": [
    "pdf_directory_path = \"./resources/\"\n",
    "pdf_document = read_directory(pdf_directory_path)"
   ]
  },
  {
   "cell_type": "code",
   "execution_count": 43,
   "id": "0fb88a6e",
   "metadata": {},
   "outputs": [
    {
     "name": "stdout",
     "output_type": "stream",
     "text": [
      "[Document(metadata={'producer': 'Microsoft® Word para Microsoft 365', 'creator': 'Microsoft® Word para Microsoft 365', 'creationdate': '2025-04-08T18:48:43-03:00', 'author': 'Bruno Masoller', 'moddate': '2025-04-08T18:48:43-03:00', 'source': 'resources\\\\CV Bruno Masoller - Detallado.pdf', 'total_pages': 4, 'page': 0, 'page_label': '1'}, page_content='Página 1 de 4 \\n \\nCURRICULUM VITAE \\nDATOS PERSONALES: \\n• NOMBRE: Bruno Martin Masoller Gancedo \\n• DIRECCION: Montevideo, Uruguay \\n• TELEFONO: +598 91 414 979 \\n• MAIL: brunomaso1@hotmail.com | brunomaso1@gmail.com \\n• Linkedin: https://www.linkedin.com/in/brunomaso1/ \\nFORMACION ACADEMICA: \\n• Maestría en Inteligencia Artificial. Universidad de Buenos Aires. Facultad de Ingeniería. Fecha: EN \\nCURSO. \\n• Especialista en Inteligencia Artificial. Universidad de Buenos Aires. Facultad de Ingeniería. Fecha: \\nEN CURSO. \\n• Especialista en Ingeniería de Software. Universidad de la República. Facultad de Ingeniería. Fecha: \\n2023. \\n• Ingeniería en Informática. Universidad Católica del Uruguay. Fecha: 2018. \\n• Licenciatura en Informática. Universidad Católica del Uruguay. Fecha: 2017. \\n• Técnico en Informática. Universidad Católica del Uruguay. Fecha: 2014. \\n• Bachiller en Ingeniería. Liceo Nº1, Artigas. Fecha: 2009. \\nOTROS ESTUDIOS RELACIONADOS: \\n• First Certificate in Competency in English. Alianza Uruguay. Fecha: 2006. \\nOTROS ESTUDIOS NO RELACIONADOS: \\n• Instalaciones Eléctricas. Universidad del Trabajo del Uruguay. Fecha: 2012. \\n \\nEXPERIENCIA LABORAL: \\n• Intendencia de Montevideo. Montevideo, Uruguay. Desarrollo Sostenible e Inteligente. Mail: \\nsecretaria.direcciongeneral.ddsi@imm.gub.uy. Fecha: Marzo 2020 – Actual. \\no Analista Informático: Desarrollo. \\n▪ Proyectos: \\n• Intendencia de Montevideo. Desarrollo Sostenible e Inteligente. Gerencia de Tecnologías de la \\nInformación. Servicio de aplicaciones (2024 – Actual): Sistema de monitoreo de \\nRhynchophorus ferrugineus (picudo rojo) en palmeras de Montevideo. \\no Características: \\n▪ Diseño e implementación de infraestructura de soporte (MLOps). \\n▪ Diseño de modelos de machine learning. \\n▪ Manejo de imágenes de alta resolución de vuelos de aviones y drones. \\n▪ Manejo de información geográfica. \\n• Intendencia de Montevideo. Desarrollo Sostenible e Inteligente. Gerencia de Tecnologías de la \\nInformación. Servicio de aplicaciones (2022 – Actual): Mejora de procesos. \\no Características:  \\n▪ Mejora de procesos aplicando mejores prácticas de las diciplinas de ingeniería de \\nsoftware. \\nFecha: Abr-2025'),\n",
      " Document(metadata={'producer': 'Microsoft® Word para Microsoft 365', 'creator': 'Microsoft® Word para Microsoft 365', 'creationdate': '2025-04-08T18:48:43-03:00', 'author': 'Bruno Masoller', 'moddate': '2025-04-08T18:48:43-03:00', 'source': 'resources\\\\CV Bruno Masoller - Detallado.pdf', 'total_pages': 4, 'page': 1, 'page_label': '2'}, page_content='Página 2 de 4 \\n \\n• Intendencia de Montevideo. Desarrollo Sostenible e Inteligente. Gerencia de Tecnologías de la \\nInformación. Servicio de aplicaciones (2021 – Actual): SAP Process Orchestration \\n(middleware). \\no Características:  \\n▪ Ingeniería de software sobre los procesos para comunicar los sistemas de Oracle y \\nSAP, utilizando Oracle, Python y SAP PI/PO Netweaver 7.5 \\n• Intendencia de Montevideo. Desarrollo Sostenible e Inteligente. Gerencia de Tecnologías de la \\nInformación. Servicio de aplicaciones (2020 – Actual): Mantenimiento evolutivo. \\no Características:  \\n▪ Mantenimiento de los procesos de negocio, utilizando varias tecnologías, entre las \\ncuales se encuentran SAP, Java, Python, Typescript, Ionic, Quarkus, SAP PI/PO. \\n• Intendencia de Montevideo. Desarrollo Sostenible e Inteligente. Gerencia de Tecnologías de la \\nInformación. Servicio de aplicaciones (2021 – 2024): Portal del proveedor. \\no Características:  \\n▪ Construcción del nuevo portal del proveedor utilizando las siguientes tecnologías: \\nSAP, Angular + Ionic, Quarkus, SAP Process Orchestration. \\n• Intendencia de Montevideo. Desarrollo Sostenible e Inteligente. Gerencia de Tecnologías de la \\nInformación. Servicio de aplicaciones (2020 – 2022): Migración SAP. \\no Características:  \\n▪ Migración de los sistemas financieros de Oracle Forms a SAP. \\n▪ Herramientas: \\n• SAP. \\n• SAP Process Orchestration. \\n• Angular. \\n• Ionic. \\n• Quarkus. \\n• CMMI/TMMI/TPI. \\n• Python. \\n• YOLO \\n• Computer Vision \\n• Genexus Consulting. Montevideo, Uruguay. Mail: info@genexusconsulting.com. Teléfono: +598 2601 \\n2082. Dirección: Av. Italia 6201. Parque Tecnológico, Edificio Los Pinos. Fecha: Abril 2015 – 2020. \\no Desarrollador Genexus: Desarrollo. \\n▪ Proyectos: \\n• Mgap (2018 – 2020): Módulo de Trazabilidad Ganadera. \\no Características:  \\n▪ Mantenimiento de los procesos de negocio del Sistema Nacional de Información \\nGanadera. \\n▪ Trazabilidad ganadera. \\n▪ Herramientas: \\n• Genexus 15. \\n• SQL. \\n• SQL Server. \\n• IIS (Internet Information Server) \\n• Mantis. \\n• Testlink. \\no SQA Tester: Resolución de problemas Informáticos. Creación de Casos de Pruebas. Ejecución de \\nCasos de Pruebas. Pruebas de Performance. Seguridad. Planificación y estimación de tareas \\nreferidas al testing. White box testing y Black Box testing. \\n▪ Proyectos: \\n• Ancap (2015 – 2017): Módulo de Facturación Electrónica. Módulo de Despacho y Recepción \\nde combustibles. \\no Características:  \\n▪ Negocios Energéticos. \\n▪ Implementación de los módulos de facturación electrónica. \\n▪ Mantenimiento de los procesos de recepción, despacho y transferencias de productos \\nde Negocios Energéticos. \\n• Mgap: Módulo de Trazabilidad Ganadera. Módulo Declaración Jurada. \\no Características:  \\n▪ Mantenimiento de los procesos de negocio del Sistema Nacional de Información \\nGanadera. \\n▪ Trazabilidad ganadera. \\n▪ Herramientas: \\n• Genexus. \\n• SQL. \\n• JMeter. \\n• GXTest. \\n• DB2.'),\n",
      " Document(metadata={'producer': 'Microsoft® Word para Microsoft 365', 'creator': 'Microsoft® Word para Microsoft 365', 'creationdate': '2025-04-08T18:48:43-03:00', 'author': 'Bruno Masoller', 'moddate': '2025-04-08T18:48:43-03:00', 'source': 'resources\\\\CV Bruno Masoller - Detallado.pdf', 'total_pages': 4, 'page': 2, 'page_label': '3'}, page_content='Página 3 de 4 \\n \\n• AS400. \\n• Mantis. \\n• Testlink. \\nPUBLICACIONES: \\n• Sistema de monitoreo de Rhynchophorus ferrugineus en palmeras de Montevideo – Memoria de \\nproyecto \\no https://github.com/brunomaso1/uba-ceia/blob/ceia-memoria/ceia-\\nmemoria/memoria/memorianueva.pdf \\n \\nOTROS PROYECTOS: \\n• Proyecto propio - Repositorio de la Maestría en Inteligencia Artificial \\no Año: 2024 - Actual \\no Lugar: https://github.com/brunomaso1/uba-mia \\no Organización: Proyecto propio. \\no Puesto: Especialista en Inteligencia Artificial. \\no Características: \\n▪ Proyectos de trabajos realizados durante la carrera de Maestría en Inteligencia Artificial (UBA). \\n• Proyectos de trabajos realizados durante la carrera de Especialización en Inteligencia Artificial (UBA). \\n• Proyecto propio - Repositorio de la especialización en Inteligencia Artificial \\no Año: 2024 - Actual \\no Lugar: https://brunomaso1.github.io/ml-porfolio/ \\no Organización: Proyecto propio. \\no Puesto: Especialista en Inteligencia Artificial. \\no Características: \\n▪ Proyectos de trabajos realizados durante la carrera de Especialización en Inteligencia Artificial (UBA). \\n• Proyectos variados – Repositorio de código \\no Año: 2018 – Actual \\no Lugar: https://github.com/brunomaso1?tab=repositories  \\no Organización: Proyecto propio. \\no Puesto: Ingeniería de software | Ingeniera en Inteligencia Artificial. \\no Características: \\n▪ Proyectos variados desde desarrollos web e inteligencia artificial hasta proyectos de pruebas de \\nconceptos de computación cuántica o programación de robótica. \\n• Proyecto propio – Portafolio de Machine Learning. \\no Año: 2018 – 2023 \\no Lugar: https://brunomaso1.github.io/ml-porfolio/ \\no Organización: Proyecto propio. \\no Puesto: Data scientist. \\no Características: \\n▪ Proyectos de Machine Learning. \\n \\nIDIOMAS: \\n• Ingles. Avanzado, oral y escrito. \\n• Portugués. Básico, oral y escrito. \\nCERTIFICACIONES: \\n• Experimentando con métodos ágiles de software. Organización: FING. Fecha: 2023. \\n• Técnicas y gestión de las pruebas de software. Organización: FING. Fecha: 2023. \\n• Introducción a la estadística usando software. Organización: FING. Fecha: 2023. \\n• Taller de planificación y seguimiento de proyectos de software. Organización: FING. Fecha: 2023. \\n• Ingeniería avanzada de software. Organización: FING. Fecha: 2023. \\n• Liderando equipos de desarrollo de software. Organización: FING. Fecha: 2023. \\n• Evolución de software. Organización: FING. Fecha: 2022 \\n• Minería de procesos de negocio: Fundamentos y aplicaciones. Organización: FING. Fecha: 2022 \\n• Técnicas de calidad de software. Organización: FING. Fecha: 2022.'),\n",
      " Document(metadata={'producer': 'Microsoft® Word para Microsoft 365', 'creator': 'Microsoft® Word para Microsoft 365', 'creationdate': '2025-04-08T18:48:43-03:00', 'author': 'Bruno Masoller', 'moddate': '2025-04-08T18:48:43-03:00', 'source': 'resources\\\\CV Bruno Masoller - Detallado.pdf', 'total_pages': 4, 'page': 3, 'page_label': '4'}, page_content='Página 4 de 4 \\n \\n• Relaciones personales en ingeniería de software. Organización: FING. Fecha: 2022. \\n• Taller de testing de performance. Organización: FING. Fecha: 2022. \\n• Arquitectura de software y tecnologías asociadas. Organización: FING. Fecha: 2022. \\n• Ingeniería de Requisitos. Organización: FING. Fecha: 2022. \\n• Costos para Ingeniería de Software. Organización: FING. Fecha: 2022. \\n• Building Apps with the ABAP RESTful Application Programing Model. Organización: openSAP. \\nFecha: 2020. \\n• Seguridad en Aplicaciones GeneXus WEB. Organización: Genexus. Fecha: 2016. \\n• Analista GXTest (GXTest 3.0). Organización: Genexus. Fecha: 2016. \\n• Seguridad en Aplicaciones GeneXus. Organización: Genexus. Fecha: 2016. \\n• Taller Avanzado de Pruebas de Performance. Organización: Genexus Consulting. Fecha: 2016. \\n• Taller Virtualización de Servicios. Organización: Genexus Consulting. Fecha: 2016. \\n• Analista Genexus (Genexus X Evolution 3). Organización: Genexus. Fecha: 2015. \\n• Pruebas de performance con JMeter. Organización: Genexus Consulting. Fecha: 2015. \\n• Certificación de asistencia a Jornadas Binacionales de Informática y Comunicaciones. \\nOrganización: Comisión Técnica Mixta de Salto Grande. Fecha: 2014. \\n• Certificación de asistencia a Jornadas Binacionales de Informática y Comunicaciones. \\nOrganización: Comisión Técnica Mixta de Salto Grande. Fecha: 2013. \\n• Manejo Asertivo de Conflictos Negociación para Jóvenes. Organización: CMI International Group. \\nFecha: 2011. \\n• Windows Avanzado. Organización: Kompukon Informática. Fecha: 2007. \\n• Operador Windows. Organización: Kompukon Informática. Fecha: 2002. \\n \\nHABILIDADES:\\n• Aprendizaje de \\nmáquinas \\n• Visión por \\ncomputadora \\n• Desarrollo web \\n• Ingeniería de software \\n• MLOps \\n• SQL \\n• Python \\n• Java \\n• Quarkus \\n• Scikit-learn \\n• SAP Process \\nOrchestration \\n• Angular \\n• Typescript \\n• Ionic \\n \\nINTERESES Y ÁREAS DE INVESTIGACIÓN: \\n• Teoría de la computación. \\n• Robótica e Inteligencia Artificial. \\n• Computación cuántica. \\n• Ingeniería de Software.')]\n"
     ]
    }
   ],
   "source": [
    "pprint(pdf_document)"
   ]
  },
  {
   "cell_type": "markdown",
   "id": "880a1ec9",
   "metadata": {},
   "source": [
    "## Chunking"
   ]
  },
  {
   "cell_type": "code",
   "execution_count": 44,
   "id": "9bfb9699",
   "metadata": {},
   "outputs": [],
   "source": [
    "# Method 1\n",
    "def chunk_text(text, chunk_size=100):\n",
    "    chunks = []\n",
    "    while len(text) > chunk_size:\n",
    "        chunk = text[:chunk_size]\n",
    "        text = text[chunk_size:]\n",
    "        chunks.append(chunk)\n",
    "    if text:\n",
    "        chunks.append(text)\n",
    "    return chunks"
   ]
  },
  {
   "cell_type": "code",
   "execution_count": 45,
   "id": "8727a414",
   "metadata": {},
   "outputs": [],
   "source": [
    "# Method 2\n",
    "def chunk_data(docs, chunk_size=800, chunk_overlap=50):\n",
    "    text_splitter = RecursiveCharacterTextSplitter(\n",
    "        chunk_size=chunk_size, chunk_overlap=chunk_overlap\n",
    "    )\n",
    "    doc = text_splitter.split_documents(docs)\n",
    "    return doc"
   ]
  },
  {
   "cell_type": "code",
   "execution_count": 46,
   "id": "8cc813e3",
   "metadata": {},
   "outputs": [
    {
     "data": {
      "text/plain": [
       "145"
      ]
     },
     "execution_count": 46,
     "metadata": {},
     "output_type": "execute_result"
    }
   ],
   "source": [
    "# chunks = chunk_text(text=pdf_document, chunk_size=1000)\n",
    "chunks = chunk_data(docs=pdf_document, chunk_size=100, chunk_overlap=50)\n",
    "len(chunks)"
   ]
  },
  {
   "cell_type": "code",
   "execution_count": 47,
   "id": "ddb463cd",
   "metadata": {},
   "outputs": [
    {
     "name": "stdout",
     "output_type": "stream",
     "text": [
      "('Página 1 de 4 \\n'\n",
      " ' \\n'\n",
      " 'CURRICULUM VITAE \\n'\n",
      " 'DATOS PERSONALES: \\n'\n",
      " '• NOMBRE: Bruno Martin Masoller Gancedo')\n"
     ]
    }
   ],
   "source": [
    "pprint(chunks[0].page_content)"
   ]
  },
  {
   "cell_type": "markdown",
   "id": "b913fc3d",
   "metadata": {},
   "source": [
    "## Load documents"
   ]
  },
  {
   "cell_type": "code",
   "execution_count": null,
   "id": "1f27309b",
   "metadata": {},
   "outputs": [],
   "source": [
    "pc = Pinecone(api_key=PINECONE_API_KEY)"
   ]
  },
  {
   "cell_type": "code",
   "execution_count": null,
   "id": "99619968",
   "metadata": {},
   "outputs": [
    {
     "ename": "TypeError",
     "evalue": "Pinecone.create_index() got an unexpected keyword argument 'index_name'",
     "output_type": "error",
     "traceback": [
      "\u001b[31m---------------------------------------------------------------------------\u001b[39m",
      "\u001b[31mTypeError\u001b[39m                                 Traceback (most recent call last)",
      "\u001b[36mCell\u001b[39m\u001b[36m \u001b[39m\u001b[32mIn[49]\u001b[39m\u001b[32m, line 3\u001b[39m\n\u001b[32m      1\u001b[39m \u001b[38;5;66;03m# Create a new index\u001b[39;00m\n\u001b[32m      2\u001b[39m index_name = \u001b[33m\"\u001b[39m\u001b[33mcv-index\u001b[39m\u001b[33m\"\u001b[39m\n\u001b[32m----> \u001b[39m\u001b[32m3\u001b[39m index = \u001b[43mpc\u001b[49m\u001b[43m.\u001b[49m\u001b[43mcreate_index\u001b[49m\u001b[43m(\u001b[49m\n\u001b[32m      4\u001b[39m \u001b[43m    \u001b[49m\u001b[43mindex_name\u001b[49m\u001b[43m=\u001b[49m\u001b[43mindex_name\u001b[49m\u001b[43m,\u001b[49m\n\u001b[32m      5\u001b[39m \u001b[43m    \u001b[49m\u001b[43mdimension\u001b[49m\u001b[43m=\u001b[49m\u001b[32;43m1536\u001b[39;49m\u001b[43m,\u001b[49m\n\u001b[32m      6\u001b[39m \u001b[43m    \u001b[49m\u001b[43mmetric\u001b[49m\u001b[43m=\u001b[49m\u001b[33;43m\"\u001b[39;49m\u001b[33;43mcosine\u001b[39;49m\u001b[33;43m\"\u001b[39;49m\u001b[43m,\u001b[49m\n\u001b[32m      7\u001b[39m \u001b[43m    \u001b[49m\u001b[43mreplicas\u001b[49m\u001b[43m=\u001b[49m\u001b[32;43m1\u001b[39;49m\u001b[43m,\u001b[49m\n\u001b[32m      8\u001b[39m \u001b[43m    \u001b[49m\u001b[43mmetadata_config\u001b[49m\u001b[43m=\u001b[49m\u001b[43m{\u001b[49m\u001b[33;43m\"\u001b[39;49m\u001b[33;43mindexed\u001b[39;49m\u001b[33;43m\"\u001b[39;49m\u001b[43m:\u001b[49m\u001b[43m \u001b[49m\u001b[43m[\u001b[49m\u001b[33;43m\"\u001b[39;49m\u001b[33;43mtext\u001b[39;49m\u001b[33;43m\"\u001b[39;49m\u001b[43m]\u001b[49m\u001b[43m}\u001b[49m\u001b[43m,\u001b[49m\n\u001b[32m      9\u001b[39m \u001b[43m)\u001b[49m\n",
      "\u001b[31mTypeError\u001b[39m: Pinecone.create_index() got an unexpected keyword argument 'index_name'"
     ]
    }
   ],
   "source": [
    "# Create a new index\n",
    "index_name = \"cv-index\"\n",
    "index = pc.create_index(\n",
    "    name=index_name,\n",
    "    dimension=1536,\n",
    "    metric=\"cosine\",\n",
    "    replicas=1,\n",
    "    metadata_config={\"indexed\": [\"text\"]},\n",
    ")"
   ]
  },
  {
   "cell_type": "code",
   "execution_count": null,
   "id": "21759735",
   "metadata": {},
   "outputs": [],
   "source": [
    "def main():\n",
    "    \"\"\"\n",
    "    Esta función es el punto de entrada principal de la aplicación. Configura el cliente de Groq, la interfaz de Streamlit y maneja la interacción del chat.\n",
    "    \"\"\"\n",
    "\n",
    "    # Obtener la clave API de Groq\n",
    "    groq_api_key = os.getenv(\n",
    "        \"GROQ_API_KEY\"\n",
    "    )  # Reemplaza 'your_api' con tu clave API real\n",
    "\n",
    "    # El título y mensaje de bienvenida de la aplicación Streamlit\n",
    "    st.title(\"Chat CEIA de ejemplo\")\n",
    "    st.write(\n",
    "        \"¡Hola! Este es un ejemplo de chatbot con memoria persistente gestionada programáticamente con Langchain, utilizando Groq\"\n",
    "    )\n",
    "\n",
    "    # Agregar opciones de personalización en la barra lateral\n",
    "    st.sidebar.title(\"Personalización\")\n",
    "    system_prompt = st.sidebar.text_input(\"Mensaje del sistema:\")\n",
    "    model = st.sidebar.selectbox(\n",
    "        \"Elige un modelo\", [\"llama3-8b-8192\", \"mixtral-8x7b-32768\", \"gemma-7b-it\"]\n",
    "    )\n",
    "    conversational_memory_length = st.sidebar.slider(\n",
    "        \"Longitud de la memoria conversacional:\", 1, 10, value=5\n",
    "    )\n",
    "\n",
    "    memory = ConversationBufferWindowMemory(\n",
    "        k=conversational_memory_length,\n",
    "        memory_key=\"historial_chat\",\n",
    "        return_messages=True,\n",
    "    )\n",
    "\n",
    "    user_question = st.text_input(\"Haz una pregunta:\")\n",
    "\n",
    "    # Variable de estado de la sesión\n",
    "    if \"historial_chat\" not in st.session_state:\n",
    "        st.session_state.historial_chat = []\n",
    "    else:\n",
    "        for message in st.session_state.historial_chat:\n",
    "            memory.save_context({\"input\": message[\"humano\"]}, {\"output\": message[\"IA\"]})\n",
    "\n",
    "    # Inicializar el objeto de chat Groq con Langchain\n",
    "    groq_chat = ChatGroq(groq_api_key=groq_api_key, model_name=model)\n",
    "\n",
    "    # Si el usuario ha hecho una pregunta,\n",
    "    if user_question:\n",
    "\n",
    "        # Construir una plantilla de mensaje de chat utilizando varios componentes\n",
    "        prompt = ChatPromptTemplate.from_messages(\n",
    "            [\n",
    "                SystemMessage(\n",
    "                    content=system_prompt\n",
    "                ),  # Este es el mensaje del sistema persistente que siempre se incluye al inicio del chat.\n",
    "                MessagesPlaceholder(\n",
    "                    variable_name=\"historial_chat\"\n",
    "                ),  # Este marcador de posición será reemplazado por el historial de chat real durante la conversación. Ayuda a mantener el contexto.\n",
    "                HumanMessagePromptTemplate.from_template(\n",
    "                    \"{human_input}\"\n",
    "                ),  # Esta plantilla es donde se inyectará la entrada actual del usuario en el mensaje.\n",
    "            ]\n",
    "        )\n",
    "\n",
    "        # Crear una cadena de conversación utilizando el LLM (Modelo de Lenguaje) de LangChain\n",
    "        conversation = LLMChain(\n",
    "            llm=groq_chat,  # El objeto de chat Groq LangChain inicializado anteriormente.\n",
    "            prompt=prompt,  # La plantilla de mensaje construida.\n",
    "            verbose=True,  # Habilita la salida detallada, lo cual puede ser útil para depurar.\n",
    "            memory=memory,  # El objeto de memoria conversacional que almacena y gestiona el historial de la conversación.\n",
    "        )\n",
    "\n",
    "        # La respuesta del chatbot se genera enviando el mensaje completo a la API de Groq.\n",
    "        response = conversation.predict(human_input=user_question)\n",
    "        message = {\"humano\": user_question, \"IA\": response}\n",
    "        st.session_state.historial_chat.append(message)\n",
    "        st.write(\"Chatbot:\", response)\n",
    "\n",
    "\n",
    "if __name__ == \"__main__\":\n",
    "    main()"
   ]
  }
 ],
 "metadata": {
  "kernelspec": {
   "display_name": ".venv",
   "language": "python",
   "name": "python3"
  },
  "language_info": {
   "codemirror_mode": {
    "name": "ipython",
    "version": 3
   },
   "file_extension": ".py",
   "mimetype": "text/x-python",
   "name": "python",
   "nbconvert_exporter": "python",
   "pygments_lexer": "ipython3",
   "version": "3.13.0"
  }
 },
 "nbformat": 4,
 "nbformat_minor": 5
}
