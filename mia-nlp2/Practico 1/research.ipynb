{
 "cells": [
  {
   "cell_type": "markdown",
   "id": "5a1a8358",
   "metadata": {},
   "source": [
    "# <div align=\"center\"><b> NLP2 - PRACTICO 1 </b></div>"
   ]
  },
  {
   "cell_type": "markdown",
   "id": "c2339453",
   "metadata": {},
   "source": [
    "<div align=\"right\">📝 <em><small><font color='Gray'>Nota:</font></small></em></div>\n",
    "\n",
    "<div align=\"right\"> <em><small><font color='Gray'> La funcionalidad de visualización de jupyter notebooks en <a href=\"https://github.com/\" target=\"_blank\">github</a> es solamente un preview.</font></small></em> </div>\n",
    "\n",
    "<div align=\"right\"> <em><small><font color='Gray'> Para mejor visualización se sugiere utilizar el visualizador recomendado por la comunidad: <a href=\"https://nbviewer.org/\" target=\"_blank\">nbviewer</a></font></small></em> </div>\n",
    "\n",
    "<div align=\"right\"> <em><small><font color='Gray'> Puedes a acceder al siguiente enlace para ver este notebook en dicha página: <a href=\"https://nbviewer.org/github/brunomaso1/uba-mia/blob/mia-nlp2/mia-nlp2/Practico 1/research.ipynb\">NLP2 - Practico 1</a></font></small></em> </div>"
   ]
  },
  {
   "cell_type": "markdown",
   "id": "9798b5bb",
   "metadata": {},
   "source": [
    "* * *"
   ]
  },
  {
   "cell_type": "markdown",
   "id": "f59e3f4b",
   "metadata": {},
   "source": [
    "<style>\n",
    "/* Limitar la altura de las celdas de salida en html */\n",
    ".jp-OutputArea.jp-Cell-outputArea {\n",
    "    max-height: 500px;\n",
    "}\n",
    "</style>"
   ]
  },
  {
   "cell_type": "markdown",
   "id": "2d404000",
   "metadata": {},
   "source": [
    "<!-- Colab -->\n",
    "<!-- <div align=\"center\"><img src=\"https://drive.google.com/uc?export=view&id=1QSNrTsz1hQbmZwpgwx0qpfpNtLW19Orm\" width=\"600\" alt=\"Figura 1: A data scientist is working on word generation using the Lord of the Rings lore. The image is dark and moody, with a focus on the scientist's computer screen. The screen displays a visualization the one ring, with a map of Middle Earth in the background. - Generada con DALL-E3\"></div> -->\n",
    "\n",
    "<div align=\"center\"><img src=\"../resources/img1.jpeg\" width=\"600\" alt=\"Figura 1: A data scientist is sitting in front of a computer screen, intently focused on the task at hand. The room is dimly lit, with the only light coming from the computer screen. The neural network is displayed on the screen, with the data scientist working to. The nerual network is deepseek R1. - Generada con Microsoft Image Creator\"></div>\n",
    "\n",
    "<div align=\"center\"><small><em>Figura 1: A data scientist is sitting in front of a computer screen, intently focused on the task at hand. The room is dimly lit, with the only light coming from the computer screen. The neural network is displayed on the screen, with the data scientist working to. The nerual network is deepseek R1. - Generada con Microsoft Image Creator</em></small></div>"
   ]
  },
  {
   "cell_type": "markdown",
   "id": "22203803",
   "metadata": {},
   "source": [
    "<div align=\"center\">✨Datos del proyecto:✨</div>\n",
    "\n",
    "<p></p>\n",
    "\n",
    "<div align=\"center\">\n",
    "\n",
    "| Subtitulo       | Practico 1 - NLP2                                                                                                                      |\n",
    "| --------------- | -------------------------------------------------------------------------------------------------------------------------------------- |\n",
    "| **Descrpción**  | CV Chatbot with Groq + Pinecone                                                                                                        |\n",
    "| **Integrantes** | Bruno Masoller (brunomaso1@gmail.com)                                                                                                  |\n",
    "\n",
    "</div>"
   ]
  },
  {
   "cell_type": "markdown",
   "id": "d3dcea62",
   "metadata": {},
   "source": [
    "🛻 <em><font color='MediumSeaGreen'>  Instalaciones: </font></em> 🛻"
   ]
  },
  {
   "cell_type": "markdown",
   "id": "98932b1d",
   "metadata": {},
   "source": [
    "Asegurate de tener instalado poetry y estar en la carpeta donde se encuentra el archivo `pyproject.toml` para instalar las dependencias del proyecto.\n",
    "Luego, instala las dependencias del proyecto ejecutando el siguiente comando en la terminal:\n",
    "\n",
    "- bash:\n",
    "```bash\n",
    "poetry install\n",
    "eval $(poetry env activate)\n",
    "```\n",
    "\n",
    "- powershell:\n",
    "```powershell\n",
    "poetry install\n",
    "Invoke-Expression (poetry env activate)\n",
    "```"
   ]
  },
  {
   "cell_type": "markdown",
   "id": "951bf9fb",
   "metadata": {},
   "source": [
    "✋ <em><font color='DodgerBlue'>Importaciones:</font></em> ✋"
   ]
  },
  {
   "cell_type": "code",
   "execution_count": 6,
   "id": "c29f0e60",
   "metadata": {},
   "outputs": [],
   "source": [
    "import os\n",
    "import time\n",
    "from dotenv import load_dotenv\n",
    "\n",
    "# Pinecone\n",
    "from pinecone import Pinecone, ServerlessSpec\n",
    "\n",
    "# LangChain - Document Loaders\n",
    "from langchain.document_loaders import PyPDFDirectoryLoader\n",
    "\n",
    "# LangChain - Text Splitters\n",
    "from langchain_text_splitters import RecursiveCharacterTextSplitter\n",
    "\n",
    "# LangChain - Vector Stores\n",
    "from langchain_pinecone import PineconeVectorStore\n",
    "\n",
    "# LangChain - Embeddings\n",
    "from langchain_community.embeddings import JinaEmbeddings\n",
    "\n",
    "# LangChain - Chains\n",
    "from langchain.chains import create_retrieval_chain, create_history_aware_retriever\n",
    "from langchain.chains.combine_documents import create_stuff_documents_chain\n",
    "\n",
    "# LangChain - Prompts\n",
    "from langchain_core.prompts import (\n",
    "    ChatPromptTemplate,\n",
    "    MessagesPlaceholder,\n",
    ")\n",
    "\n",
    "# LangChain - Chat Models\n",
    "from langchain_groq import ChatGroq\n",
    "\n",
    "# LangChain - Messages\n",
    "from langchain_core.messages import AIMessage, HumanMessage"
   ]
  },
  {
   "cell_type": "markdown",
   "id": "6b727977",
   "metadata": {},
   "source": [
    "🔧 <em><font color='tomato'>Configuraciones:</font></em> 🔧\n"
   ]
  },
  {
   "cell_type": "code",
   "execution_count": 7,
   "id": "3d7ccb75",
   "metadata": {},
   "outputs": [],
   "source": [
    "DOT_ENV_PATH = \"../.env\"\n",
    "load_dotenv(DOT_ENV_PATH)\n",
    "\n",
    "GROQ_API_KEY = os.getenv(\"GROQ_API_KEY\")\n",
    "PINECONE_API_KEY = os.getenv(\"PINECONE_API_KEY\")\n",
    "JINA_AI_API_KEY = os.getenv(\"JINA_AI_API_KEY\")\n",
    "EMBEDDINGS_DIMENSION = 1024 \n",
    "EMBEDDINGS_MODEL = \"jina-embeddings-v3\"\n",
    "GROQ_MODEL = \"llama-3.3-70b-versatile\"\n",
    "DIRECTORY_PATH = \"../resources/cv/\""
   ]
  },
  {
   "cell_type": "markdown",
   "id": "cab2cbba",
   "metadata": {},
   "source": [
    "## Consinga"
   ]
  },
  {
   "cell_type": "markdown",
   "id": "61841f59",
   "metadata": {},
   "source": [
    "- Implementar un sistema de generación de texto (chatbot) que utilice la técnica de Retrieval-Augmented Generation (RAG). En este ejercicio, el chatbot será capaz de recuperar información de una base de datos (o un conjunto de documentos) y usarla para generar respuestas más completas, mejorando la calidad de las respuestas generadas.\n",
    "- Entregables: Link a repo público y captura de video de chatbot consultando al CV del alumno. Utilizar librería como Streamlit (para capturar pantalla se puede utilizar OBS por ejemplo, es open source)."
   ]
  },
  {
   "cell_type": "markdown",
   "id": "f36a0fc3",
   "metadata": {},
   "source": [
    "## Resolución"
   ]
  },
  {
   "cell_type": "markdown",
   "id": "7b6e97cc",
   "metadata": {},
   "source": [
    "Para resolver este práctico, se utilizará la técnica de Retrieval-Augmented Generation (RAG) para crear un chatbot que pueda responder preguntas sobre el CV del alumno. El chatbot utilizará Pinecone como base de datos vectorial para almacenar y recuperar información relevante del CV. Además, se utilizará la API de Groq para generar respuestas a las preguntas del usuario. La gestión del flujo se maneja con LangChain (https://python.langchain.com/docs/how_to/), que permite integrar diferentes componentes de manera eficiente y sencilla. El flujo de trabajo se puede resumir en los siguientes pasos:\n",
    "\n",
    "1. **Carga del CV**: Se cargará el CV del alumno en formato PDF y se extraerá el texto.\n",
    "2. **División del texto**: Se dividirá el texto en fragmentos más pequeños para facilitar la recuperación de información.\n",
    "3. **Indexación en Pinecone**: Se indexarán los fragmentos de texto en Pinecone para permitir la búsqueda eficiente.\n",
    "4. **Probar la cadena de RAG**: Se probará la cadena de RAG para asegurarse de que funcione correctamente.\n",
    "5. **Incorporar historial**: Se incorporará un historial de preguntas y respuestas para mejorar la experiencia del usuario.\n",
    "6. **Limpieza**: Se limpiará el código y se preparará para la entrega final.\n",
    "7. **Captura de video**: Se capturará un video del chatbot en funcionamiento, consultando el CV del alumno."
   ]
  },
  {
   "cell_type": "markdown",
   "id": "9148c25e",
   "metadata": {},
   "source": [
    "### Carga del CV"
   ]
  },
  {
   "cell_type": "markdown",
   "id": "77b289df",
   "metadata": {},
   "source": [
    "Inicialmente, se cargan todos los PDF de una carpeta. Para esto, se utiliza `langchain.document_loaders` + `PyPDFDirectoryLoader` que carga todos los documentos en el tipo de datos `Document`. "
   ]
  },
  {
   "cell_type": "code",
   "execution_count": null,
   "id": "b3e503d2",
   "metadata": {},
   "outputs": [
    {
     "name": "stdout",
     "output_type": "stream",
     "text": [
      "Number of documents loaded: 1\n",
      "Metadata of the first document: {'producer': 'Microsoft® Word para Microsoft 365', 'creator': 'Microsoft® Word para Microsoft 365', 'creationdate': '2025-04-08T18:48:43-03:00', 'author': 'Bruno Masoller', 'moddate': '2025-04-08T18:48:43-03:00', 'source': 'resources\\\\cv\\\\CV Bruno Masoller - Detallado.pdf', 'total_pages': 4}\n",
      "First document: Página 1 de 4 \n",
      " \n",
      "CURRICULUM VITAE \n",
      "DATOS PERSONALES: \n",
      "• NOMBRE: Bruno Martin Masoller Gancedo \n",
      "• DIRECCION: Montevideo, Uruguay \n",
      "• TELEFONO: +598 91 414 979 \n",
      "• MAIL: brunomaso1@hotmail.com | brunomaso1@gmail.com \n",
      "• Linkedin: https://www.linkedin.com/in/brunomaso1/ \n",
      "FORMACION ACADEMICA: \n",
      "• Maestría en Inteligencia Artificial. Universidad de Buenos Aires. Facultad de Ingeniería. Fecha: EN \n",
      "CURSO. \n",
      "• Especialista en Inteligencia Artificial. Universidad de Buenos Aires. Facultad de Ingeniería. Fecha: \n",
      "EN CURSO. \n",
      "• Especialista en Ingeniería de Software. Universidad de la República. Facultad de Ingeniería. Fecha: \n",
      "2023. \n",
      "• Ingeniería en Informática. Universidad Católica del Uruguay. Fecha: 2018. \n",
      "• Licenciatura en Informática. Universidad Católica del Uruguay. Fecha: 2017. \n",
      "• Técnico en Informática. Universidad Católica del Uruguay. Fecha: 2014. \n",
      "• Bachiller en Ingeniería. Liceo Nº1, Artigas. Fecha: 2009. \n",
      "OTROS ESTUDIOS RELACIONADOS: \n",
      "• First Certificate in Competency in English. Alianza Uruguay. Fecha: 2006. \n",
      "OTROS ESTUDIOS NO RELACIONADOS: \n",
      "• Instalaciones Eléctricas. Universidad del Trabajo del Uruguay. Fecha: 2012. \n",
      " \n",
      "EXPERIENCIA LABORAL: \n",
      "• Intendencia de Montevideo. Montevideo, Uruguay. Desarrollo Sostenible e Inteligente. Mail: \n",
      "secretaria.direcciongeneral.ddsi@imm.gub.uy. Fecha: Marzo 2020 – Actual. \n",
      "o Analista Informático: Desarrollo. \n",
      "▪ Proyectos: \n",
      "• Intendencia de Montevideo. Desarrollo Sostenible e Inteligente. Gerencia de Tecnologías de la \n",
      "Información. Servicio de aplicaciones (2024 – Actual): Sistema de monitoreo de \n",
      "Rhynchophorus ferrugineus (picudo rojo) en palmeras de Montevideo. \n",
      "o Características: \n",
      "▪ Diseño e implementación de infraestructura de soporte (MLOps). \n",
      "▪ Diseño de modelos de machine learning. \n",
      "▪ Manejo de imágenes de alta resolución de vuelos de aviones y drones. \n",
      "▪ Manejo de información geográfica. \n",
      "• Intendencia de Montevideo. Desarrollo Sostenible e Inteligente. Gerencia de Tecnologías de la \n",
      "Información. Servicio de aplicaciones (2022 – Actual): Mejora de procesos. \n",
      "o Características:  \n",
      "▪ Mejora de procesos aplicando mejores prácticas de las diciplinas de ingeniería de \n",
      "software. \n",
      "Fecha: Abr-2025\n",
      "\fPágina 2 de 4 \n",
      " \n",
      "• Intendencia de Montevideo. Desarrollo Sostenible e Inteligente. Gerencia de Tecnologías de la \n",
      "Información. Servicio de aplicaciones (2021 – Actual): SAP Process Orchestration \n",
      "(middleware). \n",
      "o Características:  \n",
      "▪ Ingeniería de software sobre los procesos para comunicar los sistemas de Oracle y \n",
      "SAP, utilizando Oracle, Python y SAP PI/PO Netweaver 7.5 \n",
      "• Intendencia de Montevideo. Desarrollo Sostenible e Inteligente. Gerencia de Tecnologías de la \n",
      "Información. Servicio de aplicaciones (2020 – Actual): Mantenimiento evolutivo. \n",
      "o Características:  \n",
      "▪ Mantenimiento de los procesos de negocio, utilizando varias tecnologías, entre las \n",
      "cuales se encuentran SAP, Java, Python, Typescript, Ionic, Quarkus, SAP PI/PO. \n",
      "• Intendencia de Montevideo. Desarrollo Sostenible e Inteligente. Gerencia de Tecnologías de la \n",
      "Información. Servicio de aplicaciones (2021 – 2024): Portal del proveedor. \n",
      "o Características:  \n",
      "▪ Construcción del nuevo portal del proveedor utilizando las siguientes tecnologías: \n",
      "SAP, Angular + Ionic, Quarkus, SAP Process Orchestration. \n",
      "• Intendencia de Montevideo. Desarrollo Sostenible e Inteligente. Gerencia de Tecnologías de la \n",
      "Información. Servicio de aplicaciones (2020 – 2022): Migración SAP. \n",
      "o Características:  \n",
      "▪ Migración de los sistemas financieros de Oracle Forms a SAP. \n",
      "▪ Herramientas: \n",
      "• SAP. \n",
      "• SAP Process Orchestration. \n",
      "• Angular. \n",
      "• Ionic. \n",
      "• Quarkus. \n",
      "• CMMI/TMMI/TPI. \n",
      "• Python. \n",
      "• YOLO \n",
      "• Computer Vision \n",
      "• Genexus Consulting. Montevideo, Uruguay. Mail: info@genexusconsulting.com. Teléfono: +598 2601 \n",
      "2082. Dirección: Av. Italia 6201. Parque Tecnológico, Edificio Los Pinos. Fecha: Abril 2015 – 2020. \n",
      "o Desarrollador Genexus: Desarrollo. \n",
      "▪ Proyectos: \n",
      "• Mgap (2018 – 2020): Módulo de Trazabilidad Ganadera. \n",
      "o Características:  \n",
      "▪ Mantenimiento de los procesos de negocio del Sistema Nacional de Información \n",
      "Ganadera. \n",
      "▪ Trazabilidad ganadera. \n",
      "▪ Herramientas: \n",
      "• Genexus 15. \n",
      "• SQL. \n",
      "• SQL Server. \n",
      "• IIS (Internet Information Server) \n",
      "• Mantis. \n",
      "• Testlink. \n",
      "o SQA Tester: Resolución de problemas Informáticos. Creación de Casos de Pruebas. Ejecución de \n",
      "Casos de Pruebas. Pruebas de Performance. Seguridad. Planificación y estimación de tareas \n",
      "referidas al testing. White box testing y Black Box testing. \n",
      "▪ Proyectos: \n",
      "• Ancap (2015 – 2017): Módulo de Facturación Electrónica. Módulo de Despacho y Recepción \n",
      "de combustibles. \n",
      "o Características:  \n",
      "▪ Negocios Energéticos. \n",
      "▪ Implementación de los módulos de facturación electrónica. \n",
      "▪ Mantenimiento de los procesos de recepción, despacho y transferencias de productos \n",
      "de Negocios Energéticos. \n",
      "• Mgap: Módulo de Trazabilidad Ganadera. Módulo Declaración Jurada. \n",
      "o Características:  \n",
      "▪ Mantenimiento de los procesos de negocio del Sistema Nacional de Información \n",
      "Ganadera. \n",
      "▪ Trazabilidad ganadera. \n",
      "▪ Herramientas: \n",
      "• Genexus. \n",
      "• SQL. \n",
      "• JMeter. \n",
      "• GXTest. \n",
      "• DB2.\n",
      "\fPágina 3 de 4 \n",
      " \n",
      "• AS400. \n",
      "• Mantis. \n",
      "• Testlink. \n",
      "PUBLICACIONES: \n",
      "• Sistema de monitoreo de Rhynchophorus ferrugineus en palmeras de Montevideo – Memoria de \n",
      "proyecto \n",
      "o https://github.com/brunomaso1/uba-ceia/blob/ceia-memoria/ceia-\n",
      "memoria/memoria/memorianueva.pdf \n",
      " \n",
      "OTROS PROYECTOS: \n",
      "• Proyecto propio - Repositorio de la Maestría en Inteligencia Artificial \n",
      "o Año: 2024 - Actual \n",
      "o Lugar: https://github.com/brunomaso1/uba-mia \n",
      "o Organización: Proyecto propio. \n",
      "o Puesto: Especialista en Inteligencia Artificial. \n",
      "o Características: \n",
      "▪ Proyectos de trabajos realizados durante la carrera de Maestría en Inteligencia Artificial (UBA). \n",
      "• Proyectos de trabajos realizados durante la carrera de Especialización en Inteligencia Artificial (UBA). \n",
      "• Proyecto propio - Repositorio de la especialización en Inteligencia Artificial \n",
      "o Año: 2024 - Actual \n",
      "o Lugar: https://brunomaso1.github.io/ml-porfolio/ \n",
      "o Organización: Proyecto propio. \n",
      "o Puesto: Especialista en Inteligencia Artificial. \n",
      "o Características: \n",
      "▪ Proyectos de trabajos realizados durante la carrera de Especialización en Inteligencia Artificial (UBA). \n",
      "• Proyectos variados – Repositorio de código \n",
      "o Año: 2018 – Actual \n",
      "o Lugar: https://github.com/brunomaso1?tab=repositories  \n",
      "o Organización: Proyecto propio. \n",
      "o Puesto: Ingeniería de software | Ingeniera en Inteligencia Artificial. \n",
      "o Características: \n",
      "▪ Proyectos variados desde desarrollos web e inteligencia artificial hasta proyectos de pruebas de \n",
      "conceptos de computación cuántica o programación de robótica. \n",
      "• Proyecto propio – Portafolio de Machine Learning. \n",
      "o Año: 2018 – 2023 \n",
      "o Lugar: https://brunomaso1.github.io/ml-porfolio/ \n",
      "o Organización: Proyecto propio. \n",
      "o Puesto: Data scientist. \n",
      "o Características: \n",
      "▪ Proyectos de Machine Learning. \n",
      " \n",
      "IDIOMAS: \n",
      "• Ingles. Avanzado, oral y escrito. \n",
      "• Portugués. Básico, oral y escrito. \n",
      "CERTIFICACIONES: \n",
      "• Experimentando con métodos ágiles de software. Organización: FING. Fecha: 2023. \n",
      "• Técnicas y gestión de las pruebas de software. Organización: FING. Fecha: 2023. \n",
      "• Introducción a la estadística usando software. Organización: FING. Fecha: 2023. \n",
      "• Taller de planificación y seguimiento de proyectos de software. Organización: FING. Fecha: 2023. \n",
      "• Ingeniería avanzada de software. Organización: FING. Fecha: 2023. \n",
      "• Liderando equipos de desarrollo de software. Organización: FING. Fecha: 2023. \n",
      "• Evolución de software. Organización: FING. Fecha: 2022 \n",
      "• Minería de procesos de negocio: Fundamentos y aplicaciones. Organización: FING. Fecha: 2022 \n",
      "• Técnicas de calidad de software. Organización: FING. Fecha: 2022.\n",
      "\fPágina 4 de 4 \n",
      " \n",
      "• Relaciones personales en ingeniería de software. Organización: FING. Fecha: 2022. \n",
      "• Taller de testing de performance. Organización: FING. Fecha: 2022. \n",
      "• Arquitectura de software y tecnologías asociadas. Organización: FING. Fecha: 2022. \n",
      "• Ingeniería de Requisitos. Organización: FING. Fecha: 2022. \n",
      "• Costos para Ingeniería de Software. Organización: FING. Fecha: 2022. \n",
      "• Building Apps with the ABAP RESTful Application Programing Model. Organización: openSAP. \n",
      "Fecha: 2020. \n",
      "• Seguridad en Aplicaciones GeneXus WEB. Organización: Genexus. Fecha: 2016. \n",
      "• Analista GXTest (GXTest 3.0). Organización: Genexus. Fecha: 2016. \n",
      "• Seguridad en Aplicaciones GeneXus. Organización: Genexus. Fecha: 2016. \n",
      "• Taller Avanzado de Pruebas de Performance. Organización: Genexus Consulting. Fecha: 2016. \n",
      "• Taller Virtualización de Servicios. Organización: Genexus Consulting. Fecha: 2016. \n",
      "• Analista Genexus (Genexus X Evolution 3). Organización: Genexus. Fecha: 2015. \n",
      "• Pruebas de performance con JMeter. Organización: Genexus Consulting. Fecha: 2015. \n",
      "• Certificación de asistencia a Jornadas Binacionales de Informática y Comunicaciones. \n",
      "Organización: Comisión Técnica Mixta de Salto Grande. Fecha: 2014. \n",
      "• Certificación de asistencia a Jornadas Binacionales de Informática y Comunicaciones. \n",
      "Organización: Comisión Técnica Mixta de Salto Grande. Fecha: 2013. \n",
      "• Manejo Asertivo de Conflictos Negociación para Jóvenes. Organización: CMI International Group. \n",
      "Fecha: 2011. \n",
      "• Windows Avanzado. Organización: Kompukon Informática. Fecha: 2007. \n",
      "• Operador Windows. Organización: Kompukon Informática. Fecha: 2002. \n",
      " \n",
      "HABILIDADES:\n",
      "• Aprendizaje de \n",
      "máquinas \n",
      "• Visión por \n",
      "computadora \n",
      "• Desarrollo web \n",
      "• Ingeniería de software \n",
      "• MLOps \n",
      "• SQL \n",
      "• Python \n",
      "• Java \n",
      "• Quarkus \n",
      "• Scikit-learn \n",
      "• SAP Process \n",
      "Orchestration \n",
      "• Angular \n",
      "• Typescript \n",
      "• Ionic \n",
      " \n",
      "INTERESES Y ÁREAS DE INVESTIGACIÓN: \n",
      "• Teoría de la computación. \n",
      "• Robótica e Inteligencia Artificial. \n",
      "• Computación cuántica. \n",
      "• Ingeniería de Software.\n"
     ]
    }
   ],
   "source": [
    "# Load the PDF files from the directory\n",
    "loader = PyPDFDirectoryLoader(path=DIRECTORY_PATH, mode=\"single\") # mode=\"single\" -> cargar un solo documento por archivo PDF\n",
    "                                                                  # mode=\"page\" -> cargar una página por documento\n",
    "documents = loader.load()\n",
    "\n",
    "# Imprimir el número de documentos cargados. Se separa por páginas.\n",
    "print(f\"Number of documents loaded: {len(documents)}\")\n",
    "\n",
    "# Metadatos\n",
    "print(f\"Metadata of the first document: {documents[0].metadata}\")\n",
    "\n",
    "# Contenido\n",
    "print(f\"First document: {documents[0].page_content}\")"
   ]
  },
  {
   "cell_type": "markdown",
   "id": "02dd8462",
   "metadata": {},
   "source": [
    "### División del texto\n",
    "<small><em>https://python.langchain.com/docs/concepts/text_splitters/#why-split-documents</em></small>"
   ]
  },
  {
   "cell_type": "markdown",
   "id": "77ff2286",
   "metadata": {},
   "source": [
    "Una vez que tenemos los documentos, se dividen en fragmentos más pequeños con `langchain.text_splitter` + `RecursiveCharacterTextSplitter`. \n",
    "\n",
    "Más información sobre `RecursiveCharacterTextSplitter`:\n",
    "\n",
    "> Text is naturally organized into hierarchical units such as paragraphs, sentences, and words. We can leverage this inherent structure to inform our splitting strategy, creating split that maintain natural language flow, maintain semantic coherence within split, and adapts to varying levels of text granularity. "
   ]
  },
  {
   "cell_type": "markdown",
   "id": "bedc6143",
   "metadata": {},
   "source": [
    "> 📝 <em><font color='Gray'>Nota:</font></em> También se puede utilizar un splitter semántico.\n",
    "> Más información: https://python.langchain.com/docs/concepts/text_splitters/#semantic-meaning-based\n",
    "> Tutorial: https://python.langchain.com/docs/how_to/semantic-chunker/"
   ]
  },
  {
   "cell_type": "code",
   "execution_count": 58,
   "id": "5857a395",
   "metadata": {},
   "outputs": [
    {
     "name": "stdout",
     "output_type": "stream",
     "text": [
      "Se generaron 62 fragmentos.\n",
      "Tipo de chunk: <class 'langchain_core.documents.base.Document'>\n",
      "Primer chunk: Página 1 de 4 \n",
      " \n",
      "CURRICULUM VITAE \n",
      "DATOS PERSONALES: \n",
      "• NOMBRE: Bruno Martin Masoller Gancedo \n",
      "• DIRECCION: Montevideo, Uruguay \n",
      "• TELEFONO: +598 91 414 979\n"
     ]
    }
   ],
   "source": [
    "# Dividir el contenido en fragmentos\n",
    "text_splitter = RecursiveCharacterTextSplitter(\n",
    "    chunk_size=200,\n",
    "    chunk_overlap=50,\n",
    "    separators=[\"\\n\\n\", \"\\n\", \"(?=\\\\.)\", \" \", \"\"],  # Separadores más robustos\n",
    "    length_function=len,\n",
    ")\n",
    "\n",
    "# 'chunks' es una lista de objetos 'Document' de Langchain,\n",
    "# donde cada 'Document' tiene el 'page_content' del fragmento\n",
    "# y los metadatos del documento original\n",
    "chunks = text_splitter.split_documents(documents)\n",
    "\n",
    "# Textos unificados\n",
    "text_chunks = [chunk.page_content for chunk in chunks]\n",
    "\n",
    "print(f\"Se generaron {len(chunks)} fragmentos.\")\n",
    "\n",
    "print(f\"Tipo de chunk: {type(chunks[0])}\") # Tiene la propiedad 'page_content' y 'metadata'.\n",
    "\n",
    "print(f\"Primer chunk: {chunks[0].page_content}\")"
   ]
  },
  {
   "cell_type": "markdown",
   "id": "52fd69a3",
   "metadata": {},
   "source": [
    "### Indexación en Pinecone\n",
    "<small><em>https://python.langchain.com/api_reference/pinecone/vectorstores.html</em></small>"
   ]
  },
  {
   "cell_type": "markdown",
   "id": "0223669f",
   "metadata": {},
   "source": [
    "Para la indexación en Pinecone, con LangChain se puede utilizar los \"VectorStore\" que permiten almacenar y recuperar vectores de manera eficiente. En este caso se puede utilizar `PineconeVectorStore`."
   ]
  },
  {
   "cell_type": "code",
   "execution_count": 59,
   "id": "d65f0dc6",
   "metadata": {},
   "outputs": [
    {
     "name": "stdout",
     "output_type": "stream",
     "text": [
      "Descripción del índice: {'deletion_protection': 'disabled',\n",
      " 'dimension': 1024,\n",
      " 'host': 'nlp2-practico1-22dypz1.svc.aped-4627-b74a.pinecone.io',\n",
      " 'metric': 'cosine',\n",
      " 'name': 'nlp2-practico1',\n",
      " 'spec': {'serverless': {'cloud': 'aws', 'region': 'us-east-1'}},\n",
      " 'status': {'ready': True, 'state': 'Ready'},\n",
      " 'tags': {'environment': 'development'},\n",
      " 'vector_type': 'dense'}\n"
     ]
    }
   ],
   "source": [
    "# Creamos el indice en Pinecone\n",
    "pc = Pinecone(api_key=PINECONE_API_KEY)\n",
    "\n",
    "index_name = \"nlp2-practico1\"\n",
    "namespace = \"nlp2-practico1-namespace\"\n",
    "\n",
    "if not pc.has_index(index_name):\n",
    "    pc.create_index(\n",
    "        name=index_name,\n",
    "        vector_type=\"dense\",\n",
    "        dimension=EMBEDDINGS_DIMENSION,\n",
    "        metric=\"cosine\",\n",
    "        spec=ServerlessSpec(cloud=\"aws\", region=\"us-east-1\"),\n",
    "        deletion_protection=\"disabled\",\n",
    "        tags={\"environment\": \"development\"},\n",
    "    )\n",
    "    while not pc.describe_index(index_name).status[\"ready\"]:\n",
    "        time.sleep(1)\n",
    "\n",
    "print(f\"Descripción del índice: {pc.describe_index(index_name)}\")"
   ]
  },
  {
   "cell_type": "code",
   "execution_count": 60,
   "id": "6d5a4896",
   "metadata": {},
   "outputs": [],
   "source": [
    "# Obtenemos el indice\n",
    "index = pc.Index(host=pc.describe_index(index_name).host)"
   ]
  },
  {
   "cell_type": "markdown",
   "id": "134e201f",
   "metadata": {},
   "source": [
    "Creamos el VectorStore con embeddings de Jina AI y lo indexamos en Pinecone. Para esto, se utiliza `JinaEmbeddings` para crear los embeddings de los fragmentos de texto y luego se indexan en Pinecone. Esto se hace utilizando la API de Jina AI, pero se puede lograr lo mismo utilizando SentenceTransformers.\n",
    "\n",
    "Links: \n",
    "- [Embbedings de Jina AI - LangChain](https://python.langchain.com/docs/integrations/text_embedding/jina/)\n",
    "- [Sentence Transformers Embbedings - LangChain](https://python.langchain.com/docs/integrations/text_embedding/sentence_transformers/)\n",
    "- [Custom Embbedings - LangChain](https://python.langchain.com/docs/how_to/custom_embeddings/)"
   ]
  },
  {
   "cell_type": "markdown",
   "id": "376cd776",
   "metadata": {},
   "source": [
    "<details>\n",
    "  <summary>Ejemplo utilizando HuggingFaceEmbbedings</summary>\n",
    "  \n",
    "```python\n",
    "    from langchain_huggingface.embeddings import HuggingFaceEmbeddings\n",
    "\n",
    "    text_embbedings = HuggingFaceEmbeddings(model_name=\"jinaai/jina-embeddings-v3\", model_kwargs={\"trust_remote_code\": True})\n",
    "\n",
    "    text = \"This is a test document.\"\n",
    "    query_result = text_embbedings.embed_query(text)\n",
    "\n",
    "    # show only the first 100 characters of the stringified vector\n",
    "    print(str(query_result)[:100] + \"...\")\n",
    "\n",
    "    doc_result = text_embbedings.embed_documents([text, \"This is not a test document.\"])\n",
    "    print(str(doc_result)[:100] + \"...\")\n",
    "\n",
    "    # Inicializa el vector store igual que antes\n",
    "    vector_store = PineconeVectorStore(\n",
    "        index=index,\n",
    "        embedding=text_embbedings,\n",
    "        namespace=namespace\n",
    "    )\n",
    "```\n",
    "\n",
    "</details>"
   ]
  },
  {
   "cell_type": "markdown",
   "id": "2cfb9cc1",
   "metadata": {},
   "source": [
    "<details>\n",
    "  <summary>Ejemplo utilizando Custom Embedding</summary>\n",
    "  \n",
    "```python\n",
    "    from transformers import AutoModel\n",
    "    from torch.nn.functional import normalize\n",
    "    from langchain_core.embeddings import Embeddings\n",
    "\n",
    "    class JinaLocalEmbeddings(Embeddings):\n",
    "        def __init__(self, model_name):\n",
    "            self.model = AutoModel.from_pretrained(model_name)\n",
    "            self.tokenizer = AutoTokenizer.from_pretrained(model_name)\n",
    "        \n",
    "        def embed_documents(self, texts):\n",
    "            inputs = self.tokenizer(\n",
    "                texts, \n",
    "                padding=True, \n",
    "                truncation=True, \n",
    "                return_tensors=\"pt\",\n",
    "                max_length=8192  # Máximo contexto de Jina v3\n",
    "            )\n",
    "            outputs = self.model(**inputs)\n",
    "            embeddings = normalize(outputs.last_hidden_state.mean(dim=1), p=2, dim=1)\n",
    "            return embeddings.detach().numpy().tolist()\n",
    "        \n",
    "        def embed_query(self, text):\n",
    "            return self.embed_documents([text])[0]\n",
    "\n",
    "    # Uso\n",
    "    text_embeddings = JinaLocalEmbeddings(\"jinaai/jina-embeddings-v3\")\n",
    "```\n",
    "\n",
    "</details>"
   ]
  },
  {
   "cell_type": "markdown",
   "id": "91bf5b11",
   "metadata": {},
   "source": [
    "Utilizamos la API de Jina AI:"
   ]
  },
  {
   "cell_type": "code",
   "execution_count": 61,
   "id": "413a2775",
   "metadata": {},
   "outputs": [],
   "source": [
    "# Creamos el modelo de embeddings de Jina\n",
    "text_embeddings = JinaEmbeddings(\n",
    "    jina_api_key=JINA_AI_API_KEY, model_name=EMBEDDINGS_MODEL\n",
    ")"
   ]
  },
  {
   "cell_type": "code",
   "execution_count": 62,
   "id": "8c8c78d4",
   "metadata": {},
   "outputs": [],
   "source": [
    "# Creamos el vector store de Pinecone\n",
    "vector_store = PineconeVectorStore.from_documents(\n",
    "    documents=chunks,\n",
    "    embedding=text_embeddings,\n",
    "    index_name=index_name,\n",
    "    namespace=namespace\n",
    ") "
   ]
  },
  {
   "cell_type": "code",
   "execution_count": 63,
   "id": "8331407e",
   "metadata": {},
   "outputs": [],
   "source": [
    "vector_store2 = PineconeVectorStore.from_existing_index(\n",
    "    embedding=text_embeddings,\n",
    "    index_name=index_name,\n",
    "    namespace=namespace\n",
    ")"
   ]
  },
  {
   "cell_type": "markdown",
   "id": "9fc30b4f",
   "metadata": {},
   "source": [
    "Realizamos un test de la búsqueda:"
   ]
  },
  {
   "cell_type": "code",
   "execution_count": 64,
   "id": "46b007f5",
   "metadata": {},
   "outputs": [
    {
     "name": "stdout",
     "output_type": "stream",
     "text": [
      "Resultados de la búsqueda: [Document(id='4baec4c6-d1fd-4e4d-ba08-75acf019f7c1', metadata={'author': 'Bruno Masoller', 'creationdate': '2025-04-08T18:48:43-03:00', 'creator': 'Microsoft® Word para Microsoft 365', 'moddate': '2025-04-08T18:48:43-03:00', 'producer': 'Microsoft® Word para Microsoft 365', 'source': '..\\\\resources\\\\cvs_pdf\\\\CV Bruno Masoller - Detallado.pdf', 'total_pages': 4.0}, page_content='• Ingeniería de software \\n• MLOps \\n• SQL \\n• Python \\n• Java \\n• Quarkus \\n• Scikit-learn \\n• SAP Process \\nOrchestration \\n• Angular \\n• Typescript \\n• Ionic \\n \\nINTERESES Y ÁREAS DE INVESTIGACIÓN:'), Document(id='3c6561cc-8474-4c8a-b14c-5a5192ee2d7a', metadata={'author': 'Bruno Masoller', 'creationdate': '2025-04-08T18:48:43-03:00', 'creator': 'Microsoft® Word para Microsoft 365', 'moddate': '2025-04-08T18:48:43-03:00', 'producer': 'Microsoft® Word para Microsoft 365', 'source': '..\\\\resources\\\\cvs_pdf\\\\CV Bruno Masoller - Detallado.pdf', 'total_pages': 4.0}, page_content='• Ingeniería de software \\n• MLOps \\n• SQL \\n• Python \\n• Java \\n• Quarkus \\n• Scikit-learn \\n• SAP Process \\nOrchestration \\n• Angular \\n• Typescript \\n• Ionic \\n \\nINTERESES Y ÁREAS DE INVESTIGACIÓN:'), Document(id='cf3ec9af-e2d1-4681-89f1-b1ed37e65f84', metadata={'author': 'Bruno Masoller', 'creationdate': '2025-04-08T18:48:43-03:00', 'creator': 'Microsoft® Word para Microsoft 365', 'moddate': '2025-04-08T18:48:43-03:00', 'producer': 'Microsoft® Word para Microsoft 365', 'source': '..\\\\resources\\\\cvs_pdf\\\\CV Bruno Masoller - Detallado.pdf', 'total_pages': 4.0}, page_content='• Ingeniería de software \\n• MLOps \\n• SQL \\n• Python \\n• Java \\n• Quarkus \\n• Scikit-learn \\n• SAP Process \\nOrchestration \\n• Angular \\n• Typescript \\n• Ionic \\n \\nINTERESES Y ÁREAS DE INVESTIGACIÓN:')]\n",
      "Contenido del primer resultado: • Ingeniería de software \n",
      "• MLOps \n",
      "• SQL \n",
      "• Python \n",
      "• Java \n",
      "• Quarkus \n",
      "• Scikit-learn \n",
      "• SAP Process \n",
      "Orchestration \n",
      "• Angular \n",
      "• Typescript \n",
      "• Ionic \n",
      " \n",
      "INTERESES Y ÁREAS DE INVESTIGACIÓN:\n"
     ]
    }
   ],
   "source": [
    "results = vector_store.similarity_search(\n",
    "    query=\"¿Cuáles son los lenguajes de programación más utilizados en el CV?\",\n",
    "    k=3,\n",
    "    namespace=namespace,\n",
    ")\n",
    "\n",
    "print(f\"Resultados de la búsqueda: {results}\")\n",
    "print(f\"Contenido del primer resultado: {results[0].page_content}\")"
   ]
  },
  {
   "cell_type": "markdown",
   "id": "16a4af6c",
   "metadata": {},
   "source": [
    "Obtenemos el `retriever` de LangChain para poder realizar la búsqueda de los fragmentos de texto más relevantes en función de la pregunta del usuario. Más información: https://python.langchain.com/docs/concepts/retrievers/"
   ]
  },
  {
   "cell_type": "code",
   "execution_count": 65,
   "id": "fbc24fa3",
   "metadata": {},
   "outputs": [],
   "source": [
    "vector_store_retriever = vector_store.as_retriever(search_kwargs={\"k\": 5})"
   ]
  },
  {
   "cell_type": "code",
   "execution_count": 66,
   "id": "dcae7419",
   "metadata": {},
   "outputs": [
    {
     "name": "stdout",
     "output_type": "stream",
     "text": [
      "Resultados de la búsqueda: [Document(id='4baec4c6-d1fd-4e4d-ba08-75acf019f7c1', metadata={'author': 'Bruno Masoller', 'creationdate': '2025-04-08T18:48:43-03:00', 'creator': 'Microsoft® Word para Microsoft 365', 'moddate': '2025-04-08T18:48:43-03:00', 'producer': 'Microsoft® Word para Microsoft 365', 'source': '..\\\\resources\\\\cvs_pdf\\\\CV Bruno Masoller - Detallado.pdf', 'total_pages': 4.0}, page_content='• Ingeniería de software \\n• MLOps \\n• SQL \\n• Python \\n• Java \\n• Quarkus \\n• Scikit-learn \\n• SAP Process \\nOrchestration \\n• Angular \\n• Typescript \\n• Ionic \\n \\nINTERESES Y ÁREAS DE INVESTIGACIÓN:'), Document(id='038564ff-5b42-4488-9bfe-67c7b687f9fc', metadata={'author': 'Bruno Masoller', 'creationdate': '2025-04-08T18:48:43-03:00', 'creator': 'Microsoft® Word para Microsoft 365', 'moddate': '2025-04-08T18:48:43-03:00', 'producer': 'Microsoft® Word para Microsoft 365', 'source': '..\\\\resources\\\\cvs_pdf\\\\CV Bruno Masoller - Detallado.pdf', 'total_pages': 4.0}, page_content='• Ingeniería de software \\n• MLOps \\n• SQL \\n• Python \\n• Java \\n• Quarkus \\n• Scikit-learn \\n• SAP Process \\nOrchestration \\n• Angular \\n• Typescript \\n• Ionic \\n \\nINTERESES Y ÁREAS DE INVESTIGACIÓN:'), Document(id='cd7f2e13-9dd1-483d-9a49-c3ca1b1ea5ba', metadata={'author': 'Bruno Masoller', 'creationdate': '2025-04-08T18:48:43-03:00', 'creator': 'Microsoft® Word para Microsoft 365', 'moddate': '2025-04-08T18:48:43-03:00', 'producer': 'Microsoft® Word para Microsoft 365', 'source': '..\\\\resources\\\\cvs_pdf\\\\CV Bruno Masoller - Detallado.pdf', 'total_pages': 4.0}, page_content='• Ingeniería de software \\n• MLOps \\n• SQL \\n• Python \\n• Java \\n• Quarkus \\n• Scikit-learn \\n• SAP Process \\nOrchestration \\n• Angular \\n• Typescript \\n• Ionic \\n \\nINTERESES Y ÁREAS DE INVESTIGACIÓN:'), Document(id='3c6561cc-8474-4c8a-b14c-5a5192ee2d7a', metadata={'author': 'Bruno Masoller', 'creationdate': '2025-04-08T18:48:43-03:00', 'creator': 'Microsoft® Word para Microsoft 365', 'moddate': '2025-04-08T18:48:43-03:00', 'producer': 'Microsoft® Word para Microsoft 365', 'source': '..\\\\resources\\\\cvs_pdf\\\\CV Bruno Masoller - Detallado.pdf', 'total_pages': 4.0}, page_content='• Ingeniería de software \\n• MLOps \\n• SQL \\n• Python \\n• Java \\n• Quarkus \\n• Scikit-learn \\n• SAP Process \\nOrchestration \\n• Angular \\n• Typescript \\n• Ionic \\n \\nINTERESES Y ÁREAS DE INVESTIGACIÓN:'), Document(id='8cac7a43-1ef7-4d04-b55e-df56930b8088', metadata={'author': 'Bruno Masoller', 'creationdate': '2025-04-08T18:48:43-03:00', 'creator': 'Microsoft® Word para Microsoft 365', 'moddate': '2025-04-08T18:48:43-03:00', 'producer': 'Microsoft® Word para Microsoft 365', 'source': '..\\\\resources\\\\cvs_pdf\\\\CV Bruno Masoller - Detallado.pdf', 'total_pages': 4.0}, page_content='• Ingeniería de software \\n• MLOps \\n• SQL \\n• Python \\n• Java \\n• Quarkus \\n• Scikit-learn \\n• SAP Process \\nOrchestration \\n• Angular \\n• Typescript \\n• Ionic \\n \\nINTERESES Y ÁREAS DE INVESTIGACIÓN:')]\n"
     ]
    }
   ],
   "source": [
    "# Realizamos una prueba de búsqueda\n",
    "query = \"¿Cuáles son los lenguajes de programación más utilizados en el CV?\"\n",
    "results = vector_store_retriever.invoke(query)\n",
    "print(f\"Resultados de la búsqueda: {results}\")"
   ]
  },
  {
   "cell_type": "markdown",
   "id": "a14ecbc9",
   "metadata": {},
   "source": [
    "### Probar la cadena de RAG\n",
    "<small><em>https://python.langchain.com/docs/how_to/#langchain-expression-language-lcel</em></small>"
   ]
  },
  {
   "cell_type": "code",
   "execution_count": 67,
   "id": "c61ca14f",
   "metadata": {},
   "outputs": [],
   "source": [
    "# Instanciamos el modelo de Groq\n",
    "chat = ChatGroq(model=\"llama-3.1-8b-instant\")"
   ]
  },
  {
   "cell_type": "markdown",
   "id": "fb631e67",
   "metadata": {},
   "source": [
    "> 📝 <em><font color='Gray'>Nota:</font></em> combine_docks_chain:\n",
    "> Es el componente encargado de combinar los documentos recuperados (por el retriever) con el prompt original del usuario para generar una respuesta coherente. Básicamente:\n",
    "> 1. Recibe la pregunta del usuario (ej: \"¿Cuáles son los lenguajes de programación más utilizados en el CV?\")\n",
    "> 2. Recibe los documentos/chunks relevantes del vector store.\n",
    "> 3. Combina ambos elementos en un formato entendible para el LLM.\n",
    "> 4. Genera una respuesta final basada en el contexto."
   ]
  },
  {
   "cell_type": "markdown",
   "id": "244abdd9",
   "metadata": {},
   "source": [
    "Primeramente, debemos definir un prompt template:"
   ]
  },
  {
   "cell_type": "code",
   "execution_count": 68,
   "id": "d01f0299",
   "metadata": {},
   "outputs": [],
   "source": [
    "from langchain_core.prompts import SystemMessagePromptTemplate, HumanMessagePromptTemplate\n",
    "system_prompt = \"\"\"\n",
    "Responde la pregunta del usuario basándote en el siguiente contexto:\n",
    "\n",
    "<contexto>\n",
    "{context}\n",
    "</contexto>\n",
    "\n",
    "Si no hay información relevante en el contexto, di \"No sé la respuesta\".\n",
    "\"\"\"\n",
    "\n",
    "prompt = ChatPromptTemplate.from_messages(\n",
    "    [\n",
    "        SystemMessagePromptTemplate.from_template(system_prompt),\n",
    "        HumanMessagePromptTemplate.from_template(\"{input}\"),\n",
    "    ]\n",
    ")"
   ]
  },
  {
   "cell_type": "markdown",
   "id": "064503b6",
   "metadata": {},
   "source": [
    "Donde:\n",
    "- Se incluye un placeholder `context` para los documentos recuperados por el retriever (esto está en la documentación de combine_doc_chain)."
   ]
  },
  {
   "cell_type": "markdown",
   "id": "fb716d3c",
   "metadata": {},
   "source": [
    "Creamos el `combine_docs_chain` con el prompt template y el modelo de Groq:"
   ]
  },
  {
   "cell_type": "code",
   "execution_count": 69,
   "id": "69564476",
   "metadata": {},
   "outputs": [],
   "source": [
    "combine_docs_chain = create_stuff_documents_chain(\n",
    "    llm=chat, prompt=prompt\n",
    ")"
   ]
  },
  {
   "cell_type": "markdown",
   "id": "29e4d3d2",
   "metadata": {},
   "source": [
    "Creamos `create_retrieval_chain` para crear la cadena de RAG:"
   ]
  },
  {
   "cell_type": "code",
   "execution_count": 70,
   "id": "452b8a28",
   "metadata": {},
   "outputs": [],
   "source": [
    "retrieval_chain = create_retrieval_chain(\n",
    "    retriever=vector_store_retriever,\n",
    "    combine_docs_chain=combine_docs_chain\n",
    ")"
   ]
  },
  {
   "cell_type": "markdown",
   "id": "c6ab022c",
   "metadata": {},
   "source": [
    "Probamos la cadena:"
   ]
  },
  {
   "cell_type": "code",
   "execution_count": 71,
   "id": "4027875a",
   "metadata": {},
   "outputs": [
    {
     "name": "stdout",
     "output_type": "stream",
     "text": [
      "Respuesta: Basándome en el contexto proporcionado, los lenguajes de programación más utilizados mencionados en el CV son:\n",
      "\n",
      "1. Python\n",
      "2. Java\n",
      "3. Typescript\n",
      "\n",
      "Estos lenguajes de programación se mencionan varias veces en el contexto como intereses y áreas de investigación, lo que sugiere que el titular del CV tiene una buena conocimiento y experiencia en ellos.\n"
     ]
    }
   ],
   "source": [
    "response = retrieval_chain.invoke(\n",
    "    {\"input\": \"¿Cuáles son los lenguajes de programación más utilizados en el CV?\"}\n",
    ")\n",
    "\n",
    "print(f\"Respuesta: {response['answer']}\")"
   ]
  },
  {
   "cell_type": "code",
   "execution_count": 72,
   "id": "e601b6c1",
   "metadata": {},
   "outputs": [
    {
     "data": {
      "text/plain": [
       "{'input': '¿Cuáles son los lenguajes de programación más utilizados en el CV?',\n",
       " 'context': [Document(id='4baec4c6-d1fd-4e4d-ba08-75acf019f7c1', metadata={'author': 'Bruno Masoller', 'creationdate': '2025-04-08T18:48:43-03:00', 'creator': 'Microsoft® Word para Microsoft 365', 'moddate': '2025-04-08T18:48:43-03:00', 'producer': 'Microsoft® Word para Microsoft 365', 'source': '..\\\\resources\\\\cvs_pdf\\\\CV Bruno Masoller - Detallado.pdf', 'total_pages': 4.0}, page_content='• Ingeniería de software \\n• MLOps \\n• SQL \\n• Python \\n• Java \\n• Quarkus \\n• Scikit-learn \\n• SAP Process \\nOrchestration \\n• Angular \\n• Typescript \\n• Ionic \\n \\nINTERESES Y ÁREAS DE INVESTIGACIÓN:'),\n",
       "  Document(id='038564ff-5b42-4488-9bfe-67c7b687f9fc', metadata={'author': 'Bruno Masoller', 'creationdate': '2025-04-08T18:48:43-03:00', 'creator': 'Microsoft® Word para Microsoft 365', 'moddate': '2025-04-08T18:48:43-03:00', 'producer': 'Microsoft® Word para Microsoft 365', 'source': '..\\\\resources\\\\cvs_pdf\\\\CV Bruno Masoller - Detallado.pdf', 'total_pages': 4.0}, page_content='• Ingeniería de software \\n• MLOps \\n• SQL \\n• Python \\n• Java \\n• Quarkus \\n• Scikit-learn \\n• SAP Process \\nOrchestration \\n• Angular \\n• Typescript \\n• Ionic \\n \\nINTERESES Y ÁREAS DE INVESTIGACIÓN:'),\n",
       "  Document(id='8cac7a43-1ef7-4d04-b55e-df56930b8088', metadata={'author': 'Bruno Masoller', 'creationdate': '2025-04-08T18:48:43-03:00', 'creator': 'Microsoft® Word para Microsoft 365', 'moddate': '2025-04-08T18:48:43-03:00', 'producer': 'Microsoft® Word para Microsoft 365', 'source': '..\\\\resources\\\\cvs_pdf\\\\CV Bruno Masoller - Detallado.pdf', 'total_pages': 4.0}, page_content='• Ingeniería de software \\n• MLOps \\n• SQL \\n• Python \\n• Java \\n• Quarkus \\n• Scikit-learn \\n• SAP Process \\nOrchestration \\n• Angular \\n• Typescript \\n• Ionic \\n \\nINTERESES Y ÁREAS DE INVESTIGACIÓN:'),\n",
       "  Document(id='3c6561cc-8474-4c8a-b14c-5a5192ee2d7a', metadata={'author': 'Bruno Masoller', 'creationdate': '2025-04-08T18:48:43-03:00', 'creator': 'Microsoft® Word para Microsoft 365', 'moddate': '2025-04-08T18:48:43-03:00', 'producer': 'Microsoft® Word para Microsoft 365', 'source': '..\\\\resources\\\\cvs_pdf\\\\CV Bruno Masoller - Detallado.pdf', 'total_pages': 4.0}, page_content='• Ingeniería de software \\n• MLOps \\n• SQL \\n• Python \\n• Java \\n• Quarkus \\n• Scikit-learn \\n• SAP Process \\nOrchestration \\n• Angular \\n• Typescript \\n• Ionic \\n \\nINTERESES Y ÁREAS DE INVESTIGACIÓN:'),\n",
       "  Document(id='7756d8b4-15e1-4f01-9f78-b377dd26fdcc', metadata={'author': 'Bruno Masoller', 'creationdate': '2025-04-08T18:48:43-03:00', 'creator': 'Microsoft® Word para Microsoft 365', 'moddate': '2025-04-08T18:48:43-03:00', 'producer': 'Microsoft® Word para Microsoft 365', 'source': '..\\\\resources\\\\cvs_pdf\\\\CV Bruno Masoller - Detallado.pdf', 'total_pages': 4.0}, page_content='• Ingeniería de software \\n• MLOps \\n• SQL \\n• Python \\n• Java \\n• Quarkus \\n• Scikit-learn \\n• SAP Process \\nOrchestration \\n• Angular \\n• Typescript \\n• Ionic \\n \\nINTERESES Y ÁREAS DE INVESTIGACIÓN:')],\n",
       " 'answer': 'Basándome en el contexto proporcionado, los lenguajes de programación más utilizados mencionados en el CV son:\\n\\n1. Python\\n2. Java\\n3. Typescript\\n\\nEstos lenguajes de programación se mencionan varias veces en el contexto como intereses y áreas de investigación, lo que sugiere que el titular del CV tiene una buena conocimiento y experiencia en ellos.'}"
      ]
     },
     "execution_count": 72,
     "metadata": {},
     "output_type": "execute_result"
    }
   ],
   "source": [
    "response"
   ]
  },
  {
   "cell_type": "markdown",
   "id": "4f6fa6a5",
   "metadata": {},
   "source": [
    "### Incorporar historial\n",
    "<small><em>https://python.langchain.com/v0.1/docs/use_cases/question_answering/chat_history/</em></small>"
   ]
  },
  {
   "cell_type": "markdown",
   "id": "bdf45f0f",
   "metadata": {},
   "source": [
    "> ⚠️ <em><font color='gold'>Problemas detectados:</font></em> Actualmente la versión oficial de para incorporar historial es mediante LangGraph:\n",
    "> - [Página LangGrahp](https://langchain-ai.github.io/langgraph/)\n",
    "> - [Tutorial](https://python.langchain.com/docs/how_to/qa_chat_history_how_to/)"
   ]
  },
  {
   "cell_type": "markdown",
   "id": "4e5c1e92",
   "metadata": {},
   "source": [
    "Creamos un retriever (que es un LLM) que utiliza el historial para reformular la pregunta y generar una respuesta más completa, con el historial:"
   ]
  },
  {
   "cell_type": "code",
   "execution_count": 74,
   "id": "921c6c2e",
   "metadata": {},
   "outputs": [],
   "source": [
    "reformulate_history_prompt = \"\"\"\n",
    "Dado un historial de un chat y la última pregunta del usuario, que podría referenciar al contexto del historial, crea una pregunta independiente que pueda entenderse sin el historial. NO respondas a la pregunta; simplemente reformula si es necesario; de lo contrario, devuélvala tal como está.\n",
    "\"\"\"\n",
    "\n",
    "# Prompt para reformular la pregunta usando el historial\n",
    "retriever_prompt = ChatPromptTemplate.from_messages(\n",
    "    [\n",
    "        SystemMessagePromptTemplate.from_template(reformulate_history_prompt),\n",
    "        MessagesPlaceholder(variable_name=\"chat_history\"),\n",
    "        HumanMessagePromptTemplate.from_template(\"{input}\"),\n",
    "    ]\n",
    ")\n",
    "\n",
    "# Retriever que usa el historial\n",
    "history_aware_retriever = create_history_aware_retriever(\n",
    "    llm=chat, retriever=vector_store_retriever, prompt=retriever_prompt\n",
    ")"
   ]
  },
  {
   "cell_type": "markdown",
   "id": "4607ece4",
   "metadata": {},
   "source": [
    "Modificamos el `combine_docs_chain` para que utilice el nuevo prompt (que utiliza el historial):"
   ]
  },
  {
   "cell_type": "code",
   "execution_count": 75,
   "id": "cb9f6475",
   "metadata": {},
   "outputs": [],
   "source": [
    "qa_prompt = ChatPromptTemplate.from_messages(\n",
    "    [\n",
    "        SystemMessagePromptTemplate.from_template(system_prompt),\n",
    "        MessagesPlaceholder(\"chat_history\"),\n",
    "        HumanMessagePromptTemplate.from_template(\"{input}\"),\n",
    "    ]\n",
    ")\n",
    "\n",
    "combine_docs_chain = create_stuff_documents_chain(llm=chat, prompt=qa_prompt)"
   ]
  },
  {
   "cell_type": "markdown",
   "id": "d3e84ae7",
   "metadata": {},
   "source": [
    "Creamos la cadena final utilizando `create_retrieval_chain` (esta cadena utiliza el prompt que reformula la pregunta y luego va a buscar los documentos relevantes en el vector store):"
   ]
  },
  {
   "cell_type": "code",
   "execution_count": null,
   "id": "c844e179",
   "metadata": {},
   "outputs": [],
   "source": [
    "# Cadena principal\n",
    "retrieval_chain = create_retrieval_chain(\n",
    "    retriever=history_aware_retriever, combine_docs_chain=combine_docs_chain\n",
    ")"
   ]
  },
  {
   "cell_type": "markdown",
   "id": "9e681b7b",
   "metadata": {},
   "source": [
    "Finalmente, probamos la cadena:"
   ]
  },
  {
   "cell_type": "code",
   "execution_count": 85,
   "id": "fa96eb6c",
   "metadata": {},
   "outputs": [
    {
     "name": "stdout",
     "output_type": "stream",
     "text": [
      "Respuesta 1: Basándome en el contexto proporcionado, los lenguajes de programación más utilizados en el campo de la ingeniería de software y MLOps mencionados son:\n",
      "\n",
      "1. Python\n",
      "2. Java\n",
      "3. Typescript\n",
      "Respuesta 2: Sí, en el contexto proporcionado, hay varios proyectos de trabajos realizados durante la carrera de Especialización en Inteligencia Artificial (UBA) que utilizan Python. Sin embargo, no hay información específica sobre proyectos destacados en el contexto proporcionado.\n",
      "\n",
      "Pero puedo mencionar algunos ejemplos de proyectos destacados en la comunidad de IA que utilizan Python, como:\n",
      "\n",
      "1. TensorFlow (librería de aprendizaje automático)\n",
      "2. Keras (librería de aprendizaje automático)\n",
      "3. Scikit-learn (biblioteca de aprendizaje automático)\n",
      "4. OpenCV (biblioteca de visión computacional)\n",
      "\n",
      "Estos proyectos son ampliamente utilizados en la comunidad de IA y Machine Learning, y son una buena oportunidad para aplicar conocimientos en Python.\n",
      "Historial de la conversación:\n",
      "--------------------\n",
      "{'input': '¿Cuáles son los lenguajes de programación más utilizados en el CV?', 'chat_history': [], 'context': [Document(id='8cac7a43-1ef7-4d04-b55e-df56930b8088', metadata={'author': 'Bruno Masoller', 'creationdate': '2025-04-08T18:48:43-03:00', 'creator': 'Microsoft® Word para Microsoft 365', 'moddate': '2025-04-08T18:48:43-03:00', 'producer': 'Microsoft® Word para Microsoft 365', 'source': '..\\\\resources\\\\cvs_pdf\\\\CV Bruno Masoller - Detallado.pdf', 'total_pages': 4.0}, page_content='• Ingeniería de software \\n• MLOps \\n• SQL \\n• Python \\n• Java \\n• Quarkus \\n• Scikit-learn \\n• SAP Process \\nOrchestration \\n• Angular \\n• Typescript \\n• Ionic \\n \\nINTERESES Y ÁREAS DE INVESTIGACIÓN:'), Document(id='9067b2a9-c7f5-499d-94bb-75c8029db2dc', metadata={'author': 'Bruno Masoller', 'creationdate': '2025-04-08T18:48:43-03:00', 'creator': 'Microsoft® Word para Microsoft 365', 'moddate': '2025-04-08T18:48:43-03:00', 'producer': 'Microsoft® Word para Microsoft 365', 'source': '..\\\\resources\\\\cvs_pdf\\\\CV Bruno Masoller - Detallado.pdf', 'total_pages': 4.0}, page_content='• Ingeniería de software \\n• MLOps \\n• SQL \\n• Python \\n• Java \\n• Quarkus \\n• Scikit-learn \\n• SAP Process \\nOrchestration \\n• Angular \\n• Typescript \\n• Ionic \\n \\nINTERESES Y ÁREAS DE INVESTIGACIÓN:'), Document(id='7756d8b4-15e1-4f01-9f78-b377dd26fdcc', metadata={'author': 'Bruno Masoller', 'creationdate': '2025-04-08T18:48:43-03:00', 'creator': 'Microsoft® Word para Microsoft 365', 'moddate': '2025-04-08T18:48:43-03:00', 'producer': 'Microsoft® Word para Microsoft 365', 'source': '..\\\\resources\\\\cvs_pdf\\\\CV Bruno Masoller - Detallado.pdf', 'total_pages': 4.0}, page_content='• Ingeniería de software \\n• MLOps \\n• SQL \\n• Python \\n• Java \\n• Quarkus \\n• Scikit-learn \\n• SAP Process \\nOrchestration \\n• Angular \\n• Typescript \\n• Ionic \\n \\nINTERESES Y ÁREAS DE INVESTIGACIÓN:'), Document(id='cd7f2e13-9dd1-483d-9a49-c3ca1b1ea5ba', metadata={'author': 'Bruno Masoller', 'creationdate': '2025-04-08T18:48:43-03:00', 'creator': 'Microsoft® Word para Microsoft 365', 'moddate': '2025-04-08T18:48:43-03:00', 'producer': 'Microsoft® Word para Microsoft 365', 'source': '..\\\\resources\\\\cvs_pdf\\\\CV Bruno Masoller - Detallado.pdf', 'total_pages': 4.0}, page_content='• Ingeniería de software \\n• MLOps \\n• SQL \\n• Python \\n• Java \\n• Quarkus \\n• Scikit-learn \\n• SAP Process \\nOrchestration \\n• Angular \\n• Typescript \\n• Ionic \\n \\nINTERESES Y ÁREAS DE INVESTIGACIÓN:'), Document(id='cf3ec9af-e2d1-4681-89f1-b1ed37e65f84', metadata={'author': 'Bruno Masoller', 'creationdate': '2025-04-08T18:48:43-03:00', 'creator': 'Microsoft® Word para Microsoft 365', 'moddate': '2025-04-08T18:48:43-03:00', 'producer': 'Microsoft® Word para Microsoft 365', 'source': '..\\\\resources\\\\cvs_pdf\\\\CV Bruno Masoller - Detallado.pdf', 'total_pages': 4.0}, page_content='• Ingeniería de software \\n• MLOps \\n• SQL \\n• Python \\n• Java \\n• Quarkus \\n• Scikit-learn \\n• SAP Process \\nOrchestration \\n• Angular \\n• Typescript \\n• Ionic \\n \\nINTERESES Y ÁREAS DE INVESTIGACIÓN:')], 'answer': 'Basándome en el contexto proporcionado, los lenguajes de programación más utilizados en el campo de la ingeniería de software y MLOps mencionados son:\\n\\n1. Python\\n2. Java\\n3. Typescript'}\n",
      "--------------------\n",
      "{'input': 'Del primer lenguaje de programación, ¿existe algún proyecto destacado?', 'chat_history': [HumanMessage(content='¿Cuáles son los lenguajes de programación más utilizados en el CV?', additional_kwargs={}, response_metadata={}), AIMessage(content='Basándome en el contexto proporcionado, los lenguajes de programación más utilizados en el campo de la ingeniería de software y MLOps mencionados son:\\n\\n1. Python\\n2. Java\\n3. Typescript', additional_kwargs={}, response_metadata={})], 'context': [Document(id='d97c93bb-902b-4a5f-9370-69ca7db3c633', metadata={'author': 'Bruno Masoller', 'creationdate': '2025-04-08T18:48:43-03:00', 'creator': 'Microsoft® Word para Microsoft 365', 'moddate': '2025-04-08T18:48:43-03:00', 'producer': 'Microsoft® Word para Microsoft 365', 'source': '..\\\\resources\\\\cvs_pdf\\\\CV Bruno Masoller - Detallado.pdf', 'total_pages': 4.0}, page_content='• Proyectos de trabajos realizados durante la carrera de Especialización en Inteligencia Artificial (UBA). \\n• Proyecto propio - Repositorio de la especialización en Inteligencia Artificial'), Document(id='43366a2b-13cd-4792-b73e-bc88bd6c1653', metadata={'author': 'Bruno Masoller', 'creationdate': '2025-04-08T18:48:43-03:00', 'creator': 'Microsoft® Word para Microsoft 365', 'moddate': '2025-04-08T18:48:43-03:00', 'producer': 'Microsoft® Word para Microsoft 365', 'source': '..\\\\resources\\\\cvs_pdf\\\\CV Bruno Masoller - Detallado.pdf', 'total_pages': 4.0}, page_content='• Proyectos de trabajos realizados durante la carrera de Especialización en Inteligencia Artificial (UBA). \\n• Proyecto propio - Repositorio de la especialización en Inteligencia Artificial'), Document(id='a78e772e-4f73-4586-a0ac-caadaaf34954', metadata={'author': 'Bruno Masoller', 'creationdate': '2025-04-08T18:48:43-03:00', 'creator': 'Microsoft® Word para Microsoft 365', 'moddate': '2025-04-08T18:48:43-03:00', 'producer': 'Microsoft® Word para Microsoft 365', 'source': '..\\\\resources\\\\cvs_pdf\\\\CV Bruno Masoller - Detallado.pdf', 'total_pages': 4.0}, page_content='• Proyectos de trabajos realizados durante la carrera de Especialización en Inteligencia Artificial (UBA). \\n• Proyecto propio - Repositorio de la especialización en Inteligencia Artificial'), Document(id='2795ee47-46eb-4a32-bd00-069ba6660a46', metadata={'author': 'Bruno Masoller', 'creationdate': '2025-04-08T18:48:43-03:00', 'creator': 'Microsoft® Word para Microsoft 365', 'moddate': '2025-04-08T18:48:43-03:00', 'producer': 'Microsoft® Word para Microsoft 365', 'source': '..\\\\resources\\\\cvs_pdf\\\\CV Bruno Masoller - Detallado.pdf', 'total_pages': 4.0}, page_content='• Proyectos de trabajos realizados durante la carrera de Especialización en Inteligencia Artificial (UBA). \\n• Proyecto propio - Repositorio de la especialización en Inteligencia Artificial'), Document(id='e4f8a788-7ca8-4d66-bc92-c453cab17232', metadata={'author': 'Bruno Masoller', 'creationdate': '2025-04-08T18:48:43-03:00', 'creator': 'Microsoft® Word para Microsoft 365', 'moddate': '2025-04-08T18:48:43-03:00', 'producer': 'Microsoft® Word para Microsoft 365', 'source': '..\\\\resources\\\\cvs_pdf\\\\CV Bruno Masoller - Detallado.pdf', 'total_pages': 4.0}, page_content='• Proyectos de trabajos realizados durante la carrera de Especialización en Inteligencia Artificial (UBA). \\n• Proyecto propio - Repositorio de la especialización en Inteligencia Artificial')], 'answer': 'Sí, en el contexto proporcionado, hay varios proyectos de trabajos realizados durante la carrera de Especialización en Inteligencia Artificial (UBA) que utilizan Python. Sin embargo, no hay información específica sobre proyectos destacados en el contexto proporcionado.\\n\\nPero puedo mencionar algunos ejemplos de proyectos destacados en la comunidad de IA que utilizan Python, como:\\n\\n1. TensorFlow (librería de aprendizaje automático)\\n2. Keras (librería de aprendizaje automático)\\n3. Scikit-learn (biblioteca de aprendizaje automático)\\n4. OpenCV (biblioteca de visión computacional)\\n\\nEstos proyectos son ampliamente utilizados en la comunidad de IA y Machine Learning, y son una buena oportunidad para aplicar conocimientos en Python.'}\n"
     ]
    }
   ],
   "source": [
    "# Primera pregunta\n",
    "response1 = retrieval_chain.invoke(\n",
    "    {\"input\": \"¿Cuáles son los lenguajes de programación más utilizados en el CV?\", \"chat_history\": []}\n",
    ")\n",
    "print(\"Respuesta 1:\", response1['answer'])\n",
    "\n",
    "# Segunda pregunta (usa el historial)\n",
    "response2 = retrieval_chain.invoke(\n",
    "    {\n",
    "        \"input\": \"Del primer lenguaje de programación, ¿existe algún proyecto destacado?\",\n",
    "        \"chat_history\": [\n",
    "            HumanMessage(content=response1['input']),\n",
    "            AIMessage(content=response1['answer']),\n",
    "        ],\n",
    "    }\n",
    ")\n",
    "print(\"Respuesta 2:\", response2['answer'])\n",
    "\n",
    "print(\"Historial de la conversación:\")\n",
    "print(\"-\" * 20)\n",
    "print(response1)\n",
    "print(\"-\" * 20)\n",
    "print(response2)"
   ]
  },
  {
   "cell_type": "markdown",
   "id": "a9a73cb7",
   "metadata": {},
   "source": [
    "### Limpieza"
   ]
  },
  {
   "cell_type": "code",
   "execution_count": 89,
   "id": "02f3185a",
   "metadata": {},
   "outputs": [
    {
     "name": "stdout",
     "output_type": "stream",
     "text": [
      "Error al eliminar el índice nlp2-practico1: (404)\n",
      "Reason: Not Found\n",
      "HTTP response headers: HTTPHeaderDict({'content-type': 'text/plain; charset=utf-8', 'access-control-allow-origin': '*', 'vary': 'origin,access-control-request-method,access-control-request-headers', 'access-control-expose-headers': '*', 'x-pinecone-api-version': '2025-01', 'x-cloud-trace-context': '89abf986a5d173aba1ae403b1e313f69', 'date': 'Wed, 16 Apr 2025 19:12:55 GMT', 'server': 'Google Frontend', 'Content-Length': '89', 'Via': '1.1 google', 'Alt-Svc': 'h3=\":443\"; ma=2592000,h3-29=\":443\"; ma=2592000'})\n",
      "HTTP response body: {\"error\":{\"code\":\"NOT_FOUND\",\"message\":\"Resource nlp2-practico1 not found\"},\"status\":404}\n",
      "\n"
     ]
    },
    {
     "data": {
      "text/plain": [
       "[]"
      ]
     },
     "execution_count": 89,
     "metadata": {},
     "output_type": "execute_result"
    }
   ],
   "source": [
    "# Eliminamos el índice\n",
    "try:\n",
    "    pc.delete_index(index_name)\n",
    "    print(f\"Índice {index_name} eliminado correctamente.\")\n",
    "except Exception as e:\n",
    "    print(f\"Error al eliminar el índice {index_name}: {e}\")\n",
    "\n",
    "# Listamos los índices restantes\n",
    "pc.list_indexes()"
   ]
  },
  {
   "cell_type": "markdown",
   "id": "7378271d",
   "metadata": {},
   "source": [
    "### Ejecución de aplicación"
   ]
  },
  {
   "cell_type": "code",
   "execution_count": null,
   "id": "1b0104b7",
   "metadata": {},
   "outputs": [],
   "source": [
    "!streamlit run app.py"
   ]
  },
  {
   "cell_type": "markdown",
   "id": "c3c093dc",
   "metadata": {},
   "source": [
    "### Video de resolución"
   ]
  },
  {
   "cell_type": "markdown",
   "id": "47a0d6f3",
   "metadata": {},
   "source": [
    "A continuación se muestra un video de la resolución del práctico, donde se puede ver el chatbot funcionando y respondiendo preguntas sobre el CV del alumno. El código de la aplicación se encuentra en: [codigo fuente](./app.py)"
   ]
  },
  {
   "cell_type": "code",
   "execution_count": null,
   "id": "1e1a3276",
   "metadata": {},
   "outputs": [
    {
     "data": {
      "text/html": [
       "<video width=\"800\"  controls>\n",
       "  <source src=\"./resources/practico1.mp4\" type=\"video/mp4\">\n",
       "</video>\n"
      ],
      "text/plain": [
       "<IPython.core.display.HTML object>"
      ]
     },
     "metadata": {},
     "output_type": "display_data"
    }
   ],
   "source": [
    "%%HTML\n",
    "<video width=\"800\"  controls>\n",
    "  <source src=\"../resources/practico1.mp4\" type=\"video/mp4\">\n",
    "</video>"
   ]
  }
 ],
 "metadata": {
  "kernelspec": {
   "display_name": ".venv",
   "language": "python",
   "name": "python3"
  },
  "language_info": {
   "codemirror_mode": {
    "name": "ipython",
    "version": 3
   },
   "file_extension": ".py",
   "mimetype": "text/x-python",
   "name": "python",
   "nbconvert_exporter": "python",
   "pygments_lexer": "ipython3",
   "version": "3.13.0"
  }
 },
 "nbformat": 4,
 "nbformat_minor": 5
}
