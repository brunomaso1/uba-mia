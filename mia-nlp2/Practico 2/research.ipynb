{
 "cells": [
  {
   "cell_type": "markdown",
   "id": "f0db28a2",
   "metadata": {},
   "source": [
    "# <div align=\"center\"><b> NLP2 - PRACTICO 2 </b></div>"
   ]
  },
  {
   "cell_type": "markdown",
   "id": "2859a783",
   "metadata": {},
   "source": [
    "<div align=\"right\">📝 <em><small><font color='Gray'>Nota:</font></small></em></div>\n",
    "\n",
    "<div align=\"right\"> <em><small><font color='Gray'> La funcionalidad de visualización de jupyter notebooks en <a href=\"https://github.com/\" target=\"_blank\">github</a> es solamente un preview.</font></small></em> </div>\n",
    "\n",
    "<div align=\"right\"> <em><small><font color='Gray'> Para mejor visualización se sugiere utilizar el visualizador recomendado por la comunidad: <a href=\"https://nbviewer.org/\" target=\"_blank\">nbviewer</a></font></small></em> </div>\n",
    "\n",
    "<div align=\"right\"> <em><small><font color='Gray'> Puedes a acceder al siguiente enlace para ver este notebook en dicha página: <a href=\"https://nbviewer.org/github/brunomaso1/uba-mia/blob/mia-nlp2/mia-nlp2/Practico 2/research.ipynb\">NLP2 - Practico 2</a></font></small></em> </div>"
   ]
  },
  {
   "cell_type": "markdown",
   "id": "0fe97854",
   "metadata": {},
   "source": [
    "* * *"
   ]
  },
  {
   "cell_type": "markdown",
   "id": "d872d118",
   "metadata": {},
   "source": [
    "<style>\n",
    "/* Limitar la altura de las celdas de salida en html */\n",
    ".jp-OutputArea.jp-Cell-outputArea {\n",
    "    max-height: 500px;\n",
    "}\n",
    "</style>"
   ]
  },
  {
   "cell_type": "markdown",
   "id": "d42248a3",
   "metadata": {},
   "source": [
    "<!-- Colab -->\n",
    "<!-- <div align=\"center\"><img src=\"https://drive.google.com/uc?export=view&id=1QSNrTsz1hQbmZwpgwx0qpfpNtLW19Orm\" width=\"600\" alt=\"Figura 1: A data scientist is working on word generation using the Lord of the Rings lore. The image is dark and moody, with a focus on the scientist's computer screen. The screen displays a visualization the one ring, with a map of Middle Earth in the background. - Generada con DALL-E3\"></div> -->\n",
    "\n",
    "<div align=\"center\"><img src=\"../resources/img1.jpeg\" width=\"600\" alt=\"Figura 1: A data scientist is sitting in front of a computer screen, intently focused on the task at hand. The room is dimly lit, with the only light coming from the computer screen. The neural network is displayed on the screen, with the data scientist working to. The nerual network is deepseek R1. - Generada con Microsoft Image Creator\"></div>\n",
    "\n",
    "<div align=\"center\"><small><em>Figura 1: A data scientist is sitting in front of a computer screen, intently focused on the task at hand. The room is dimly lit, with the only light coming from the computer screen. The neural network is displayed on the screen, with the data scientist working to. The nerual network is deepseek R1. - Generada con Microsoft Image Creator</em></small></div>"
   ]
  },
  {
   "cell_type": "markdown",
   "id": "c577d8f7",
   "metadata": {},
   "source": [
    "<div align=\"center\">✨Datos del proyecto:✨</div>\n",
    "\n",
    "<p></p>\n",
    "\n",
    "<div align=\"center\">\n",
    "\n",
    "| Subtitulo       | Practico 2 - NLP2                                                                                                                      |\n",
    "| --------------- | -------------------------------------------------------------------------------------------------------------------------------------- |\n",
    "| **Descrpción**  | CV Chatbot with Groq + Pinecone + Agentes                                                                                              |\n",
    "| **Integrantes** | Bruno Masoller (brunomaso1@gmail.com)                                                                                                  |\n",
    "\n",
    "</div>"
   ]
  },
  {
   "cell_type": "markdown",
   "id": "9b71ad97",
   "metadata": {},
   "source": [
    "🛻 <em><font color='MediumSeaGreen'>  Instalaciones: </font></em> 🛻"
   ]
  },
  {
   "cell_type": "code",
   "execution_count": 1,
   "id": "31e2d331",
   "metadata": {},
   "outputs": [
    {
     "name": "stdout",
     "output_type": "stream",
     "text": [
      "Requirement already satisfied: jupyter in e:\\documentos\\git repositories\\uba-mia\\.venv\\lib\\site-packages (1.1.1)\n",
      "Requirement already satisfied: ipywidgets in e:\\documentos\\git repositories\\uba-mia\\.venv\\lib\\site-packages (8.1.6)\n",
      "Requirement already satisfied: notebook in e:\\documentos\\git repositories\\uba-mia\\.venv\\lib\\site-packages (from jupyter) (7.3.3)\n",
      "Requirement already satisfied: jupyter-console in e:\\documentos\\git repositories\\uba-mia\\.venv\\lib\\site-packages (from jupyter) (6.6.3)\n",
      "Requirement already satisfied: nbconvert in e:\\documentos\\git repositories\\uba-mia\\.venv\\lib\\site-packages (from jupyter) (7.16.6)\n",
      "Requirement already satisfied: ipykernel in e:\\documentos\\git repositories\\uba-mia\\.venv\\lib\\site-packages (from jupyter) (6.29.5)\n",
      "Requirement already satisfied: jupyterlab in e:\\documentos\\git repositories\\uba-mia\\.venv\\lib\\site-packages (from jupyter) (4.3.6)\n",
      "Requirement already satisfied: comm>=0.1.3 in e:\\documentos\\git repositories\\uba-mia\\.venv\\lib\\site-packages (from ipywidgets) (0.2.2)\n",
      "Requirement already satisfied: ipython>=6.1.0 in e:\\documentos\\git repositories\\uba-mia\\.venv\\lib\\site-packages (from ipywidgets) (9.1.0)\n",
      "Requirement already satisfied: traitlets>=4.3.1 in e:\\documentos\\git repositories\\uba-mia\\.venv\\lib\\site-packages (from ipywidgets) (5.14.3)\n",
      "Requirement already satisfied: widgetsnbextension~=4.0.14 in e:\\documentos\\git repositories\\uba-mia\\.venv\\lib\\site-packages (from ipywidgets) (4.0.14)\n",
      "Requirement already satisfied: jupyterlab_widgets~=3.0.14 in e:\\documentos\\git repositories\\uba-mia\\.venv\\lib\\site-packages (from ipywidgets) (3.0.14)\n",
      "Requirement already satisfied: colorama in e:\\documentos\\git repositories\\uba-mia\\.venv\\lib\\site-packages (from ipython>=6.1.0->ipywidgets) (0.4.6)\n",
      "Requirement already satisfied: decorator in e:\\documentos\\git repositories\\uba-mia\\.venv\\lib\\site-packages (from ipython>=6.1.0->ipywidgets) (5.2.1)\n",
      "Requirement already satisfied: ipython-pygments-lexers in e:\\documentos\\git repositories\\uba-mia\\.venv\\lib\\site-packages (from ipython>=6.1.0->ipywidgets) (1.1.1)\n",
      "Requirement already satisfied: jedi>=0.16 in e:\\documentos\\git repositories\\uba-mia\\.venv\\lib\\site-packages (from ipython>=6.1.0->ipywidgets) (0.19.2)\n",
      "Requirement already satisfied: matplotlib-inline in e:\\documentos\\git repositories\\uba-mia\\.venv\\lib\\site-packages (from ipython>=6.1.0->ipywidgets) (0.1.7)\n",
      "Requirement already satisfied: prompt_toolkit<3.1.0,>=3.0.41 in e:\\documentos\\git repositories\\uba-mia\\.venv\\lib\\site-packages (from ipython>=6.1.0->ipywidgets) (3.0.50)\n",
      "Requirement already satisfied: pygments>=2.4.0 in e:\\documentos\\git repositories\\uba-mia\\.venv\\lib\\site-packages (from ipython>=6.1.0->ipywidgets) (2.19.1)\n",
      "Requirement already satisfied: stack_data in e:\\documentos\\git repositories\\uba-mia\\.venv\\lib\\site-packages (from ipython>=6.1.0->ipywidgets) (0.6.3)\n",
      "Requirement already satisfied: debugpy>=1.6.5 in e:\\documentos\\git repositories\\uba-mia\\.venv\\lib\\site-packages (from ipykernel->jupyter) (1.8.13)\n",
      "Requirement already satisfied: jupyter-client>=6.1.12 in e:\\documentos\\git repositories\\uba-mia\\.venv\\lib\\site-packages (from ipykernel->jupyter) (8.6.3)\n",
      "Requirement already satisfied: jupyter-core!=5.0.*,>=4.12 in e:\\documentos\\git repositories\\uba-mia\\.venv\\lib\\site-packages (from ipykernel->jupyter) (5.7.2)\n",
      "Requirement already satisfied: nest-asyncio in e:\\documentos\\git repositories\\uba-mia\\.venv\\lib\\site-packages (from ipykernel->jupyter) (1.6.0)\n",
      "Requirement already satisfied: packaging in e:\\documentos\\git repositories\\uba-mia\\.venv\\lib\\site-packages (from ipykernel->jupyter) (24.2)\n",
      "Requirement already satisfied: psutil in e:\\documentos\\git repositories\\uba-mia\\.venv\\lib\\site-packages (from ipykernel->jupyter) (7.0.0)\n",
      "Requirement already satisfied: pyzmq>=24 in e:\\documentos\\git repositories\\uba-mia\\.venv\\lib\\site-packages (from ipykernel->jupyter) (26.4.0)\n",
      "Requirement already satisfied: tornado>=6.1 in e:\\documentos\\git repositories\\uba-mia\\.venv\\lib\\site-packages (from ipykernel->jupyter) (6.4.2)\n",
      "Requirement already satisfied: async-lru>=1.0.0 in e:\\documentos\\git repositories\\uba-mia\\.venv\\lib\\site-packages (from jupyterlab->jupyter) (2.0.5)\n",
      "Requirement already satisfied: httpx>=0.25.0 in e:\\documentos\\git repositories\\uba-mia\\.venv\\lib\\site-packages (from jupyterlab->jupyter) (0.28.1)\n",
      "Requirement already satisfied: jinja2>=3.0.3 in e:\\documentos\\git repositories\\uba-mia\\.venv\\lib\\site-packages (from jupyterlab->jupyter) (3.1.6)\n",
      "Requirement already satisfied: jupyter-lsp>=2.0.0 in e:\\documentos\\git repositories\\uba-mia\\.venv\\lib\\site-packages (from jupyterlab->jupyter) (2.2.5)\n",
      "Requirement already satisfied: jupyter-server<3,>=2.4.0 in e:\\documentos\\git repositories\\uba-mia\\.venv\\lib\\site-packages (from jupyterlab->jupyter) (2.15.0)\n",
      "Requirement already satisfied: jupyterlab-server<3,>=2.27.1 in e:\\documentos\\git repositories\\uba-mia\\.venv\\lib\\site-packages (from jupyterlab->jupyter) (2.27.3)\n",
      "Requirement already satisfied: notebook-shim>=0.2 in e:\\documentos\\git repositories\\uba-mia\\.venv\\lib\\site-packages (from jupyterlab->jupyter) (0.2.4)\n",
      "Requirement already satisfied: setuptools>=40.8.0 in e:\\documentos\\git repositories\\uba-mia\\.venv\\lib\\site-packages (from jupyterlab->jupyter) (78.1.0)\n",
      "Requirement already satisfied: beautifulsoup4 in e:\\documentos\\git repositories\\uba-mia\\.venv\\lib\\site-packages (from nbconvert->jupyter) (4.13.3)\n",
      "Requirement already satisfied: bleach!=5.0.0 in e:\\documentos\\git repositories\\uba-mia\\.venv\\lib\\site-packages (from bleach[css]!=5.0.0->nbconvert->jupyter) (6.2.0)\n",
      "Requirement already satisfied: defusedxml in e:\\documentos\\git repositories\\uba-mia\\.venv\\lib\\site-packages (from nbconvert->jupyter) (0.7.1)\n",
      "Requirement already satisfied: jupyterlab-pygments in e:\\documentos\\git repositories\\uba-mia\\.venv\\lib\\site-packages (from nbconvert->jupyter) (0.3.0)\n",
      "Requirement already satisfied: markupsafe>=2.0 in e:\\documentos\\git repositories\\uba-mia\\.venv\\lib\\site-packages (from nbconvert->jupyter) (3.0.2)\n",
      "Requirement already satisfied: mistune<4,>=2.0.3 in e:\\documentos\\git repositories\\uba-mia\\.venv\\lib\\site-packages (from nbconvert->jupyter) (3.1.3)\n",
      "Requirement already satisfied: nbclient>=0.5.0 in e:\\documentos\\git repositories\\uba-mia\\.venv\\lib\\site-packages (from nbconvert->jupyter) (0.10.2)\n",
      "Requirement already satisfied: nbformat>=5.7 in e:\\documentos\\git repositories\\uba-mia\\.venv\\lib\\site-packages (from nbconvert->jupyter) (5.10.4)\n",
      "Requirement already satisfied: pandocfilters>=1.4.1 in e:\\documentos\\git repositories\\uba-mia\\.venv\\lib\\site-packages (from nbconvert->jupyter) (1.5.1)\n",
      "Requirement already satisfied: webencodings in e:\\documentos\\git repositories\\uba-mia\\.venv\\lib\\site-packages (from bleach!=5.0.0->bleach[css]!=5.0.0->nbconvert->jupyter) (0.5.1)\n",
      "Requirement already satisfied: tinycss2<1.5,>=1.1.0 in e:\\documentos\\git repositories\\uba-mia\\.venv\\lib\\site-packages (from bleach[css]!=5.0.0->nbconvert->jupyter) (1.4.0)\n",
      "Requirement already satisfied: anyio in e:\\documentos\\git repositories\\uba-mia\\.venv\\lib\\site-packages (from httpx>=0.25.0->jupyterlab->jupyter) (4.9.0)\n",
      "Requirement already satisfied: certifi in e:\\documentos\\git repositories\\uba-mia\\.venv\\lib\\site-packages (from httpx>=0.25.0->jupyterlab->jupyter) (2025.1.31)\n",
      "Requirement already satisfied: httpcore==1.* in e:\\documentos\\git repositories\\uba-mia\\.venv\\lib\\site-packages (from httpx>=0.25.0->jupyterlab->jupyter) (1.0.7)\n",
      "Requirement already satisfied: idna in e:\\documentos\\git repositories\\uba-mia\\.venv\\lib\\site-packages (from httpx>=0.25.0->jupyterlab->jupyter) (3.10)\n",
      "Requirement already satisfied: h11<0.15,>=0.13 in e:\\documentos\\git repositories\\uba-mia\\.venv\\lib\\site-packages (from httpcore==1.*->httpx>=0.25.0->jupyterlab->jupyter) (0.14.0)\n",
      "Requirement already satisfied: parso<0.9.0,>=0.8.4 in e:\\documentos\\git repositories\\uba-mia\\.venv\\lib\\site-packages (from jedi>=0.16->ipython>=6.1.0->ipywidgets) (0.8.4)\n",
      "Requirement already satisfied: python-dateutil>=2.8.2 in e:\\documentos\\git repositories\\uba-mia\\.venv\\lib\\site-packages (from jupyter-client>=6.1.12->ipykernel->jupyter) (2.9.0.post0)\n",
      "Requirement already satisfied: platformdirs>=2.5 in e:\\documentos\\git repositories\\uba-mia\\.venv\\lib\\site-packages (from jupyter-core!=5.0.*,>=4.12->ipykernel->jupyter) (4.3.7)\n",
      "Requirement already satisfied: pywin32>=300 in e:\\documentos\\git repositories\\uba-mia\\.venv\\lib\\site-packages (from jupyter-core!=5.0.*,>=4.12->ipykernel->jupyter) (310)\n",
      "Requirement already satisfied: argon2-cffi>=21.1 in e:\\documentos\\git repositories\\uba-mia\\.venv\\lib\\site-packages (from jupyter-server<3,>=2.4.0->jupyterlab->jupyter) (23.1.0)\n",
      "Requirement already satisfied: jupyter-events>=0.11.0 in e:\\documentos\\git repositories\\uba-mia\\.venv\\lib\\site-packages (from jupyter-server<3,>=2.4.0->jupyterlab->jupyter) (0.12.0)\n",
      "Requirement already satisfied: jupyter-server-terminals>=0.4.4 in e:\\documentos\\git repositories\\uba-mia\\.venv\\lib\\site-packages (from jupyter-server<3,>=2.4.0->jupyterlab->jupyter) (0.5.3)\n",
      "Requirement already satisfied: overrides>=5.0 in e:\\documentos\\git repositories\\uba-mia\\.venv\\lib\\site-packages (from jupyter-server<3,>=2.4.0->jupyterlab->jupyter) (7.7.0)\n",
      "Requirement already satisfied: prometheus-client>=0.9 in e:\\documentos\\git repositories\\uba-mia\\.venv\\lib\\site-packages (from jupyter-server<3,>=2.4.0->jupyterlab->jupyter) (0.21.1)\n",
      "Requirement already satisfied: pywinpty>=2.0.1 in e:\\documentos\\git repositories\\uba-mia\\.venv\\lib\\site-packages (from jupyter-server<3,>=2.4.0->jupyterlab->jupyter) (2.0.15)\n",
      "Requirement already satisfied: send2trash>=1.8.2 in e:\\documentos\\git repositories\\uba-mia\\.venv\\lib\\site-packages (from jupyter-server<3,>=2.4.0->jupyterlab->jupyter) (1.8.3)\n",
      "Requirement already satisfied: terminado>=0.8.3 in e:\\documentos\\git repositories\\uba-mia\\.venv\\lib\\site-packages (from jupyter-server<3,>=2.4.0->jupyterlab->jupyter) (0.18.1)\n",
      "Requirement already satisfied: websocket-client>=1.7 in e:\\documentos\\git repositories\\uba-mia\\.venv\\lib\\site-packages (from jupyter-server<3,>=2.4.0->jupyterlab->jupyter) (1.8.0)\n",
      "Requirement already satisfied: babel>=2.10 in e:\\documentos\\git repositories\\uba-mia\\.venv\\lib\\site-packages (from jupyterlab-server<3,>=2.27.1->jupyterlab->jupyter) (2.17.0)\n",
      "Requirement already satisfied: json5>=0.9.0 in e:\\documentos\\git repositories\\uba-mia\\.venv\\lib\\site-packages (from jupyterlab-server<3,>=2.27.1->jupyterlab->jupyter) (0.12.0)\n",
      "Requirement already satisfied: jsonschema>=4.18.0 in e:\\documentos\\git repositories\\uba-mia\\.venv\\lib\\site-packages (from jupyterlab-server<3,>=2.27.1->jupyterlab->jupyter) (4.23.0)\n",
      "Requirement already satisfied: requests>=2.31 in e:\\documentos\\git repositories\\uba-mia\\.venv\\lib\\site-packages (from jupyterlab-server<3,>=2.27.1->jupyterlab->jupyter) (2.32.3)\n",
      "Requirement already satisfied: fastjsonschema>=2.15 in e:\\documentos\\git repositories\\uba-mia\\.venv\\lib\\site-packages (from nbformat>=5.7->nbconvert->jupyter) (2.21.1)\n",
      "Requirement already satisfied: wcwidth in e:\\documentos\\git repositories\\uba-mia\\.venv\\lib\\site-packages (from prompt_toolkit<3.1.0,>=3.0.41->ipython>=6.1.0->ipywidgets) (0.2.13)\n",
      "Requirement already satisfied: soupsieve>1.2 in e:\\documentos\\git repositories\\uba-mia\\.venv\\lib\\site-packages (from beautifulsoup4->nbconvert->jupyter) (2.6)\n",
      "Requirement already satisfied: typing-extensions>=4.0.0 in e:\\documentos\\git repositories\\uba-mia\\.venv\\lib\\site-packages (from beautifulsoup4->nbconvert->jupyter) (4.13.1)\n",
      "Requirement already satisfied: executing>=1.2.0 in e:\\documentos\\git repositories\\uba-mia\\.venv\\lib\\site-packages (from stack_data->ipython>=6.1.0->ipywidgets) (2.2.0)\n",
      "Requirement already satisfied: asttokens>=2.1.0 in e:\\documentos\\git repositories\\uba-mia\\.venv\\lib\\site-packages (from stack_data->ipython>=6.1.0->ipywidgets) (3.0.0)\n",
      "Requirement already satisfied: pure-eval in e:\\documentos\\git repositories\\uba-mia\\.venv\\lib\\site-packages (from stack_data->ipython>=6.1.0->ipywidgets) (0.2.3)\n",
      "Requirement already satisfied: sniffio>=1.1 in e:\\documentos\\git repositories\\uba-mia\\.venv\\lib\\site-packages (from anyio->httpx>=0.25.0->jupyterlab->jupyter) (1.3.1)\n",
      "Requirement already satisfied: argon2-cffi-bindings in e:\\documentos\\git repositories\\uba-mia\\.venv\\lib\\site-packages (from argon2-cffi>=21.1->jupyter-server<3,>=2.4.0->jupyterlab->jupyter) (21.2.0)\n",
      "Requirement already satisfied: attrs>=22.2.0 in e:\\documentos\\git repositories\\uba-mia\\.venv\\lib\\site-packages (from jsonschema>=4.18.0->jupyterlab-server<3,>=2.27.1->jupyterlab->jupyter) (25.3.0)\n",
      "Requirement already satisfied: jsonschema-specifications>=2023.03.6 in e:\\documentos\\git repositories\\uba-mia\\.venv\\lib\\site-packages (from jsonschema>=4.18.0->jupyterlab-server<3,>=2.27.1->jupyterlab->jupyter) (2024.10.1)\n",
      "Requirement already satisfied: referencing>=0.28.4 in e:\\documentos\\git repositories\\uba-mia\\.venv\\lib\\site-packages (from jsonschema>=4.18.0->jupyterlab-server<3,>=2.27.1->jupyterlab->jupyter) (0.36.2)\n",
      "Requirement already satisfied: rpds-py>=0.7.1 in e:\\documentos\\git repositories\\uba-mia\\.venv\\lib\\site-packages (from jsonschema>=4.18.0->jupyterlab-server<3,>=2.27.1->jupyterlab->jupyter) (0.24.0)\n",
      "Requirement already satisfied: python-json-logger>=2.0.4 in e:\\documentos\\git repositories\\uba-mia\\.venv\\lib\\site-packages (from jupyter-events>=0.11.0->jupyter-server<3,>=2.4.0->jupyterlab->jupyter) (3.3.0)\n",
      "Requirement already satisfied: pyyaml>=5.3 in e:\\documentos\\git repositories\\uba-mia\\.venv\\lib\\site-packages (from jupyter-events>=0.11.0->jupyter-server<3,>=2.4.0->jupyterlab->jupyter) (6.0.2)\n",
      "Requirement already satisfied: rfc3339-validator in e:\\documentos\\git repositories\\uba-mia\\.venv\\lib\\site-packages (from jupyter-events>=0.11.0->jupyter-server<3,>=2.4.0->jupyterlab->jupyter) (0.1.4)\n",
      "Requirement already satisfied: rfc3986-validator>=0.1.1 in e:\\documentos\\git repositories\\uba-mia\\.venv\\lib\\site-packages (from jupyter-events>=0.11.0->jupyter-server<3,>=2.4.0->jupyterlab->jupyter) (0.1.1)\n",
      "Requirement already satisfied: six>=1.5 in e:\\documentos\\git repositories\\uba-mia\\.venv\\lib\\site-packages (from python-dateutil>=2.8.2->jupyter-client>=6.1.12->ipykernel->jupyter) (1.17.0)\n",
      "Requirement already satisfied: charset-normalizer<4,>=2 in e:\\documentos\\git repositories\\uba-mia\\.venv\\lib\\site-packages (from requests>=2.31->jupyterlab-server<3,>=2.27.1->jupyterlab->jupyter) (3.4.1)\n",
      "Requirement already satisfied: urllib3<3,>=1.21.1 in e:\\documentos\\git repositories\\uba-mia\\.venv\\lib\\site-packages (from requests>=2.31->jupyterlab-server<3,>=2.27.1->jupyterlab->jupyter) (2.3.0)\n",
      "Requirement already satisfied: fqdn in e:\\documentos\\git repositories\\uba-mia\\.venv\\lib\\site-packages (from jsonschema[format-nongpl]>=4.18.0->jupyter-events>=0.11.0->jupyter-server<3,>=2.4.0->jupyterlab->jupyter) (1.5.1)\n",
      "Requirement already satisfied: isoduration in e:\\documentos\\git repositories\\uba-mia\\.venv\\lib\\site-packages (from jsonschema[format-nongpl]>=4.18.0->jupyter-events>=0.11.0->jupyter-server<3,>=2.4.0->jupyterlab->jupyter) (20.11.0)\n",
      "Requirement already satisfied: jsonpointer>1.13 in e:\\documentos\\git repositories\\uba-mia\\.venv\\lib\\site-packages (from jsonschema[format-nongpl]>=4.18.0->jupyter-events>=0.11.0->jupyter-server<3,>=2.4.0->jupyterlab->jupyter) (3.0.0)\n",
      "Requirement already satisfied: uri-template in e:\\documentos\\git repositories\\uba-mia\\.venv\\lib\\site-packages (from jsonschema[format-nongpl]>=4.18.0->jupyter-events>=0.11.0->jupyter-server<3,>=2.4.0->jupyterlab->jupyter) (1.3.0)\n",
      "Requirement already satisfied: webcolors>=24.6.0 in e:\\documentos\\git repositories\\uba-mia\\.venv\\lib\\site-packages (from jsonschema[format-nongpl]>=4.18.0->jupyter-events>=0.11.0->jupyter-server<3,>=2.4.0->jupyterlab->jupyter) (24.11.1)\n",
      "Requirement already satisfied: cffi>=1.0.1 in e:\\documentos\\git repositories\\uba-mia\\.venv\\lib\\site-packages (from argon2-cffi-bindings->argon2-cffi>=21.1->jupyter-server<3,>=2.4.0->jupyterlab->jupyter) (1.17.1)\n",
      "Requirement already satisfied: pycparser in e:\\documentos\\git repositories\\uba-mia\\.venv\\lib\\site-packages (from cffi>=1.0.1->argon2-cffi-bindings->argon2-cffi>=21.1->jupyter-server<3,>=2.4.0->jupyterlab->jupyter) (2.22)\n",
      "Requirement already satisfied: arrow>=0.15.0 in e:\\documentos\\git repositories\\uba-mia\\.venv\\lib\\site-packages (from isoduration->jsonschema[format-nongpl]>=4.18.0->jupyter-events>=0.11.0->jupyter-server<3,>=2.4.0->jupyterlab->jupyter) (1.3.0)\n",
      "Requirement already satisfied: types-python-dateutil>=2.8.10 in e:\\documentos\\git repositories\\uba-mia\\.venv\\lib\\site-packages (from arrow>=0.15.0->isoduration->jsonschema[format-nongpl]>=4.18.0->jupyter-events>=0.11.0->jupyter-server<3,>=2.4.0->jupyterlab->jupyter) (2.9.0.20241206)\n",
      "Note: you may need to restart the kernel to use updated packages.\n",
      "Requirement already satisfied: transformers in e:\\documentos\\git repositories\\uba-mia\\.venv\\lib\\site-packages (4.51.1)\n",
      "Requirement already satisfied: torch in e:\\documentos\\git repositories\\uba-mia\\.venv\\lib\\site-packages (2.6.0)\n",
      "Requirement already satisfied: einops in e:\\documentos\\git repositories\\uba-mia\\.venv\\lib\\site-packages (0.8.1)\n",
      "Requirement already satisfied: filelock in e:\\documentos\\git repositories\\uba-mia\\.venv\\lib\\site-packages (from transformers) (3.18.0)\n",
      "Requirement already satisfied: huggingface-hub<1.0,>=0.30.0 in e:\\documentos\\git repositories\\uba-mia\\.venv\\lib\\site-packages (from transformers) (0.30.2)\n",
      "Requirement already satisfied: numpy>=1.17 in e:\\documentos\\git repositories\\uba-mia\\.venv\\lib\\site-packages (from transformers) (2.2.4)\n",
      "Requirement already satisfied: packaging>=20.0 in e:\\documentos\\git repositories\\uba-mia\\.venv\\lib\\site-packages (from transformers) (24.2)\n",
      "Requirement already satisfied: pyyaml>=5.1 in e:\\documentos\\git repositories\\uba-mia\\.venv\\lib\\site-packages (from transformers) (6.0.2)\n",
      "Requirement already satisfied: regex!=2019.12.17 in e:\\documentos\\git repositories\\uba-mia\\.venv\\lib\\site-packages (from transformers) (2024.11.6)\n",
      "Requirement already satisfied: requests in e:\\documentos\\git repositories\\uba-mia\\.venv\\lib\\site-packages (from transformers) (2.32.3)\n",
      "Requirement already satisfied: tokenizers<0.22,>=0.21 in e:\\documentos\\git repositories\\uba-mia\\.venv\\lib\\site-packages (from transformers) (0.21.1)\n",
      "Requirement already satisfied: safetensors>=0.4.3 in e:\\documentos\\git repositories\\uba-mia\\.venv\\lib\\site-packages (from transformers) (0.5.3)\n",
      "Requirement already satisfied: tqdm>=4.27 in e:\\documentos\\git repositories\\uba-mia\\.venv\\lib\\site-packages (from transformers) (4.67.1)\n",
      "Requirement already satisfied: typing-extensions>=4.10.0 in e:\\documentos\\git repositories\\uba-mia\\.venv\\lib\\site-packages (from torch) (4.13.1)\n",
      "Requirement already satisfied: networkx in e:\\documentos\\git repositories\\uba-mia\\.venv\\lib\\site-packages (from torch) (3.4.2)\n",
      "Requirement already satisfied: jinja2 in e:\\documentos\\git repositories\\uba-mia\\.venv\\lib\\site-packages (from torch) (3.1.6)\n",
      "Requirement already satisfied: fsspec in e:\\documentos\\git repositories\\uba-mia\\.venv\\lib\\site-packages (from torch) (2025.3.2)\n",
      "Requirement already satisfied: setuptools in e:\\documentos\\git repositories\\uba-mia\\.venv\\lib\\site-packages (from torch) (78.1.0)\n",
      "Requirement already satisfied: sympy==1.13.1 in e:\\documentos\\git repositories\\uba-mia\\.venv\\lib\\site-packages (from torch) (1.13.1)\n",
      "Requirement already satisfied: mpmath<1.4,>=1.1.0 in e:\\documentos\\git repositories\\uba-mia\\.venv\\lib\\site-packages (from sympy==1.13.1->torch) (1.3.0)\n",
      "Requirement already satisfied: colorama in e:\\documentos\\git repositories\\uba-mia\\.venv\\lib\\site-packages (from tqdm>=4.27->transformers) (0.4.6)\n",
      "Requirement already satisfied: MarkupSafe>=2.0 in e:\\documentos\\git repositories\\uba-mia\\.venv\\lib\\site-packages (from jinja2->torch) (3.0.2)\n",
      "Requirement already satisfied: charset-normalizer<4,>=2 in e:\\documentos\\git repositories\\uba-mia\\.venv\\lib\\site-packages (from requests->transformers) (3.4.1)\n",
      "Requirement already satisfied: idna<4,>=2.5 in e:\\documentos\\git repositories\\uba-mia\\.venv\\lib\\site-packages (from requests->transformers) (3.10)\n",
      "Requirement already satisfied: urllib3<3,>=1.21.1 in e:\\documentos\\git repositories\\uba-mia\\.venv\\lib\\site-packages (from requests->transformers) (2.3.0)\n",
      "Requirement already satisfied: certifi>=2017.4.17 in e:\\documentos\\git repositories\\uba-mia\\.venv\\lib\\site-packages (from requests->transformers) (2025.1.31)\n",
      "Note: you may need to restart the kernel to use updated packages.\n",
      "Requirement already satisfied: sentence-transformers in e:\\documentos\\git repositories\\uba-mia\\.venv\\lib\\site-packages (4.0.2)\n",
      "Requirement already satisfied: transformers<5.0.0,>=4.41.0 in e:\\documentos\\git repositories\\uba-mia\\.venv\\lib\\site-packages (from sentence-transformers) (4.51.1)\n",
      "Requirement already satisfied: tqdm in e:\\documentos\\git repositories\\uba-mia\\.venv\\lib\\site-packages (from sentence-transformers) (4.67.1)\n",
      "Requirement already satisfied: torch>=1.11.0 in e:\\documentos\\git repositories\\uba-mia\\.venv\\lib\\site-packages (from sentence-transformers) (2.6.0)\n",
      "Requirement already satisfied: scikit-learn in e:\\documentos\\git repositories\\uba-mia\\.venv\\lib\\site-packages (from sentence-transformers) (1.6.1)\n",
      "Requirement already satisfied: scipy in e:\\documentos\\git repositories\\uba-mia\\.venv\\lib\\site-packages (from sentence-transformers) (1.15.2)\n",
      "Requirement already satisfied: huggingface-hub>=0.20.0 in e:\\documentos\\git repositories\\uba-mia\\.venv\\lib\\site-packages (from sentence-transformers) (0.30.2)\n",
      "Requirement already satisfied: Pillow in e:\\documentos\\git repositories\\uba-mia\\.venv\\lib\\site-packages (from sentence-transformers) (11.1.0)\n",
      "Requirement already satisfied: typing_extensions>=4.5.0 in e:\\documentos\\git repositories\\uba-mia\\.venv\\lib\\site-packages (from sentence-transformers) (4.13.1)\n",
      "Requirement already satisfied: filelock in e:\\documentos\\git repositories\\uba-mia\\.venv\\lib\\site-packages (from huggingface-hub>=0.20.0->sentence-transformers) (3.18.0)\n",
      "Requirement already satisfied: fsspec>=2023.5.0 in e:\\documentos\\git repositories\\uba-mia\\.venv\\lib\\site-packages (from huggingface-hub>=0.20.0->sentence-transformers) (2025.3.2)\n",
      "Requirement already satisfied: packaging>=20.9 in e:\\documentos\\git repositories\\uba-mia\\.venv\\lib\\site-packages (from huggingface-hub>=0.20.0->sentence-transformers) (24.2)\n",
      "Requirement already satisfied: pyyaml>=5.1 in e:\\documentos\\git repositories\\uba-mia\\.venv\\lib\\site-packages (from huggingface-hub>=0.20.0->sentence-transformers) (6.0.2)\n",
      "Requirement already satisfied: requests in e:\\documentos\\git repositories\\uba-mia\\.venv\\lib\\site-packages (from huggingface-hub>=0.20.0->sentence-transformers) (2.32.3)\n",
      "Requirement already satisfied: networkx in e:\\documentos\\git repositories\\uba-mia\\.venv\\lib\\site-packages (from torch>=1.11.0->sentence-transformers) (3.4.2)\n",
      "Requirement already satisfied: jinja2 in e:\\documentos\\git repositories\\uba-mia\\.venv\\lib\\site-packages (from torch>=1.11.0->sentence-transformers) (3.1.6)\n",
      "Requirement already satisfied: setuptools in e:\\documentos\\git repositories\\uba-mia\\.venv\\lib\\site-packages (from torch>=1.11.0->sentence-transformers) (78.1.0)\n",
      "Requirement already satisfied: sympy==1.13.1 in e:\\documentos\\git repositories\\uba-mia\\.venv\\lib\\site-packages (from torch>=1.11.0->sentence-transformers) (1.13.1)\n",
      "Requirement already satisfied: mpmath<1.4,>=1.1.0 in e:\\documentos\\git repositories\\uba-mia\\.venv\\lib\\site-packages (from sympy==1.13.1->torch>=1.11.0->sentence-transformers) (1.3.0)\n",
      "Requirement already satisfied: colorama in e:\\documentos\\git repositories\\uba-mia\\.venv\\lib\\site-packages (from tqdm->sentence-transformers) (0.4.6)\n",
      "Requirement already satisfied: numpy>=1.17 in e:\\documentos\\git repositories\\uba-mia\\.venv\\lib\\site-packages (from transformers<5.0.0,>=4.41.0->sentence-transformers) (2.2.4)\n",
      "Requirement already satisfied: regex!=2019.12.17 in e:\\documentos\\git repositories\\uba-mia\\.venv\\lib\\site-packages (from transformers<5.0.0,>=4.41.0->sentence-transformers) (2024.11.6)\n",
      "Requirement already satisfied: tokenizers<0.22,>=0.21 in e:\\documentos\\git repositories\\uba-mia\\.venv\\lib\\site-packages (from transformers<5.0.0,>=4.41.0->sentence-transformers) (0.21.1)\n",
      "Requirement already satisfied: safetensors>=0.4.3 in e:\\documentos\\git repositories\\uba-mia\\.venv\\lib\\site-packages (from transformers<5.0.0,>=4.41.0->sentence-transformers) (0.5.3)\n",
      "Requirement already satisfied: joblib>=1.2.0 in e:\\documentos\\git repositories\\uba-mia\\.venv\\lib\\site-packages (from scikit-learn->sentence-transformers) (1.4.2)\n",
      "Requirement already satisfied: threadpoolctl>=3.1.0 in e:\\documentos\\git repositories\\uba-mia\\.venv\\lib\\site-packages (from scikit-learn->sentence-transformers) (3.6.0)\n",
      "Requirement already satisfied: MarkupSafe>=2.0 in e:\\documentos\\git repositories\\uba-mia\\.venv\\lib\\site-packages (from jinja2->torch>=1.11.0->sentence-transformers) (3.0.2)\n",
      "Requirement already satisfied: charset-normalizer<4,>=2 in e:\\documentos\\git repositories\\uba-mia\\.venv\\lib\\site-packages (from requests->huggingface-hub>=0.20.0->sentence-transformers) (3.4.1)\n",
      "Requirement already satisfied: idna<4,>=2.5 in e:\\documentos\\git repositories\\uba-mia\\.venv\\lib\\site-packages (from requests->huggingface-hub>=0.20.0->sentence-transformers) (3.10)\n",
      "Requirement already satisfied: urllib3<3,>=1.21.1 in e:\\documentos\\git repositories\\uba-mia\\.venv\\lib\\site-packages (from requests->huggingface-hub>=0.20.0->sentence-transformers) (2.3.0)\n",
      "Requirement already satisfied: certifi>=2017.4.17 in e:\\documentos\\git repositories\\uba-mia\\.venv\\lib\\site-packages (from requests->huggingface-hub>=0.20.0->sentence-transformers) (2025.1.31)\n",
      "Note: you may need to restart the kernel to use updated packages.\n",
      "Requirement already satisfied: huggingface_hub[hf_xet] in e:\\documentos\\git repositories\\uba-mia\\.venv\\lib\\site-packages (0.30.2)\n",
      "Requirement already satisfied: filelock in e:\\documentos\\git repositories\\uba-mia\\.venv\\lib\\site-packages (from huggingface_hub[hf_xet]) (3.18.0)\n",
      "Requirement already satisfied: fsspec>=2023.5.0 in e:\\documentos\\git repositories\\uba-mia\\.venv\\lib\\site-packages (from huggingface_hub[hf_xet]) (2025.3.2)\n",
      "Requirement already satisfied: packaging>=20.9 in e:\\documentos\\git repositories\\uba-mia\\.venv\\lib\\site-packages (from huggingface_hub[hf_xet]) (24.2)\n",
      "Requirement already satisfied: pyyaml>=5.1 in e:\\documentos\\git repositories\\uba-mia\\.venv\\lib\\site-packages (from huggingface_hub[hf_xet]) (6.0.2)\n",
      "Requirement already satisfied: requests in e:\\documentos\\git repositories\\uba-mia\\.venv\\lib\\site-packages (from huggingface_hub[hf_xet]) (2.32.3)\n",
      "Requirement already satisfied: tqdm>=4.42.1 in e:\\documentos\\git repositories\\uba-mia\\.venv\\lib\\site-packages (from huggingface_hub[hf_xet]) (4.67.1)\n",
      "Requirement already satisfied: typing-extensions>=3.7.4.3 in e:\\documentos\\git repositories\\uba-mia\\.venv\\lib\\site-packages (from huggingface_hub[hf_xet]) (4.13.1)\n",
      "Requirement already satisfied: hf-xet>=0.1.4 in e:\\documentos\\git repositories\\uba-mia\\.venv\\lib\\site-packages (from huggingface_hub[hf_xet]) (1.0.3)\n",
      "Requirement already satisfied: colorama in e:\\documentos\\git repositories\\uba-mia\\.venv\\lib\\site-packages (from tqdm>=4.42.1->huggingface_hub[hf_xet]) (0.4.6)\n",
      "Requirement already satisfied: charset-normalizer<4,>=2 in e:\\documentos\\git repositories\\uba-mia\\.venv\\lib\\site-packages (from requests->huggingface_hub[hf_xet]) (3.4.1)\n",
      "Requirement already satisfied: idna<4,>=2.5 in e:\\documentos\\git repositories\\uba-mia\\.venv\\lib\\site-packages (from requests->huggingface_hub[hf_xet]) (3.10)\n",
      "Requirement already satisfied: urllib3<3,>=1.21.1 in e:\\documentos\\git repositories\\uba-mia\\.venv\\lib\\site-packages (from requests->huggingface_hub[hf_xet]) (2.3.0)\n",
      "Requirement already satisfied: certifi>=2017.4.17 in e:\\documentos\\git repositories\\uba-mia\\.venv\\lib\\site-packages (from requests->huggingface_hub[hf_xet]) (2025.1.31)\n",
      "Note: you may need to restart the kernel to use updated packages.\n",
      "Requirement already satisfied: langchain in e:\\documentos\\git repositories\\uba-mia\\.venv\\lib\\site-packages (0.3.23)\n",
      "Requirement already satisfied: langchain-community in e:\\documentos\\git repositories\\uba-mia\\.venv\\lib\\site-packages (0.3.21)\n",
      "Requirement already satisfied: langchain-pinecone in e:\\documentos\\git repositories\\uba-mia\\.venv\\lib\\site-packages (0.2.5)\n",
      "Requirement already satisfied: pypdf in e:\\documentos\\git repositories\\uba-mia\\.venv\\lib\\site-packages (5.4.0)\n",
      "Requirement already satisfied: langchain-groq in e:\\documentos\\git repositories\\uba-mia\\.venv\\lib\\site-packages (0.3.2)\n",
      "Requirement already satisfied: langchain-huggingface in e:\\documentos\\git repositories\\uba-mia\\.venv\\lib\\site-packages (0.1.2)\n",
      "Requirement already satisfied: langchain-core<1.0.0,>=0.3.51 in e:\\documentos\\git repositories\\uba-mia\\.venv\\lib\\site-packages (from langchain) (0.3.51)\n",
      "Requirement already satisfied: langchain-text-splitters<1.0.0,>=0.3.8 in e:\\documentos\\git repositories\\uba-mia\\.venv\\lib\\site-packages (from langchain) (0.3.8)\n",
      "Requirement already satisfied: langsmith<0.4,>=0.1.17 in e:\\documentos\\git repositories\\uba-mia\\.venv\\lib\\site-packages (from langchain) (0.3.27)\n",
      "Requirement already satisfied: pydantic<3.0.0,>=2.7.4 in e:\\documentos\\git repositories\\uba-mia\\.venv\\lib\\site-packages (from langchain) (2.11.2)\n",
      "Requirement already satisfied: SQLAlchemy<3,>=1.4 in e:\\documentos\\git repositories\\uba-mia\\.venv\\lib\\site-packages (from langchain) (2.0.40)\n",
      "Requirement already satisfied: requests<3,>=2 in e:\\documentos\\git repositories\\uba-mia\\.venv\\lib\\site-packages (from langchain) (2.32.3)\n",
      "Requirement already satisfied: PyYAML>=5.3 in e:\\documentos\\git repositories\\uba-mia\\.venv\\lib\\site-packages (from langchain) (6.0.2)\n",
      "Requirement already satisfied: aiohttp<4.0.0,>=3.8.3 in e:\\documentos\\git repositories\\uba-mia\\.venv\\lib\\site-packages (from langchain-community) (3.10.11)\n",
      "Requirement already satisfied: tenacity!=8.4.0,<10,>=8.1.0 in e:\\documentos\\git repositories\\uba-mia\\.venv\\lib\\site-packages (from langchain-community) (9.1.2)\n",
      "Requirement already satisfied: dataclasses-json<0.7,>=0.5.7 in e:\\documentos\\git repositories\\uba-mia\\.venv\\lib\\site-packages (from langchain-community) (0.6.7)\n",
      "Requirement already satisfied: pydantic-settings<3.0.0,>=2.4.0 in e:\\documentos\\git repositories\\uba-mia\\.venv\\lib\\site-packages (from langchain-community) (2.8.1)\n",
      "Requirement already satisfied: httpx-sse<1.0.0,>=0.4.0 in e:\\documentos\\git repositories\\uba-mia\\.venv\\lib\\site-packages (from langchain-community) (0.4.0)\n",
      "Requirement already satisfied: numpy<3,>=1.26.2 in e:\\documentos\\git repositories\\uba-mia\\.venv\\lib\\site-packages (from langchain-community) (2.2.4)\n",
      "Requirement already satisfied: pinecone<7.0.0,>=6.0.0 in e:\\documentos\\git repositories\\uba-mia\\.venv\\lib\\site-packages (from pinecone[async]<7.0.0,>=6.0.0->langchain-pinecone) (6.0.2)\n",
      "Requirement already satisfied: langchain-tests<1.0.0,>=0.3.7 in e:\\documentos\\git repositories\\uba-mia\\.venv\\lib\\site-packages (from langchain-pinecone) (0.3.17)\n",
      "Requirement already satisfied: groq<1,>=0.4.1 in e:\\documentos\\git repositories\\uba-mia\\.venv\\lib\\site-packages (from langchain-groq) (0.22.0)\n",
      "Requirement already satisfied: huggingface-hub>=0.23.0 in e:\\documentos\\git repositories\\uba-mia\\.venv\\lib\\site-packages (from langchain-huggingface) (0.30.2)\n",
      "Requirement already satisfied: sentence-transformers>=2.6.0 in e:\\documentos\\git repositories\\uba-mia\\.venv\\lib\\site-packages (from langchain-huggingface) (4.0.2)\n",
      "Requirement already satisfied: tokenizers>=0.19.1 in e:\\documentos\\git repositories\\uba-mia\\.venv\\lib\\site-packages (from langchain-huggingface) (0.21.1)\n",
      "Requirement already satisfied: transformers>=4.39.0 in e:\\documentos\\git repositories\\uba-mia\\.venv\\lib\\site-packages (from langchain-huggingface) (4.51.1)\n",
      "Requirement already satisfied: aiohappyeyeballs>=2.3.0 in e:\\documentos\\git repositories\\uba-mia\\.venv\\lib\\site-packages (from aiohttp<4.0.0,>=3.8.3->langchain-community) (2.6.1)\n",
      "Requirement already satisfied: aiosignal>=1.1.2 in e:\\documentos\\git repositories\\uba-mia\\.venv\\lib\\site-packages (from aiohttp<4.0.0,>=3.8.3->langchain-community) (1.3.2)\n",
      "Requirement already satisfied: attrs>=17.3.0 in e:\\documentos\\git repositories\\uba-mia\\.venv\\lib\\site-packages (from aiohttp<4.0.0,>=3.8.3->langchain-community) (25.3.0)\n",
      "Requirement already satisfied: frozenlist>=1.1.1 in e:\\documentos\\git repositories\\uba-mia\\.venv\\lib\\site-packages (from aiohttp<4.0.0,>=3.8.3->langchain-community) (1.5.0)\n",
      "Requirement already satisfied: multidict<7.0,>=4.5 in e:\\documentos\\git repositories\\uba-mia\\.venv\\lib\\site-packages (from aiohttp<4.0.0,>=3.8.3->langchain-community) (6.2.0)\n",
      "Requirement already satisfied: yarl<2.0,>=1.12.0 in e:\\documentos\\git repositories\\uba-mia\\.venv\\lib\\site-packages (from aiohttp<4.0.0,>=3.8.3->langchain-community) (1.19.0)\n",
      "Requirement already satisfied: marshmallow<4.0.0,>=3.18.0 in e:\\documentos\\git repositories\\uba-mia\\.venv\\lib\\site-packages (from dataclasses-json<0.7,>=0.5.7->langchain-community) (3.26.1)\n",
      "Requirement already satisfied: typing-inspect<1,>=0.4.0 in e:\\documentos\\git repositories\\uba-mia\\.venv\\lib\\site-packages (from dataclasses-json<0.7,>=0.5.7->langchain-community) (0.9.0)\n",
      "Requirement already satisfied: anyio<5,>=3.5.0 in e:\\documentos\\git repositories\\uba-mia\\.venv\\lib\\site-packages (from groq<1,>=0.4.1->langchain-groq) (4.9.0)\n",
      "Requirement already satisfied: distro<2,>=1.7.0 in e:\\documentos\\git repositories\\uba-mia\\.venv\\lib\\site-packages (from groq<1,>=0.4.1->langchain-groq) (1.9.0)\n",
      "Requirement already satisfied: httpx<1,>=0.23.0 in e:\\documentos\\git repositories\\uba-mia\\.venv\\lib\\site-packages (from groq<1,>=0.4.1->langchain-groq) (0.28.1)\n",
      "Requirement already satisfied: sniffio in e:\\documentos\\git repositories\\uba-mia\\.venv\\lib\\site-packages (from groq<1,>=0.4.1->langchain-groq) (1.3.1)\n",
      "Requirement already satisfied: typing-extensions<5,>=4.10 in e:\\documentos\\git repositories\\uba-mia\\.venv\\lib\\site-packages (from groq<1,>=0.4.1->langchain-groq) (4.13.1)\n",
      "Requirement already satisfied: filelock in e:\\documentos\\git repositories\\uba-mia\\.venv\\lib\\site-packages (from huggingface-hub>=0.23.0->langchain-huggingface) (3.18.0)\n",
      "Requirement already satisfied: fsspec>=2023.5.0 in e:\\documentos\\git repositories\\uba-mia\\.venv\\lib\\site-packages (from huggingface-hub>=0.23.0->langchain-huggingface) (2025.3.2)\n",
      "Requirement already satisfied: packaging>=20.9 in e:\\documentos\\git repositories\\uba-mia\\.venv\\lib\\site-packages (from huggingface-hub>=0.23.0->langchain-huggingface) (24.2)\n",
      "Requirement already satisfied: tqdm>=4.42.1 in e:\\documentos\\git repositories\\uba-mia\\.venv\\lib\\site-packages (from huggingface-hub>=0.23.0->langchain-huggingface) (4.67.1)\n",
      "Requirement already satisfied: jsonpatch<2.0,>=1.33 in e:\\documentos\\git repositories\\uba-mia\\.venv\\lib\\site-packages (from langchain-core<1.0.0,>=0.3.51->langchain) (1.33)\n",
      "Requirement already satisfied: pytest<9,>=7 in e:\\documentos\\git repositories\\uba-mia\\.venv\\lib\\site-packages (from langchain-tests<1.0.0,>=0.3.7->langchain-pinecone) (8.3.5)\n",
      "Requirement already satisfied: pytest-asyncio<1,>=0.20 in e:\\documentos\\git repositories\\uba-mia\\.venv\\lib\\site-packages (from langchain-tests<1.0.0,>=0.3.7->langchain-pinecone) (0.26.0)\n",
      "Requirement already satisfied: syrupy<5,>=4 in e:\\documentos\\git repositories\\uba-mia\\.venv\\lib\\site-packages (from langchain-tests<1.0.0,>=0.3.7->langchain-pinecone) (4.9.1)\n",
      "Requirement already satisfied: pytest-socket<1,>=0.6.0 in e:\\documentos\\git repositories\\uba-mia\\.venv\\lib\\site-packages (from langchain-tests<1.0.0,>=0.3.7->langchain-pinecone) (0.7.0)\n",
      "Requirement already satisfied: orjson<4.0.0,>=3.9.14 in e:\\documentos\\git repositories\\uba-mia\\.venv\\lib\\site-packages (from langsmith<0.4,>=0.1.17->langchain) (3.10.16)\n",
      "Requirement already satisfied: requests-toolbelt<2.0.0,>=1.0.0 in e:\\documentos\\git repositories\\uba-mia\\.venv\\lib\\site-packages (from langsmith<0.4,>=0.1.17->langchain) (1.0.0)\n",
      "Requirement already satisfied: zstandard<0.24.0,>=0.23.0 in e:\\documentos\\git repositories\\uba-mia\\.venv\\lib\\site-packages (from langsmith<0.4,>=0.1.17->langchain) (0.23.0)\n",
      "Requirement already satisfied: certifi>=2019.11.17 in e:\\documentos\\git repositories\\uba-mia\\.venv\\lib\\site-packages (from pinecone<7.0.0,>=6.0.0->pinecone[async]<7.0.0,>=6.0.0->langchain-pinecone) (2025.1.31)\n",
      "Requirement already satisfied: pinecone-plugin-interface<0.0.8,>=0.0.7 in e:\\documentos\\git repositories\\uba-mia\\.venv\\lib\\site-packages (from pinecone<7.0.0,>=6.0.0->pinecone[async]<7.0.0,>=6.0.0->langchain-pinecone) (0.0.7)\n",
      "Requirement already satisfied: python-dateutil>=2.5.3 in e:\\documentos\\git repositories\\uba-mia\\.venv\\lib\\site-packages (from pinecone<7.0.0,>=6.0.0->pinecone[async]<7.0.0,>=6.0.0->langchain-pinecone) (2.9.0.post0)\n",
      "Requirement already satisfied: urllib3>=1.26.5 in e:\\documentos\\git repositories\\uba-mia\\.venv\\lib\\site-packages (from pinecone<7.0.0,>=6.0.0->pinecone[async]<7.0.0,>=6.0.0->langchain-pinecone) (2.3.0)\n",
      "Requirement already satisfied: annotated-types>=0.6.0 in e:\\documentos\\git repositories\\uba-mia\\.venv\\lib\\site-packages (from pydantic<3.0.0,>=2.7.4->langchain) (0.7.0)\n",
      "Requirement already satisfied: pydantic-core==2.33.1 in e:\\documentos\\git repositories\\uba-mia\\.venv\\lib\\site-packages (from pydantic<3.0.0,>=2.7.4->langchain) (2.33.1)\n",
      "Requirement already satisfied: typing-inspection>=0.4.0 in e:\\documentos\\git repositories\\uba-mia\\.venv\\lib\\site-packages (from pydantic<3.0.0,>=2.7.4->langchain) (0.4.0)\n",
      "Requirement already satisfied: python-dotenv>=0.21.0 in e:\\documentos\\git repositories\\uba-mia\\.venv\\lib\\site-packages (from pydantic-settings<3.0.0,>=2.4.0->langchain-community) (1.1.0)\n",
      "Requirement already satisfied: charset-normalizer<4,>=2 in e:\\documentos\\git repositories\\uba-mia\\.venv\\lib\\site-packages (from requests<3,>=2->langchain) (3.4.1)\n",
      "Requirement already satisfied: idna<4,>=2.5 in e:\\documentos\\git repositories\\uba-mia\\.venv\\lib\\site-packages (from requests<3,>=2->langchain) (3.10)\n",
      "Requirement already satisfied: torch>=1.11.0 in e:\\documentos\\git repositories\\uba-mia\\.venv\\lib\\site-packages (from sentence-transformers>=2.6.0->langchain-huggingface) (2.6.0)\n",
      "Requirement already satisfied: scikit-learn in e:\\documentos\\git repositories\\uba-mia\\.venv\\lib\\site-packages (from sentence-transformers>=2.6.0->langchain-huggingface) (1.6.1)\n",
      "Requirement already satisfied: scipy in e:\\documentos\\git repositories\\uba-mia\\.venv\\lib\\site-packages (from sentence-transformers>=2.6.0->langchain-huggingface) (1.15.2)\n",
      "Requirement already satisfied: Pillow in e:\\documentos\\git repositories\\uba-mia\\.venv\\lib\\site-packages (from sentence-transformers>=2.6.0->langchain-huggingface) (11.1.0)\n",
      "Requirement already satisfied: greenlet>=1 in e:\\documentos\\git repositories\\uba-mia\\.venv\\lib\\site-packages (from SQLAlchemy<3,>=1.4->langchain) (3.1.1)\n",
      "Requirement already satisfied: regex!=2019.12.17 in e:\\documentos\\git repositories\\uba-mia\\.venv\\lib\\site-packages (from transformers>=4.39.0->langchain-huggingface) (2024.11.6)\n",
      "Requirement already satisfied: safetensors>=0.4.3 in e:\\documentos\\git repositories\\uba-mia\\.venv\\lib\\site-packages (from transformers>=4.39.0->langchain-huggingface) (0.5.3)\n",
      "Requirement already satisfied: httpcore==1.* in e:\\documentos\\git repositories\\uba-mia\\.venv\\lib\\site-packages (from httpx<1,>=0.23.0->groq<1,>=0.4.1->langchain-groq) (1.0.7)\n",
      "Requirement already satisfied: h11<0.15,>=0.13 in e:\\documentos\\git repositories\\uba-mia\\.venv\\lib\\site-packages (from httpcore==1.*->httpx<1,>=0.23.0->groq<1,>=0.4.1->langchain-groq) (0.14.0)\n",
      "Requirement already satisfied: jsonpointer>=1.9 in e:\\documentos\\git repositories\\uba-mia\\.venv\\lib\\site-packages (from jsonpatch<2.0,>=1.33->langchain-core<1.0.0,>=0.3.51->langchain) (3.0.0)\n",
      "Requirement already satisfied: colorama in e:\\documentos\\git repositories\\uba-mia\\.venv\\lib\\site-packages (from pytest<9,>=7->langchain-tests<1.0.0,>=0.3.7->langchain-pinecone) (0.4.6)\n",
      "Requirement already satisfied: iniconfig in e:\\documentos\\git repositories\\uba-mia\\.venv\\lib\\site-packages (from pytest<9,>=7->langchain-tests<1.0.0,>=0.3.7->langchain-pinecone) (2.1.0)\n",
      "Requirement already satisfied: pluggy<2,>=1.5 in e:\\documentos\\git repositories\\uba-mia\\.venv\\lib\\site-packages (from pytest<9,>=7->langchain-tests<1.0.0,>=0.3.7->langchain-pinecone) (1.5.0)\n",
      "Requirement already satisfied: six>=1.5 in e:\\documentos\\git repositories\\uba-mia\\.venv\\lib\\site-packages (from python-dateutil>=2.5.3->pinecone<7.0.0,>=6.0.0->pinecone[async]<7.0.0,>=6.0.0->langchain-pinecone) (1.17.0)\n",
      "Requirement already satisfied: networkx in e:\\documentos\\git repositories\\uba-mia\\.venv\\lib\\site-packages (from torch>=1.11.0->sentence-transformers>=2.6.0->langchain-huggingface) (3.4.2)\n",
      "Requirement already satisfied: jinja2 in e:\\documentos\\git repositories\\uba-mia\\.venv\\lib\\site-packages (from torch>=1.11.0->sentence-transformers>=2.6.0->langchain-huggingface) (3.1.6)\n",
      "Requirement already satisfied: setuptools in e:\\documentos\\git repositories\\uba-mia\\.venv\\lib\\site-packages (from torch>=1.11.0->sentence-transformers>=2.6.0->langchain-huggingface) (78.1.0)\n",
      "Requirement already satisfied: sympy==1.13.1 in e:\\documentos\\git repositories\\uba-mia\\.venv\\lib\\site-packages (from torch>=1.11.0->sentence-transformers>=2.6.0->langchain-huggingface) (1.13.1)\n",
      "Requirement already satisfied: mpmath<1.4,>=1.1.0 in e:\\documentos\\git repositories\\uba-mia\\.venv\\lib\\site-packages (from sympy==1.13.1->torch>=1.11.0->sentence-transformers>=2.6.0->langchain-huggingface) (1.3.0)\n",
      "Requirement already satisfied: mypy-extensions>=0.3.0 in e:\\documentos\\git repositories\\uba-mia\\.venv\\lib\\site-packages (from typing-inspect<1,>=0.4.0->dataclasses-json<0.7,>=0.5.7->langchain-community) (1.0.0)\n",
      "Requirement already satisfied: propcache>=0.2.1 in e:\\documentos\\git repositories\\uba-mia\\.venv\\lib\\site-packages (from yarl<2.0,>=1.12.0->aiohttp<4.0.0,>=3.8.3->langchain-community) (0.3.1)\n",
      "Requirement already satisfied: joblib>=1.2.0 in e:\\documentos\\git repositories\\uba-mia\\.venv\\lib\\site-packages (from scikit-learn->sentence-transformers>=2.6.0->langchain-huggingface) (1.4.2)\n",
      "Requirement already satisfied: threadpoolctl>=3.1.0 in e:\\documentos\\git repositories\\uba-mia\\.venv\\lib\\site-packages (from scikit-learn->sentence-transformers>=2.6.0->langchain-huggingface) (3.6.0)\n",
      "Requirement already satisfied: MarkupSafe>=2.0 in e:\\documentos\\git repositories\\uba-mia\\.venv\\lib\\site-packages (from jinja2->torch>=1.11.0->sentence-transformers>=2.6.0->langchain-huggingface) (3.0.2)\n",
      "Note: you may need to restart the kernel to use updated packages.\n"
     ]
    },
    {
     "name": "stderr",
     "output_type": "stream",
     "text": [
      "WARNING: pinecone 6.0.2 does not provide the extra 'async'\n"
     ]
    },
    {
     "name": "stdout",
     "output_type": "stream",
     "text": [
      "Requirement already satisfied: langgraph in e:\\documentos\\git repositories\\uba-mia\\.venv\\lib\\site-packages (0.3.31)\n",
      "Requirement already satisfied: langchain-core<0.4,>=0.1 in e:\\documentos\\git repositories\\uba-mia\\.venv\\lib\\site-packages (from langgraph) (0.3.51)\n",
      "Requirement already satisfied: langgraph-checkpoint<3.0.0,>=2.0.10 in e:\\documentos\\git repositories\\uba-mia\\.venv\\lib\\site-packages (from langgraph) (2.0.24)\n",
      "Requirement already satisfied: langgraph-prebuilt<0.2,>=0.1.8 in e:\\documentos\\git repositories\\uba-mia\\.venv\\lib\\site-packages (from langgraph) (0.1.8)\n",
      "Requirement already satisfied: langgraph-sdk<0.2.0,>=0.1.42 in e:\\documentos\\git repositories\\uba-mia\\.venv\\lib\\site-packages (from langgraph) (0.1.61)\n",
      "Requirement already satisfied: xxhash<4.0.0,>=3.5.0 in e:\\documentos\\git repositories\\uba-mia\\.venv\\lib\\site-packages (from langgraph) (3.5.0)\n",
      "Requirement already satisfied: langsmith<0.4,>=0.1.125 in e:\\documentos\\git repositories\\uba-mia\\.venv\\lib\\site-packages (from langchain-core<0.4,>=0.1->langgraph) (0.3.27)\n",
      "Requirement already satisfied: tenacity!=8.4.0,<10.0.0,>=8.1.0 in e:\\documentos\\git repositories\\uba-mia\\.venv\\lib\\site-packages (from langchain-core<0.4,>=0.1->langgraph) (9.1.2)\n",
      "Requirement already satisfied: jsonpatch<2.0,>=1.33 in e:\\documentos\\git repositories\\uba-mia\\.venv\\lib\\site-packages (from langchain-core<0.4,>=0.1->langgraph) (1.33)\n",
      "Requirement already satisfied: PyYAML>=5.3 in e:\\documentos\\git repositories\\uba-mia\\.venv\\lib\\site-packages (from langchain-core<0.4,>=0.1->langgraph) (6.0.2)\n",
      "Requirement already satisfied: packaging<25,>=23.2 in e:\\documentos\\git repositories\\uba-mia\\.venv\\lib\\site-packages (from langchain-core<0.4,>=0.1->langgraph) (24.2)\n",
      "Requirement already satisfied: typing-extensions>=4.7 in e:\\documentos\\git repositories\\uba-mia\\.venv\\lib\\site-packages (from langchain-core<0.4,>=0.1->langgraph) (4.13.1)\n",
      "Requirement already satisfied: pydantic<3.0.0,>=2.7.4 in e:\\documentos\\git repositories\\uba-mia\\.venv\\lib\\site-packages (from langchain-core<0.4,>=0.1->langgraph) (2.11.2)\n",
      "Requirement already satisfied: ormsgpack<2.0.0,>=1.8.0 in e:\\documentos\\git repositories\\uba-mia\\.venv\\lib\\site-packages (from langgraph-checkpoint<3.0.0,>=2.0.10->langgraph) (1.9.1)\n",
      "Requirement already satisfied: httpx>=0.25.2 in e:\\documentos\\git repositories\\uba-mia\\.venv\\lib\\site-packages (from langgraph-sdk<0.2.0,>=0.1.42->langgraph) (0.28.1)\n",
      "Requirement already satisfied: orjson>=3.10.1 in e:\\documentos\\git repositories\\uba-mia\\.venv\\lib\\site-packages (from langgraph-sdk<0.2.0,>=0.1.42->langgraph) (3.10.16)\n",
      "Requirement already satisfied: anyio in e:\\documentos\\git repositories\\uba-mia\\.venv\\lib\\site-packages (from httpx>=0.25.2->langgraph-sdk<0.2.0,>=0.1.42->langgraph) (4.9.0)\n",
      "Requirement already satisfied: certifi in e:\\documentos\\git repositories\\uba-mia\\.venv\\lib\\site-packages (from httpx>=0.25.2->langgraph-sdk<0.2.0,>=0.1.42->langgraph) (2025.1.31)\n",
      "Requirement already satisfied: httpcore==1.* in e:\\documentos\\git repositories\\uba-mia\\.venv\\lib\\site-packages (from httpx>=0.25.2->langgraph-sdk<0.2.0,>=0.1.42->langgraph) (1.0.7)\n",
      "Requirement already satisfied: idna in e:\\documentos\\git repositories\\uba-mia\\.venv\\lib\\site-packages (from httpx>=0.25.2->langgraph-sdk<0.2.0,>=0.1.42->langgraph) (3.10)\n",
      "Requirement already satisfied: h11<0.15,>=0.13 in e:\\documentos\\git repositories\\uba-mia\\.venv\\lib\\site-packages (from httpcore==1.*->httpx>=0.25.2->langgraph-sdk<0.2.0,>=0.1.42->langgraph) (0.14.0)\n",
      "Requirement already satisfied: jsonpointer>=1.9 in e:\\documentos\\git repositories\\uba-mia\\.venv\\lib\\site-packages (from jsonpatch<2.0,>=1.33->langchain-core<0.4,>=0.1->langgraph) (3.0.0)\n",
      "Requirement already satisfied: requests<3,>=2 in e:\\documentos\\git repositories\\uba-mia\\.venv\\lib\\site-packages (from langsmith<0.4,>=0.1.125->langchain-core<0.4,>=0.1->langgraph) (2.32.3)\n",
      "Requirement already satisfied: requests-toolbelt<2.0.0,>=1.0.0 in e:\\documentos\\git repositories\\uba-mia\\.venv\\lib\\site-packages (from langsmith<0.4,>=0.1.125->langchain-core<0.4,>=0.1->langgraph) (1.0.0)\n",
      "Requirement already satisfied: zstandard<0.24.0,>=0.23.0 in e:\\documentos\\git repositories\\uba-mia\\.venv\\lib\\site-packages (from langsmith<0.4,>=0.1.125->langchain-core<0.4,>=0.1->langgraph) (0.23.0)\n",
      "Requirement already satisfied: annotated-types>=0.6.0 in e:\\documentos\\git repositories\\uba-mia\\.venv\\lib\\site-packages (from pydantic<3.0.0,>=2.7.4->langchain-core<0.4,>=0.1->langgraph) (0.7.0)\n",
      "Requirement already satisfied: pydantic-core==2.33.1 in e:\\documentos\\git repositories\\uba-mia\\.venv\\lib\\site-packages (from pydantic<3.0.0,>=2.7.4->langchain-core<0.4,>=0.1->langgraph) (2.33.1)\n",
      "Requirement already satisfied: typing-inspection>=0.4.0 in e:\\documentos\\git repositories\\uba-mia\\.venv\\lib\\site-packages (from pydantic<3.0.0,>=2.7.4->langchain-core<0.4,>=0.1->langgraph) (0.4.0)\n",
      "Requirement already satisfied: charset-normalizer<4,>=2 in e:\\documentos\\git repositories\\uba-mia\\.venv\\lib\\site-packages (from requests<3,>=2->langsmith<0.4,>=0.1.125->langchain-core<0.4,>=0.1->langgraph) (3.4.1)\n",
      "Requirement already satisfied: urllib3<3,>=1.21.1 in e:\\documentos\\git repositories\\uba-mia\\.venv\\lib\\site-packages (from requests<3,>=2->langsmith<0.4,>=0.1.125->langchain-core<0.4,>=0.1->langgraph) (2.3.0)\n",
      "Requirement already satisfied: sniffio>=1.1 in e:\\documentos\\git repositories\\uba-mia\\.venv\\lib\\site-packages (from anyio->httpx>=0.25.2->langgraph-sdk<0.2.0,>=0.1.42->langgraph) (1.3.1)\n",
      "Note: you may need to restart the kernel to use updated packages.\n"
     ]
    }
   ],
   "source": [
    "%pip install --upgrade jupyter ipywidgets\n",
    "%pip install transformers torch einops\n",
    "%pip install sentence-transformers\n",
    "%pip install huggingface_hub[hf_xet]\n",
    "%pip install langchain langchain-community langchain-pinecone pypdf langchain-groq langchain-huggingface\n",
    "%pip install -U langgraph "
   ]
  },
  {
   "cell_type": "markdown",
   "id": "d22f6bf7",
   "metadata": {},
   "source": [
    "✋ <em><font color='DodgerBlue'>Importaciones:</font></em> ✋"
   ]
  },
  {
   "cell_type": "code",
   "execution_count": 2,
   "id": "3dc5e8e7",
   "metadata": {},
   "outputs": [],
   "source": [
    "# Standard Library\n",
    "import os\n",
    "import time\n",
    "from typing import Literal\n",
    "\n",
    "# Third-Party Libraries\n",
    "from dotenv import load_dotenv\n",
    "from IPython.display import Image, display\n",
    "\n",
    "# Pinecone\n",
    "from pinecone import Pinecone, ServerlessSpec\n",
    "\n",
    "# LangChain - Document Loaders\n",
    "from langchain_community.document_loaders import PyPDFLoader\n",
    "\n",
    "# LangChain - Text Splitters\n",
    "from langchain_text_splitters import RecursiveCharacterTextSplitter\n",
    "\n",
    "# LangChain - Vector Stores\n",
    "from langchain_pinecone import PineconeVectorStore\n",
    "\n",
    "# LangChain - Embeddings\n",
    "from langchain_community.embeddings import JinaEmbeddings\n",
    "from langchain_core.embeddings import Embeddings\n",
    "\n",
    "# LangChain - Chat Models\n",
    "from langchain_groq import ChatGroq\n",
    "\n",
    "# LangChain - Tools\n",
    "from langchain_core.tools import tool\n",
    "\n",
    "# LangGraph\n",
    "from langgraph.prebuilt import ToolNode, create_react_agent\n",
    "from langgraph.checkpoint.memory import MemorySaver\n",
    "\n",
    "# Custom Modules\n",
    "import custom_prompts as cp"
   ]
  },
  {
   "cell_type": "markdown",
   "id": "dba2f530",
   "metadata": {},
   "source": [
    "🔧 <em><font color='tomato'>Configuraciones:</font></em> 🔧\n"
   ]
  },
  {
   "cell_type": "code",
   "execution_count": 3,
   "id": "fbfd7368",
   "metadata": {},
   "outputs": [],
   "source": [
    "load_dotenv()\n",
    "\n",
    "GROQ_API_KEY = os.getenv(\"GROQ_API_KEY\")\n",
    "PINECONE_API_KEY = os.getenv(\"PINECONE_API_KEY\")\n",
    "JINA_AI_API_KEY = os.getenv(\"JINA_AI_API_KEY\")\n",
    "EMBEDDINGS_DIMENSION = 1024\n",
    "EMBEDDINGS_MODEL = \"jina-embeddings-v3\"\n",
    "GROQ_MODEL = \"llama-3.3-70b-versatile\"\n",
    "INDEX_NAME = \"nlp2-practico2\"\n",
    "BRUNO_CV_NAMESPACE = \"nlp2-practico2-bruno-namespace\"\n",
    "JOSE_CV_NAMESPACE = \"nlp2-practico2-jose-namespace\"\n",
    "CV_BRUNO_FILE_PATH = \"../resources/cv_candidatos/cv-bruno-masoller.pdf\"\n",
    "CV_JOSE_FILE_PATH = \"../resources/cv_candidatos/cv-jose-martinez.pdf\""
   ]
  },
  {
   "cell_type": "markdown",
   "id": "1a8d07c6",
   "metadata": {},
   "source": [
    "## Consinga"
   ]
  },
  {
   "cell_type": "markdown",
   "id": "c1f68212",
   "metadata": {},
   "source": [
    "- Sobre el trabajo práctico 1 (Chatbot + RAG), implementar un sistema de agentes para que responda de manera eficiente dependiendo de qué persona se está preguntando."
   ]
  },
  {
   "cell_type": "markdown",
   "id": "6e4ddfc3",
   "metadata": {},
   "source": [
    "## Resolución"
   ]
  },
  {
   "cell_type": "markdown",
   "id": "91d6adbd",
   "metadata": {},
   "source": [
    "Partiendo de la base del práctico anterior: [Práctico 1](../Practico%201/research.ipynb), se implementa un sistema de agentes para que responda de manera eficiente dependiendo de qué persona se está preguntando. Para ello, se utiliza la librería [LangChain](https://python.langchain.com/docs/get_started/introduction.html) y su módulo de agentes.\n",
    "\n",
    "El objetivo es utilizar una `tool` para buscar en el *vectorstore* correcto y luego utilizar un LLM para responder a la pregunta. Para ello, se optará por crear un *vectorstore* para cada candidato y luego el agente seleccionará el *vectorstore* correcto para buscar la información. \n",
    "\n",
    "Podríamos representar el RAG de la siguiente manera:\n",
    "\n",
    "```mermaid\n",
    "graph TD;\n",
    "    A[HumanMessage]-->B{Responder o usar retriever?};\n",
    "    B-->|retriever|C[ToolMessage];\n",
    "    B-->|responder|D[AIMessage];\n",
    "    C-->|contexto|B;\n",
    "\n",
    "\n",
    "```\n",
    "\n",
    "En detalle, tendríamos la siguiente secuencia de mensajes:\n",
    "\n",
    "1. Entrada del usuario como un `HumanMessage`;\n",
    "2. Responde con un `AIMessage` o utiliza un `ToolMessage`;\n",
    "    1. Si utiliza un `ToolMessage`, ejecuta la herramienta y obtiene un contexto;\n",
    "    2. Responde con un `AIMessage` utilizando el contexto obtenido;\n",
    "\n",
    "La diferencia es que la herramienta se ejecuta para el candidato que se está preguntando."
   ]
  },
  {
   "cell_type": "markdown",
   "id": "32892ba1",
   "metadata": {},
   "source": [
    "> 💫 <em><font color='MediumPurple'> Mejora:</font></em> En este punto, se podría mejorar el RAG para que en caso de que no se incluya el nombre del candidato, el agente pregunte por cual candidato se está queriendo consultar. Para esto, se puede incorporar las interrupciones de Langgraph (human-in-the-loop): https://langchain-ai.github.io/langgraph/concepts/human_in_the_loop/#use-cases"
   ]
  },
  {
   "cell_type": "markdown",
   "id": "e18867d1",
   "metadata": {},
   "source": [
    "Utilizamos las funciones anteriores, solo que como ejemplo utilizaremos dos candidatos, por lo que se creará un *vectorstore* para cada uno de ellos."
   ]
  },
  {
   "cell_type": "code",
   "execution_count": 4,
   "id": "ddddfc41",
   "metadata": {},
   "outputs": [],
   "source": [
    "def load_document(namespace: str) -> list:\n",
    "    match namespace:\n",
    "        case ns if ns == BRUNO_CV_NAMESPACE:\n",
    "            file_path = CV_BRUNO_FILE_PATH\n",
    "        case ns if ns == JOSE_CV_NAMESPACE:\n",
    "            file_path = CV_JOSE_FILE_PATH\n",
    "        case _:\n",
    "            raise ValueError(f\"Namespace '{namespace}' no reconocido.\")\n",
    "\n",
    "    loader = PyPDFLoader(file_path=file_path, mode=\"single\")\n",
    "    document = loader.load()\n",
    "\n",
    "    text_splitter = RecursiveCharacterTextSplitter(\n",
    "        chunk_size=200,\n",
    "        chunk_overlap=50,\n",
    "        separators=[\"\\n\\n\", \"\\n\", \"(?=\\\\.)\", \" \", \"\"],\n",
    "        length_function=len,\n",
    "    )\n",
    "    return text_splitter.split_documents(document)\n",
    "\n",
    "\n",
    "# Función principal para obtener el vector store\n",
    "def get_vector_store(\n",
    "    text_embeddings: Embeddings, namespace: str\n",
    ") -> PineconeVectorStore:\n",
    "    # Inicializar Pinecone\n",
    "    pc = Pinecone(api_key=PINECONE_API_KEY)\n",
    "\n",
    "    # Crear el índice si no existe\n",
    "    if not pc.has_index(INDEX_NAME):\n",
    "        pc.create_index(\n",
    "            name=INDEX_NAME,\n",
    "            dimension=EMBEDDINGS_DIMENSION,\n",
    "            metric=\"cosine\",\n",
    "            spec=ServerlessSpec(cloud=\"aws\", region=\"us-east-1\"),\n",
    "        )\n",
    "        # Esperar a que el índice esté listo\n",
    "        while not pc.describe_index(INDEX_NAME).status[\"ready\"]:\n",
    "            time.sleep(1)\n",
    "\n",
    "    index = pc.Index(INDEX_NAME)\n",
    "\n",
    "    # Verificar si el namespace ya tiene vectores\n",
    "    stats = index.describe_index_stats()\n",
    "    vector_count = stats.namespaces.get(namespace, {\"vector_count\": 0})[\"vector_count\"]\n",
    "\n",
    "    if vector_count == 0:\n",
    "        # Cargar el documento y subir los vectores al namespace\n",
    "        chunks = load_document(namespace)\n",
    "        if not chunks:\n",
    "            raise ValueError(\n",
    "                f\"El documento {namespace} está vacío o no se pudo cargar.\"\n",
    "            )\n",
    "\n",
    "        # Upsert de los vectores\n",
    "        PineconeVectorStore.from_documents(\n",
    "            documents=chunks,\n",
    "            embedding=text_embeddings,\n",
    "            index_name=INDEX_NAME,\n",
    "            namespace=namespace,\n",
    "        )\n",
    "\n",
    "    # Crear el vector store desde el índice existente\n",
    "    vector_store = PineconeVectorStore.from_existing_index(\n",
    "        embedding=text_embeddings,\n",
    "        index_name=INDEX_NAME,\n",
    "        namespace=namespace,\n",
    "    )\n",
    "\n",
    "    return vector_store"
   ]
  },
  {
   "cell_type": "markdown",
   "id": "a2bcb22b",
   "metadata": {},
   "source": [
    "Inicializamos LLM, embeddings y vectorstore:"
   ]
  },
  {
   "cell_type": "code",
   "execution_count": 5,
   "id": "6b479789",
   "metadata": {},
   "outputs": [],
   "source": [
    "chat = ChatGroq(groq_api_key=GROQ_API_KEY, model_name=GROQ_MODEL)\n",
    "text_embeddings = JinaEmbeddings(\n",
    "    jina_api_key=JINA_AI_API_KEY, model_name=EMBEDDINGS_MODEL\n",
    ")\n",
    "\n",
    "vector_store_bruno = get_vector_store(text_embeddings=text_embeddings, namespace=BRUNO_CV_NAMESPACE)\n",
    "vector_store_jose = get_vector_store(text_embeddings=text_embeddings, namespace=JOSE_CV_NAMESPACE)"
   ]
  },
  {
   "cell_type": "markdown",
   "id": "94213b14",
   "metadata": {},
   "source": [
    "El objetivo es utilizar una `tool` para buscar en el vectorstore correcto y luego utilizar un LLM para responder a la pregunta. Para ello, utilizamos el módulo de agentes de LangGraph.\n",
    "Un RAG de este tipo, se puede representar el estado de nuestra aplicación mediante una secuencia de mensajes. En concreto, tendremos:\n",
    "\n",
    "1. Entrada del usuario como un `HumanMessage`;\n",
    "2. Consulta de almacén vectorial como un `AIMessage` con llamadas a herramientas;\n",
    "3. Documentos recuperados como un `ToolMessage`;\n",
    "4. Respuesta final como un `AIMessage`."
   ]
  },
  {
   "cell_type": "markdown",
   "id": "7e473e00",
   "metadata": {},
   "source": [
    "Creamos la tool:"
   ]
  },
  {
   "cell_type": "code",
   "execution_count": 6,
   "id": "4a7afad3",
   "metadata": {},
   "outputs": [],
   "source": [
    "@tool(\n",
    "    response_format=\"content_and_artifact\"\n",
    ")  # \"content_and_artifact\": indica que la respuesta debe incluir tanto el contenido como el artefacto\n",
    "def retrieve(query: str, candidato: Literal[\"bruno\", \"jose\"]):\n",
    "    \"\"\"Obtiene información relevante del CV de un candidato a partir de una consulta.\"\"\"\n",
    "    match candidato:\n",
    "        case \"bruno\":\n",
    "            retrieved_docs = vector_store_bruno.similarity_search(query, k=2)\n",
    "        case \"jose\":\n",
    "            retrieved_docs = vector_store_jose.similarity_search(query, k=2)\n",
    "        case _:\n",
    "            raise AssertionError(f\"Candidato '{candidato}' no reconocido.\")\n",
    "\n",
    "    serialized = \"\\n\\n\".join(\n",
    "        (f\"Source: {doc.metadata}\\n\" f\"Content: {doc.page_content}\")\n",
    "        for doc in retrieved_docs\n",
    "    )\n",
    "    return serialized, retrieved_docs"
   ]
  },
  {
   "cell_type": "markdown",
   "id": "b790ac31",
   "metadata": {},
   "source": [
    "Creamos el agente (https://langchain-ai.github.io/langgraph/reference/prebuilt/#langgraph.prebuilt.chat_agent_executor.create_react_agent):"
   ]
  },
  {
   "cell_type": "code",
   "execution_count": 7,
   "id": "de4b9fc5",
   "metadata": {},
   "outputs": [],
   "source": [
    "tools = [retrieve]\n",
    "tool_node = ToolNode(tools)\n",
    "\n",
    "memory = MemorySaver()\n",
    "\n",
    "graph = create_react_agent(model=chat, tools=tool_node, checkpointer=memory, prompt=cp.AGENT_PROMPT)\n",
    "# graph = create_react_agent(model=chat, tools=tool_node, checkpointer=memory, prompt=cp.AGENT_PROMPT, debug=True) # Debug mode\n",
    "\n",
    "config = {\"configurable\": {\"thread_id\": \"u12hjaw3\"}}"
   ]
  },
  {
   "cell_type": "markdown",
   "id": "6d9c5d94",
   "metadata": {},
   "source": [
    "Verificamos la lógica del agente:"
   ]
  },
  {
   "cell_type": "code",
   "execution_count": 8,
   "id": "a6f1a6ce",
   "metadata": {},
   "outputs": [
    {
     "data": {
      "image/png": "[encoded data removed]",
      "text/plain": [
       "<IPython.core.display.Image object>"
      ]
     },
     "metadata": {},
     "output_type": "display_data"
    }
   ],
   "source": [
    "display(Image(graph.get_graph().draw_mermaid_png()))"
   ]
  },
  {
   "cell_type": "markdown",
   "id": "75223a79",
   "metadata": {},
   "source": [
    "Probamos el agente:"
   ]
  },
  {
   "cell_type": "code",
   "execution_count": 9,
   "id": "1f1df66d",
   "metadata": {},
   "outputs": [],
   "source": [
    "def print_stream(stream):\n",
    "    for s in stream:\n",
    "        message = s[\"messages\"][-1]\n",
    "        if isinstance(message, tuple):\n",
    "            print(message)\n",
    "        else:\n",
    "            message.pretty_print()"
   ]
  },
  {
   "cell_type": "code",
   "execution_count": 10,
   "id": "8a04a316",
   "metadata": {},
   "outputs": [
    {
     "name": "stdout",
     "output_type": "stream",
     "text": [
      "================================\u001b[1m Human Message \u001b[0m=================================\n",
      "\n",
      "Podrías darme un resumen del CV de Bruno?\n",
      "==================================\u001b[1m Ai Message \u001b[0m==================================\n",
      "Tool Calls:\n",
      "  retrieve (call_bpx8)\n",
      " Call ID: call_bpx8\n",
      "  Args:\n",
      "    candidato: bruno\n",
      "    query: resumen del CV\n",
      "=================================\u001b[1m Tool Message \u001b[0m=================================\n",
      "Name: retrieve\n",
      "\n",
      "Source: {'author': 'Bruno Masoller', 'creationdate': '2025-04-08T18:48:43-03:00', 'creator': 'Microsoft® Word para Microsoft 365', 'moddate': '2025-04-08T18:48:43-03:00', 'producer': 'Microsoft® Word para Microsoft 365', 'source': '../resources/cv_candidatos/cv-bruno-masoller.pdf', 'total_pages': 4.0}\n",
      "Content: o Año: 2024 - Actual \n",
      "o Lugar: https://brunomaso1.github.io/ml-porfolio/ \n",
      "o Organización: Proyecto propio. \n",
      "o Puesto: Especialista en Inteligencia Artificial. \n",
      "o Características:\n",
      "\n",
      "Source: {'author': 'Bruno Masoller', 'creationdate': '2025-04-08T18:48:43-03:00', 'creator': 'Microsoft® Word para Microsoft 365', 'moddate': '2025-04-08T18:48:43-03:00', 'producer': 'Microsoft® Word para Microsoft 365', 'source': '../resources/cv_candidatos/cv-bruno-masoller.pdf', 'total_pages': 4.0}\n",
      "Content: Página 1 de 4 \n",
      " \n",
      "CURRICULUM VITAE \n",
      "DATOS PERSONALES: \n",
      "• NOMBRE: Bruno Martin Masoller Gancedo \n",
      "• DIRECCION: Montevideo, Uruguay \n",
      "• TELEFONO: +598 91 414 979\n",
      "==================================\u001b[1m Ai Message \u001b[0m==================================\n",
      "\n",
      "Bruno es un especialista en Inteligencia Artificial con experiencia en proyectos personales. Su CV incluye información sobre su experiencia laboral, educación y habilidades en el campo de la inteligencia artificial. También se menciona que ha trabajado en un proyecto propio como especialista en Inteligencia Artificial desde 2024 hasta la actualidad.\n"
     ]
    }
   ],
   "source": [
    "inputs = {\"messages\": [(\"user\", \"Podrías darme un resumen del CV de Bruno?\")]}\n",
    "print_stream(graph.stream(inputs, stream_mode=\"values\", config=config))"
   ]
  },
  {
   "cell_type": "code",
   "execution_count": 37,
   "id": "033a34b8",
   "metadata": {},
   "outputs": [
    {
     "name": "stdout",
     "output_type": "stream",
     "text": [
      "================================\u001b[1m Human Message \u001b[0m=================================\n",
      "\n",
      "De la experiencia en IA del candidato anterior, hay algún proyecto en particular?\n",
      "==================================\u001b[1m Ai Message \u001b[0m==================================\n",
      "Tool Calls:\n",
      "  retrieve (call_vgan)\n",
      " Call ID: call_vgan\n",
      "  Args:\n",
      "    candidato: bruno\n",
      "    query: proyecto IA\n",
      "=================================\u001b[1m Tool Message \u001b[0m=================================\n",
      "Name: retrieve\n",
      "\n",
      "Source: {'author': 'Bruno Masoller', 'creationdate': '2025-04-08T18:48:43-03:00', 'creator': 'Microsoft® Word para Microsoft 365', 'moddate': '2025-04-08T18:48:43-03:00', 'producer': 'Microsoft® Word para Microsoft 365', 'source': '../resources/cv_candidatos/cv-bruno-masoller.pdf', 'total_pages': 4.0}\n",
      "Content: OTROS PROYECTOS: \n",
      "• Proyecto propio - Repositorio de la Maestría en Inteligencia Artificial \n",
      "o Año: 2024 - Actual \n",
      "o Lugar: https://github.com/brunomaso1/uba-mia \n",
      "o Organización: Proyecto propio.\n",
      "\n",
      "Source: {'author': 'Bruno Masoller', 'creationdate': '2025-04-08T18:48:43-03:00', 'creator': 'Microsoft® Word para Microsoft 365', 'moddate': '2025-04-08T18:48:43-03:00', 'producer': 'Microsoft® Word para Microsoft 365', 'source': '../resources/cv_candidatos/cv-bruno-masoller.pdf', 'total_pages': 4.0}\n",
      "Content: o Características: \n",
      "▪ Proyectos de trabajos realizados durante la carrera de Especialización en Inteligencia Artificial (UBA). \n",
      "• Proyectos variados – Repositorio de código \n",
      "o Año: 2018 – Actual\n",
      "==================================\u001b[1m Ai Message \u001b[0m==================================\n",
      "\n",
      "Sí, hay proyectos en particular mencionados en la experiencia en IA del candidato. Algunos de ellos incluyen:\n",
      "\n",
      "* Un repositorio de la Maestría en Inteligencia Artificial, disponible en https://github.com/brunomaso1/uba-mia, que contiene proyectos de trabajos realizados durante la carrera de Especialización en Inteligencia Artificial (UBA).\n",
      "* Un repositorio de código con proyectos variados, disponible desde 2018.\n",
      "\n",
      "Espero que esta información te sea útil. Si necesitas más detalles, no dudes en preguntar.\n"
     ]
    }
   ],
   "source": [
    "inputs = {\"messages\": [(\"user\", \"De la experiencia en IA del candidato anterior, hay algún proyecto en particular?\")]}\n",
    "print_stream(graph.stream(inputs, stream_mode=\"values\", config=config))"
   ]
  },
  {
   "cell_type": "code",
   "execution_count": 39,
   "id": "cf51eb0c",
   "metadata": {},
   "outputs": [
    {
     "name": "stdout",
     "output_type": "stream",
     "text": [
      "================================\u001b[1m Human Message \u001b[0m=================================\n",
      "\n",
      "Podrías darme un resumen del CV de Jose?\n",
      "==================================\u001b[1m Ai Message \u001b[0m==================================\n",
      "Tool Calls:\n",
      "  retrieve (call_fma2)\n",
      " Call ID: call_fma2\n",
      "  Args:\n",
      "    candidato: jose\n",
      "    query: CV\n",
      "=================================\u001b[1m Tool Message \u001b[0m=================================\n",
      "Name: retrieve\n",
      "\n",
      "Source: {'author': 'Bruno Masoller', 'creationdate': '2025-04-17T21:16:17-03:00', 'creator': 'Microsoft® Word para Microsoft 365', 'moddate': '2025-04-17T21:16:17-03:00', 'producer': 'Microsoft® Word para Microsoft 365', 'source': '../resources/cv_candidatos/cv-jose-martinez.pdf', 'total_pages': 3.0}\n",
      "Content: Gestión eficaz del tiempo \n",
      "  Informes financieros \n",
      " \n",
      "EXPERIENCIA LABORAL \n",
      "  * febrero 2015 – mayo 2023 \n",
      "    Contador Senior en Rodríguez; Asociados Contadores, Valdivia\n",
      "\n",
      "Source: {'author': 'Bruno Masoller', 'creationdate': '2025-04-17T21:16:17-03:00', 'creator': 'Microsoft® Word para Microsoft 365', 'moddate': '2025-04-17T21:16:17-03:00', 'producer': 'Microsoft® Word para Microsoft 365', 'source': '../resources/cv_candidatos/cv-jose-martinez.pdf', 'total_pages': 3.0}\n",
      "Content: IDIOMAS \n",
      " Español \n",
      " Inglés \n",
      " \n",
      "HABILIDADES \n",
      "  Resolución de problemas \n",
      "  Liderazgo \n",
      "  Adaptabilidad \n",
      "  Pensamiento crítico \n",
      "  Presupuestos y previsiones \n",
      "  Gestión eficaz del tiempo\n",
      "==================================\u001b[1m Ai Message \u001b[0m==================================\n",
      "\n",
      "El CV de Jose incluye:\n",
      "\n",
      "* Experiencia laboral como Contador Senior en Rodríguez; Asociados Contadores, Valdivia, desde febrero 2015 hasta mayo 2023.\n",
      "* Habilidades en resolución de problemas, liderazgo, adaptabilidad, pensamiento crítico, presupuestos y previsiones, y gestión eficaz del tiempo.\n",
      "* Conocimiento de idiomas como español e inglés.\n",
      "* Informes financieros y gestión eficaz del tiempo.\n",
      "\n",
      "Espero que esta información te sea útil. Si necesitas más detalles, no dudes en preguntar.\n"
     ]
    }
   ],
   "source": [
    "inputs = {\"messages\": [(\"user\", \"Podrías darme un resumen del CV de Jose?\")]}\n",
    "print_stream(graph.stream(inputs, stream_mode=\"values\", config=config))"
   ]
  },
  {
   "cell_type": "code",
   "execution_count": 40,
   "id": "781b4a1d",
   "metadata": {},
   "outputs": [
    {
     "name": "stdout",
     "output_type": "stream",
     "text": [
      "================================\u001b[1m Human Message \u001b[0m=================================\n",
      "\n",
      "Podrías darme un del CV de Manuel?\n",
      "==================================\u001b[1m Ai Message \u001b[0m==================================\n",
      "Tool Calls:\n",
      "  retrieve (call_4nj0)\n",
      " Call ID: call_4nj0\n",
      "  Args:\n",
      "    candidato: manuel\n",
      "    query: CV\n",
      "=================================\u001b[1m Tool Message \u001b[0m=================================\n",
      "Name: retrieve\n",
      "\n",
      "Error: 1 validation error for retrieve\n",
      "candidato\n",
      "  Input should be 'bruno' or 'jose' [type=literal_error, input_value='manuel', input_type=str]\n",
      "    For further information visit https://errors.pydantic.dev/2.11/v/literal_error\n",
      " Please fix your mistakes.\n",
      "==================================\u001b[1m Ai Message \u001b[0m==================================\n",
      "\n",
      "Lo siento, pero no tengo información sobre un candidato llamado Manuel. Solo tengo información sobre los candidatos \"bruno\" y \"jose\". Si necesitas información sobre uno de ellos, puedo intentar ayudarte.\n"
     ]
    }
   ],
   "source": [
    "inputs = {\"messages\": [(\"user\", \"Podrías darme un resumen del CV de Manuel?\")]}\n",
    "print_stream(graph.stream(inputs, stream_mode=\"values\", config=config))"
   ]
  },
  {
   "cell_type": "markdown",
   "id": "60f86c19",
   "metadata": {},
   "source": [
    "Inspeccionamos el historial de mensajes:"
   ]
  },
  {
   "cell_type": "code",
   "execution_count": 32,
   "id": "ba38862c",
   "metadata": {},
   "outputs": [
    {
     "name": "stdout",
     "output_type": "stream",
     "text": [
      "================================\u001b[1m Human Message \u001b[0m=================================\n",
      "\n",
      "Podrías darme un resumen del CV de Bruno?\n",
      "==================================\u001b[1m Ai Message \u001b[0m==================================\n",
      "Tool Calls:\n",
      "  retrieve (call_ehf7)\n",
      " Call ID: call_ehf7\n",
      "  Args:\n",
      "    candidato: bruno\n",
      "    query: resumen del CV\n",
      "=================================\u001b[1m Tool Message \u001b[0m=================================\n",
      "Name: retrieve\n",
      "\n",
      "Source: {'author': 'Bruno Masoller', 'creationdate': '2025-04-08T18:48:43-03:00', 'creator': 'Microsoft® Word para Microsoft 365', 'moddate': '2025-04-08T18:48:43-03:00', 'producer': 'Microsoft® Word para Microsoft 365', 'source': '../resources/cv_candidatos/cv-bruno-masoller.pdf', 'total_pages': 4.0}\n",
      "Content: o Año: 2024 - Actual \n",
      "o Lugar: https://brunomaso1.github.io/ml-porfolio/ \n",
      "o Organización: Proyecto propio. \n",
      "o Puesto: Especialista en Inteligencia Artificial. \n",
      "o Características:\n",
      "\n",
      "Source: {'author': 'Bruno Masoller', 'creationdate': '2025-04-08T18:48:43-03:00', 'creator': 'Microsoft® Word para Microsoft 365', 'moddate': '2025-04-08T18:48:43-03:00', 'producer': 'Microsoft® Word para Microsoft 365', 'source': '../resources/cv_candidatos/cv-bruno-masoller.pdf', 'total_pages': 4.0}\n",
      "Content: Página 1 de 4 \n",
      " \n",
      "CURRICULUM VITAE \n",
      "DATOS PERSONALES: \n",
      "• NOMBRE: Bruno Martin Masoller Gancedo \n",
      "• DIRECCION: Montevideo, Uruguay \n",
      "• TELEFONO: +598 91 414 979\n",
      "==================================\u001b[1m Ai Message \u001b[0m==================================\n",
      "\n",
      "El CV de Bruno incluye su experiencia laboral actual como Especialista en Inteligencia Artificial en un proyecto propio desde 2024, y se encuentra disponible en https://brunomaso1.github.io/ml-porfolio/. También proporciona información de contacto, como su nombre, dirección y teléfono.\n"
     ]
    }
   ],
   "source": [
    "chat_history = graph.get_state(config).values[\"messages\"]\n",
    "for message in chat_history:\n",
    "    message.pretty_print()"
   ]
  },
  {
   "cell_type": "markdown",
   "id": "4103dc83",
   "metadata": {},
   "source": [
    "### Limpieza"
   ]
  },
  {
   "cell_type": "code",
   "execution_count": 11,
   "id": "90512153",
   "metadata": {},
   "outputs": [
    {
     "name": "stdout",
     "output_type": "stream",
     "text": [
      "Índice nlp2-practico2 eliminado correctamente.\n"
     ]
    },
    {
     "data": {
      "text/plain": [
       "[]"
      ]
     },
     "execution_count": 11,
     "metadata": {},
     "output_type": "execute_result"
    }
   ],
   "source": [
    "# Eliminamos el índice\n",
    "pc = Pinecone(api_key=PINECONE_API_KEY)\n",
    "try:\n",
    "    pc.delete_index(INDEX_NAME)\n",
    "    print(f\"Índice {INDEX_NAME} eliminado correctamente.\")\n",
    "except Exception as e:\n",
    "    print(f\"Error al eliminar el índice {INDEX_NAME}: {e}\")\n",
    "\n",
    "# Listamos los índices restantes\n",
    "pc.list_indexes()"
   ]
  },
  {
   "cell_type": "markdown",
   "id": "5a60b221",
   "metadata": {},
   "source": [
    "### Streamlit\n",
    "<small><em>https://shiv248.medium.com/langgraph-with-streamlit-intersection-0687995d1287</em></small>\n"
   ]
  },
  {
   "cell_type": "code",
   "execution_count": null,
   "id": "bad79389",
   "metadata": {},
   "outputs": [],
   "source": [
    "!streamlit run app.py"
   ]
  },
  {
   "cell_type": "markdown",
   "id": "afe2c0db",
   "metadata": {},
   "source": [
    "### Video de resolución"
   ]
  },
  {
   "cell_type": "markdown",
   "id": "4d9d2302",
   "metadata": {},
   "source": [
    "A continuación se muestra un video de la resolución del práctico, donde se puede ver el chatbot funcionando y respondiendo preguntas sobre el CV del alumno. El código de la aplicación se encuentra en: [codigo fuente](./app.py)"
   ]
  },
  {
   "cell_type": "code",
   "execution_count": 12,
   "id": "80e62470",
   "metadata": {},
   "outputs": [
    {
     "data": {
      "text/html": [
       "<video width=\"800\"  controls>\n",
       "  <source src=\"../resources/practico2.mp4\" type=\"video/mp4\">\n",
       "</video>\n"
      ],
      "text/plain": [
       "<IPython.core.display.HTML object>"
      ]
     },
     "metadata": {},
     "output_type": "display_data"
    }
   ],
   "source": [
    "%%HTML\n",
    "<video width=\"800\"  controls>\n",
    "  <source src=\"../resources/practico2.mp4\" type=\"video/mp4\">\n",
    "</video>"
   ]
  },
  {
   "cell_type": "markdown",
   "id": "ac386279",
   "metadata": {},
   "source": [
    "### Video"
   ]
  },
  {
   "cell_type": "code",
   "execution_count": null,
   "id": "7b018467",
   "metadata": {},
   "outputs": [],
   "source": []
  },
  {
   "cell_type": "markdown",
   "id": "8d859a3b",
   "metadata": {},
   "source": [
    "### Mejoras futuras"
   ]
  },
  {
   "cell_type": "markdown",
   "id": "e0eef930",
   "metadata": {},
   "source": [
    "Como posible mejoras:\n",
    "- Hacer que el agente pregunte por el nombre del candidato si no se incluye en la pregunta.\n",
    "- Probar con [Agentic RAG](https://langchain-ai.github.io/langgraph/tutorials/rag/langgraph_agentic_rag/#setup) - Retriever Agentic Graph (`create_retriever_tool`)\n",
    "- Permitir subir CV de candidatos y crear el vectorstore automáticamente."
   ]
  }
 ],
 "metadata": {
  "kernelspec": {
   "display_name": ".venv",
   "language": "python",
   "name": "python3"
  },
  "language_info": {
   "codemirror_mode": {
    "name": "ipython",
    "version": 3
   },
   "file_extension": ".py",
   "mimetype": "text/x-python",
   "name": "python",
   "nbconvert_exporter": "python",
   "pygments_lexer": "ipython3",
   "version": "3.13.0"
  }
 },
 "nbformat": 4,
 "nbformat_minor": 5
}
