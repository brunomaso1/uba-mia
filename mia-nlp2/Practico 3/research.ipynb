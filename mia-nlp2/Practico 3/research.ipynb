{
 "cells": [
  {
   "cell_type": "markdown",
   "id": "d67b128f",
   "metadata": {},
   "source": [
    "# <div align=\"center\"><b> NLP2 - PRACTICO 3 </b></div>"
   ]
  },
  {
   "cell_type": "markdown",
   "id": "ddabf280",
   "metadata": {},
   "source": [
    "<div align=\"right\">📝 <em><small><font color='Gray'>Nota:</font></small></em></div>\n",
    "\n",
    "<div align=\"right\"> <em><small><font color='Gray'> La funcionalidad de visualización de jupyter notebooks en <a href=\"https://github.com/\" target=\"_blank\">github</a> es solamente un preview.</font></small></em> </div>\n",
    "\n",
    "<div align=\"right\"> <em><small><font color='Gray'> Para mejor visualización se sugiere utilizar el visualizador recomendado por la comunidad: <a href=\"https://nbviewer.org/\" target=\"_blank\">nbviewer</a></font></small></em> </div>\n",
    "\n",
    "<div align=\"right\"> <em><small><font color='Gray'> Puedes a acceder al siguiente enlace para ver este notebook en dicha página: <a href=\"https://nbviewer.org/github/brunomaso1/uba-mia/blob/mia-nlp2/mia-nlp2/Practico 3/research.ipynb\">Practico 3</a></font></small></em> </div>"
   ]
  },
  {
   "cell_type": "markdown",
   "id": "f6fc10ce",
   "metadata": {},
   "source": [
    "* * *"
   ]
  },
  {
   "cell_type": "markdown",
   "id": "05450b5c",
   "metadata": {},
   "source": [
    "<style>\n",
    "/* Limitar la altura de las celdas de salida en html */\n",
    ".jp-OutputArea.jp-Cell-outputArea {\n",
    "    max-height: 500px;\n",
    "}\n",
    "</style>"
   ]
  },
  {
   "cell_type": "markdown",
   "id": "8bf714b3",
   "metadata": {},
   "source": [
    "<!-- Colab -->\n",
    "<!-- <div align=\"center\"><img src=\"https://drive.google.com/uc?export=view&id=1QSNrTsz1hQbmZwpgwx0qpfpNtLW19Orm\" width=\"600\" alt=\"Figura 1: A data scientist is working on word generation using the Lord of the Rings lore. The image is dark and moody, with a focus on the scientist's computer screen. The screen displays a visualization the one ring, with a map of Middle Earth in the background. - Generada con DALL-E3\"></div> -->\n",
    "\n",
    "<div align=\"center\"><img src=\"../resources/img1.jpeg\" width=\"600\" alt=\"Figura 1: A data scientist is sitting in front of a computer screen, intently focused on the task at hand. The room is dimly lit, with the only light coming from the computer screen. The neural network is displayed on the screen, with the data scientist working to. The nerual network is deepseek R1. - Generada con Microsoft Image Creator\"></div>\n",
    "\n",
    "<div align=\"center\"><small><em>Figura 1: A data scientist is sitting in front of a computer screen, intently focused on the task at hand. The room is dimly lit, with the only light coming from the computer screen. The neural network is displayed on the screen, with the data scientist working to. The nerual network is deepseek R1. - Generada con Microsoft Image Creator</em></small></div>"
   ]
  },
  {
   "cell_type": "markdown",
   "id": "604faf42",
   "metadata": {},
   "source": [
    "<div align=\"center\">✨Datos del proyecto:✨</div>\n",
    "\n",
    "<p></p>\n",
    "\n",
    "<div align=\"center\">\n",
    "\n",
    "| Subtitulo       | Langgraph + Agents + Plan-and-execute                                                                                                  |\n",
    "| --------------- | -------------------------------------------------------------------------------------------------------------------------------------- |\n",
    "| **Descrpción**  | Ejemplo de creación de una solución con agentes que planean una solución y la ejecutan                                                  |\n",
    "| **Integrantes** | Bruno Masoller (brunomaso1@gmail.com)                                                                                                  |\n",
    "\n",
    "</div>"
   ]
  },
  {
   "cell_type": "markdown",
   "id": "f7c5aa06",
   "metadata": {},
   "source": [
    "🛻 <em><font color='MediumSeaGreen'>  Instalaciones: </font></em> 🛻"
   ]
  },
  {
   "cell_type": "markdown",
   "id": "a2c3a554",
   "metadata": {},
   "source": [
    "Asegurate de tener instalado poetry y estar en la carpeta donde se encuentra el archivo `pyproject.toml` para instalar las dependencias del proyecto.\n",
    "Luego, instala las dependencias del proyecto ejecutando el siguiente comando en la terminal:\n",
    "\n",
    "- bash:\n",
    "```bash\n",
    "poetry install\n",
    "eval $(poetry env activate)\n",
    "```\n",
    "\n",
    "- powershell:\n",
    "```powershell\n",
    "poetry install\n",
    "Invoke-Expression (poetry env activate)\n",
    "```"
   ]
  },
  {
   "cell_type": "markdown",
   "id": "c4ffb368",
   "metadata": {},
   "source": [
    "✋ <em><font color='DodgerBlue'>Importaciones:</font></em> ✋"
   ]
  },
  {
   "cell_type": "code",
   "execution_count": null,
   "id": "70bddbd4",
   "metadata": {},
   "outputs": [],
   "source": [
    "import math\n",
    "import operator\n",
    "import os\n",
    "from typing import Annotated, List, Tuple, Literal, Union\n",
    "from typing_extensions import TypedDict\n",
    "\n",
    "from dotenv import load_dotenv\n",
    "from pydantic import BaseModel, Field\n",
    "\n",
    "from langchain.callbacks import get_openai_callback\n",
    "from langchain_core.messages import SystemMessage, HumanMessage, AIMessage\n",
    "from langchain_core.prompts import (\n",
    "    ChatPromptTemplate,\n",
    "    MessagesPlaceholder,\n",
    "    SystemMessagePromptTemplate,\n",
    ")\n",
    "from langchain_core.tools import tool\n",
    "from langgraph.graph import END\n",
    "from langgraph.graph.message import add_messages\n",
    "from langgraph.prebuilt import ToolNode, create_react_agent\n",
    "from langchain_groq import ChatGroq"
   ]
  },
  {
   "cell_type": "markdown",
   "id": "d70076a6",
   "metadata": {},
   "source": [
    "🔧 <em><font color='tomato'>Configuraciones:</font></em> 🔧\n"
   ]
  },
  {
   "cell_type": "code",
   "execution_count": 79,
   "id": "8ed72f24",
   "metadata": {},
   "outputs": [],
   "source": [
    "DOT_ENV_PATH = \"../.env\"\n",
    "load_dotenv(DOT_ENV_PATH)\n",
    "\n",
    "GROQ_API_KEY = os.getenv(\"GROQ_API_KEY\")\n",
    "# GROQ_MODEL = \"llama-3.3-70b-versatile\"\n",
    "GROQ_MODEL = \"gemma2-9b-it\"\n",
    "# GROQ_MODEL = \"llama3-70b-8192\""
   ]
  },
  {
   "cell_type": "markdown",
   "id": "bdb23df2",
   "metadata": {},
   "source": [
    "## Consinga"
   ]
  },
  {
   "cell_type": "markdown",
   "id": "97d4e2e7",
   "metadata": {},
   "source": [
    "- Implementar una aplicación que funcione como un LLM con razonamiento, el cual recibe una pregunta compleja y utiliza diferentes agentes para resolver parcialmente y luego se compaginan todas las respuestas para ofrecer la solución.\n",
    "- Además de la respuesta se debe imprimir la cantidad de tokens de entrada, salida y razonamiento (estos últimos son los que tokens utilizados en las etapas intermedias)."
   ]
  },
  {
   "cell_type": "markdown",
   "id": "137c20d8",
   "metadata": {},
   "source": [
    "## Resolución"
   ]
  },
  {
   "cell_type": "markdown",
   "id": "e3f982de",
   "metadata": {},
   "source": [
    "Para resolver la consigna implementaremos un proceso plan-and-execute, donde se utilizarán diferentes agentes para resolver la pregunta compleja. Cada agente se encargará de una parte del problema y luego se combinarán las respuestas para ofrecer la solución final. Esto es como una simulación de COT (Chain of Thought) donde cada agente es un paso en la cadena de razonamiento.\n",
    "\n",
    "El objetivo principal es demostrar cómo se pueden utilizar diferentes agentes para resolver un problema complejo y cómo se pueden combinar sus respuestas para ofrecer una solución final. Además, se medirá la cantidad de tokens utilizados en cada etapa del proceso.\n",
    "\n",
    "Como prototipo, la solución se basa en una pregunta en donde para resolverla se necesita utilizar diferentes agentes. En este caso, la pregunta es: \"¿Cuánta pintura necesito para pintar un cilindro de radio 5 m y altura 10 m?\"\n",
    "\n",
    "Se supone que el agente 1 se encargará de calcular el área del cilindro, el agente 2 se encargará de calcular la cantidad de pintura necesaria y el agente 3 se encargará de combinar las respuestas de los agentes 1 y 2 para ofrecer la solución. Este ambiente de multiagente, se lo puede resolver con un solo agente ejecutor, como se verá más adelante. Pero este ejecutor en sí pueden ser varios agentes.\n",
    "\n",
    "Un ejemplo del proceso sería el siguiente:\n",
    "\n",
    "```mermaid\n",
    "flowchart TD\n",
    "    A[Pregunta Compleja] --> B[agente_planner]\n",
    "    B --> C[agente_ejecutor]\n",
    "    C --> D[kit_herramientas]\n",
    "    D --> C\n",
    "\n",
    "    C --> E[agente_replaneador]\n",
    "    E --> B\n",
    "    E --> F[respuesta_final]\n",
    "```"
   ]
  },
  {
   "cell_type": "markdown",
   "id": "0712e1e3",
   "metadata": {},
   "source": [
    "### Instanciamos el LLM"
   ]
  },
  {
   "cell_type": "code",
   "execution_count": 80,
   "id": "6c38a3b8",
   "metadata": {},
   "outputs": [],
   "source": [
    "llm = ChatGroq(groq_api_key=GROQ_API_KEY, model_name=GROQ_MODEL)"
   ]
  },
  {
   "cell_type": "markdown",
   "id": "7d6072d9",
   "metadata": {},
   "source": [
    "### Definimos las herramientas\n",
    "<small><em>[https://python.langchain.com/docs/integrations/tools/](https://python.langchain.com/docs/integrations/tools/)</em></small>\n",
    "\n",
    "- Herramienta 1: `calculate_cylinder_area` - Herramienta que permite calcular el área de un cilindro.\n",
    "- Herramienta 2: `calculate_cylinder_amount_of_paint` - Herramienta que permite calcular la cantidad de pintura necesaria para pintar un cilindro."
   ]
  },
  {
   "cell_type": "markdown",
   "id": "1fd50b9c",
   "metadata": {},
   "source": [
    "> 💫 <em><font color='MediumPurple'> Mejoras posibles: </font></em> Se puede complejizar el problema agregando más herramientas, sin embargo, en este caso se sugiere sí utilizar un ambiente multiagente, en donde cada agente maneje un conjunto de herramientas."
   ]
  },
  {
   "cell_type": "code",
   "execution_count": 81,
   "id": "4fca721a",
   "metadata": {},
   "outputs": [],
   "source": [
    "@tool\n",
    "def calculate_cylinder_area(\n",
    "    radius: Annotated[float, \"Cylinder radius in meters\"],\n",
    "    height: Annotated[float, \"Cylinder height in meters\"],\n",
    ") -> Annotated[float, \"Cylinder area in square meters\"]:\n",
    "    \"\"\"Calculates the total area of a cylinder based on its radius and height in meters.\n",
    "\n",
    "    Args:\n",
    "        radius (float): The radius of the cylinder in meters.\n",
    "        height (float): The height of the cylinder in meters.\n",
    "\n",
    "    Returns:\n",
    "        float: The area of the cylinder in square meters.\n",
    "    \"\"\"\n",
    "    return (2 * math.pi * radius * height) + (2 * math.pi * pow(radius, 2))\n",
    "\n",
    "\n",
    "@tool\n",
    "def calculate_cylinder_amount_of_paint(\n",
    "    area: Annotated[float, \"Cylinder area to paint in square meters\"],\n",
    ") -> Annotated[float, \"Amount of paint in liters\"]:\n",
    "    \"\"\"Calculates the amount of paint needed to paint a cylinder based on its area in square meters.\n",
    "\n",
    "    Args:\n",
    "       area (float): The area to paint in square meters.\n",
    "\n",
    "    Returns:\n",
    "       float: The amount of paint needed in liters.\n",
    "    \"\"\"\n",
    "    return area / 10\n",
    "\n",
    "tools = [calculate_cylinder_area, calculate_cylinder_amount_of_paint]\n",
    "tool_node = ToolNode(tools)"
   ]
  },
  {
   "cell_type": "markdown",
   "id": "b6fbc65e",
   "metadata": {},
   "source": [
    "### Definimos el estado"
   ]
  },
  {
   "cell_type": "markdown",
   "id": "692ff3f6",
   "metadata": {},
   "source": [
    "Definimos un estado \"custom\" que contiene la pregunta inicial, el plan a ejecutar, los pasos ejecutados y la respuesta final. Esto es importante porque el estado se utiliza para almacenar la información del proceso y se puede utilizar para replanificar si es necesario."
   ]
  },
  {
   "cell_type": "code",
   "execution_count": 82,
   "id": "8411204b",
   "metadata": {},
   "outputs": [],
   "source": [
    "class PlanExecute(TypedDict):\n",
    "    input: str\n",
    "    plan: List[str]\n",
    "    past_steps: Annotated[List[Tuple], operator.add]\n",
    "    response: str"
   ]
  },
  {
   "cell_type": "markdown",
   "id": "550b252c",
   "metadata": {},
   "source": [
    "### Definimos el agente ejecutor"
   ]
  },
  {
   "cell_type": "markdown",
   "id": "428003bb",
   "metadata": {},
   "source": [
    "Este agente es el encargado de ejecutar las tareas del plan. En la jerga del COT, este agente es el que ejecuta los pasos del razonamiento. Utiliza las herramientas definidas anteriormente.\n",
    "\n",
    "Se utiliza la función `create_react_agent` para crear un agente reactivo que utiliza las herramientas definidas anteriormente. Esto es similar a lo del [Practico 2](../Practico%202/research.ipynb)."
   ]
  },
  {
   "cell_type": "code",
   "execution_count": 83,
   "id": "2bc7206b",
   "metadata": {},
   "outputs": [],
   "source": [
    "prompt = \"You are a helpful assistant.\"\n",
    "agent_executor = create_react_agent(llm, tools=tool_node)"
   ]
  },
  {
   "cell_type": "markdown",
   "id": "c8fb7aa3",
   "metadata": {},
   "source": [
    "Probamos el agente:"
   ]
  },
  {
   "cell_type": "code",
   "execution_count": 84,
   "id": "5c9198c6",
   "metadata": {},
   "outputs": [
    {
     "data": {
      "text/plain": [
       "{'messages': [HumanMessage(content='What is the area of \\u200b\\u200ba cylinder with radius 5 m and height 10 m?', additional_kwargs={}, response_metadata={}, id='a36a711f-010a-41bc-a4d3-b9b59dcbeb60'),\n",
       "  AIMessage(content='', additional_kwargs={'tool_calls': [{'id': 'call_f82z', 'function': {'arguments': '{\"height\":10,\"radius\":5}', 'name': 'calculate_cylinder_area'}, 'type': 'function'}]}, response_metadata={'token_usage': {'completion_tokens': 91, 'prompt_tokens': 1237, 'total_tokens': 1328, 'completion_time': 0.165454545, 'prompt_time': 0.053309146, 'queue_time': 0.018875946000000005, 'total_time': 0.218763691}, 'model_name': 'gemma2-9b-it', 'system_fingerprint': 'fp_10c08bf97d', 'finish_reason': 'tool_calls', 'logprobs': None}, id='run-dd24712b-5396-443e-9e4d-7e0cafeb1de0-0', tool_calls=[{'name': 'calculate_cylinder_area', 'args': {'height': 10, 'radius': 5}, 'id': 'call_f82z', 'type': 'tool_call'}], usage_metadata={'input_tokens': 1237, 'output_tokens': 91, 'total_tokens': 1328}),\n",
       "  ToolMessage(content='471.23889803846896', name='calculate_cylinder_area', id='3ca00af0-7899-40cf-8fef-5135f9ab2da3', tool_call_id='call_f82z'),\n",
       "  AIMessage(content='The area of the cylinder is 471.23889803846896 square meters. \\n', additional_kwargs={}, response_metadata={'token_usage': {'completion_tokens': 32, 'prompt_tokens': 1335, 'total_tokens': 1367, 'completion_time': 0.058181818, 'prompt_time': 0.057681707, 'queue_time': 0.018132957000000005, 'total_time': 0.115863525}, 'model_name': 'gemma2-9b-it', 'system_fingerprint': 'fp_10c08bf97d', 'finish_reason': 'stop', 'logprobs': None}, id='run-2510b4f9-bc63-4ae9-8ac7-d84b5dc344a2-0', usage_metadata={'input_tokens': 1335, 'output_tokens': 32, 'total_tokens': 1367})]}"
      ]
     },
     "execution_count": 84,
     "metadata": {},
     "output_type": "execute_result"
    }
   ],
   "source": [
    "agent_executor.invoke(\n",
    "    {\n",
    "        \"messages\": [\n",
    "            (\"user\", \"What is the area of ​​a cylinder with radius 5 m and height 10 m?\")\n",
    "        ]\n",
    "    }\n",
    ")"
   ]
  },
  {
   "cell_type": "markdown",
   "id": "e1886173",
   "metadata": {},
   "source": [
    "> ⭐ <em><strong>Conclusión:</strong></em> Se puede observar que el agente puede resolver la pregunta utilizando la herramienta definida."
   ]
  },
  {
   "cell_type": "code",
   "execution_count": 85,
   "id": "564d168b",
   "metadata": {},
   "outputs": [
    {
     "data": {
      "text/plain": [
       "{'messages': [HumanMessage(content='How much paint is needed to paint an area of \\u200b\\u200b471 m²?', additional_kwargs={}, response_metadata={}, id='dfcb3627-d6be-4b02-9e94-a2dccf469d9a'),\n",
       "  AIMessage(content='', additional_kwargs={'tool_calls': [{'id': 'call_s1ae', 'function': {'arguments': '{\"area\":471}', 'name': 'calculate_cylinder_amount_of_paint'}, 'type': 'function'}]}, response_metadata={'token_usage': {'completion_tokens': 87, 'prompt_tokens': 1234, 'total_tokens': 1321, 'completion_time': 0.158181818, 'prompt_time': 0.065241323, 'queue_time': 0.018668511, 'total_time': 0.223423141}, 'model_name': 'gemma2-9b-it', 'system_fingerprint': 'fp_10c08bf97d', 'finish_reason': 'tool_calls', 'logprobs': None}, id='run-69b0d9e2-5cbb-4409-b8b2-642e89afb1bc-0', tool_calls=[{'name': 'calculate_cylinder_amount_of_paint', 'args': {'area': 471}, 'id': 'call_s1ae', 'type': 'tool_call'}], usage_metadata={'input_tokens': 1234, 'output_tokens': 87, 'total_tokens': 1321}),\n",
       "  ToolMessage(content='47.1', name='calculate_cylinder_amount_of_paint', id='5ea64bb3-1c13-4f04-965b-dfe0ec0ca70e', tool_call_id='call_s1ae'),\n",
       "  AIMessage(content='47.1 liters of paint is needed.', additional_kwargs={}, response_metadata={'token_usage': {'completion_tokens': 12, 'prompt_tokens': 1317, 'total_tokens': 1329, 'completion_time': 0.021818182, 'prompt_time': 0.045941261, 'queue_time': 0.020404695, 'total_time': 0.067759443}, 'model_name': 'gemma2-9b-it', 'system_fingerprint': 'fp_10c08bf97d', 'finish_reason': 'stop', 'logprobs': None}, id='run-8a4abf66-8d1a-4522-94b4-70f283248356-0', usage_metadata={'input_tokens': 1317, 'output_tokens': 12, 'total_tokens': 1329})]}"
      ]
     },
     "execution_count": 85,
     "metadata": {},
     "output_type": "execute_result"
    }
   ],
   "source": [
    "agent_executor.invoke(\n",
    "    {\n",
    "        \"messages\": [\n",
    "            (\n",
    "                \"user\",\n",
    "                \"How much paint is needed to paint an area of ​​471 m²?\",\n",
    "            )\n",
    "        ]\n",
    "    }\n",
    ")"
   ]
  },
  {
   "cell_type": "markdown",
   "id": "88add197",
   "metadata": {},
   "source": [
    "> ⭐ <em><strong>Conclusión:</strong></em> También podemos observar que el ejecutor utiliza la otra herramienta para resolver la pregunta. "
   ]
  },
  {
   "cell_type": "markdown",
   "id": "d6f8f619",
   "metadata": {},
   "source": [
    "Esto es importante porque el agente puede utilizar diferentes herramientas para resolver la pregunta compleja. En este caso, el agente utiliza la herramienta `calculate_cylinder_area` para calcular el área del cilindro y el objetivo es que luego utilice la herramienta `calculate_cylinder_amount_of_paint` para calcular la cantidad de pintura necesaria."
   ]
  },
  {
   "cell_type": "markdown",
   "id": "eda66a0a",
   "metadata": {},
   "source": [
    "### Definimos el agente planner"
   ]
  },
  {
   "cell_type": "markdown",
   "id": "9c776540",
   "metadata": {},
   "source": [
    "Para la estructura de los planes, se utiliza `PyDantic` para definir sus atributos. Esto implica que los agentes deben trabajar con estructuras de datos estructuradas (`with_structured_output`)."
   ]
  },
  {
   "cell_type": "code",
   "execution_count": 86,
   "id": "be79a48f",
   "metadata": {},
   "outputs": [],
   "source": [
    "class Plan(BaseModel):\n",
    "    \"\"\"Plan to follow in future\"\"\"\n",
    "\n",
    "    steps: List[str] = Field(\n",
    "        description=\"different steps to follow, should be in sorted order\",\n",
    "    )"
   ]
  },
  {
   "cell_type": "markdown",
   "id": "47085563",
   "metadata": {},
   "source": [
    "Creamos el prompt que utilizará el `planner`:"
   ]
  },
  {
   "cell_type": "code",
   "execution_count": 87,
   "id": "1a5a2f6a",
   "metadata": {},
   "outputs": [],
   "source": [
    "planner_prompt = ChatPromptTemplate.from_messages(\n",
    "    [\n",
    "        (\n",
    "            \"system\",\n",
    "            \"\"\"For the given objective, come up with a simple step by step plan. \\\n",
    "This plan should involve individual tasks, that if executed correctly will yield the correct answer. Do not add any superfluous steps.\n",
    "The result of the final step should be the final answer. Make sure that each step has all the information needed - do not skip steps.\"\"\",\n",
    "        ),\n",
    "        (\"placeholder\", \"{messages}\"),\n",
    "    ]\n",
    ")\n",
    "planner = planner_prompt | llm.with_structured_output(Plan)"
   ]
  },
  {
   "cell_type": "markdown",
   "id": "751ad24e",
   "metadata": {},
   "source": [
    "Realizamos una prueba a ver el plan que obtenemos:"
   ]
  },
  {
   "cell_type": "code",
   "execution_count": 88,
   "id": "b82a9677",
   "metadata": {},
   "outputs": [
    {
     "data": {
      "text/plain": [
       "Plan(steps=['Calculate the lateral surface area of the cylinder.', 'Calculate the area of the two circular bases.', 'Add the lateral surface area and the area of the two bases to find the total surface area.', 'The total surface area is the amount of paint needed.'])"
      ]
     },
     "execution_count": 88,
     "metadata": {},
     "output_type": "execute_result"
    }
   ],
   "source": [
    "planner.invoke(\n",
    "    {\n",
    "        \"messages\": [\n",
    "            (\n",
    "                \"user\",\n",
    "                \"How much paint is needed to paint a cylinder with radius 5 m and height 10 m?\",\n",
    "            )\n",
    "        ]\n",
    "    }\n",
    ")"
   ]
  },
  {
   "cell_type": "markdown",
   "id": "961d2174",
   "metadata": {},
   "source": [
    "### Definimos el agente replanificador"
   ]
  },
  {
   "cell_type": "markdown",
   "id": "b64f6f60",
   "metadata": {},
   "source": [
    "Este agente se encarga de replanificar si es necesario. También es el encargado de decidir si la respuesta final es correcta o no."
   ]
  },
  {
   "cell_type": "code",
   "execution_count": 89,
   "id": "d37afd87",
   "metadata": {},
   "outputs": [],
   "source": [
    "from typing import Union\n",
    "\n",
    "\n",
    "class Response(BaseModel):\n",
    "    \"\"\"Response to user.\"\"\"\n",
    "\n",
    "    response: str\n",
    "\n",
    "\n",
    "class Act(BaseModel):\n",
    "    \"\"\"Action to perform.\"\"\"\n",
    "\n",
    "    action: Union[Response, Plan] = Field(\n",
    "        description=\"Action to perform. If you want to respond to user, use Response. If you need to further use tools to get the answer, use Plan.\"\n",
    "    )\n",
    "\n",
    "\n",
    "replanner_prompt = ChatPromptTemplate.from_template(\n",
    "    \"\"\"For the given objective, come up with a simple step by step plan.\n",
    "This plan should involve individual tasks, that if executed correctly will yield the correct answer. Do not add any superfluous steps.\n",
    "The result of the final step should be the final answer. Make sure that each step has all the information needed - do not skip steps.\n",
    "\n",
    "Your objective was this:\n",
    "{input}\n",
    "\n",
    "Your original plan was this:\n",
    "{plan}\n",
    "\n",
    "You have currently done the follow steps:\n",
    "{past_steps}\n",
    "\n",
    "Update your plan accordingly. If no more steps are needed and you can return to the user, then respond with that. Otherwise, fill out the plan. Only add steps to the plan that still NEED to be done. Do not return previously done steps as part of the plan.\"\"\"\n",
    ")\n",
    "\n",
    "replanner = replanner_prompt | llm.with_structured_output(Act)"
   ]
  },
  {
   "cell_type": "markdown",
   "id": "bd43d87f",
   "metadata": {},
   "source": [
    "> 📝 <em><font color='Gray'>Nota:</font></em> Tanto para el agente planner como para el replaner, la salida es una estructura definida exacta. En el caso del planner es una lista con el plan a ejecutar y en el caso del replanner, es una estructura en donde el LLM decidió si seguir ejecutando el plan (replan) o finalizó la ejecución y hay que responder al usuario."
   ]
  },
  {
   "cell_type": "markdown",
   "id": "72721687",
   "metadata": {},
   "source": [
    "### Creamos el grafo"
   ]
  },
  {
   "cell_type": "markdown",
   "id": "ba7d5af8",
   "metadata": {},
   "source": [
    "Para la creación del grafo se definen las siguientes funciones (nodos):\n",
    "- `plan_step`: se encarga de crear el plan a ejecutar. Ejecuta un LLM y devuelve una estructura de pasos a ejecutar.\n",
    "- `execute_step`: se encarga de ejecutar el paso del plan. El LLM devuelve un contexto simplemente (la ejecución del paso, que pueden ser ejecuciones de herramientas).\n",
    "- `replan_step`: se encarga de replanificar si es necesario. El LLM devuelve una estructura en donde decide si seguir ejecutando el plan o no.\n",
    "- `should_end`: toma la respuesta del paso anterior y decide si el plan finalizó o no simplemnte con un if."
   ]
  },
  {
   "cell_type": "code",
   "execution_count": 90,
   "id": "a46a1679",
   "metadata": {},
   "outputs": [],
   "source": [
    "def plan_step(state: PlanExecute):\n",
    "    plan = planner.invoke({\"messages\": [(\"user\", state[\"input\"])]})\n",
    "    return {\"plan\": plan.steps}\n",
    "\n",
    "\n",
    "def execute_step(state: PlanExecute):\n",
    "    plan = state[\"plan\"]\n",
    "    plan_str = \"\\n\".join(f\"{i+1}. {step}\" for i, step in enumerate(plan))\n",
    "    task = plan[0]\n",
    "    task_formatted = f\"\"\"For the following plan:\n",
    "{plan_str}\\n\\nYou are tasked with executing step {1}, {task}.\"\"\"\n",
    "    agent_response = agent_executor.invoke({\"messages\": [\"user\", task_formatted]})\n",
    "    return {\n",
    "        \"past_steps\": [(task, agent_response[\"messages\"][-1].content)],\n",
    "    }\n",
    "\n",
    "\n",
    "def replan_step(state: PlanExecute):\n",
    "    output = replanner.invoke(state)\n",
    "    if isinstance(output.action, Response):\n",
    "        return {\"response\": output.action.response}\n",
    "    else:\n",
    "        return {\"plan\": output.action.steps}\n",
    "\n",
    "\n",
    "def should_end(state: PlanExecute):\n",
    "    if \"response\" in state and state[\"response\"]:\n",
    "        return END\n",
    "    else:\n",
    "        return \"agente_ejecutor\""
   ]
  },
  {
   "cell_type": "markdown",
   "id": "be73f569",
   "metadata": {},
   "source": [
    "Se crea el grafo según lo definido anteriormente con `Langgraph`:"
   ]
  },
  {
   "cell_type": "code",
   "execution_count": 91,
   "id": "30dddf12",
   "metadata": {},
   "outputs": [],
   "source": [
    "from langgraph.graph import StateGraph, START\n",
    "\n",
    "workflow = StateGraph(PlanExecute)\n",
    "\n",
    "workflow.add_node(\"agente_planner\", plan_step)\n",
    "workflow.add_node(\"agente_ejecutor\", execute_step)\n",
    "workflow.add_node(\"agente_replaner\", replan_step)\n",
    "\n",
    "workflow.add_edge(START, \"agente_planner\")\n",
    "workflow.add_edge(\"agente_planner\", \"agente_ejecutor\")\n",
    "workflow.add_edge(\"agente_ejecutor\", \"agente_replaner\")\n",
    "\n",
    "workflow.add_conditional_edges(\n",
    "    \"agente_replaner\",\n",
    "    should_end,\n",
    "    [\"agente_ejecutor\", END],\n",
    ")\n",
    "\n",
    "graph = workflow.compile()"
   ]
  },
  {
   "cell_type": "markdown",
   "id": "5414b2e1",
   "metadata": {},
   "source": [
    "Mostramos el grafo:"
   ]
  },
  {
   "cell_type": "code",
   "execution_count": 92,
   "id": "997ee18c",
   "metadata": {},
   "outputs": [
    {
     "data": {
      "image/png": "[encoded data removed]",
      "text/plain": [
       "<IPython.core.display.Image object>"
      ]
     },
     "metadata": {},
     "output_type": "display_data"
    }
   ],
   "source": [
    "from IPython.display import Image, display\n",
    "\n",
    "display(Image(graph.get_graph(xray=True).draw_mermaid_png()))"
   ]
  },
  {
   "cell_type": "markdown",
   "id": "dc9b6db2",
   "metadata": {},
   "source": [
    "> ⭐ <em><strong>Conclusión:</strong></em> En este caso, podemos ver que el grafo generado es similar al planteado al principio, lo que valida la implementación."
   ]
  },
  {
   "cell_type": "markdown",
   "id": "78e7c04f",
   "metadata": {},
   "source": [
    "### Probamos el prototipo"
   ]
  },
  {
   "cell_type": "code",
   "execution_count": null,
   "id": "94698c3f",
   "metadata": {},
   "outputs": [
    {
     "name": "stdout",
     "output_type": "stream",
     "text": [
      "{'plan': ['Calculate the curved surface area of the cylinder.', 'Calculate the amount of paint needed based on the curved surface area.']}\n",
      "{'past_steps': [('Calculate the curved surface area of the cylinder.', 'The amount of paint needed is 0.6283185307179586 liters.  \\n')]}\n",
      "{'response': 'The amount of paint needed is 0.6283185307179586 liters.'}\n",
      "\n",
      "–– Estadísticas de uso de tokens ––\n",
      "\n",
      "Prompt tokens:     7742\n",
      "Completion tokens: 413\n",
      "Total tokens:      8155\n"
     ]
    }
   ],
   "source": [
    "config = {\"recursion_limit\": 50}\n",
    "inputs = {\n",
    "    \"input\": \"How much paint is needed to paint a cylinder with radius 5 m and height 10 m?\"\n",
    "}\n",
    "\n",
    "# 1) Abrimos el context manager\n",
    "with get_openai_callback() as cb:\n",
    "    # 2) Ejecutamos todo tu grafo; dentro de este bloque se contarán los tokens\n",
    "    for event in graph.stream(inputs, config=config):\n",
    "        for k, v in event.items():\n",
    "            if k != \"__end__\":\n",
    "                print(v)\n",
    "\n",
    "    # 3) Al salir del with, 'cb' contiene los totales\n",
    "    print(\"\\n–– Estadísticas de uso de tokens ––\\n\")\n",
    "    print(f\"Prompt tokens:     {cb.prompt_tokens}\")\n",
    "    print(f\"Completion tokens: {cb.completion_tokens}\")\n",
    "    print(f\"Total tokens:      {cb.total_tokens}\")"
   ]
  },
  {
   "cell_type": "markdown",
   "id": "30c49f38",
   "metadata": {},
   "source": [
    "⭐ <em><strong>Conclusión</strong></em> ⭐\n",
    "\n",
    "<em><p>\n",
    "Una conclusión importante es que este proceso de plan-and-execute es una forma de simular el razonamiento humano, que a la vez destaca la complejidad de las tareas. La cantidad de herramientas necesarias para resolver una pregunta compleja puede ser abrumadora, esto incrementa el costo, pero también la fiabilidad de la solución.\n",
    "\n",
    "También se pudo observar lo estocástico del proceso, ya que muchas veces se depende de un buen LLM para que realice correctamente el plan. Y muchas veces este plan no es el mismo.\n",
    "\n",
    "Finalmente, este proceso se puede aplicar a un entorno multiagente, en donde cada agente tiene su toolkit de herramientas y se encarga de una parte del problema. Esto es similar a lo que se hace en el mundo real, donde diferentes expertos trabajan juntos para resolver un problema complejo.\n",
    "</p></em>"
   ]
  }
 ],
 "metadata": {
  "kernelspec": {
   "display_name": ".venv",
   "language": "python",
   "name": "python3"
  },
  "language_info": {
   "codemirror_mode": {
    "name": "ipython",
    "version": 3
   },
   "file_extension": ".py",
   "mimetype": "text/x-python",
   "name": "python",
   "nbconvert_exporter": "python",
   "pygments_lexer": "ipython3",
   "version": "3.13.0"
  }
 },
 "nbformat": 4,
 "nbformat_minor": 5
}
